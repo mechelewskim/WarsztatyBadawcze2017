{
 "cells": [
  {
   "cell_type": "markdown",
   "metadata": {},
   "source": [
    "W tym pliku zawarta jest niemal pełna praca wykonana w ramach projektu."
   ]
  },
  {
   "cell_type": "code",
   "execution_count": 42,
   "metadata": {},
   "outputs": [],
   "source": [
    "library(randomForest)\n",
    "library(glmnet)\n",
    "library(caret)"
   ]
  },
  {
   "cell_type": "code",
   "execution_count": 43,
   "metadata": {
    "collapsed": true
   },
   "outputs": [],
   "source": [
    "test = read.table(\"zbior_testowy.txt\",header=TRUE, sep=\";\")"
   ]
  },
  {
   "cell_type": "code",
   "execution_count": 44,
   "metadata": {
    "collapsed": true
   },
   "outputs": [],
   "source": [
    "train = read.table(\"zbior_uczacy.txt\",header=TRUE,sep=\";\")"
   ]
  },
  {
   "cell_type": "code",
   "execution_count": 45,
   "metadata": {
    "scrolled": true
   },
   "outputs": [
    {
     "data": {
      "text/html": [
       "<table>\n",
       "<thead><tr><th scope=col>y</th><th scope=col>A1</th><th scope=col>B1</th><th scope=col>C1</th><th scope=col>D1</th><th scope=col>E1</th><th scope=col>F1</th><th scope=col>G1</th><th scope=col>H1</th><th scope=col>I1</th><th scope=col>⋯</th><th scope=col>O2</th><th scope=col>P2</th><th scope=col>Q2</th><th scope=col>R2</th><th scope=col>S2</th><th scope=col>T2</th><th scope=col>U2</th><th scope=col>V2</th><th scope=col>W2</th><th scope=col>X2</th></tr></thead>\n",
       "<tbody>\n",
       "\t<tr><td>klasa -</td><td>A      </td><td>B      </td><td>A      </td><td> 7.2   </td><td>B      </td><td>B      </td><td>17.3   </td><td>96.8   </td><td> 8.9   </td><td>⋯      </td><td>B      </td><td>C      </td><td>A      </td><td>B      </td><td>81.4   </td><td>53.9   </td><td>60.9   </td><td>51.0   </td><td>42.1   </td><td>39.1   </td></tr>\n",
       "\t<tr><td>klasa -</td><td>B      </td><td>A      </td><td>B      </td><td>99.6   </td><td>D      </td><td>C      </td><td>26.2   </td><td>64.1   </td><td>17.8   </td><td>⋯      </td><td>A      </td><td>A      </td><td>A      </td><td>B      </td><td>37.5   </td><td>27.5   </td><td>60.9   </td><td>80.1   </td><td>45.6   </td><td>21.6   </td></tr>\n",
       "\t<tr><td>klasa +</td><td>B      </td><td>A      </td><td>B      </td><td>79.7   </td><td>C      </td><td>D      </td><td> 2.5   </td><td>47.2   </td><td>62.8   </td><td>⋯      </td><td>B      </td><td>B      </td><td>A      </td><td>B      </td><td>99.9   </td><td> 7.8   </td><td>43.8   </td><td>68.7   </td><td>38.4   </td><td>24.1   </td></tr>\n",
       "\t<tr><td>klasa +</td><td>B      </td><td>B      </td><td>B      </td><td>86.3   </td><td>C      </td><td>C      </td><td>25.8   </td><td>48.1   </td><td>80.6   </td><td>⋯      </td><td>A      </td><td>D      </td><td>B      </td><td>B      </td><td>77.8   </td><td>90.7   </td><td>55.5   </td><td> 4.5   </td><td>65.2   </td><td>78.9   </td></tr>\n",
       "\t<tr><td>klasa +</td><td>A      </td><td>A      </td><td>A      </td><td>67.6   </td><td>C      </td><td>C      </td><td>67.3   </td><td>41.0   </td><td>10.9   </td><td>⋯      </td><td>B      </td><td>C      </td><td>B      </td><td>A      </td><td>37.4   </td><td>40.5   </td><td>18.3   </td><td>41.8   </td><td>71.5   </td><td>13.1   </td></tr>\n",
       "</tbody>\n",
       "</table>\n"
      ],
      "text/latex": [
       "\\begin{tabular}{r|lllllllllllllllllllllllllllllllllllllllllllllllllll}\n",
       " y & A1 & B1 & C1 & D1 & E1 & F1 & G1 & H1 & I1 & ⋯ & O2 & P2 & Q2 & R2 & S2 & T2 & U2 & V2 & W2 & X2\\\\\n",
       "\\hline\n",
       "\t klasa - & A       & B       & A       &  7.2    & B       & B       & 17.3    & 96.8    &  8.9    & ⋯       & B       & C       & A       & B       & 81.4    & 53.9    & 60.9    & 51.0    & 42.1    & 39.1   \\\\\n",
       "\t klasa - & B       & A       & B       & 99.6    & D       & C       & 26.2    & 64.1    & 17.8    & ⋯       & A       & A       & A       & B       & 37.5    & 27.5    & 60.9    & 80.1    & 45.6    & 21.6   \\\\\n",
       "\t klasa + & B       & A       & B       & 79.7    & C       & D       &  2.5    & 47.2    & 62.8    & ⋯       & B       & B       & A       & B       & 99.9    &  7.8    & 43.8    & 68.7    & 38.4    & 24.1   \\\\\n",
       "\t klasa + & B       & B       & B       & 86.3    & C       & C       & 25.8    & 48.1    & 80.6    & ⋯       & A       & D       & B       & B       & 77.8    & 90.7    & 55.5    &  4.5    & 65.2    & 78.9   \\\\\n",
       "\t klasa + & A       & A       & A       & 67.6    & C       & C       & 67.3    & 41.0    & 10.9    & ⋯       & B       & C       & B       & A       & 37.4    & 40.5    & 18.3    & 41.8    & 71.5    & 13.1   \\\\\n",
       "\\end{tabular}\n"
      ],
      "text/markdown": [
       "\n",
       "y | A1 | B1 | C1 | D1 | E1 | F1 | G1 | H1 | I1 | ⋯ | O2 | P2 | Q2 | R2 | S2 | T2 | U2 | V2 | W2 | X2 | \n",
       "|---|---|---|---|---|\n",
       "| klasa - | A       | B       | A       |  7.2    | B       | B       | 17.3    | 96.8    |  8.9    | ⋯       | B       | C       | A       | B       | 81.4    | 53.9    | 60.9    | 51.0    | 42.1    | 39.1    | \n",
       "| klasa - | B       | A       | B       | 99.6    | D       | C       | 26.2    | 64.1    | 17.8    | ⋯       | A       | A       | A       | B       | 37.5    | 27.5    | 60.9    | 80.1    | 45.6    | 21.6    | \n",
       "| klasa + | B       | A       | B       | 79.7    | C       | D       |  2.5    | 47.2    | 62.8    | ⋯       | B       | B       | A       | B       | 99.9    |  7.8    | 43.8    | 68.7    | 38.4    | 24.1    | \n",
       "| klasa + | B       | B       | B       | 86.3    | C       | C       | 25.8    | 48.1    | 80.6    | ⋯       | A       | D       | B       | B       | 77.8    | 90.7    | 55.5    |  4.5    | 65.2    | 78.9    | \n",
       "| klasa + | A       | A       | A       | 67.6    | C       | C       | 67.3    | 41.0    | 10.9    | ⋯       | B       | C       | B       | A       | 37.4    | 40.5    | 18.3    | 41.8    | 71.5    | 13.1    | \n",
       "\n",
       "\n"
      ],
      "text/plain": [
       "  y       A1 B1 C1 D1   E1 F1 G1   H1   I1   ⋯ O2 P2 Q2 R2 S2   T2   U2   V2  \n",
       "1 klasa - A  B  A   7.2 B  B  17.3 96.8  8.9 ⋯ B  C  A  B  81.4 53.9 60.9 51.0\n",
       "2 klasa - B  A  B  99.6 D  C  26.2 64.1 17.8 ⋯ A  A  A  B  37.5 27.5 60.9 80.1\n",
       "3 klasa + B  A  B  79.7 C  D   2.5 47.2 62.8 ⋯ B  B  A  B  99.9  7.8 43.8 68.7\n",
       "4 klasa + B  B  B  86.3 C  C  25.8 48.1 80.6 ⋯ A  D  B  B  77.8 90.7 55.5  4.5\n",
       "5 klasa + A  A  A  67.6 C  C  67.3 41.0 10.9 ⋯ B  C  B  A  37.4 40.5 18.3 41.8\n",
       "  W2   X2  \n",
       "1 42.1 39.1\n",
       "2 45.6 21.6\n",
       "3 38.4 24.1\n",
       "4 65.2 78.9\n",
       "5 71.5 13.1"
      ]
     },
     "metadata": {},
     "output_type": "display_data"
    }
   ],
   "source": [
    "head(train,5) #sprawdzenie wczytanego zbioru treningowego"
   ]
  },
  {
   "cell_type": "markdown",
   "metadata": {},
   "source": [
    "## Preprocessing"
   ]
  },
  {
   "cell_type": "code",
   "execution_count": 46,
   "metadata": {},
   "outputs": [
    {
     "name": "stderr",
     "output_type": "stream",
     "text": [
      "Warning message in model.frame.default(Terms, newdata, na.action = na.action, xlev = object$lvls):\n",
      "“variable 'y' is not a factor”"
     ]
    }
   ],
   "source": [
    "#obrobka danych - usuwanie zmiennych kategorycznych, zamiana na dummies\n",
    "dummies = dummyVars(y ~ ., data = train)\n",
    "train_x = predict(dummies, newdata = train)\n",
    "#etykiety jako wektor logiczny - TRUE==klasa +\n",
    "train_y= (train$y=='klasa +')"
   ]
  },
  {
   "cell_type": "code",
   "execution_count": 47,
   "metadata": {},
   "outputs": [
    {
     "data": {
      "text/html": [
       "<table>\n",
       "<thead><tr><th></th><th scope=col>A1.A</th><th scope=col>A1.B</th><th scope=col>B1.A</th><th scope=col>B1.B</th><th scope=col>C1.A</th><th scope=col>C1.B</th><th scope=col>D1</th><th scope=col>E1.A</th><th scope=col>E1.B</th><th scope=col>E1.C</th><th scope=col>⋯</th><th scope=col>Q2.A</th><th scope=col>Q2.B</th><th scope=col>R2.A</th><th scope=col>R2.B</th><th scope=col>S2</th><th scope=col>T2</th><th scope=col>U2</th><th scope=col>V2</th><th scope=col>W2</th><th scope=col>X2</th></tr></thead>\n",
       "<tbody>\n",
       "\t<tr><th scope=row>1</th><td>1   </td><td>0   </td><td>0   </td><td>1   </td><td>1   </td><td>0   </td><td> 7.2</td><td>0   </td><td>1   </td><td>0   </td><td>⋯   </td><td>1   </td><td>0   </td><td>0   </td><td>1   </td><td>81.4</td><td>53.9</td><td>60.9</td><td>51.0</td><td>42.1</td><td>39.1</td></tr>\n",
       "\t<tr><th scope=row>2</th><td>0   </td><td>1   </td><td>1   </td><td>0   </td><td>0   </td><td>1   </td><td>99.6</td><td>0   </td><td>0   </td><td>0   </td><td>⋯   </td><td>1   </td><td>0   </td><td>0   </td><td>1   </td><td>37.5</td><td>27.5</td><td>60.9</td><td>80.1</td><td>45.6</td><td>21.6</td></tr>\n",
       "\t<tr><th scope=row>3</th><td>0   </td><td>1   </td><td>1   </td><td>0   </td><td>0   </td><td>1   </td><td>79.7</td><td>0   </td><td>0   </td><td>1   </td><td>⋯   </td><td>1   </td><td>0   </td><td>0   </td><td>1   </td><td>99.9</td><td> 7.8</td><td>43.8</td><td>68.7</td><td>38.4</td><td>24.1</td></tr>\n",
       "\t<tr><th scope=row>4</th><td>0   </td><td>1   </td><td>0   </td><td>1   </td><td>0   </td><td>1   </td><td>86.3</td><td>0   </td><td>0   </td><td>1   </td><td>⋯   </td><td>0   </td><td>1   </td><td>0   </td><td>1   </td><td>77.8</td><td>90.7</td><td>55.5</td><td> 4.5</td><td>65.2</td><td>78.9</td></tr>\n",
       "\t<tr><th scope=row>5</th><td>1   </td><td>0   </td><td>1   </td><td>0   </td><td>1   </td><td>0   </td><td>67.6</td><td>0   </td><td>0   </td><td>1   </td><td>⋯   </td><td>0   </td><td>1   </td><td>1   </td><td>0   </td><td>37.4</td><td>40.5</td><td>18.3</td><td>41.8</td><td>71.5</td><td>13.1</td></tr>\n",
       "\t<tr><th scope=row>6</th><td>1   </td><td>0   </td><td>0   </td><td>1   </td><td>0   </td><td>1   </td><td>99.2</td><td>0   </td><td>1   </td><td>0   </td><td>⋯   </td><td>1   </td><td>0   </td><td>0   </td><td>1   </td><td>17.6</td><td>90.0</td><td>82.9</td><td> 6.8</td><td>31.6</td><td>68.2</td></tr>\n",
       "</tbody>\n",
       "</table>\n"
      ],
      "text/latex": [
       "\\begin{tabular}{r|llllllllllllllllllllllllllllllllllllllllllllllllllllllllllllllllllllllllllllllllllllllllll}\n",
       "  & A1.A & A1.B & B1.A & B1.B & C1.A & C1.B & D1 & E1.A & E1.B & E1.C & ⋯ & Q2.A & Q2.B & R2.A & R2.B & S2 & T2 & U2 & V2 & W2 & X2\\\\\n",
       "\\hline\n",
       "\t1 & 1    & 0    & 0    & 1    & 1    & 0    &  7.2 & 0    & 1    & 0    & ⋯    & 1    & 0    & 0    & 1    & 81.4 & 53.9 & 60.9 & 51.0 & 42.1 & 39.1\\\\\n",
       "\t2 & 0    & 1    & 1    & 0    & 0    & 1    & 99.6 & 0    & 0    & 0    & ⋯    & 1    & 0    & 0    & 1    & 37.5 & 27.5 & 60.9 & 80.1 & 45.6 & 21.6\\\\\n",
       "\t3 & 0    & 1    & 1    & 0    & 0    & 1    & 79.7 & 0    & 0    & 1    & ⋯    & 1    & 0    & 0    & 1    & 99.9 &  7.8 & 43.8 & 68.7 & 38.4 & 24.1\\\\\n",
       "\t4 & 0    & 1    & 0    & 1    & 0    & 1    & 86.3 & 0    & 0    & 1    & ⋯    & 0    & 1    & 0    & 1    & 77.8 & 90.7 & 55.5 &  4.5 & 65.2 & 78.9\\\\\n",
       "\t5 & 1    & 0    & 1    & 0    & 1    & 0    & 67.6 & 0    & 0    & 1    & ⋯    & 0    & 1    & 1    & 0    & 37.4 & 40.5 & 18.3 & 41.8 & 71.5 & 13.1\\\\\n",
       "\t6 & 1    & 0    & 0    & 1    & 0    & 1    & 99.2 & 0    & 1    & 0    & ⋯    & 1    & 0    & 0    & 1    & 17.6 & 90.0 & 82.9 &  6.8 & 31.6 & 68.2\\\\\n",
       "\\end{tabular}\n"
      ],
      "text/markdown": [
       "\n",
       "| <!--/--> | A1.A | A1.B | B1.A | B1.B | C1.A | C1.B | D1 | E1.A | E1.B | E1.C | ⋯ | Q2.A | Q2.B | R2.A | R2.B | S2 | T2 | U2 | V2 | W2 | X2 | \n",
       "|---|---|---|---|---|---|\n",
       "| 1 | 1    | 0    | 0    | 1    | 1    | 0    |  7.2 | 0    | 1    | 0    | ⋯    | 1    | 0    | 0    | 1    | 81.4 | 53.9 | 60.9 | 51.0 | 42.1 | 39.1 | \n",
       "| 2 | 0    | 1    | 1    | 0    | 0    | 1    | 99.6 | 0    | 0    | 0    | ⋯    | 1    | 0    | 0    | 1    | 37.5 | 27.5 | 60.9 | 80.1 | 45.6 | 21.6 | \n",
       "| 3 | 0    | 1    | 1    | 0    | 0    | 1    | 79.7 | 0    | 0    | 1    | ⋯    | 1    | 0    | 0    | 1    | 99.9 |  7.8 | 43.8 | 68.7 | 38.4 | 24.1 | \n",
       "| 4 | 0    | 1    | 0    | 1    | 0    | 1    | 86.3 | 0    | 0    | 1    | ⋯    | 0    | 1    | 0    | 1    | 77.8 | 90.7 | 55.5 |  4.5 | 65.2 | 78.9 | \n",
       "| 5 | 1    | 0    | 1    | 0    | 1    | 0    | 67.6 | 0    | 0    | 1    | ⋯    | 0    | 1    | 1    | 0    | 37.4 | 40.5 | 18.3 | 41.8 | 71.5 | 13.1 | \n",
       "| 6 | 1    | 0    | 0    | 1    | 0    | 1    | 99.2 | 0    | 1    | 0    | ⋯    | 1    | 0    | 0    | 1    | 17.6 | 90.0 | 82.9 |  6.8 | 31.6 | 68.2 | \n",
       "\n",
       "\n"
      ],
      "text/plain": [
       "  A1.A A1.B B1.A B1.B C1.A C1.B D1   E1.A E1.B E1.C ⋯ Q2.A Q2.B R2.A R2.B S2  \n",
       "1 1    0    0    1    1    0     7.2 0    1    0    ⋯ 1    0    0    1    81.4\n",
       "2 0    1    1    0    0    1    99.6 0    0    0    ⋯ 1    0    0    1    37.5\n",
       "3 0    1    1    0    0    1    79.7 0    0    1    ⋯ 1    0    0    1    99.9\n",
       "4 0    1    0    1    0    1    86.3 0    0    1    ⋯ 0    1    0    1    77.8\n",
       "5 1    0    1    0    1    0    67.6 0    0    1    ⋯ 0    1    1    0    37.4\n",
       "6 1    0    0    1    0    1    99.2 0    1    0    ⋯ 1    0    0    1    17.6\n",
       "  T2   U2   V2   W2   X2  \n",
       "1 53.9 60.9 51.0 42.1 39.1\n",
       "2 27.5 60.9 80.1 45.6 21.6\n",
       "3  7.8 43.8 68.7 38.4 24.1\n",
       "4 90.7 55.5  4.5 65.2 78.9\n",
       "5 40.5 18.3 41.8 71.5 13.1\n",
       "6 90.0 82.9  6.8 31.6 68.2"
      ]
     },
     "metadata": {},
     "output_type": "display_data"
    }
   ],
   "source": [
    "head(train_x)"
   ]
  },
  {
   "cell_type": "code",
   "execution_count": 48,
   "metadata": {
    "collapsed": true
   },
   "outputs": [],
   "source": [
    "#near zero variance predictors\n",
    "nzv = nearZeroVar(train_x)"
   ]
  },
  {
   "cell_type": "code",
   "execution_count": 49,
   "metadata": {},
   "outputs": [
    {
     "data": {
      "text/html": [
       "0"
      ],
      "text/latex": [
       "0"
      ],
      "text/markdown": [
       "0"
      ],
      "text/plain": [
       "[1] 0"
      ]
     },
     "metadata": {},
     "output_type": "display_data"
    }
   ],
   "source": [
    "#żadne predyktory nie są stałe - nie trzeba żadnych wyrzucać\n",
    "length(nzv)"
   ]
  },
  {
   "cell_type": "code",
   "execution_count": 50,
   "metadata": {
    "collapsed": true
   },
   "outputs": [],
   "source": [
    "#usuwanie predyktorów skorelowanych\n",
    "cr = cor(train_x)"
   ]
  },
  {
   "cell_type": "code",
   "execution_count": 51,
   "metadata": {
    "collapsed": true
   },
   "outputs": [],
   "source": [
    "correlated = findCorrelation(cr, cutoff = .75)"
   ]
  },
  {
   "cell_type": "code",
   "execution_count": 52,
   "metadata": {},
   "outputs": [
    {
     "data": {
      "text/html": [
       "<ol class=list-inline>\n",
       "\t<li>'A1.A'</li>\n",
       "\t<li>'I2.A'</li>\n",
       "\t<li>'Y1.A'</li>\n",
       "\t<li>'R2.A'</li>\n",
       "\t<li>'J2.A'</li>\n",
       "\t<li>'C1.A'</li>\n",
       "\t<li>'R1.A'</li>\n",
       "\t<li>'Q2.A'</li>\n",
       "\t<li>'O2.A'</li>\n",
       "\t<li>'B1.A'</li>\n",
       "</ol>\n"
      ],
      "text/latex": [
       "\\begin{enumerate*}\n",
       "\\item 'A1.A'\n",
       "\\item 'I2.A'\n",
       "\\item 'Y1.A'\n",
       "\\item 'R2.A'\n",
       "\\item 'J2.A'\n",
       "\\item 'C1.A'\n",
       "\\item 'R1.A'\n",
       "\\item 'Q2.A'\n",
       "\\item 'O2.A'\n",
       "\\item 'B1.A'\n",
       "\\end{enumerate*}\n"
      ],
      "text/markdown": [
       "1. 'A1.A'\n",
       "2. 'I2.A'\n",
       "3. 'Y1.A'\n",
       "4. 'R2.A'\n",
       "5. 'J2.A'\n",
       "6. 'C1.A'\n",
       "7. 'R1.A'\n",
       "8. 'Q2.A'\n",
       "9. 'O2.A'\n",
       "10. 'B1.A'\n",
       "\n",
       "\n"
      ],
      "text/plain": [
       " [1] \"A1.A\" \"I2.A\" \"Y1.A\" \"R2.A\" \"J2.A\" \"C1.A\" \"R1.A\" \"Q2.A\" \"O2.A\" \"B1.A\""
      ]
     },
     "metadata": {},
     "output_type": "display_data"
    }
   ],
   "source": [
    "#tutaj akurat oczywiste co wyszlo, rozbijanie factorow z 2 levelami na dummies daje ich korelację -1.\n",
    "colnames(train_x)[correlated]\n",
    "#także należy to usunąć:\n",
    "train_x = train_x[,-correlated]"
   ]
  },
  {
   "cell_type": "code",
   "execution_count": 53,
   "metadata": {},
   "outputs": [
    {
     "data": {
      "text/html": [
       "0"
      ],
      "text/latex": [
       "0"
      ],
      "text/markdown": [
       "0"
      ],
      "text/plain": [
       "[1] 0"
      ]
     },
     "metadata": {},
     "output_type": "display_data"
    }
   ],
   "source": [
    "#jeszcze jedno sprawdzenie z mniejszym cutoff\n",
    "cr = cor(train_x)\n",
    "correlated = findCorrelation(cr, cutoff = .5)\n",
    "length(correlated)"
   ]
  },
  {
   "cell_type": "code",
   "execution_count": 54,
   "metadata": {},
   "outputs": [
    {
     "data": {
      "text/html": [
       "<dl>\n",
       "\t<dt>$linearCombos</dt>\n",
       "\t\t<dd><ol>\n",
       "\t<li><ol class=list-inline>\n",
       "\t<li>12</li>\n",
       "\t<li>5</li>\n",
       "\t<li>6</li>\n",
       "\t<li>7</li>\n",
       "\t<li>8</li>\n",
       "\t<li>9</li>\n",
       "\t<li>10</li>\n",
       "\t<li>11</li>\n",
       "</ol>\n",
       "</li>\n",
       "\t<li><ol class=list-inline>\n",
       "\t<li>20</li>\n",
       "\t<li>5</li>\n",
       "\t<li>6</li>\n",
       "\t<li>7</li>\n",
       "\t<li>8</li>\n",
       "\t<li>17</li>\n",
       "\t<li>18</li>\n",
       "\t<li>19</li>\n",
       "</ol>\n",
       "</li>\n",
       "\t<li><ol class=list-inline>\n",
       "\t<li>24</li>\n",
       "\t<li>5</li>\n",
       "\t<li>6</li>\n",
       "\t<li>7</li>\n",
       "\t<li>8</li>\n",
       "\t<li>21</li>\n",
       "\t<li>22</li>\n",
       "\t<li>23</li>\n",
       "</ol>\n",
       "</li>\n",
       "\t<li><ol class=list-inline>\n",
       "\t<li>31</li>\n",
       "\t<li>5</li>\n",
       "\t<li>6</li>\n",
       "\t<li>7</li>\n",
       "\t<li>8</li>\n",
       "\t<li>28</li>\n",
       "\t<li>29</li>\n",
       "\t<li>30</li>\n",
       "</ol>\n",
       "</li>\n",
       "\t<li><ol class=list-inline>\n",
       "\t<li>38</li>\n",
       "\t<li>5</li>\n",
       "\t<li>6</li>\n",
       "\t<li>7</li>\n",
       "\t<li>8</li>\n",
       "\t<li>35</li>\n",
       "\t<li>36</li>\n",
       "\t<li>37</li>\n",
       "</ol>\n",
       "</li>\n",
       "\t<li><ol class=list-inline>\n",
       "\t<li>47</li>\n",
       "\t<li>5</li>\n",
       "\t<li>6</li>\n",
       "\t<li>7</li>\n",
       "\t<li>8</li>\n",
       "\t<li>44</li>\n",
       "\t<li>45</li>\n",
       "\t<li>46</li>\n",
       "</ol>\n",
       "</li>\n",
       "\t<li><ol class=list-inline>\n",
       "\t<li>53</li>\n",
       "\t<li>5</li>\n",
       "\t<li>6</li>\n",
       "\t<li>7</li>\n",
       "\t<li>8</li>\n",
       "\t<li>50</li>\n",
       "\t<li>51</li>\n",
       "\t<li>52</li>\n",
       "</ol>\n",
       "</li>\n",
       "\t<li><ol class=list-inline>\n",
       "\t<li>57</li>\n",
       "\t<li>5</li>\n",
       "\t<li>6</li>\n",
       "\t<li>7</li>\n",
       "\t<li>8</li>\n",
       "\t<li>54</li>\n",
       "\t<li>55</li>\n",
       "\t<li>56</li>\n",
       "</ol>\n",
       "</li>\n",
       "\t<li><ol class=list-inline>\n",
       "\t<li>72</li>\n",
       "\t<li>5</li>\n",
       "\t<li>6</li>\n",
       "\t<li>7</li>\n",
       "\t<li>8</li>\n",
       "\t<li>69</li>\n",
       "\t<li>70</li>\n",
       "\t<li>71</li>\n",
       "</ol>\n",
       "</li>\n",
       "</ol>\n",
       "</dd>\n",
       "\t<dt>$remove</dt>\n",
       "\t\t<dd><ol class=list-inline>\n",
       "\t<li>12</li>\n",
       "\t<li>20</li>\n",
       "\t<li>24</li>\n",
       "\t<li>31</li>\n",
       "\t<li>38</li>\n",
       "\t<li>47</li>\n",
       "\t<li>53</li>\n",
       "\t<li>57</li>\n",
       "\t<li>72</li>\n",
       "</ol>\n",
       "</dd>\n",
       "</dl>\n"
      ],
      "text/latex": [
       "\\begin{description}\n",
       "\\item[\\$linearCombos] \\begin{enumerate}\n",
       "\\item \\begin{enumerate*}\n",
       "\\item 12\n",
       "\\item 5\n",
       "\\item 6\n",
       "\\item 7\n",
       "\\item 8\n",
       "\\item 9\n",
       "\\item 10\n",
       "\\item 11\n",
       "\\end{enumerate*}\n",
       "\n",
       "\\item \\begin{enumerate*}\n",
       "\\item 20\n",
       "\\item 5\n",
       "\\item 6\n",
       "\\item 7\n",
       "\\item 8\n",
       "\\item 17\n",
       "\\item 18\n",
       "\\item 19\n",
       "\\end{enumerate*}\n",
       "\n",
       "\\item \\begin{enumerate*}\n",
       "\\item 24\n",
       "\\item 5\n",
       "\\item 6\n",
       "\\item 7\n",
       "\\item 8\n",
       "\\item 21\n",
       "\\item 22\n",
       "\\item 23\n",
       "\\end{enumerate*}\n",
       "\n",
       "\\item \\begin{enumerate*}\n",
       "\\item 31\n",
       "\\item 5\n",
       "\\item 6\n",
       "\\item 7\n",
       "\\item 8\n",
       "\\item 28\n",
       "\\item 29\n",
       "\\item 30\n",
       "\\end{enumerate*}\n",
       "\n",
       "\\item \\begin{enumerate*}\n",
       "\\item 38\n",
       "\\item 5\n",
       "\\item 6\n",
       "\\item 7\n",
       "\\item 8\n",
       "\\item 35\n",
       "\\item 36\n",
       "\\item 37\n",
       "\\end{enumerate*}\n",
       "\n",
       "\\item \\begin{enumerate*}\n",
       "\\item 47\n",
       "\\item 5\n",
       "\\item 6\n",
       "\\item 7\n",
       "\\item 8\n",
       "\\item 44\n",
       "\\item 45\n",
       "\\item 46\n",
       "\\end{enumerate*}\n",
       "\n",
       "\\item \\begin{enumerate*}\n",
       "\\item 53\n",
       "\\item 5\n",
       "\\item 6\n",
       "\\item 7\n",
       "\\item 8\n",
       "\\item 50\n",
       "\\item 51\n",
       "\\item 52\n",
       "\\end{enumerate*}\n",
       "\n",
       "\\item \\begin{enumerate*}\n",
       "\\item 57\n",
       "\\item 5\n",
       "\\item 6\n",
       "\\item 7\n",
       "\\item 8\n",
       "\\item 54\n",
       "\\item 55\n",
       "\\item 56\n",
       "\\end{enumerate*}\n",
       "\n",
       "\\item \\begin{enumerate*}\n",
       "\\item 72\n",
       "\\item 5\n",
       "\\item 6\n",
       "\\item 7\n",
       "\\item 8\n",
       "\\item 69\n",
       "\\item 70\n",
       "\\item 71\n",
       "\\end{enumerate*}\n",
       "\n",
       "\\end{enumerate}\n",
       "\n",
       "\\item[\\$remove] \\begin{enumerate*}\n",
       "\\item 12\n",
       "\\item 20\n",
       "\\item 24\n",
       "\\item 31\n",
       "\\item 38\n",
       "\\item 47\n",
       "\\item 53\n",
       "\\item 57\n",
       "\\item 72\n",
       "\\end{enumerate*}\n",
       "\n",
       "\\end{description}\n"
      ],
      "text/markdown": [
       "$linearCombos\n",
       ":   1. 1. 12\n",
       "2. 5\n",
       "3. 6\n",
       "4. 7\n",
       "5. 8\n",
       "6. 9\n",
       "7. 10\n",
       "8. 11\n",
       "\n",
       "\n",
       "\n",
       "2. 1. 20\n",
       "2. 5\n",
       "3. 6\n",
       "4. 7\n",
       "5. 8\n",
       "6. 17\n",
       "7. 18\n",
       "8. 19\n",
       "\n",
       "\n",
       "\n",
       "3. 1. 24\n",
       "2. 5\n",
       "3. 6\n",
       "4. 7\n",
       "5. 8\n",
       "6. 21\n",
       "7. 22\n",
       "8. 23\n",
       "\n",
       "\n",
       "\n",
       "4. 1. 31\n",
       "2. 5\n",
       "3. 6\n",
       "4. 7\n",
       "5. 8\n",
       "6. 28\n",
       "7. 29\n",
       "8. 30\n",
       "\n",
       "\n",
       "\n",
       "5. 1. 38\n",
       "2. 5\n",
       "3. 6\n",
       "4. 7\n",
       "5. 8\n",
       "6. 35\n",
       "7. 36\n",
       "8. 37\n",
       "\n",
       "\n",
       "\n",
       "6. 1. 47\n",
       "2. 5\n",
       "3. 6\n",
       "4. 7\n",
       "5. 8\n",
       "6. 44\n",
       "7. 45\n",
       "8. 46\n",
       "\n",
       "\n",
       "\n",
       "7. 1. 53\n",
       "2. 5\n",
       "3. 6\n",
       "4. 7\n",
       "5. 8\n",
       "6. 50\n",
       "7. 51\n",
       "8. 52\n",
       "\n",
       "\n",
       "\n",
       "8. 1. 57\n",
       "2. 5\n",
       "3. 6\n",
       "4. 7\n",
       "5. 8\n",
       "6. 54\n",
       "7. 55\n",
       "8. 56\n",
       "\n",
       "\n",
       "\n",
       "9. 1. 72\n",
       "2. 5\n",
       "3. 6\n",
       "4. 7\n",
       "5. 8\n",
       "6. 69\n",
       "7. 70\n",
       "8. 71\n",
       "\n",
       "\n",
       "\n",
       "\n",
       "\n",
       "\n",
       "$remove\n",
       ":   1. 12\n",
       "2. 20\n",
       "3. 24\n",
       "4. 31\n",
       "5. 38\n",
       "6. 47\n",
       "7. 53\n",
       "8. 57\n",
       "9. 72\n",
       "\n",
       "\n",
       "\n",
       "\n",
       "\n"
      ],
      "text/plain": [
       "$linearCombos\n",
       "$linearCombos[[1]]\n",
       "[1] 12  5  6  7  8  9 10 11\n",
       "\n",
       "$linearCombos[[2]]\n",
       "[1] 20  5  6  7  8 17 18 19\n",
       "\n",
       "$linearCombos[[3]]\n",
       "[1] 24  5  6  7  8 21 22 23\n",
       "\n",
       "$linearCombos[[4]]\n",
       "[1] 31  5  6  7  8 28 29 30\n",
       "\n",
       "$linearCombos[[5]]\n",
       "[1] 38  5  6  7  8 35 36 37\n",
       "\n",
       "$linearCombos[[6]]\n",
       "[1] 47  5  6  7  8 44 45 46\n",
       "\n",
       "$linearCombos[[7]]\n",
       "[1] 53  5  6  7  8 50 51 52\n",
       "\n",
       "$linearCombos[[8]]\n",
       "[1] 57  5  6  7  8 54 55 56\n",
       "\n",
       "$linearCombos[[9]]\n",
       "[1] 72  5  6  7  8 69 70 71\n",
       "\n",
       "\n",
       "$remove\n",
       "[1] 12 20 24 31 38 47 53 57 72\n"
      ]
     },
     "metadata": {},
     "output_type": "display_data"
    }
   ],
   "source": [
    "#jest ok. zostają zależności liniowe:\n",
    "comboInfo = findLinearCombos(train_x)\n",
    "comboInfo"
   ]
  },
  {
   "cell_type": "code",
   "execution_count": 55,
   "metadata": {},
   "outputs": [
    {
     "data": {
      "text/html": [
       "<ol class=list-inline>\n",
       "\t<li>12</li>\n",
       "\t<li>20</li>\n",
       "\t<li>24</li>\n",
       "\t<li>31</li>\n",
       "\t<li>38</li>\n",
       "\t<li>47</li>\n",
       "\t<li>53</li>\n",
       "\t<li>57</li>\n",
       "\t<li>72</li>\n",
       "</ol>\n"
      ],
      "text/latex": [
       "\\begin{enumerate*}\n",
       "\\item 12\n",
       "\\item 20\n",
       "\\item 24\n",
       "\\item 31\n",
       "\\item 38\n",
       "\\item 47\n",
       "\\item 53\n",
       "\\item 57\n",
       "\\item 72\n",
       "\\end{enumerate*}\n"
      ],
      "text/markdown": [
       "1. 12\n",
       "2. 20\n",
       "3. 24\n",
       "4. 31\n",
       "5. 38\n",
       "6. 47\n",
       "7. 53\n",
       "8. 57\n",
       "9. 72\n",
       "\n",
       "\n"
      ],
      "text/plain": [
       "[1] 12 20 24 31 38 47 53 57 72"
      ]
     },
     "metadata": {},
     "output_type": "display_data"
    }
   ],
   "source": [
    "comboInfo$remove"
   ]
  },
  {
   "cell_type": "code",
   "execution_count": 56,
   "metadata": {},
   "outputs": [
    {
     "data": {
      "text/plain": [
       "$linearCombos\n",
       "list()\n",
       "\n",
       "$remove\n",
       "NULL\n"
      ]
     },
     "metadata": {},
     "output_type": "display_data"
    }
   ],
   "source": [
    "#mądry pakiet znalazł mi kilka predyktorów do usunięcia\n",
    "train_x = train_x[,-comboInfo$remove]\n",
    "#a teraz?\n",
    "comboInfo = findLinearCombos(train_x)\n",
    "comboInfo"
   ]
  },
  {
   "cell_type": "code",
   "execution_count": 58,
   "metadata": {},
   "outputs": [
    {
     "data": {
      "text/html": [
       "<ol class=list-inline>\n",
       "\t<li>'A1.B'</li>\n",
       "\t<li>'B1.B'</li>\n",
       "\t<li>'C1.B'</li>\n",
       "\t<li>'D1'</li>\n",
       "\t<li>'E1.A'</li>\n",
       "\t<li>'E1.B'</li>\n",
       "\t<li>'E1.C'</li>\n",
       "\t<li>'E1.D'</li>\n",
       "\t<li>'F1.A'</li>\n",
       "\t<li>'F1.B'</li>\n",
       "\t<li>'F1.C'</li>\n",
       "\t<li>'G1'</li>\n",
       "\t<li>'H1'</li>\n",
       "\t<li>'I1'</li>\n",
       "\t<li>'J1'</li>\n",
       "\t<li>'K1.A'</li>\n",
       "\t<li>'K1.B'</li>\n",
       "\t<li>'K1.C'</li>\n",
       "\t<li>'L1.A'</li>\n",
       "\t<li>'L1.B'</li>\n",
       "\t<li>'L1.C'</li>\n",
       "\t<li>'M1'</li>\n",
       "\t<li>'N1'</li>\n",
       "\t<li>'O1'</li>\n",
       "\t<li>'P1.A'</li>\n",
       "\t<li>'P1.B'</li>\n",
       "\t<li>'P1.C'</li>\n",
       "\t<li>'Q1'</li>\n",
       "\t<li>'R1.B'</li>\n",
       "\t<li>'S1'</li>\n",
       "\t<li>'T1.A'</li>\n",
       "\t<li>'T1.B'</li>\n",
       "\t<li>'T1.C'</li>\n",
       "\t<li>'U1'</li>\n",
       "\t<li>'V1'</li>\n",
       "\t<li>'W1'</li>\n",
       "\t<li>'X1'</li>\n",
       "\t<li>'Y1.B'</li>\n",
       "\t<li>'Z1.A'</li>\n",
       "\t<li>'Z1.B'</li>\n",
       "\t<li>'Z1.C'</li>\n",
       "\t<li>'A2'</li>\n",
       "\t<li>'B2'</li>\n",
       "\t<li>'C2.A'</li>\n",
       "\t<li>'C2.B'</li>\n",
       "\t<li>'C2.C'</li>\n",
       "\t<li>'D2.A'</li>\n",
       "\t<li>'D2.B'</li>\n",
       "\t<li>'D2.C'</li>\n",
       "\t<li>'E2'</li>\n",
       "\t<li>'F2'</li>\n",
       "\t<li>'G2'</li>\n",
       "\t<li>'H2'</li>\n",
       "\t<li>'I2.B'</li>\n",
       "\t<li>'J2.B'</li>\n",
       "\t<li>'K2'</li>\n",
       "\t<li>'L2'</li>\n",
       "\t<li>'M2'</li>\n",
       "\t<li>'N2'</li>\n",
       "\t<li>'O2.B'</li>\n",
       "\t<li>'P2.A'</li>\n",
       "\t<li>'P2.B'</li>\n",
       "\t<li>'P2.C'</li>\n",
       "\t<li>'Q2.B'</li>\n",
       "\t<li>'R2.B'</li>\n",
       "\t<li>'S2'</li>\n",
       "\t<li>'T2'</li>\n",
       "\t<li>'U2'</li>\n",
       "\t<li>'V2'</li>\n",
       "\t<li>'W2'</li>\n",
       "\t<li>'X2'</li>\n",
       "</ol>\n"
      ],
      "text/latex": [
       "\\begin{enumerate*}\n",
       "\\item 'A1.B'\n",
       "\\item 'B1.B'\n",
       "\\item 'C1.B'\n",
       "\\item 'D1'\n",
       "\\item 'E1.A'\n",
       "\\item 'E1.B'\n",
       "\\item 'E1.C'\n",
       "\\item 'E1.D'\n",
       "\\item 'F1.A'\n",
       "\\item 'F1.B'\n",
       "\\item 'F1.C'\n",
       "\\item 'G1'\n",
       "\\item 'H1'\n",
       "\\item 'I1'\n",
       "\\item 'J1'\n",
       "\\item 'K1.A'\n",
       "\\item 'K1.B'\n",
       "\\item 'K1.C'\n",
       "\\item 'L1.A'\n",
       "\\item 'L1.B'\n",
       "\\item 'L1.C'\n",
       "\\item 'M1'\n",
       "\\item 'N1'\n",
       "\\item 'O1'\n",
       "\\item 'P1.A'\n",
       "\\item 'P1.B'\n",
       "\\item 'P1.C'\n",
       "\\item 'Q1'\n",
       "\\item 'R1.B'\n",
       "\\item 'S1'\n",
       "\\item 'T1.A'\n",
       "\\item 'T1.B'\n",
       "\\item 'T1.C'\n",
       "\\item 'U1'\n",
       "\\item 'V1'\n",
       "\\item 'W1'\n",
       "\\item 'X1'\n",
       "\\item 'Y1.B'\n",
       "\\item 'Z1.A'\n",
       "\\item 'Z1.B'\n",
       "\\item 'Z1.C'\n",
       "\\item 'A2'\n",
       "\\item 'B2'\n",
       "\\item 'C2.A'\n",
       "\\item 'C2.B'\n",
       "\\item 'C2.C'\n",
       "\\item 'D2.A'\n",
       "\\item 'D2.B'\n",
       "\\item 'D2.C'\n",
       "\\item 'E2'\n",
       "\\item 'F2'\n",
       "\\item 'G2'\n",
       "\\item 'H2'\n",
       "\\item 'I2.B'\n",
       "\\item 'J2.B'\n",
       "\\item 'K2'\n",
       "\\item 'L2'\n",
       "\\item 'M2'\n",
       "\\item 'N2'\n",
       "\\item 'O2.B'\n",
       "\\item 'P2.A'\n",
       "\\item 'P2.B'\n",
       "\\item 'P2.C'\n",
       "\\item 'Q2.B'\n",
       "\\item 'R2.B'\n",
       "\\item 'S2'\n",
       "\\item 'T2'\n",
       "\\item 'U2'\n",
       "\\item 'V2'\n",
       "\\item 'W2'\n",
       "\\item 'X2'\n",
       "\\end{enumerate*}\n"
      ],
      "text/markdown": [
       "1. 'A1.B'\n",
       "2. 'B1.B'\n",
       "3. 'C1.B'\n",
       "4. 'D1'\n",
       "5. 'E1.A'\n",
       "6. 'E1.B'\n",
       "7. 'E1.C'\n",
       "8. 'E1.D'\n",
       "9. 'F1.A'\n",
       "10. 'F1.B'\n",
       "11. 'F1.C'\n",
       "12. 'G1'\n",
       "13. 'H1'\n",
       "14. 'I1'\n",
       "15. 'J1'\n",
       "16. 'K1.A'\n",
       "17. 'K1.B'\n",
       "18. 'K1.C'\n",
       "19. 'L1.A'\n",
       "20. 'L1.B'\n",
       "21. 'L1.C'\n",
       "22. 'M1'\n",
       "23. 'N1'\n",
       "24. 'O1'\n",
       "25. 'P1.A'\n",
       "26. 'P1.B'\n",
       "27. 'P1.C'\n",
       "28. 'Q1'\n",
       "29. 'R1.B'\n",
       "30. 'S1'\n",
       "31. 'T1.A'\n",
       "32. 'T1.B'\n",
       "33. 'T1.C'\n",
       "34. 'U1'\n",
       "35. 'V1'\n",
       "36. 'W1'\n",
       "37. 'X1'\n",
       "38. 'Y1.B'\n",
       "39. 'Z1.A'\n",
       "40. 'Z1.B'\n",
       "41. 'Z1.C'\n",
       "42. 'A2'\n",
       "43. 'B2'\n",
       "44. 'C2.A'\n",
       "45. 'C2.B'\n",
       "46. 'C2.C'\n",
       "47. 'D2.A'\n",
       "48. 'D2.B'\n",
       "49. 'D2.C'\n",
       "50. 'E2'\n",
       "51. 'F2'\n",
       "52. 'G2'\n",
       "53. 'H2'\n",
       "54. 'I2.B'\n",
       "55. 'J2.B'\n",
       "56. 'K2'\n",
       "57. 'L2'\n",
       "58. 'M2'\n",
       "59. 'N2'\n",
       "60. 'O2.B'\n",
       "61. 'P2.A'\n",
       "62. 'P2.B'\n",
       "63. 'P2.C'\n",
       "64. 'Q2.B'\n",
       "65. 'R2.B'\n",
       "66. 'S2'\n",
       "67. 'T2'\n",
       "68. 'U2'\n",
       "69. 'V2'\n",
       "70. 'W2'\n",
       "71. 'X2'\n",
       "\n",
       "\n"
      ],
      "text/plain": [
       " [1] \"A1.B\" \"B1.B\" \"C1.B\" \"D1\"   \"E1.A\" \"E1.B\" \"E1.C\" \"E1.D\" \"F1.A\" \"F1.B\"\n",
       "[11] \"F1.C\" \"G1\"   \"H1\"   \"I1\"   \"J1\"   \"K1.A\" \"K1.B\" \"K1.C\" \"L1.A\" \"L1.B\"\n",
       "[21] \"L1.C\" \"M1\"   \"N1\"   \"O1\"   \"P1.A\" \"P1.B\" \"P1.C\" \"Q1\"   \"R1.B\" \"S1\"  \n",
       "[31] \"T1.A\" \"T1.B\" \"T1.C\" \"U1\"   \"V1\"   \"W1\"   \"X1\"   \"Y1.B\" \"Z1.A\" \"Z1.B\"\n",
       "[41] \"Z1.C\" \"A2\"   \"B2\"   \"C2.A\" \"C2.B\" \"C2.C\" \"D2.A\" \"D2.B\" \"D2.C\" \"E2\"  \n",
       "[51] \"F2\"   \"G2\"   \"H2\"   \"I2.B\" \"J2.B\" \"K2\"   \"L2\"   \"M2\"   \"N2\"   \"O2.B\"\n",
       "[61] \"P2.A\" \"P2.B\" \"P2.C\" \"Q2.B\" \"R2.B\" \"S2\"   \"T2\"   \"U2\"   \"V2\"   \"W2\"  \n",
       "[71] \"X2\"  "
      ]
     },
     "metadata": {},
     "output_type": "display_data"
    }
   ],
   "source": [
    "#zapamiętuję to na później:\n",
    "(preselected_coefs = colnames(train_x))"
   ]
  },
  {
   "cell_type": "markdown",
   "metadata": {},
   "source": [
    "# Regresja logistyczna"
   ]
  },
  {
   "cell_type": "markdown",
   "metadata": {},
   "source": [
    "### Selekcja zmiennych "
   ]
  },
  {
   "cell_type": "code",
   "execution_count": 19,
   "metadata": {
    "scrolled": true
   },
   "outputs": [
    {
     "data": {
      "text/plain": [
       "\n",
       "Call:\n",
       "glm(formula = train_y ~ train_x)\n",
       "\n",
       "Deviance Residuals: \n",
       "     Min        1Q    Median        3Q       Max  \n",
       "-0.99560  -0.44381   0.05306   0.43328   1.08655  \n",
       "\n",
       "Coefficients: (1 not defined because of singularities)\n",
       "              Estimate Std. Error t value Pr(>|t|)    \n",
       "(Intercept)  6.095e-01  2.412e-02  25.269  < 2e-16 ***\n",
       "train_xA1.B  8.892e-03  4.205e-03   2.115  0.03444 *  \n",
       "train_xB1.B -1.048e-02  4.203e-03  -2.493  0.01267 *  \n",
       "train_xC1.B -5.324e-03  4.204e-03  -1.266  0.20542    \n",
       "train_xD1    7.229e-05  7.262e-05   0.995  0.31950    \n",
       "train_xE1.A -1.871e-01  5.955e-03 -31.411  < 2e-16 ***\n",
       "train_xE1.B  1.415e-03  5.952e-03   0.238  0.81207    \n",
       "train_xE1.C  6.445e-03  5.978e-03   1.078  0.28104    \n",
       "train_xE1.D         NA         NA      NA       NA    \n",
       "train_xF1.A  2.413e-04  5.975e-03   0.040  0.96779    \n",
       "train_xF1.B -1.541e-02  5.968e-03  -2.583  0.00979 ** \n",
       "train_xF1.C  2.907e-03  5.959e-03   0.488  0.62564    \n",
       "train_xG1    1.642e-05  7.276e-05   0.226  0.82140    \n",
       "train_xH1    6.492e-05  7.267e-05   0.893  0.37168    \n",
       "train_xI1   -4.834e-05  7.273e-05  -0.665  0.50625    \n",
       "train_xJ1    1.275e-04  7.268e-05   1.754  0.07948 .  \n",
       "train_xK1.A -4.454e-03  5.958e-03  -0.747  0.45478    \n",
       "train_xK1.B -8.107e-03  5.960e-03  -1.360  0.17375    \n",
       "train_xK1.C  4.947e-03  5.964e-03   0.830  0.40682    \n",
       "train_xL1.A  2.746e-03  5.942e-03   0.462  0.64399    \n",
       "train_xL1.B  1.151e-02  5.949e-03   1.935  0.05304 .  \n",
       "train_xL1.C -1.372e-03  5.950e-03  -0.231  0.81764    \n",
       "train_xM1   -5.663e-04  7.277e-05  -7.783 7.24e-15 ***\n",
       "train_xN1    5.348e-05  7.272e-05   0.735  0.46212    \n",
       "train_xO1   -3.088e-05  7.285e-05  -0.424  0.67161    \n",
       "train_xP1.A -1.428e-02  5.947e-03  -2.401  0.01634 *  \n",
       "train_xP1.B -1.177e-02  5.963e-03  -1.975  0.04832 *  \n",
       "train_xP1.C -5.298e-03  5.959e-03  -0.889  0.37399    \n",
       "train_xQ1   -1.849e-03  7.255e-05 -25.486  < 2e-16 ***\n",
       "train_xR1.B -1.247e-03  4.204e-03  -0.297  0.76682    \n",
       "train_xS1   -8.394e-06  7.279e-05  -0.115  0.90820    \n",
       "train_xT1.A -1.136e-02  5.959e-03  -1.907  0.05653 .  \n",
       "train_xT1.B -3.956e-03  5.949e-03  -0.665  0.50607    \n",
       "train_xT1.C -5.480e-03  5.952e-03  -0.921  0.35720    \n",
       "train_xU1    5.063e-06  7.298e-05   0.069  0.94469    \n",
       "train_xV1   -9.630e-05  7.283e-05  -1.322  0.18608    \n",
       "train_xW1    3.015e-03  7.271e-05  41.460  < 2e-16 ***\n",
       "train_xX1   -1.006e-04  7.287e-05  -1.380  0.16758    \n",
       "train_xY1.B -6.316e-03  4.205e-03  -1.502  0.13306    \n",
       "train_xZ1.A -1.236e-02  5.968e-03  -2.071  0.03840 *  \n",
       "train_xZ1.B -9.268e-03  5.958e-03  -1.556  0.11981    \n",
       "train_xZ1.C -1.048e-02  5.941e-03  -1.764  0.07769 .  \n",
       "train_xA2    1.895e-05  7.302e-05   0.260  0.79520    \n",
       "train_xB2    7.956e-05  7.269e-05   1.094  0.27379    \n",
       "train_xC2.A  1.020e-03  5.967e-03   0.171  0.86430    \n",
       "train_xC2.B  1.455e-03  5.939e-03   0.245  0.80650    \n",
       "train_xC2.C -2.233e-03  5.944e-03  -0.376  0.70709    \n",
       "train_xD2.A -7.153e-03  5.957e-03  -1.201  0.22990    \n",
       "train_xD2.B -1.002e-03  5.988e-03  -0.167  0.86711    \n",
       "train_xD2.C -3.678e-03  5.963e-03  -0.617  0.53734    \n",
       "train_xE2   -9.203e-05  7.296e-05  -1.261  0.20717    \n",
       "train_xF2   -3.995e-05  7.280e-05  -0.549  0.58319    \n",
       "train_xG2    4.749e-05  7.291e-05   0.651  0.51476    \n",
       "train_xH2    1.787e-05  7.263e-05   0.246  0.80563    \n",
       "train_xI2.B -4.325e-05  4.205e-03  -0.010  0.99179    \n",
       "train_xJ2.B -4.452e-03  4.204e-03  -1.059  0.28965    \n",
       "train_xK2   -1.132e-04  7.263e-05  -1.559  0.11902    \n",
       "train_xL2    5.192e-05  7.260e-05   0.715  0.47452    \n",
       "train_xM2    7.164e-05  7.302e-05   0.981  0.32656    \n",
       "train_xN2   -9.620e-05  7.290e-05  -1.320  0.18697    \n",
       "train_xO2.B  8.817e-03  4.204e-03   2.098  0.03595 *  \n",
       "train_xP2.A -1.810e-01  5.945e-03 -30.444  < 2e-16 ***\n",
       "train_xP2.B  1.685e-03  5.958e-03   0.283  0.77736    \n",
       "train_xP2.C -1.404e-04  5.955e-03  -0.024  0.98119    \n",
       "train_xQ2.B -1.239e-03  4.204e-03  -0.295  0.76813    \n",
       "train_xR2.B -6.215e-03  4.204e-03  -1.478  0.13933    \n",
       "train_xS2   -1.297e-04  7.282e-05  -1.781  0.07497 .  \n",
       "train_xT2    1.862e-03  7.314e-05  25.459  < 2e-16 ***\n",
       "train_xU2   -1.953e-03  7.252e-05 -26.931  < 2e-16 ***\n",
       "train_xV2   -1.276e-04  7.275e-05  -1.754  0.07941 .  \n",
       "train_xW2    1.182e-05  7.269e-05   0.163  0.87088    \n",
       "train_xX2    5.939e-05  7.298e-05   0.814  0.41580    \n",
       "---\n",
       "Signif. codes:  0 ‘***’ 0.001 ‘**’ 0.01 ‘*’ 0.05 ‘.’ 0.1 ‘ ’ 1\n",
       "\n",
       "(Dispersion parameter for gaussian family taken to be 0.2205917)\n",
       "\n",
       "    Null deviance: 12500  on 49999  degrees of freedom\n",
       "Residual deviance: 11014  on 49929  degrees of freedom\n",
       "AIC: 66395\n",
       "\n",
       "Number of Fisher Scoring iterations: 2\n"
      ]
     },
     "metadata": {},
     "output_type": "display_data"
    }
   ],
   "source": [
    "#nieistotne zmienne\n",
    "s = summary(glm(train_y~train_x))\n",
    "s"
   ]
  },
  {
   "cell_type": "code",
   "execution_count": 20,
   "metadata": {
    "collapsed": true,
    "scrolled": true
   },
   "outputs": [],
   "source": [
    "#(dość) istotne zmienne to:\n",
    "#intercept, A1.B,B1.B,E1.A,F1.B,M1,P1.A,P1.B,Q1,W1,Z1.A,O2.B,P2.A,S2,T2,U2\n",
    "important_coefs = c(\"A1.B\",\"B1.B\",\"E1.A\",\"F1.B\",\"M1\",\"P1.A\",\"P1.B\",\"Q1\",\"W1\",\"Z1.A\",\"O2.B\",\n",
    "                    \"P2.A\",\"S2\",\"T2\",\"U2\")"
   ]
  },
  {
   "cell_type": "markdown",
   "metadata": {},
   "source": [
    "Z ciekawości sprawdziłem jeszcze metodę varImp z pakietu caret, działa ona w analogiczny sposób jak summary, a jednocześnie nie trzeba przepisywać ręcznie wyników."
   ]
  },
  {
   "cell_type": "code",
   "execution_count": 21,
   "metadata": {
    "collapsed": true
   },
   "outputs": [],
   "source": [
    "v = varImp(glm(train_y~train_x))"
   ]
  },
  {
   "cell_type": "code",
   "execution_count": 22,
   "metadata": {},
   "outputs": [
    {
     "data": {
      "text/html": [
       "<ol class=list-inline>\n",
       "\t<li>'train_xA1.B'</li>\n",
       "\t<li>'train_xB1.B'</li>\n",
       "\t<li>'train_xE1.A'</li>\n",
       "\t<li>'train_xF1.B'</li>\n",
       "\t<li>'train_xL1.B'</li>\n",
       "\t<li>'train_xM1'</li>\n",
       "\t<li>'train_xP1.A'</li>\n",
       "\t<li>'train_xP1.B'</li>\n",
       "\t<li>'train_xQ1'</li>\n",
       "\t<li>'train_xT1.A'</li>\n",
       "\t<li>'train_xW1'</li>\n",
       "\t<li>'train_xZ1.A'</li>\n",
       "\t<li>'train_xO2.B'</li>\n",
       "\t<li>'train_xP2.A'</li>\n",
       "\t<li>'train_xS2'</li>\n",
       "\t<li>'train_xT2'</li>\n",
       "\t<li>'train_xU2'</li>\n",
       "</ol>\n"
      ],
      "text/latex": [
       "\\begin{enumerate*}\n",
       "\\item 'train\\_xA1.B'\n",
       "\\item 'train\\_xB1.B'\n",
       "\\item 'train\\_xE1.A'\n",
       "\\item 'train\\_xF1.B'\n",
       "\\item 'train\\_xL1.B'\n",
       "\\item 'train\\_xM1'\n",
       "\\item 'train\\_xP1.A'\n",
       "\\item 'train\\_xP1.B'\n",
       "\\item 'train\\_xQ1'\n",
       "\\item 'train\\_xT1.A'\n",
       "\\item 'train\\_xW1'\n",
       "\\item 'train\\_xZ1.A'\n",
       "\\item 'train\\_xO2.B'\n",
       "\\item 'train\\_xP2.A'\n",
       "\\item 'train\\_xS2'\n",
       "\\item 'train\\_xT2'\n",
       "\\item 'train\\_xU2'\n",
       "\\end{enumerate*}\n"
      ],
      "text/markdown": [
       "1. 'train_xA1.B'\n",
       "2. 'train_xB1.B'\n",
       "3. 'train_xE1.A'\n",
       "4. 'train_xF1.B'\n",
       "5. 'train_xL1.B'\n",
       "6. 'train_xM1'\n",
       "7. 'train_xP1.A'\n",
       "8. 'train_xP1.B'\n",
       "9. 'train_xQ1'\n",
       "10. 'train_xT1.A'\n",
       "11. 'train_xW1'\n",
       "12. 'train_xZ1.A'\n",
       "13. 'train_xO2.B'\n",
       "14. 'train_xP2.A'\n",
       "15. 'train_xS2'\n",
       "16. 'train_xT2'\n",
       "17. 'train_xU2'\n",
       "\n",
       "\n"
      ],
      "text/plain": [
       " [1] \"train_xA1.B\" \"train_xB1.B\" \"train_xE1.A\" \"train_xF1.B\" \"train_xL1.B\"\n",
       " [6] \"train_xM1\"   \"train_xP1.A\" \"train_xP1.B\" \"train_xQ1\"   \"train_xT1.A\"\n",
       "[11] \"train_xW1\"   \"train_xZ1.A\" \"train_xO2.B\" \"train_xP2.A\" \"train_xS2\"  \n",
       "[16] \"train_xT2\"   \"train_xU2\"  "
      ]
     },
     "metadata": {},
     "output_type": "display_data"
    }
   ],
   "source": [
    "rownames(v)[v>1.78] #1.78 to pewna ważność, która daje rezultaty jak powyżej"
   ]
  },
  {
   "cell_type": "code",
   "execution_count": 23,
   "metadata": {},
   "outputs": [
    {
     "ename": "ERROR",
     "evalue": "Error in data.frame(y = train_y, train_x2[, important_coefs]): object 'train_x2' not found\n",
     "output_type": "error",
     "traceback": [
      "Error in data.frame(y = train_y, train_x2[, important_coefs]): object 'train_x2' not found\nTraceback:\n",
      "1. data.frame(y = train_y, train_x2[, important_coefs])"
     ]
    }
   ],
   "source": [
    "tdata = data.frame(y=train_y,train_x2[,important_coefs])"
   ]
  },
  {
   "cell_type": "code",
   "execution_count": 24,
   "metadata": {
    "scrolled": true
   },
   "outputs": [
    {
     "ename": "ERROR",
     "evalue": "Error in is.data.frame(data): object 'tdata' not found\n",
     "output_type": "error",
     "traceback": [
      "Error in is.data.frame(data): object 'tdata' not found\nTraceback:\n",
      "1. step(glm(y ~ ., tdata, family = \"binomial\"), direction = \"backward\", \n .     k = log(nrow(tdata)))",
      "2. terms(object)",
      "3. glm(y ~ ., tdata, family = \"binomial\")",
      "4. eval(mf, parent.frame())",
      "5. eval(mf, parent.frame())",
      "6. stats::model.frame(formula = y ~ ., data = tdata, drop.unused.levels = TRUE)",
      "7. model.frame.default(formula = y ~ ., data = tdata, drop.unused.levels = TRUE)",
      "8. is.data.frame(data)"
     ]
    }
   ],
   "source": [
    "#krokowa selekcja zmiennych, metoda backward bic\n",
    "step(glm(y~.,tdata,family=\"binomial\"), direction=\"backward\", k =log(nrow(tdata)))"
   ]
  },
  {
   "cell_type": "code",
   "execution_count": 25,
   "metadata": {},
   "outputs": [],
   "source": [
    "#selekcja zredukowała nam zbiór atrybutów do ośmiu\n",
    "selected_coefs = c(\"E1.A\",\"F1.B\",\"M1\",\"Q1\",\"W1\",\"P2.A\",\"T2\",\"U2\")\n",
    "#uprzątam zbiory treningowe:\n",
    "train_x2 = train_x[,selected_coefs]\n",
    "train_data = data.frame(y=train_y,train_x2)"
   ]
  },
  {
   "cell_type": "code",
   "execution_count": 26,
   "metadata": {
    "collapsed": true
   },
   "outputs": [],
   "source": [
    "#funkcja dla wyznaczania skutecznosci modelu (fold)\n",
    "nfold_glm = function (input_data,n){\n",
    "    \n",
    "    nchunk = nrow(input_data)/n\n",
    "    results = numeric(n)\n",
    "    \n",
    "    for (i in 1:n){\n",
    "        lower = (i-1)*nchunk+1\n",
    "        upper = i*nchunk\n",
    "        indices = lower:upper\n",
    "        #kolumna 1 - etykieta\n",
    "        tst_y = input_data[indices,1]\n",
    "        tst_x = input_data[indices,-1]\n",
    "        tr =  train_data[-indices,]\n",
    "        g = glm(y~.,data=tr)\n",
    "        predicted_y = predict(g, tst_x)\n",
    "        #sprawdzam top 20% scores (jak w zadaniu)\n",
    "        topindices = head(sort(predicted_y,decreasing=TRUE),nchunk/5)\n",
    "        results[i] = (mean(input_data[names(topindices),1]))\n",
    "    }\n",
    "    return (results)\n",
    "}"
   ]
  },
  {
   "cell_type": "code",
   "execution_count": 30,
   "metadata": {
    "scrolled": true
   },
   "outputs": [
    {
     "data": {
      "text/html": [
       "<ol class=list-inline>\n",
       "\t<li>0.74</li>\n",
       "\t<li>0.729</li>\n",
       "\t<li>0.726</li>\n",
       "\t<li>0.726</li>\n",
       "\t<li>0.741</li>\n",
       "\t<li>0.732</li>\n",
       "\t<li>0.713</li>\n",
       "\t<li>0.734</li>\n",
       "\t<li>0.712</li>\n",
       "\t<li>0.739</li>\n",
       "</ol>\n"
      ],
      "text/latex": [
       "\\begin{enumerate*}\n",
       "\\item 0.74\n",
       "\\item 0.729\n",
       "\\item 0.726\n",
       "\\item 0.726\n",
       "\\item 0.741\n",
       "\\item 0.732\n",
       "\\item 0.713\n",
       "\\item 0.734\n",
       "\\item 0.712\n",
       "\\item 0.739\n",
       "\\end{enumerate*}\n"
      ],
      "text/markdown": [
       "1. 0.74\n",
       "2. 0.729\n",
       "3. 0.726\n",
       "4. 0.726\n",
       "5. 0.741\n",
       "6. 0.732\n",
       "7. 0.713\n",
       "8. 0.734\n",
       "9. 0.712\n",
       "10. 0.739\n",
       "\n",
       "\n"
      ],
      "text/plain": [
       " [1] 0.740 0.729 0.726 0.726 0.741 0.732 0.713 0.734 0.712 0.739"
      ]
     },
     "metadata": {},
     "output_type": "display_data"
    },
    {
     "data": {
      "text/html": [
       "0.7292"
      ],
      "text/latex": [
       "0.7292"
      ],
      "text/markdown": [
       "0.7292"
      ],
      "text/plain": [
       "[1] 0.7292"
      ]
     },
     "metadata": {},
     "output_type": "display_data"
    }
   ],
   "source": [
    "#10-fold, dane zwykle\n",
    "results = nfold_glm(train_data,10)\n",
    "results\n",
    "#średnia z dziesięciu foldów\n",
    "mean(results)"
   ]
  },
  {
   "cell_type": "code",
   "execution_count": 42,
   "metadata": {
    "collapsed": true
   },
   "outputs": [],
   "source": [
    "#inne podejście\n",
    "#standaryzacja danych:\n",
    "preProcValues = preProcess(train_x2, method = c(\"scale\"))\n",
    "train_x3 = predict(preProcValues, train_x2)\n",
    "train_data2 = data.frame(y=train_y,train_x3)"
   ]
  },
  {
   "cell_type": "code",
   "execution_count": 43,
   "metadata": {},
   "outputs": [
    {
     "data": {
      "text/html": [
       "<ol class=list-inline>\n",
       "\t<li>0.721</li>\n",
       "\t<li>0.726</li>\n",
       "\t<li>0.704</li>\n",
       "\t<li>0.717</li>\n",
       "\t<li>0.737</li>\n",
       "\t<li>0.703</li>\n",
       "\t<li>0.696</li>\n",
       "\t<li>0.722</li>\n",
       "\t<li>0.691</li>\n",
       "\t<li>0.73</li>\n",
       "</ol>\n"
      ],
      "text/latex": [
       "\\begin{enumerate*}\n",
       "\\item 0.721\n",
       "\\item 0.726\n",
       "\\item 0.704\n",
       "\\item 0.717\n",
       "\\item 0.737\n",
       "\\item 0.703\n",
       "\\item 0.696\n",
       "\\item 0.722\n",
       "\\item 0.691\n",
       "\\item 0.73\n",
       "\\end{enumerate*}\n"
      ],
      "text/markdown": [
       "1. 0.721\n",
       "2. 0.726\n",
       "3. 0.704\n",
       "4. 0.717\n",
       "5. 0.737\n",
       "6. 0.703\n",
       "7. 0.696\n",
       "8. 0.722\n",
       "9. 0.691\n",
       "10. 0.73\n",
       "\n",
       "\n"
      ],
      "text/plain": [
       " [1] 0.721 0.726 0.704 0.717 0.737 0.703 0.696 0.722 0.691 0.730"
      ]
     },
     "metadata": {},
     "output_type": "display_data"
    },
    {
     "data": {
      "text/html": [
       "0.7147"
      ],
      "text/latex": [
       "0.7147"
      ],
      "text/markdown": [
       "0.7147"
      ],
      "text/plain": [
       "[1] 0.7147"
      ]
     },
     "metadata": {},
     "output_type": "display_data"
    }
   ],
   "source": [
    "#10-fold, dane standaryzowane\n",
    "results = nfold_glm(train_data2,10)\n",
    "results\n",
    "#średnia z dziesięciu foldów\n",
    "mean(results)"
   ]
  },
  {
   "cell_type": "markdown",
   "metadata": {},
   "source": [
    "Standaryzacja nie polepsza wyników. Ogólnie, regresja logistyczna wydaje się dość kiepska."
   ]
  },
  {
   "cell_type": "markdown",
   "metadata": {},
   "source": [
    "By rozważyć wszystkie możliwości, sprawdzę jeszcze działanie lasso na danych.\n",
    "Stosuję tutaj już ramkę z naistotniejszymi predyktorami."
   ]
  },
  {
   "cell_type": "code",
   "execution_count": 44,
   "metadata": {
    "collapsed": true
   },
   "outputs": [],
   "source": [
    "cv.glmmod = cv.glmnet(train_x2, y=train_y)"
   ]
  },
  {
   "cell_type": "code",
   "execution_count": 45,
   "metadata": {},
   "outputs": [
    {
     "data": {
      "text/html": [
       "0.00757052832207433"
      ],
      "text/latex": [
       "0.00757052832207433"
      ],
      "text/markdown": [
       "0.00757052832207433"
      ],
      "text/plain": [
       "[1] 0.007570528"
      ]
     },
     "metadata": {},
     "output_type": "display_data"
    },
    {
     "data": {
      "text/html": [
       "0.000423253868300504"
      ],
      "text/latex": [
       "0.000423253868300504"
      ],
      "text/markdown": [
       "0.000423253868300504"
      ],
      "text/plain": [
       "[1] 0.0004232539"
      ]
     },
     "metadata": {},
     "output_type": "display_data"
    }
   ],
   "source": [
    "cv.glmmod$lambda.1se\n",
    "cv.glmmod$lambda.min"
   ]
  },
  {
   "cell_type": "markdown",
   "metadata": {},
   "source": [
    "Optymalna wartość członu od penalizacji dla regresji lasso (lambda) jest bardzo niska, spróbuję jednak zastosować model liniowy z regularyzacją lasso."
   ]
  },
  {
   "cell_type": "code",
   "execution_count": 46,
   "metadata": {
    "collapsed": true
   },
   "outputs": [],
   "source": [
    "nfold_lasso = function (input_data, par_lambda,n){\n",
    "    \n",
    "    nchunk = nrow(input_data)/n\n",
    "    results = numeric(n)\n",
    "    \n",
    "    for (i in 1:n){\n",
    "        lower = (i-1)*nchunk+1\n",
    "        upper = i*nchunk\n",
    "        indices = lower:upper\n",
    "        #kolumna 1 - etykieta\n",
    "        tst_y = input_data[indices,1]\n",
    "        names_tst_x = rownames(input_data[indices,-1])\n",
    "        #trzeba zapamietac numery wierszy, bo ponizej są tracone:\n",
    "        tst_x = as.matrix(input_data[indices,-1])\n",
    "        tr_y =  input_data[-indices,1]\n",
    "        tr_x =  as.matrix(input_data[-indices,-1])\n",
    "        g = glmnet(x=tr_x,y=tr_y,lambda = par_lambda)\n",
    "        predicted_y = predict(g, tst_x, type=\"response\")\n",
    "        names(predicted_y) = names_tst_x\n",
    "        #20% najwyzszych scores ze zbioru - wedle zadania\n",
    "        top2000indices = head(sort(predicted_y,decreasing=TRUE),nchunk/5)\n",
    "        results[i] = mean(input_data[names(top2000indices),1])\n",
    "    }\n",
    "    \n",
    "    return (results)\n",
    "}"
   ]
  },
  {
   "cell_type": "code",
   "execution_count": 47,
   "metadata": {},
   "outputs": [
    {
     "data": {
      "text/html": [
       "<ol class=list-inline>\n",
       "\t<li>0.74</li>\n",
       "\t<li>0.73</li>\n",
       "\t<li>0.732</li>\n",
       "\t<li>0.727</li>\n",
       "\t<li>0.733</li>\n",
       "\t<li>0.729</li>\n",
       "\t<li>0.708</li>\n",
       "\t<li>0.732</li>\n",
       "\t<li>0.709</li>\n",
       "\t<li>0.747</li>\n",
       "</ol>\n"
      ],
      "text/latex": [
       "\\begin{enumerate*}\n",
       "\\item 0.74\n",
       "\\item 0.73\n",
       "\\item 0.732\n",
       "\\item 0.727\n",
       "\\item 0.733\n",
       "\\item 0.729\n",
       "\\item 0.708\n",
       "\\item 0.732\n",
       "\\item 0.709\n",
       "\\item 0.747\n",
       "\\end{enumerate*}\n"
      ],
      "text/markdown": [
       "1. 0.74\n",
       "2. 0.73\n",
       "3. 0.732\n",
       "4. 0.727\n",
       "5. 0.733\n",
       "6. 0.729\n",
       "7. 0.708\n",
       "8. 0.732\n",
       "9. 0.709\n",
       "10. 0.747\n",
       "\n",
       "\n"
      ],
      "text/plain": [
       " [1] 0.740 0.730 0.732 0.727 0.733 0.729 0.708 0.732 0.709 0.747"
      ]
     },
     "metadata": {},
     "output_type": "display_data"
    },
    {
     "data": {
      "text/html": [
       "0.7287"
      ],
      "text/latex": [
       "0.7287"
      ],
      "text/markdown": [
       "0.7287"
      ],
      "text/plain": [
       "[1] 0.7287"
      ]
     },
     "metadata": {},
     "output_type": "display_data"
    }
   ],
   "source": [
    "results = nfold_lasso(train_data,par_lambda = 0.00757052832207433, n=10)\n",
    "\n",
    "results\n",
    "mean(results)"
   ]
  },
  {
   "cell_type": "markdown",
   "metadata": {},
   "source": [
    "Wyniki niemal zbieżne z modelem bez regularyzacji. Jak podejrzewałem, nie ma tutaj potrzeby stosować regularyzacji. Można by w tym momencie zastanowić się nad zastosowaniem modelu z regularyzacją lasso dla pełnego modelu (t.j. da wszystkich predyktorów), jednakże nie widzę żadnego powodu, dla którego tego typu rozwiązanie spowodowałoby wytrenowanie lepszego modelu. W tym momencie najlepiej zakończyć tę część badania i przejść do lasów losowych."
   ]
  },
  {
   "cell_type": "markdown",
   "metadata": {},
   "source": [
    "# Lasy losowe"
   ]
  },
  {
   "cell_type": "markdown",
   "metadata": {},
   "source": [
    "## Selekcja zmiennych"
   ]
  },
  {
   "cell_type": "code",
   "execution_count": 48,
   "metadata": {},
   "outputs": [
    {
     "data": {
      "text/html": [
       "<ol class=list-inline>\n",
       "\t<li>'A1.B'</li>\n",
       "\t<li>'B1.B'</li>\n",
       "\t<li>'E1.A'</li>\n",
       "\t<li>'F1.B'</li>\n",
       "\t<li>'M1'</li>\n",
       "\t<li>'P1.A'</li>\n",
       "\t<li>'P1.B'</li>\n",
       "\t<li>'Q1'</li>\n",
       "\t<li>'W1'</li>\n",
       "\t<li>'Z1.A'</li>\n",
       "\t<li>'O2.B'</li>\n",
       "\t<li>'P2.A'</li>\n",
       "\t<li>'S2'</li>\n",
       "\t<li>'T2'</li>\n",
       "\t<li>'U2'</li>\n",
       "</ol>\n"
      ],
      "text/latex": [
       "\\begin{enumerate*}\n",
       "\\item 'A1.B'\n",
       "\\item 'B1.B'\n",
       "\\item 'E1.A'\n",
       "\\item 'F1.B'\n",
       "\\item 'M1'\n",
       "\\item 'P1.A'\n",
       "\\item 'P1.B'\n",
       "\\item 'Q1'\n",
       "\\item 'W1'\n",
       "\\item 'Z1.A'\n",
       "\\item 'O2.B'\n",
       "\\item 'P2.A'\n",
       "\\item 'S2'\n",
       "\\item 'T2'\n",
       "\\item 'U2'\n",
       "\\end{enumerate*}\n"
      ],
      "text/markdown": [
       "1. 'A1.B'\n",
       "2. 'B1.B'\n",
       "3. 'E1.A'\n",
       "4. 'F1.B'\n",
       "5. 'M1'\n",
       "6. 'P1.A'\n",
       "7. 'P1.B'\n",
       "8. 'Q1'\n",
       "9. 'W1'\n",
       "10. 'Z1.A'\n",
       "11. 'O2.B'\n",
       "12. 'P2.A'\n",
       "13. 'S2'\n",
       "14. 'T2'\n",
       "15. 'U2'\n",
       "\n",
       "\n"
      ],
      "text/plain": [
       " [1] \"A1.B\" \"B1.B\" \"E1.A\" \"F1.B\" \"M1\"   \"P1.A\" \"P1.B\" \"Q1\"   \"W1\"   \"Z1.A\"\n",
       "[11] \"O2.B\" \"P2.A\" \"S2\"   \"T2\"   \"U2\"  "
      ]
     },
     "metadata": {},
     "output_type": "display_data"
    }
   ],
   "source": [
    "important_coefs"
   ]
  },
  {
   "cell_type": "markdown",
   "metadata": {},
   "source": [
    "Wracam do modelu ze zmiennymi preselected_coefs (train_y,train_x)"
   ]
  },
  {
   "cell_type": "code",
   "execution_count": 59,
   "metadata": {
    "collapsed": true
   },
   "outputs": [],
   "source": [
    "#trzeba znowu użyć factorów (klasa pos, klasa neg), bo problem jest ponownie problemem klasyfikacji\n",
    "train_y2 = train$y"
   ]
  },
  {
   "cell_type": "markdown",
   "metadata": {},
   "source": [
    "Trenowanie lasu losowego na zbiorze treningowym (na dziesięciu tysiącach obserwacji)"
   ]
  },
  {
   "cell_type": "code",
   "execution_count": 36,
   "metadata": {
    "collapsed": true
   },
   "outputs": [],
   "source": [
    "#trenuję model\n",
    "train_x_short = train_x[1:10000,]\n",
    "train_y_short = train_y2[1:10000]\n",
    "\n",
    "rforest =randomForest(train_x_short, train_y_short)"
   ]
  },
  {
   "cell_type": "markdown",
   "metadata": {},
   "source": [
    "Wybieram zmienne za pomocą funkcji varImp z pakietu caret."
   ]
  },
  {
   "cell_type": "code",
   "execution_count": 37,
   "metadata": {
    "collapsed": true
   },
   "outputs": [],
   "source": [
    "v = varImp(rforest)"
   ]
  },
  {
   "cell_type": "code",
   "execution_count": 38,
   "metadata": {},
   "outputs": [
    {
     "data": {
      "image/png": "[encoded data removed]",
      "text/plain": [
       "plot without title"
      ]
     },
     "metadata": {},
     "output_type": "display_data"
    }
   ],
   "source": [
    "#wizualizuję wyniki (\"ważności\" poszczególnych predyktorów)\n",
    "plot(unlist(v))\n",
    "abline(50,0,col=\"red\")"
   ]
  },
  {
   "cell_type": "markdown",
   "metadata": {},
   "source": [
    "Z wykresu widoczne jest to, że niektóre predyktory są absolutnie niepotrzebne. Wobec tego wezmę jedynie te predyktory, które mają jakiekolwiek znaczenie."
   ]
  },
  {
   "cell_type": "code",
   "execution_count": 39,
   "metadata": {
    "collapsed": true
   },
   "outputs": [],
   "source": [
    "pv = v[v>50]\n",
    "names(pv) = rownames(v)[v>50]"
   ]
  },
  {
   "cell_type": "markdown",
   "metadata": {},
   "source": [
    "Predyktory wybrane za pomocą powyższej metody:"
   ]
  },
  {
   "cell_type": "code",
   "execution_count": 40,
   "metadata": {},
   "outputs": [
    {
     "data": {
      "text/html": [
       "32"
      ],
      "text/latex": [
       "32"
      ],
      "text/markdown": [
       "32"
      ],
      "text/plain": [
       "[1] 32"
      ]
     },
     "metadata": {},
     "output_type": "display_data"
    },
    {
     "data": {
      "text/html": [
       "<ol class=list-inline>\n",
       "\t<li>'D1'</li>\n",
       "\t<li>'E1.A'</li>\n",
       "\t<li>'G1'</li>\n",
       "\t<li>'H1'</li>\n",
       "\t<li>'I1'</li>\n",
       "\t<li>'J1'</li>\n",
       "\t<li>'M1'</li>\n",
       "\t<li>'N1'</li>\n",
       "\t<li>'O1'</li>\n",
       "\t<li>'Q1'</li>\n",
       "\t<li>'S1'</li>\n",
       "\t<li>'U1'</li>\n",
       "\t<li>'V1'</li>\n",
       "\t<li>'W1'</li>\n",
       "\t<li>'X1'</li>\n",
       "\t<li>'A2'</li>\n",
       "\t<li>'B2'</li>\n",
       "\t<li>'E2'</li>\n",
       "\t<li>'F2'</li>\n",
       "\t<li>'G2'</li>\n",
       "\t<li>'H2'</li>\n",
       "\t<li>'K2'</li>\n",
       "\t<li>'L2'</li>\n",
       "\t<li>'M2'</li>\n",
       "\t<li>'N2'</li>\n",
       "\t<li>'P2.A'</li>\n",
       "\t<li>'S2'</li>\n",
       "\t<li>'T2'</li>\n",
       "\t<li>'U2'</li>\n",
       "\t<li>'V2'</li>\n",
       "\t<li>'W2'</li>\n",
       "\t<li>'X2'</li>\n",
       "</ol>\n"
      ],
      "text/latex": [
       "\\begin{enumerate*}\n",
       "\\item 'D1'\n",
       "\\item 'E1.A'\n",
       "\\item 'G1'\n",
       "\\item 'H1'\n",
       "\\item 'I1'\n",
       "\\item 'J1'\n",
       "\\item 'M1'\n",
       "\\item 'N1'\n",
       "\\item 'O1'\n",
       "\\item 'Q1'\n",
       "\\item 'S1'\n",
       "\\item 'U1'\n",
       "\\item 'V1'\n",
       "\\item 'W1'\n",
       "\\item 'X1'\n",
       "\\item 'A2'\n",
       "\\item 'B2'\n",
       "\\item 'E2'\n",
       "\\item 'F2'\n",
       "\\item 'G2'\n",
       "\\item 'H2'\n",
       "\\item 'K2'\n",
       "\\item 'L2'\n",
       "\\item 'M2'\n",
       "\\item 'N2'\n",
       "\\item 'P2.A'\n",
       "\\item 'S2'\n",
       "\\item 'T2'\n",
       "\\item 'U2'\n",
       "\\item 'V2'\n",
       "\\item 'W2'\n",
       "\\item 'X2'\n",
       "\\end{enumerate*}\n"
      ],
      "text/markdown": [
       "1. 'D1'\n",
       "2. 'E1.A'\n",
       "3. 'G1'\n",
       "4. 'H1'\n",
       "5. 'I1'\n",
       "6. 'J1'\n",
       "7. 'M1'\n",
       "8. 'N1'\n",
       "9. 'O1'\n",
       "10. 'Q1'\n",
       "11. 'S1'\n",
       "12. 'U1'\n",
       "13. 'V1'\n",
       "14. 'W1'\n",
       "15. 'X1'\n",
       "16. 'A2'\n",
       "17. 'B2'\n",
       "18. 'E2'\n",
       "19. 'F2'\n",
       "20. 'G2'\n",
       "21. 'H2'\n",
       "22. 'K2'\n",
       "23. 'L2'\n",
       "24. 'M2'\n",
       "25. 'N2'\n",
       "26. 'P2.A'\n",
       "27. 'S2'\n",
       "28. 'T2'\n",
       "29. 'U2'\n",
       "30. 'V2'\n",
       "31. 'W2'\n",
       "32. 'X2'\n",
       "\n",
       "\n"
      ],
      "text/plain": [
       " [1] \"D1\"   \"E1.A\" \"G1\"   \"H1\"   \"I1\"   \"J1\"   \"M1\"   \"N1\"   \"O1\"   \"Q1\"  \n",
       "[11] \"S1\"   \"U1\"   \"V1\"   \"W1\"   \"X1\"   \"A2\"   \"B2\"   \"E2\"   \"F2\"   \"G2\"  \n",
       "[21] \"H2\"   \"K2\"   \"L2\"   \"M2\"   \"N2\"   \"P2.A\" \"S2\"   \"T2\"   \"U2\"   \"V2\"  \n",
       "[31] \"W2\"   \"X2\"  "
      ]
     },
     "metadata": {},
     "output_type": "display_data"
    }
   ],
   "source": [
    "length(pv)\n",
    "names(pv)"
   ]
  },
  {
   "cell_type": "markdown",
   "metadata": {},
   "source": [
    "Predyktory uzyskane z testów istotności zmiennych w modelu regresji były następujące:"
   ]
  },
  {
   "cell_type": "code",
   "execution_count": 42,
   "metadata": {},
   "outputs": [
    {
     "data": {
      "text/html": [
       "15"
      ],
      "text/latex": [
       "15"
      ],
      "text/markdown": [
       "15"
      ],
      "text/plain": [
       "[1] 15"
      ]
     },
     "metadata": {},
     "output_type": "display_data"
    },
    {
     "data": {
      "text/html": [
       "<ol class=list-inline>\n",
       "\t<li>'A1.B'</li>\n",
       "\t<li>'B1.B'</li>\n",
       "\t<li>'E1.A'</li>\n",
       "\t<li>'F1.B'</li>\n",
       "\t<li>'M1'</li>\n",
       "\t<li>'P1.A'</li>\n",
       "\t<li>'P1.B'</li>\n",
       "\t<li>'Q1'</li>\n",
       "\t<li>'W1'</li>\n",
       "\t<li>'Z1.A'</li>\n",
       "\t<li>'O2.B'</li>\n",
       "\t<li>'P2.A'</li>\n",
       "\t<li>'S2'</li>\n",
       "\t<li>'T2'</li>\n",
       "\t<li>'U2'</li>\n",
       "</ol>\n"
      ],
      "text/latex": [
       "\\begin{enumerate*}\n",
       "\\item 'A1.B'\n",
       "\\item 'B1.B'\n",
       "\\item 'E1.A'\n",
       "\\item 'F1.B'\n",
       "\\item 'M1'\n",
       "\\item 'P1.A'\n",
       "\\item 'P1.B'\n",
       "\\item 'Q1'\n",
       "\\item 'W1'\n",
       "\\item 'Z1.A'\n",
       "\\item 'O2.B'\n",
       "\\item 'P2.A'\n",
       "\\item 'S2'\n",
       "\\item 'T2'\n",
       "\\item 'U2'\n",
       "\\end{enumerate*}\n"
      ],
      "text/markdown": [
       "1. 'A1.B'\n",
       "2. 'B1.B'\n",
       "3. 'E1.A'\n",
       "4. 'F1.B'\n",
       "5. 'M1'\n",
       "6. 'P1.A'\n",
       "7. 'P1.B'\n",
       "8. 'Q1'\n",
       "9. 'W1'\n",
       "10. 'Z1.A'\n",
       "11. 'O2.B'\n",
       "12. 'P2.A'\n",
       "13. 'S2'\n",
       "14. 'T2'\n",
       "15. 'U2'\n",
       "\n",
       "\n"
      ],
      "text/plain": [
       " [1] \"A1.B\" \"B1.B\" \"E1.A\" \"F1.B\" \"M1\"   \"P1.A\" \"P1.B\" \"Q1\"   \"W1\"   \"Z1.A\"\n",
       "[11] \"O2.B\" \"P2.A\" \"S2\"   \"T2\"   \"U2\"  "
      ]
     },
     "metadata": {},
     "output_type": "display_data"
    }
   ],
   "source": [
    "length(important_coefs)\n",
    "important_coefs"
   ]
  },
  {
   "cell_type": "markdown",
   "metadata": {},
   "source": [
    "Widać, że metody wybrały niemal kompletnie inne predyktory."
   ]
  },
  {
   "cell_type": "markdown",
   "metadata": {},
   "source": [
    "## Tuning parametrów dla lasu losowego"
   ]
  },
  {
   "cell_type": "code",
   "execution_count": 147,
   "metadata": {
    "collapsed": true
   },
   "outputs": [],
   "source": [
    "#pewna próbka zbioru treningowego\n",
    "set.seed(997)\n",
    "rnd = sample(1:length(train_y2),5000)\n",
    "rfy = train_y2[rnd]\n",
    "rfx = train_x[rnd,names(pv)] #wyselekcjonowane zmienne"
   ]
  },
  {
   "cell_type": "markdown",
   "metadata": {},
   "source": [
    "Tuning parametru mtry:"
   ]
  },
  {
   "cell_type": "code",
   "execution_count": 122,
   "metadata": {
    "scrolled": true
   },
   "outputs": [
    {
     "name": "stdout",
     "output_type": "stream",
     "text": [
      "mtry = 2  OOB error = 37.68% \n",
      "Searching left ...\n",
      "mtry = 1 \tOOB error = 38.78% \n",
      "-0.02919321 0.01 \n",
      "Searching right ...\n",
      "mtry = 4 \tOOB error = 36.26% \n",
      "0.03768577 0.01 \n",
      "mtry = 8 \tOOB error = 34.08% \n",
      "0.06012135 0.01 \n",
      "mtry = 16 \tOOB error = 33.7% \n",
      "0.01115023 0.01 \n",
      "mtry = 32 \tOOB error = 34.8% \n",
      "-0.03264095 0.01 \n"
     ]
    },
    {
     "data": {
      "text/html": [
       "<table>\n",
       "<thead><tr><th></th><th scope=col>mtry</th><th scope=col>OOBError</th></tr></thead>\n",
       "<tbody>\n",
       "\t<tr><th scope=row>1.OOB</th><td> 1    </td><td>0.3878</td></tr>\n",
       "\t<tr><th scope=row>2.OOB</th><td> 2    </td><td>0.3768</td></tr>\n",
       "\t<tr><th scope=row>4.OOB</th><td> 4    </td><td>0.3626</td></tr>\n",
       "\t<tr><th scope=row>8.OOB</th><td> 8    </td><td>0.3408</td></tr>\n",
       "\t<tr><th scope=row>16.OOB</th><td>16    </td><td>0.3370</td></tr>\n",
       "\t<tr><th scope=row>32.OOB</th><td>32    </td><td>0.3480</td></tr>\n",
       "</tbody>\n",
       "</table>\n"
      ],
      "text/latex": [
       "\\begin{tabular}{r|ll}\n",
       "  & mtry & OOBError\\\\\n",
       "\\hline\n",
       "\t1.OOB &  1     & 0.3878\\\\\n",
       "\t2.OOB &  2     & 0.3768\\\\\n",
       "\t4.OOB &  4     & 0.3626\\\\\n",
       "\t8.OOB &  8     & 0.3408\\\\\n",
       "\t16.OOB & 16     & 0.3370\\\\\n",
       "\t32.OOB & 32     & 0.3480\\\\\n",
       "\\end{tabular}\n"
      ],
      "text/markdown": [
       "\n",
       "| <!--/--> | mtry | OOBError | \n",
       "|---|---|---|---|---|---|\n",
       "| 1.OOB |  1     | 0.3878 | \n",
       "| 2.OOB |  2     | 0.3768 | \n",
       "| 4.OOB |  4     | 0.3626 | \n",
       "| 8.OOB |  8     | 0.3408 | \n",
       "| 16.OOB | 16     | 0.3370 | \n",
       "| 32.OOB | 32     | 0.3480 | \n",
       "\n",
       "\n"
      ],
      "text/plain": [
       "       mtry OOBError\n",
       "1.OOB   1   0.3878  \n",
       "2.OOB   2   0.3768  \n",
       "4.OOB   4   0.3626  \n",
       "8.OOB   8   0.3408  \n",
       "16.OOB 16   0.3370  \n",
       "32.OOB 32   0.3480  "
      ]
     },
     "metadata": {},
     "output_type": "display_data"
    },
    {
     "data": {
      "image/png": "[encoded data removed]",
      "text/plain": [
       "plot without title"
      ]
     },
     "metadata": {},
     "output_type": "display_data"
    }
   ],
   "source": [
    "tuneRF(rfx, rfy, mtryStart=2, ntreeTry=50, stepFactor=2, improve=0.01,\n",
    "trace=TRUE, plot=TRUE)"
   ]
  },
  {
   "cell_type": "code",
   "execution_count": 123,
   "metadata": {
    "collapsed": true
   },
   "outputs": [],
   "source": [
    "tuneFitControl <- trainControl(## 4-fold CV\n",
    "                           method = \"cv\",\n",
    "                           number = 4)"
   ]
  },
  {
   "cell_type": "markdown",
   "metadata": {},
   "source": [
    "Tuning liczby drzew losowych (ntree)"
   ]
  },
  {
   "cell_type": "code",
   "execution_count": 145,
   "metadata": {
    "collapsed": true,
    "scrolled": false
   },
   "outputs": [],
   "source": [
    "#tutaj wywołuję funkcję dla kilku parametrów ntree, by zobaczyć zachowanie skuteczności:\n",
    "dims = c(20,30,60,80,100,120,170,250,400)\n",
    "\n",
    "rfFits = sapply(dims, function(x){ \n",
    "    model = train(rfx,rfy,\n",
    "    method = \"rf\", \n",
    "    trControl = defaultFitControl,\n",
    "    ntree = x,\n",
    "    tuneGrid = data.frame(mtry=16)) #optymalne mtry\n",
    "    return (model$results$Accuracy)\n",
    "})"
   ]
  },
  {
   "cell_type": "code",
   "execution_count": 146,
   "metadata": {
    "scrolled": true
   },
   "outputs": [
    {
     "data": {
      "image/png": "[encoded data removed]",
      "text/plain": [
       "plot without title"
      ]
     },
     "metadata": {},
     "output_type": "display_data"
    }
   ],
   "source": [
    "plot(dims,rfFits,type=\"l\",xlab=\"Number of trees\",ylab=\"Accuracy of RF\")"
   ]
  },
  {
   "cell_type": "markdown",
   "metadata": {},
   "source": [
    "Jak widać z powyższego wykresu, przy osiemdziesięciu drzewach skuteczność na próbce zbioru lasu losowego zaczya się stabilizować i nie ma w tym momencie sensu zwiększach liczby drzew. Powoduje to tylko wzrost złożoności obliczeniowej."
   ]
  },
  {
   "cell_type": "markdown",
   "metadata": {},
   "source": [
    "Dla rzeczywistej klasyfikacji, poniżej używam lasu losowego o osiemdziesięciu drzewach i z parametrem mtry ustawionym na 16."
   ]
  },
  {
   "cell_type": "markdown",
   "metadata": {},
   "source": [
    "## Klasyfikacja - las losowy"
   ]
  },
  {
   "cell_type": "markdown",
   "metadata": {},
   "source": [
    "W tym momencie wracam do swojej kroswalidacji (powyższe funkcje nfold_glm i tym podobne), ponieważ cel klasyfikacji jest niestandardowy w tym projekcie."
   ]
  },
  {
   "cell_type": "code",
   "execution_count": 165,
   "metadata": {
    "collapsed": true
   },
   "outputs": [],
   "source": [
    "nfold_rf = function (input_data,n){\n",
    "    \n",
    "    nchunk = nrow(input_data)/n\n",
    "    results = numeric(n)\n",
    "    \n",
    "    for (i in 1:n){\n",
    "        lower = (i-1)*nchunk+1\n",
    "        upper = i*nchunk\n",
    "        indices = lower:upper\n",
    "        #kolumna 1 - etykieta\n",
    "        tst_y = input_data[indices,1]\n",
    "        names_tst_x = rownames(input_data[indices,-1])\n",
    "        #trzeba zapamietac numery wierszy, bo ponizej są tracone:\n",
    "        tst_x = as.matrix(input_data[indices,-1])\n",
    "        tr_y =  input_data[-indices,1]\n",
    "        tr_x =  as.matrix(input_data[-indices,-1])\n",
    "        g = randomForest(x=tr_x,y=tr_y,ntree = 80, mtry=16)\n",
    "        predicted_y = predict(g, tst_x, type=\"prob\")[,2]\n",
    "        names(predicted_y) = names_tst_x\n",
    "        #zgodnie z zadaną metryką - 20% z najlepszych wyników\n",
    "        topindices = head(sort(predicted_y,decreasing=TRUE),nfold/5)\n",
    "        results[i] = mean(input_data[names(topindices),1] == 'klasa +')\n",
    "    }\n",
    "    \n",
    "    return (results)\n",
    "}"
   ]
  },
  {
   "cell_type": "code",
   "execution_count": 166,
   "metadata": {
    "scrolled": true
   },
   "outputs": [
    {
     "name": "stdout",
     "output_type": "stream",
     "text": [
      " [1] 0.829 0.817 0.819 0.816 0.834 0.820 0.818 0.819 0.826 0.823\n"
     ]
    },
    {
     "data": {
      "text/html": [
       "0.8221"
      ],
      "text/latex": [
       "0.8221"
      ],
      "text/markdown": [
       "0.8221"
      ],
      "text/plain": [
       "[1] 0.8221"
      ]
     },
     "metadata": {},
     "output_type": "display_data"
    }
   ],
   "source": [
    "rfy = train_y2\n",
    "rfx = train_x[,names(pv)] #wyselekcjonowane zmienne\n",
    "results = nfold_rf (data.frame(y=rfy,rfx),n=10)\n",
    "print(results)\n",
    "mean(results)"
   ]
  },
  {
   "cell_type": "markdown",
   "metadata": {},
   "source": [
    "Wyniki wyglądają dużo lepiej niż dla regresji logistycznej."
   ]
  },
  {
   "cell_type": "markdown",
   "metadata": {},
   "source": [
    "# Boosting"
   ]
  },
  {
   "cell_type": "markdown",
   "metadata": {},
   "source": [
    "## Selekcja zmiennych"
   ]
  },
  {
   "cell_type": "markdown",
   "metadata": {},
   "source": [
    "Trenuję model xgboost na całym zbiorze i sprawdzam ważność zmiennych"
   ]
  },
  {
   "cell_type": "code",
   "execution_count": 60,
   "metadata": {
    "collapsed": true
   },
   "outputs": [],
   "source": [
    "xgx = train_x\n",
    "xgy = train_y2"
   ]
  },
  {
   "cell_type": "code",
   "execution_count": 61,
   "metadata": {
    "collapsed": true
   },
   "outputs": [],
   "source": [
    "xgFitControl = trainControl (method=\"cv\",number = 2) #2fold\n",
    "\n",
    "xgModel = train(xgx,xgy,\n",
    "    method = \"xgbTree\",\n",
    "    trControl = xgFitControl)"
   ]
  },
  {
   "cell_type": "code",
   "execution_count": 286,
   "metadata": {
    "scrolled": true
   },
   "outputs": [
    {
     "name": "stderr",
     "output_type": "stream",
     "text": [
      "Warning message in xy.coords(x, y, xlabel, ylabel, log):\n",
      "“NAs introduced by coercion”"
     ]
    },
    {
     "data": {
      "image/png": "[encoded data removed]",
      "text/plain": [
       "plot without title"
      ]
     },
     "metadata": {},
     "output_type": "display_data"
    }
   ],
   "source": [
    "v = varImp(xgModel)\n",
    "plot(unlist(v))\n",
    "abline(10,0,col=\"red\")"
   ]
  },
  {
   "cell_type": "markdown",
   "metadata": {},
   "source": [
    "Dla modelu xgboost widzimy zaskakującą właśność. Jedynie kilka predyktorów ma jakąkolwiek wartość w tego typu klasyfikatorze. Wobec tego, bez wielkich strat mogę znacząco obciąć pulę predyktorów."
   ]
  },
  {
   "cell_type": "code",
   "execution_count": 288,
   "metadata": {},
   "outputs": [
    {
     "data": {
      "text/html": [
       "<ol class=list-inline>\n",
       "\t<li>'M1'</li>\n",
       "\t<li>'W1'</li>\n",
       "\t<li>'E1.A'</li>\n",
       "\t<li>'P2.A'</li>\n",
       "\t<li>'U2'</li>\n",
       "\t<li>'F2'</li>\n",
       "\t<li>'Q1'</li>\n",
       "\t<li>'J1'</li>\n",
       "\t<li>'T2'</li>\n",
       "</ol>\n"
      ],
      "text/latex": [
       "\\begin{enumerate*}\n",
       "\\item 'M1'\n",
       "\\item 'W1'\n",
       "\\item 'E1.A'\n",
       "\\item 'P2.A'\n",
       "\\item 'U2'\n",
       "\\item 'F2'\n",
       "\\item 'Q1'\n",
       "\\item 'J1'\n",
       "\\item 'T2'\n",
       "\\end{enumerate*}\n"
      ],
      "text/markdown": [
       "1. 'M1'\n",
       "2. 'W1'\n",
       "3. 'E1.A'\n",
       "4. 'P2.A'\n",
       "5. 'U2'\n",
       "6. 'F2'\n",
       "7. 'Q1'\n",
       "8. 'J1'\n",
       "9. 'T2'\n",
       "\n",
       "\n"
      ],
      "text/plain": [
       "[1] \"M1\"   \"W1\"   \"E1.A\" \"P2.A\" \"U2\"   \"F2\"   \"Q1\"   \"J1\"   \"T2\"  "
      ]
     },
     "metadata": {},
     "output_type": "display_data"
    }
   ],
   "source": [
    "(xcoefs = rownames(v$importance)[v$importance>10])"
   ]
  },
  {
   "cell_type": "markdown",
   "metadata": {},
   "source": [
    "## Tuning parametrów xgboost"
   ]
  },
  {
   "cell_type": "markdown",
   "metadata": {},
   "source": [
    "Xgboost jest szybsze niż lasy losowe (również z powodu mniejszej liczby uwzględnianych predyktorów), dlatego do znajdywania optymalnych parametrów mogę zastosować większe próbki ze zbioru treningowego."
   ]
  },
  {
   "cell_type": "code",
   "execution_count": 297,
   "metadata": {
    "collapsed": true
   },
   "outputs": [],
   "source": [
    "set.seed(1488)\n",
    "rnd = sample(1:length(train_y2),10000)\n",
    "xgx = train_x[rnd,xcoefs]\n",
    "xgy = train_y2[rnd]\n",
    "xgFitControl = trainControl (method=\"cv\",number = 5,\n",
    "  verboseIter = TRUE) #5fold"
   ]
  },
  {
   "cell_type": "code",
   "execution_count": 298,
   "metadata": {
    "scrolled": true
   },
   "outputs": [
    {
     "name": "stdout",
     "output_type": "stream",
     "text": [
      "+ Fold1: eta=0.1, max_depth=0, gamma=0.0, colsample_bytree=0.6, min_child_weight=0, subsample=0.8, nrounds=150 \n",
      "- Fold1: eta=0.1, max_depth=0, gamma=0.0, colsample_bytree=0.6, min_child_weight=0, subsample=0.8, nrounds=150 \n",
      "+ Fold1: eta=0.1, max_depth=0, gamma=0.0, colsample_bytree=0.6, min_child_weight=0, subsample=1.0, nrounds=150 \n",
      "- Fold1: eta=0.1, max_depth=0, gamma=0.0, colsample_bytree=0.6, min_child_weight=0, subsample=1.0, nrounds=150 \n",
      "+ Fold1: eta=0.1, max_depth=0, gamma=0.0, colsample_bytree=0.6, min_child_weight=1, subsample=0.8, nrounds=150 \n",
      "- Fold1: eta=0.1, max_depth=0, gamma=0.0, colsample_bytree=0.6, min_child_weight=1, subsample=0.8, nrounds=150 \n",
      "+ Fold1: eta=0.1, max_depth=0, gamma=0.0, colsample_bytree=0.6, min_child_weight=1, subsample=1.0, nrounds=150 \n",
      "- Fold1: eta=0.1, max_depth=0, gamma=0.0, colsample_bytree=0.6, min_child_weight=1, subsample=1.0, nrounds=150 \n",
      "+ Fold1: eta=0.1, max_depth=0, gamma=0.0, colsample_bytree=0.6, min_child_weight=2, subsample=0.8, nrounds=150 \n",
      "- Fold1: eta=0.1, max_depth=0, gamma=0.0, colsample_bytree=0.6, min_child_weight=2, subsample=0.8, nrounds=150 \n",
      "+ Fold1: eta=0.1, max_depth=0, gamma=0.0, colsample_bytree=0.6, min_child_weight=2, subsample=1.0, nrounds=150 \n",
      "- Fold1: eta=0.1, max_depth=0, gamma=0.0, colsample_bytree=0.6, min_child_weight=2, subsample=1.0, nrounds=150 \n",
      "+ Fold1: eta=0.1, max_depth=0, gamma=0.0, colsample_bytree=0.8, min_child_weight=0, subsample=0.8, nrounds=150 \n",
      "- Fold1: eta=0.1, max_depth=0, gamma=0.0, colsample_bytree=0.8, min_child_weight=0, subsample=0.8, nrounds=150 \n",
      "+ Fold1: eta=0.1, max_depth=0, gamma=0.0, colsample_bytree=0.8, min_child_weight=0, subsample=1.0, nrounds=150 \n",
      "- Fold1: eta=0.1, max_depth=0, gamma=0.0, colsample_bytree=0.8, min_child_weight=0, subsample=1.0, nrounds=150 \n",
      "+ Fold1: eta=0.1, max_depth=0, gamma=0.0, colsample_bytree=0.8, min_child_weight=1, subsample=0.8, nrounds=150 \n",
      "- Fold1: eta=0.1, max_depth=0, gamma=0.0, colsample_bytree=0.8, min_child_weight=1, subsample=0.8, nrounds=150 \n",
      "+ Fold1: eta=0.1, max_depth=0, gamma=0.0, colsample_bytree=0.8, min_child_weight=1, subsample=1.0, nrounds=150 \n",
      "- Fold1: eta=0.1, max_depth=0, gamma=0.0, colsample_bytree=0.8, min_child_weight=1, subsample=1.0, nrounds=150 \n",
      "+ Fold1: eta=0.1, max_depth=0, gamma=0.0, colsample_bytree=0.8, min_child_weight=2, subsample=0.8, nrounds=150 \n",
      "- Fold1: eta=0.1, max_depth=0, gamma=0.0, colsample_bytree=0.8, min_child_weight=2, subsample=0.8, nrounds=150 \n",
      "+ Fold1: eta=0.1, max_depth=0, gamma=0.0, colsample_bytree=0.8, min_child_weight=2, subsample=1.0, nrounds=150 \n",
      "- Fold1: eta=0.1, max_depth=0, gamma=0.0, colsample_bytree=0.8, min_child_weight=2, subsample=1.0, nrounds=150 \n",
      "+ Fold1: eta=0.1, max_depth=0, gamma=0.0, colsample_bytree=0.9, min_child_weight=0, subsample=0.8, nrounds=150 \n",
      "- Fold1: eta=0.1, max_depth=0, gamma=0.0, colsample_bytree=0.9, min_child_weight=0, subsample=0.8, nrounds=150 \n",
      "+ Fold1: eta=0.1, max_depth=0, gamma=0.0, colsample_bytree=0.9, min_child_weight=0, subsample=1.0, nrounds=150 \n",
      "- Fold1: eta=0.1, max_depth=0, gamma=0.0, colsample_bytree=0.9, min_child_weight=0, subsample=1.0, nrounds=150 \n",
      "+ Fold1: eta=0.1, max_depth=0, gamma=0.0, colsample_bytree=0.9, min_child_weight=1, subsample=0.8, nrounds=150 \n",
      "- Fold1: eta=0.1, max_depth=0, gamma=0.0, colsample_bytree=0.9, min_child_weight=1, subsample=0.8, nrounds=150 \n",
      "+ Fold1: eta=0.1, max_depth=0, gamma=0.0, colsample_bytree=0.9, min_child_weight=1, subsample=1.0, nrounds=150 \n",
      "- Fold1: eta=0.1, max_depth=0, gamma=0.0, colsample_bytree=0.9, min_child_weight=1, subsample=1.0, nrounds=150 \n",
      "+ Fold1: eta=0.1, max_depth=0, gamma=0.0, colsample_bytree=0.9, min_child_weight=2, subsample=0.8, nrounds=150 \n",
      "- Fold1: eta=0.1, max_depth=0, gamma=0.0, colsample_bytree=0.9, min_child_weight=2, subsample=0.8, nrounds=150 \n",
      "+ Fold1: eta=0.1, max_depth=0, gamma=0.0, colsample_bytree=0.9, min_child_weight=2, subsample=1.0, nrounds=150 \n",
      "- Fold1: eta=0.1, max_depth=0, gamma=0.0, colsample_bytree=0.9, min_child_weight=2, subsample=1.0, nrounds=150 \n",
      "+ Fold1: eta=0.1, max_depth=0, gamma=0.1, colsample_bytree=0.6, min_child_weight=0, subsample=0.8, nrounds=150 \n",
      "- Fold1: eta=0.1, max_depth=0, gamma=0.1, colsample_bytree=0.6, min_child_weight=0, subsample=0.8, nrounds=150 \n",
      "+ Fold1: eta=0.1, max_depth=0, gamma=0.1, colsample_bytree=0.6, min_child_weight=0, subsample=1.0, nrounds=150 \n",
      "- Fold1: eta=0.1, max_depth=0, gamma=0.1, colsample_bytree=0.6, min_child_weight=0, subsample=1.0, nrounds=150 \n",
      "+ Fold1: eta=0.1, max_depth=0, gamma=0.1, colsample_bytree=0.6, min_child_weight=1, subsample=0.8, nrounds=150 \n",
      "- Fold1: eta=0.1, max_depth=0, gamma=0.1, colsample_bytree=0.6, min_child_weight=1, subsample=0.8, nrounds=150 \n",
      "+ Fold1: eta=0.1, max_depth=0, gamma=0.1, colsample_bytree=0.6, min_child_weight=1, subsample=1.0, nrounds=150 \n",
      "- Fold1: eta=0.1, max_depth=0, gamma=0.1, colsample_bytree=0.6, min_child_weight=1, subsample=1.0, nrounds=150 \n",
      "+ Fold1: eta=0.1, max_depth=0, gamma=0.1, colsample_bytree=0.6, min_child_weight=2, subsample=0.8, nrounds=150 \n",
      "- Fold1: eta=0.1, max_depth=0, gamma=0.1, colsample_bytree=0.6, min_child_weight=2, subsample=0.8, nrounds=150 \n",
      "+ Fold1: eta=0.1, max_depth=0, gamma=0.1, colsample_bytree=0.6, min_child_weight=2, subsample=1.0, nrounds=150 \n",
      "- Fold1: eta=0.1, max_depth=0, gamma=0.1, colsample_bytree=0.6, min_child_weight=2, subsample=1.0, nrounds=150 \n",
      "+ Fold1: eta=0.1, max_depth=0, gamma=0.1, colsample_bytree=0.8, min_child_weight=0, subsample=0.8, nrounds=150 \n",
      "- Fold1: eta=0.1, max_depth=0, gamma=0.1, colsample_bytree=0.8, min_child_weight=0, subsample=0.8, nrounds=150 \n",
      "+ Fold1: eta=0.1, max_depth=0, gamma=0.1, colsample_bytree=0.8, min_child_weight=0, subsample=1.0, nrounds=150 \n",
      "- Fold1: eta=0.1, max_depth=0, gamma=0.1, colsample_bytree=0.8, min_child_weight=0, subsample=1.0, nrounds=150 \n",
      "+ Fold1: eta=0.1, max_depth=0, gamma=0.1, colsample_bytree=0.8, min_child_weight=1, subsample=0.8, nrounds=150 \n",
      "- Fold1: eta=0.1, max_depth=0, gamma=0.1, colsample_bytree=0.8, min_child_weight=1, subsample=0.8, nrounds=150 \n",
      "+ Fold1: eta=0.1, max_depth=0, gamma=0.1, colsample_bytree=0.8, min_child_weight=1, subsample=1.0, nrounds=150 \n",
      "- Fold1: eta=0.1, max_depth=0, gamma=0.1, colsample_bytree=0.8, min_child_weight=1, subsample=1.0, nrounds=150 \n",
      "+ Fold1: eta=0.1, max_depth=0, gamma=0.1, colsample_bytree=0.8, min_child_weight=2, subsample=0.8, nrounds=150 \n",
      "- Fold1: eta=0.1, max_depth=0, gamma=0.1, colsample_bytree=0.8, min_child_weight=2, subsample=0.8, nrounds=150 \n",
      "+ Fold1: eta=0.1, max_depth=0, gamma=0.1, colsample_bytree=0.8, min_child_weight=2, subsample=1.0, nrounds=150 \n",
      "- Fold1: eta=0.1, max_depth=0, gamma=0.1, colsample_bytree=0.8, min_child_weight=2, subsample=1.0, nrounds=150 \n",
      "+ Fold1: eta=0.1, max_depth=0, gamma=0.1, colsample_bytree=0.9, min_child_weight=0, subsample=0.8, nrounds=150 \n",
      "- Fold1: eta=0.1, max_depth=0, gamma=0.1, colsample_bytree=0.9, min_child_weight=0, subsample=0.8, nrounds=150 \n",
      "+ Fold1: eta=0.1, max_depth=0, gamma=0.1, colsample_bytree=0.9, min_child_weight=0, subsample=1.0, nrounds=150 \n",
      "- Fold1: eta=0.1, max_depth=0, gamma=0.1, colsample_bytree=0.9, min_child_weight=0, subsample=1.0, nrounds=150 \n",
      "+ Fold1: eta=0.1, max_depth=0, gamma=0.1, colsample_bytree=0.9, min_child_weight=1, subsample=0.8, nrounds=150 \n",
      "- Fold1: eta=0.1, max_depth=0, gamma=0.1, colsample_bytree=0.9, min_child_weight=1, subsample=0.8, nrounds=150 \n",
      "+ Fold1: eta=0.1, max_depth=0, gamma=0.1, colsample_bytree=0.9, min_child_weight=1, subsample=1.0, nrounds=150 \n",
      "- Fold1: eta=0.1, max_depth=0, gamma=0.1, colsample_bytree=0.9, min_child_weight=1, subsample=1.0, nrounds=150 \n",
      "+ Fold1: eta=0.1, max_depth=0, gamma=0.1, colsample_bytree=0.9, min_child_weight=2, subsample=0.8, nrounds=150 \n",
      "- Fold1: eta=0.1, max_depth=0, gamma=0.1, colsample_bytree=0.9, min_child_weight=2, subsample=0.8, nrounds=150 \n",
      "+ Fold1: eta=0.1, max_depth=0, gamma=0.1, colsample_bytree=0.9, min_child_weight=2, subsample=1.0, nrounds=150 \n",
      "- Fold1: eta=0.1, max_depth=0, gamma=0.1, colsample_bytree=0.9, min_child_weight=2, subsample=1.0, nrounds=150 \n",
      "+ Fold1: eta=0.1, max_depth=1, gamma=0.0, colsample_bytree=0.6, min_child_weight=0, subsample=0.8, nrounds=150 \n",
      "- Fold1: eta=0.1, max_depth=1, gamma=0.0, colsample_bytree=0.6, min_child_weight=0, subsample=0.8, nrounds=150 \n",
      "+ Fold1: eta=0.1, max_depth=1, gamma=0.0, colsample_bytree=0.6, min_child_weight=0, subsample=1.0, nrounds=150 \n",
      "- Fold1: eta=0.1, max_depth=1, gamma=0.0, colsample_bytree=0.6, min_child_weight=0, subsample=1.0, nrounds=150 \n",
      "+ Fold1: eta=0.1, max_depth=1, gamma=0.0, colsample_bytree=0.6, min_child_weight=1, subsample=0.8, nrounds=150 \n",
      "- Fold1: eta=0.1, max_depth=1, gamma=0.0, colsample_bytree=0.6, min_child_weight=1, subsample=0.8, nrounds=150 \n",
      "+ Fold1: eta=0.1, max_depth=1, gamma=0.0, colsample_bytree=0.6, min_child_weight=1, subsample=1.0, nrounds=150 \n",
      "- Fold1: eta=0.1, max_depth=1, gamma=0.0, colsample_bytree=0.6, min_child_weight=1, subsample=1.0, nrounds=150 \n",
      "+ Fold1: eta=0.1, max_depth=1, gamma=0.0, colsample_bytree=0.6, min_child_weight=2, subsample=0.8, nrounds=150 \n",
      "- Fold1: eta=0.1, max_depth=1, gamma=0.0, colsample_bytree=0.6, min_child_weight=2, subsample=0.8, nrounds=150 \n",
      "+ Fold1: eta=0.1, max_depth=1, gamma=0.0, colsample_bytree=0.6, min_child_weight=2, subsample=1.0, nrounds=150 \n",
      "- Fold1: eta=0.1, max_depth=1, gamma=0.0, colsample_bytree=0.6, min_child_weight=2, subsample=1.0, nrounds=150 \n",
      "+ Fold1: eta=0.1, max_depth=1, gamma=0.0, colsample_bytree=0.8, min_child_weight=0, subsample=0.8, nrounds=150 \n",
      "- Fold1: eta=0.1, max_depth=1, gamma=0.0, colsample_bytree=0.8, min_child_weight=0, subsample=0.8, nrounds=150 \n",
      "+ Fold1: eta=0.1, max_depth=1, gamma=0.0, colsample_bytree=0.8, min_child_weight=0, subsample=1.0, nrounds=150 \n",
      "- Fold1: eta=0.1, max_depth=1, gamma=0.0, colsample_bytree=0.8, min_child_weight=0, subsample=1.0, nrounds=150 \n",
      "+ Fold1: eta=0.1, max_depth=1, gamma=0.0, colsample_bytree=0.8, min_child_weight=1, subsample=0.8, nrounds=150 \n",
      "- Fold1: eta=0.1, max_depth=1, gamma=0.0, colsample_bytree=0.8, min_child_weight=1, subsample=0.8, nrounds=150 \n",
      "+ Fold1: eta=0.1, max_depth=1, gamma=0.0, colsample_bytree=0.8, min_child_weight=1, subsample=1.0, nrounds=150 \n",
      "- Fold1: eta=0.1, max_depth=1, gamma=0.0, colsample_bytree=0.8, min_child_weight=1, subsample=1.0, nrounds=150 \n",
      "+ Fold1: eta=0.1, max_depth=1, gamma=0.0, colsample_bytree=0.8, min_child_weight=2, subsample=0.8, nrounds=150 \n",
      "- Fold1: eta=0.1, max_depth=1, gamma=0.0, colsample_bytree=0.8, min_child_weight=2, subsample=0.8, nrounds=150 \n",
      "+ Fold1: eta=0.1, max_depth=1, gamma=0.0, colsample_bytree=0.8, min_child_weight=2, subsample=1.0, nrounds=150 \n",
      "- Fold1: eta=0.1, max_depth=1, gamma=0.0, colsample_bytree=0.8, min_child_weight=2, subsample=1.0, nrounds=150 \n",
      "+ Fold1: eta=0.1, max_depth=1, gamma=0.0, colsample_bytree=0.9, min_child_weight=0, subsample=0.8, nrounds=150 \n",
      "- Fold1: eta=0.1, max_depth=1, gamma=0.0, colsample_bytree=0.9, min_child_weight=0, subsample=0.8, nrounds=150 \n",
      "+ Fold1: eta=0.1, max_depth=1, gamma=0.0, colsample_bytree=0.9, min_child_weight=0, subsample=1.0, nrounds=150 \n",
      "- Fold1: eta=0.1, max_depth=1, gamma=0.0, colsample_bytree=0.9, min_child_weight=0, subsample=1.0, nrounds=150 \n",
      "+ Fold1: eta=0.1, max_depth=1, gamma=0.0, colsample_bytree=0.9, min_child_weight=1, subsample=0.8, nrounds=150 \n",
      "- Fold1: eta=0.1, max_depth=1, gamma=0.0, colsample_bytree=0.9, min_child_weight=1, subsample=0.8, nrounds=150 \n",
      "+ Fold1: eta=0.1, max_depth=1, gamma=0.0, colsample_bytree=0.9, min_child_weight=1, subsample=1.0, nrounds=150 \n",
      "- Fold1: eta=0.1, max_depth=1, gamma=0.0, colsample_bytree=0.9, min_child_weight=1, subsample=1.0, nrounds=150 \n",
      "+ Fold1: eta=0.1, max_depth=1, gamma=0.0, colsample_bytree=0.9, min_child_weight=2, subsample=0.8, nrounds=150 \n",
      "- Fold1: eta=0.1, max_depth=1, gamma=0.0, colsample_bytree=0.9, min_child_weight=2, subsample=0.8, nrounds=150 \n",
      "+ Fold1: eta=0.1, max_depth=1, gamma=0.0, colsample_bytree=0.9, min_child_weight=2, subsample=1.0, nrounds=150 \n",
      "- Fold1: eta=0.1, max_depth=1, gamma=0.0, colsample_bytree=0.9, min_child_weight=2, subsample=1.0, nrounds=150 \n",
      "+ Fold1: eta=0.1, max_depth=1, gamma=0.1, colsample_bytree=0.6, min_child_weight=0, subsample=0.8, nrounds=150 \n",
      "- Fold1: eta=0.1, max_depth=1, gamma=0.1, colsample_bytree=0.6, min_child_weight=0, subsample=0.8, nrounds=150 \n",
      "+ Fold1: eta=0.1, max_depth=1, gamma=0.1, colsample_bytree=0.6, min_child_weight=0, subsample=1.0, nrounds=150 \n",
      "- Fold1: eta=0.1, max_depth=1, gamma=0.1, colsample_bytree=0.6, min_child_weight=0, subsample=1.0, nrounds=150 \n",
      "+ Fold1: eta=0.1, max_depth=1, gamma=0.1, colsample_bytree=0.6, min_child_weight=1, subsample=0.8, nrounds=150 \n",
      "- Fold1: eta=0.1, max_depth=1, gamma=0.1, colsample_bytree=0.6, min_child_weight=1, subsample=0.8, nrounds=150 \n",
      "+ Fold1: eta=0.1, max_depth=1, gamma=0.1, colsample_bytree=0.6, min_child_weight=1, subsample=1.0, nrounds=150 \n",
      "- Fold1: eta=0.1, max_depth=1, gamma=0.1, colsample_bytree=0.6, min_child_weight=1, subsample=1.0, nrounds=150 \n",
      "+ Fold1: eta=0.1, max_depth=1, gamma=0.1, colsample_bytree=0.6, min_child_weight=2, subsample=0.8, nrounds=150 \n",
      "- Fold1: eta=0.1, max_depth=1, gamma=0.1, colsample_bytree=0.6, min_child_weight=2, subsample=0.8, nrounds=150 \n",
      "+ Fold1: eta=0.1, max_depth=1, gamma=0.1, colsample_bytree=0.6, min_child_weight=2, subsample=1.0, nrounds=150 \n",
      "- Fold1: eta=0.1, max_depth=1, gamma=0.1, colsample_bytree=0.6, min_child_weight=2, subsample=1.0, nrounds=150 \n",
      "+ Fold1: eta=0.1, max_depth=1, gamma=0.1, colsample_bytree=0.8, min_child_weight=0, subsample=0.8, nrounds=150 \n",
      "- Fold1: eta=0.1, max_depth=1, gamma=0.1, colsample_bytree=0.8, min_child_weight=0, subsample=0.8, nrounds=150 \n",
      "+ Fold1: eta=0.1, max_depth=1, gamma=0.1, colsample_bytree=0.8, min_child_weight=0, subsample=1.0, nrounds=150 \n",
      "- Fold1: eta=0.1, max_depth=1, gamma=0.1, colsample_bytree=0.8, min_child_weight=0, subsample=1.0, nrounds=150 \n",
      "+ Fold1: eta=0.1, max_depth=1, gamma=0.1, colsample_bytree=0.8, min_child_weight=1, subsample=0.8, nrounds=150 \n",
      "- Fold1: eta=0.1, max_depth=1, gamma=0.1, colsample_bytree=0.8, min_child_weight=1, subsample=0.8, nrounds=150 \n",
      "+ Fold1: eta=0.1, max_depth=1, gamma=0.1, colsample_bytree=0.8, min_child_weight=1, subsample=1.0, nrounds=150 \n",
      "- Fold1: eta=0.1, max_depth=1, gamma=0.1, colsample_bytree=0.8, min_child_weight=1, subsample=1.0, nrounds=150 \n",
      "+ Fold1: eta=0.1, max_depth=1, gamma=0.1, colsample_bytree=0.8, min_child_weight=2, subsample=0.8, nrounds=150 \n",
      "- Fold1: eta=0.1, max_depth=1, gamma=0.1, colsample_bytree=0.8, min_child_weight=2, subsample=0.8, nrounds=150 \n",
      "+ Fold1: eta=0.1, max_depth=1, gamma=0.1, colsample_bytree=0.8, min_child_weight=2, subsample=1.0, nrounds=150 \n",
      "- Fold1: eta=0.1, max_depth=1, gamma=0.1, colsample_bytree=0.8, min_child_weight=2, subsample=1.0, nrounds=150 \n",
      "+ Fold1: eta=0.1, max_depth=1, gamma=0.1, colsample_bytree=0.9, min_child_weight=0, subsample=0.8, nrounds=150 \n",
      "- Fold1: eta=0.1, max_depth=1, gamma=0.1, colsample_bytree=0.9, min_child_weight=0, subsample=0.8, nrounds=150 \n",
      "+ Fold1: eta=0.1, max_depth=1, gamma=0.1, colsample_bytree=0.9, min_child_weight=0, subsample=1.0, nrounds=150 \n",
      "- Fold1: eta=0.1, max_depth=1, gamma=0.1, colsample_bytree=0.9, min_child_weight=0, subsample=1.0, nrounds=150 \n",
      "+ Fold1: eta=0.1, max_depth=1, gamma=0.1, colsample_bytree=0.9, min_child_weight=1, subsample=0.8, nrounds=150 \n",
      "- Fold1: eta=0.1, max_depth=1, gamma=0.1, colsample_bytree=0.9, min_child_weight=1, subsample=0.8, nrounds=150 \n",
      "+ Fold1: eta=0.1, max_depth=1, gamma=0.1, colsample_bytree=0.9, min_child_weight=1, subsample=1.0, nrounds=150 \n",
      "- Fold1: eta=0.1, max_depth=1, gamma=0.1, colsample_bytree=0.9, min_child_weight=1, subsample=1.0, nrounds=150 \n",
      "+ Fold1: eta=0.1, max_depth=1, gamma=0.1, colsample_bytree=0.9, min_child_weight=2, subsample=0.8, nrounds=150 \n",
      "- Fold1: eta=0.1, max_depth=1, gamma=0.1, colsample_bytree=0.9, min_child_weight=2, subsample=0.8, nrounds=150 \n",
      "+ Fold1: eta=0.1, max_depth=1, gamma=0.1, colsample_bytree=0.9, min_child_weight=2, subsample=1.0, nrounds=150 \n",
      "- Fold1: eta=0.1, max_depth=1, gamma=0.1, colsample_bytree=0.9, min_child_weight=2, subsample=1.0, nrounds=150 \n",
      "+ Fold1: eta=0.1, max_depth=2, gamma=0.0, colsample_bytree=0.6, min_child_weight=0, subsample=0.8, nrounds=150 \n",
      "- Fold1: eta=0.1, max_depth=2, gamma=0.0, colsample_bytree=0.6, min_child_weight=0, subsample=0.8, nrounds=150 \n",
      "+ Fold1: eta=0.1, max_depth=2, gamma=0.0, colsample_bytree=0.6, min_child_weight=0, subsample=1.0, nrounds=150 \n",
      "- Fold1: eta=0.1, max_depth=2, gamma=0.0, colsample_bytree=0.6, min_child_weight=0, subsample=1.0, nrounds=150 \n",
      "+ Fold1: eta=0.1, max_depth=2, gamma=0.0, colsample_bytree=0.6, min_child_weight=1, subsample=0.8, nrounds=150 \n",
      "- Fold1: eta=0.1, max_depth=2, gamma=0.0, colsample_bytree=0.6, min_child_weight=1, subsample=0.8, nrounds=150 \n",
      "+ Fold1: eta=0.1, max_depth=2, gamma=0.0, colsample_bytree=0.6, min_child_weight=1, subsample=1.0, nrounds=150 \n",
      "- Fold1: eta=0.1, max_depth=2, gamma=0.0, colsample_bytree=0.6, min_child_weight=1, subsample=1.0, nrounds=150 \n",
      "+ Fold1: eta=0.1, max_depth=2, gamma=0.0, colsample_bytree=0.6, min_child_weight=2, subsample=0.8, nrounds=150 \n",
      "- Fold1: eta=0.1, max_depth=2, gamma=0.0, colsample_bytree=0.6, min_child_weight=2, subsample=0.8, nrounds=150 \n",
      "+ Fold1: eta=0.1, max_depth=2, gamma=0.0, colsample_bytree=0.6, min_child_weight=2, subsample=1.0, nrounds=150 \n",
      "- Fold1: eta=0.1, max_depth=2, gamma=0.0, colsample_bytree=0.6, min_child_weight=2, subsample=1.0, nrounds=150 \n",
      "+ Fold1: eta=0.1, max_depth=2, gamma=0.0, colsample_bytree=0.8, min_child_weight=0, subsample=0.8, nrounds=150 \n",
      "- Fold1: eta=0.1, max_depth=2, gamma=0.0, colsample_bytree=0.8, min_child_weight=0, subsample=0.8, nrounds=150 \n",
      "+ Fold1: eta=0.1, max_depth=2, gamma=0.0, colsample_bytree=0.8, min_child_weight=0, subsample=1.0, nrounds=150 \n",
      "- Fold1: eta=0.1, max_depth=2, gamma=0.0, colsample_bytree=0.8, min_child_weight=0, subsample=1.0, nrounds=150 \n",
      "+ Fold1: eta=0.1, max_depth=2, gamma=0.0, colsample_bytree=0.8, min_child_weight=1, subsample=0.8, nrounds=150 \n",
      "- Fold1: eta=0.1, max_depth=2, gamma=0.0, colsample_bytree=0.8, min_child_weight=1, subsample=0.8, nrounds=150 \n",
      "+ Fold1: eta=0.1, max_depth=2, gamma=0.0, colsample_bytree=0.8, min_child_weight=1, subsample=1.0, nrounds=150 \n",
      "- Fold1: eta=0.1, max_depth=2, gamma=0.0, colsample_bytree=0.8, min_child_weight=1, subsample=1.0, nrounds=150 \n",
      "+ Fold1: eta=0.1, max_depth=2, gamma=0.0, colsample_bytree=0.8, min_child_weight=2, subsample=0.8, nrounds=150 \n",
      "- Fold1: eta=0.1, max_depth=2, gamma=0.0, colsample_bytree=0.8, min_child_weight=2, subsample=0.8, nrounds=150 \n",
      "+ Fold1: eta=0.1, max_depth=2, gamma=0.0, colsample_bytree=0.8, min_child_weight=2, subsample=1.0, nrounds=150 \n",
      "- Fold1: eta=0.1, max_depth=2, gamma=0.0, colsample_bytree=0.8, min_child_weight=2, subsample=1.0, nrounds=150 \n",
      "+ Fold1: eta=0.1, max_depth=2, gamma=0.0, colsample_bytree=0.9, min_child_weight=0, subsample=0.8, nrounds=150 \n",
      "- Fold1: eta=0.1, max_depth=2, gamma=0.0, colsample_bytree=0.9, min_child_weight=0, subsample=0.8, nrounds=150 \n",
      "+ Fold1: eta=0.1, max_depth=2, gamma=0.0, colsample_bytree=0.9, min_child_weight=0, subsample=1.0, nrounds=150 \n",
      "- Fold1: eta=0.1, max_depth=2, gamma=0.0, colsample_bytree=0.9, min_child_weight=0, subsample=1.0, nrounds=150 \n",
      "+ Fold1: eta=0.1, max_depth=2, gamma=0.0, colsample_bytree=0.9, min_child_weight=1, subsample=0.8, nrounds=150 \n",
      "- Fold1: eta=0.1, max_depth=2, gamma=0.0, colsample_bytree=0.9, min_child_weight=1, subsample=0.8, nrounds=150 \n",
      "+ Fold1: eta=0.1, max_depth=2, gamma=0.0, colsample_bytree=0.9, min_child_weight=1, subsample=1.0, nrounds=150 \n",
      "- Fold1: eta=0.1, max_depth=2, gamma=0.0, colsample_bytree=0.9, min_child_weight=1, subsample=1.0, nrounds=150 \n",
      "+ Fold1: eta=0.1, max_depth=2, gamma=0.0, colsample_bytree=0.9, min_child_weight=2, subsample=0.8, nrounds=150 \n",
      "- Fold1: eta=0.1, max_depth=2, gamma=0.0, colsample_bytree=0.9, min_child_weight=2, subsample=0.8, nrounds=150 \n",
      "+ Fold1: eta=0.1, max_depth=2, gamma=0.0, colsample_bytree=0.9, min_child_weight=2, subsample=1.0, nrounds=150 \n",
      "- Fold1: eta=0.1, max_depth=2, gamma=0.0, colsample_bytree=0.9, min_child_weight=2, subsample=1.0, nrounds=150 \n",
      "+ Fold1: eta=0.1, max_depth=2, gamma=0.1, colsample_bytree=0.6, min_child_weight=0, subsample=0.8, nrounds=150 \n",
      "- Fold1: eta=0.1, max_depth=2, gamma=0.1, colsample_bytree=0.6, min_child_weight=0, subsample=0.8, nrounds=150 \n",
      "+ Fold1: eta=0.1, max_depth=2, gamma=0.1, colsample_bytree=0.6, min_child_weight=0, subsample=1.0, nrounds=150 \n",
      "- Fold1: eta=0.1, max_depth=2, gamma=0.1, colsample_bytree=0.6, min_child_weight=0, subsample=1.0, nrounds=150 \n",
      "+ Fold1: eta=0.1, max_depth=2, gamma=0.1, colsample_bytree=0.6, min_child_weight=1, subsample=0.8, nrounds=150 \n",
      "- Fold1: eta=0.1, max_depth=2, gamma=0.1, colsample_bytree=0.6, min_child_weight=1, subsample=0.8, nrounds=150 \n",
      "+ Fold1: eta=0.1, max_depth=2, gamma=0.1, colsample_bytree=0.6, min_child_weight=1, subsample=1.0, nrounds=150 \n",
      "- Fold1: eta=0.1, max_depth=2, gamma=0.1, colsample_bytree=0.6, min_child_weight=1, subsample=1.0, nrounds=150 \n",
      "+ Fold1: eta=0.1, max_depth=2, gamma=0.1, colsample_bytree=0.6, min_child_weight=2, subsample=0.8, nrounds=150 \n",
      "- Fold1: eta=0.1, max_depth=2, gamma=0.1, colsample_bytree=0.6, min_child_weight=2, subsample=0.8, nrounds=150 \n",
      "+ Fold1: eta=0.1, max_depth=2, gamma=0.1, colsample_bytree=0.6, min_child_weight=2, subsample=1.0, nrounds=150 \n",
      "- Fold1: eta=0.1, max_depth=2, gamma=0.1, colsample_bytree=0.6, min_child_weight=2, subsample=1.0, nrounds=150 \n",
      "+ Fold1: eta=0.1, max_depth=2, gamma=0.1, colsample_bytree=0.8, min_child_weight=0, subsample=0.8, nrounds=150 \n",
      "- Fold1: eta=0.1, max_depth=2, gamma=0.1, colsample_bytree=0.8, min_child_weight=0, subsample=0.8, nrounds=150 \n",
      "+ Fold1: eta=0.1, max_depth=2, gamma=0.1, colsample_bytree=0.8, min_child_weight=0, subsample=1.0, nrounds=150 \n",
      "- Fold1: eta=0.1, max_depth=2, gamma=0.1, colsample_bytree=0.8, min_child_weight=0, subsample=1.0, nrounds=150 \n",
      "+ Fold1: eta=0.1, max_depth=2, gamma=0.1, colsample_bytree=0.8, min_child_weight=1, subsample=0.8, nrounds=150 \n",
      "- Fold1: eta=0.1, max_depth=2, gamma=0.1, colsample_bytree=0.8, min_child_weight=1, subsample=0.8, nrounds=150 \n",
      "+ Fold1: eta=0.1, max_depth=2, gamma=0.1, colsample_bytree=0.8, min_child_weight=1, subsample=1.0, nrounds=150 \n",
      "- Fold1: eta=0.1, max_depth=2, gamma=0.1, colsample_bytree=0.8, min_child_weight=1, subsample=1.0, nrounds=150 \n",
      "+ Fold1: eta=0.1, max_depth=2, gamma=0.1, colsample_bytree=0.8, min_child_weight=2, subsample=0.8, nrounds=150 \n",
      "- Fold1: eta=0.1, max_depth=2, gamma=0.1, colsample_bytree=0.8, min_child_weight=2, subsample=0.8, nrounds=150 \n",
      "+ Fold1: eta=0.1, max_depth=2, gamma=0.1, colsample_bytree=0.8, min_child_weight=2, subsample=1.0, nrounds=150 \n",
      "- Fold1: eta=0.1, max_depth=2, gamma=0.1, colsample_bytree=0.8, min_child_weight=2, subsample=1.0, nrounds=150 \n",
      "+ Fold1: eta=0.1, max_depth=2, gamma=0.1, colsample_bytree=0.9, min_child_weight=0, subsample=0.8, nrounds=150 \n",
      "- Fold1: eta=0.1, max_depth=2, gamma=0.1, colsample_bytree=0.9, min_child_weight=0, subsample=0.8, nrounds=150 \n",
      "+ Fold1: eta=0.1, max_depth=2, gamma=0.1, colsample_bytree=0.9, min_child_weight=0, subsample=1.0, nrounds=150 \n",
      "- Fold1: eta=0.1, max_depth=2, gamma=0.1, colsample_bytree=0.9, min_child_weight=0, subsample=1.0, nrounds=150 \n",
      "+ Fold1: eta=0.1, max_depth=2, gamma=0.1, colsample_bytree=0.9, min_child_weight=1, subsample=0.8, nrounds=150 \n",
      "- Fold1: eta=0.1, max_depth=2, gamma=0.1, colsample_bytree=0.9, min_child_weight=1, subsample=0.8, nrounds=150 \n",
      "+ Fold1: eta=0.1, max_depth=2, gamma=0.1, colsample_bytree=0.9, min_child_weight=1, subsample=1.0, nrounds=150 \n",
      "- Fold1: eta=0.1, max_depth=2, gamma=0.1, colsample_bytree=0.9, min_child_weight=1, subsample=1.0, nrounds=150 \n",
      "+ Fold1: eta=0.1, max_depth=2, gamma=0.1, colsample_bytree=0.9, min_child_weight=2, subsample=0.8, nrounds=150 \n",
      "- Fold1: eta=0.1, max_depth=2, gamma=0.1, colsample_bytree=0.9, min_child_weight=2, subsample=0.8, nrounds=150 \n",
      "+ Fold1: eta=0.1, max_depth=2, gamma=0.1, colsample_bytree=0.9, min_child_weight=2, subsample=1.0, nrounds=150 \n",
      "- Fold1: eta=0.1, max_depth=2, gamma=0.1, colsample_bytree=0.9, min_child_weight=2, subsample=1.0, nrounds=150 \n",
      "+ Fold1: eta=0.3, max_depth=0, gamma=0.0, colsample_bytree=0.6, min_child_weight=0, subsample=0.8, nrounds=150 \n",
      "- Fold1: eta=0.3, max_depth=0, gamma=0.0, colsample_bytree=0.6, min_child_weight=0, subsample=0.8, nrounds=150 \n",
      "+ Fold1: eta=0.3, max_depth=0, gamma=0.0, colsample_bytree=0.6, min_child_weight=0, subsample=1.0, nrounds=150 \n",
      "- Fold1: eta=0.3, max_depth=0, gamma=0.0, colsample_bytree=0.6, min_child_weight=0, subsample=1.0, nrounds=150 \n",
      "+ Fold1: eta=0.3, max_depth=0, gamma=0.0, colsample_bytree=0.6, min_child_weight=1, subsample=0.8, nrounds=150 \n",
      "- Fold1: eta=0.3, max_depth=0, gamma=0.0, colsample_bytree=0.6, min_child_weight=1, subsample=0.8, nrounds=150 \n",
      "+ Fold1: eta=0.3, max_depth=0, gamma=0.0, colsample_bytree=0.6, min_child_weight=1, subsample=1.0, nrounds=150 \n",
      "- Fold1: eta=0.3, max_depth=0, gamma=0.0, colsample_bytree=0.6, min_child_weight=1, subsample=1.0, nrounds=150 \n",
      "+ Fold1: eta=0.3, max_depth=0, gamma=0.0, colsample_bytree=0.6, min_child_weight=2, subsample=0.8, nrounds=150 \n",
      "- Fold1: eta=0.3, max_depth=0, gamma=0.0, colsample_bytree=0.6, min_child_weight=2, subsample=0.8, nrounds=150 \n",
      "+ Fold1: eta=0.3, max_depth=0, gamma=0.0, colsample_bytree=0.6, min_child_weight=2, subsample=1.0, nrounds=150 \n",
      "- Fold1: eta=0.3, max_depth=0, gamma=0.0, colsample_bytree=0.6, min_child_weight=2, subsample=1.0, nrounds=150 \n",
      "+ Fold1: eta=0.3, max_depth=0, gamma=0.0, colsample_bytree=0.8, min_child_weight=0, subsample=0.8, nrounds=150 \n",
      "- Fold1: eta=0.3, max_depth=0, gamma=0.0, colsample_bytree=0.8, min_child_weight=0, subsample=0.8, nrounds=150 \n",
      "+ Fold1: eta=0.3, max_depth=0, gamma=0.0, colsample_bytree=0.8, min_child_weight=0, subsample=1.0, nrounds=150 \n",
      "- Fold1: eta=0.3, max_depth=0, gamma=0.0, colsample_bytree=0.8, min_child_weight=0, subsample=1.0, nrounds=150 \n",
      "+ Fold1: eta=0.3, max_depth=0, gamma=0.0, colsample_bytree=0.8, min_child_weight=1, subsample=0.8, nrounds=150 \n",
      "- Fold1: eta=0.3, max_depth=0, gamma=0.0, colsample_bytree=0.8, min_child_weight=1, subsample=0.8, nrounds=150 \n",
      "+ Fold1: eta=0.3, max_depth=0, gamma=0.0, colsample_bytree=0.8, min_child_weight=1, subsample=1.0, nrounds=150 \n",
      "- Fold1: eta=0.3, max_depth=0, gamma=0.0, colsample_bytree=0.8, min_child_weight=1, subsample=1.0, nrounds=150 \n",
      "+ Fold1: eta=0.3, max_depth=0, gamma=0.0, colsample_bytree=0.8, min_child_weight=2, subsample=0.8, nrounds=150 \n",
      "- Fold1: eta=0.3, max_depth=0, gamma=0.0, colsample_bytree=0.8, min_child_weight=2, subsample=0.8, nrounds=150 \n",
      "+ Fold1: eta=0.3, max_depth=0, gamma=0.0, colsample_bytree=0.8, min_child_weight=2, subsample=1.0, nrounds=150 \n",
      "- Fold1: eta=0.3, max_depth=0, gamma=0.0, colsample_bytree=0.8, min_child_weight=2, subsample=1.0, nrounds=150 \n",
      "+ Fold1: eta=0.3, max_depth=0, gamma=0.0, colsample_bytree=0.9, min_child_weight=0, subsample=0.8, nrounds=150 \n",
      "- Fold1: eta=0.3, max_depth=0, gamma=0.0, colsample_bytree=0.9, min_child_weight=0, subsample=0.8, nrounds=150 \n",
      "+ Fold1: eta=0.3, max_depth=0, gamma=0.0, colsample_bytree=0.9, min_child_weight=0, subsample=1.0, nrounds=150 \n",
      "- Fold1: eta=0.3, max_depth=0, gamma=0.0, colsample_bytree=0.9, min_child_weight=0, subsample=1.0, nrounds=150 \n",
      "+ Fold1: eta=0.3, max_depth=0, gamma=0.0, colsample_bytree=0.9, min_child_weight=1, subsample=0.8, nrounds=150 \n",
      "- Fold1: eta=0.3, max_depth=0, gamma=0.0, colsample_bytree=0.9, min_child_weight=1, subsample=0.8, nrounds=150 \n",
      "+ Fold1: eta=0.3, max_depth=0, gamma=0.0, colsample_bytree=0.9, min_child_weight=1, subsample=1.0, nrounds=150 \n",
      "- Fold1: eta=0.3, max_depth=0, gamma=0.0, colsample_bytree=0.9, min_child_weight=1, subsample=1.0, nrounds=150 \n",
      "+ Fold1: eta=0.3, max_depth=0, gamma=0.0, colsample_bytree=0.9, min_child_weight=2, subsample=0.8, nrounds=150 \n",
      "- Fold1: eta=0.3, max_depth=0, gamma=0.0, colsample_bytree=0.9, min_child_weight=2, subsample=0.8, nrounds=150 \n",
      "+ Fold1: eta=0.3, max_depth=0, gamma=0.0, colsample_bytree=0.9, min_child_weight=2, subsample=1.0, nrounds=150 \n",
      "- Fold1: eta=0.3, max_depth=0, gamma=0.0, colsample_bytree=0.9, min_child_weight=2, subsample=1.0, nrounds=150 \n",
      "+ Fold1: eta=0.3, max_depth=0, gamma=0.1, colsample_bytree=0.6, min_child_weight=0, subsample=0.8, nrounds=150 \n",
      "- Fold1: eta=0.3, max_depth=0, gamma=0.1, colsample_bytree=0.6, min_child_weight=0, subsample=0.8, nrounds=150 \n",
      "+ Fold1: eta=0.3, max_depth=0, gamma=0.1, colsample_bytree=0.6, min_child_weight=0, subsample=1.0, nrounds=150 \n",
      "- Fold1: eta=0.3, max_depth=0, gamma=0.1, colsample_bytree=0.6, min_child_weight=0, subsample=1.0, nrounds=150 \n",
      "+ Fold1: eta=0.3, max_depth=0, gamma=0.1, colsample_bytree=0.6, min_child_weight=1, subsample=0.8, nrounds=150 \n",
      "- Fold1: eta=0.3, max_depth=0, gamma=0.1, colsample_bytree=0.6, min_child_weight=1, subsample=0.8, nrounds=150 \n",
      "+ Fold1: eta=0.3, max_depth=0, gamma=0.1, colsample_bytree=0.6, min_child_weight=1, subsample=1.0, nrounds=150 \n",
      "- Fold1: eta=0.3, max_depth=0, gamma=0.1, colsample_bytree=0.6, min_child_weight=1, subsample=1.0, nrounds=150 \n",
      "+ Fold1: eta=0.3, max_depth=0, gamma=0.1, colsample_bytree=0.6, min_child_weight=2, subsample=0.8, nrounds=150 \n",
      "- Fold1: eta=0.3, max_depth=0, gamma=0.1, colsample_bytree=0.6, min_child_weight=2, subsample=0.8, nrounds=150 \n",
      "+ Fold1: eta=0.3, max_depth=0, gamma=0.1, colsample_bytree=0.6, min_child_weight=2, subsample=1.0, nrounds=150 \n",
      "- Fold1: eta=0.3, max_depth=0, gamma=0.1, colsample_bytree=0.6, min_child_weight=2, subsample=1.0, nrounds=150 \n",
      "+ Fold1: eta=0.3, max_depth=0, gamma=0.1, colsample_bytree=0.8, min_child_weight=0, subsample=0.8, nrounds=150 \n",
      "- Fold1: eta=0.3, max_depth=0, gamma=0.1, colsample_bytree=0.8, min_child_weight=0, subsample=0.8, nrounds=150 \n",
      "+ Fold1: eta=0.3, max_depth=0, gamma=0.1, colsample_bytree=0.8, min_child_weight=0, subsample=1.0, nrounds=150 \n",
      "- Fold1: eta=0.3, max_depth=0, gamma=0.1, colsample_bytree=0.8, min_child_weight=0, subsample=1.0, nrounds=150 \n",
      "+ Fold1: eta=0.3, max_depth=0, gamma=0.1, colsample_bytree=0.8, min_child_weight=1, subsample=0.8, nrounds=150 \n",
      "- Fold1: eta=0.3, max_depth=0, gamma=0.1, colsample_bytree=0.8, min_child_weight=1, subsample=0.8, nrounds=150 \n",
      "+ Fold1: eta=0.3, max_depth=0, gamma=0.1, colsample_bytree=0.8, min_child_weight=1, subsample=1.0, nrounds=150 \n",
      "- Fold1: eta=0.3, max_depth=0, gamma=0.1, colsample_bytree=0.8, min_child_weight=1, subsample=1.0, nrounds=150 \n",
      "+ Fold1: eta=0.3, max_depth=0, gamma=0.1, colsample_bytree=0.8, min_child_weight=2, subsample=0.8, nrounds=150 \n",
      "- Fold1: eta=0.3, max_depth=0, gamma=0.1, colsample_bytree=0.8, min_child_weight=2, subsample=0.8, nrounds=150 \n",
      "+ Fold1: eta=0.3, max_depth=0, gamma=0.1, colsample_bytree=0.8, min_child_weight=2, subsample=1.0, nrounds=150 \n",
      "- Fold1: eta=0.3, max_depth=0, gamma=0.1, colsample_bytree=0.8, min_child_weight=2, subsample=1.0, nrounds=150 \n",
      "+ Fold1: eta=0.3, max_depth=0, gamma=0.1, colsample_bytree=0.9, min_child_weight=0, subsample=0.8, nrounds=150 \n",
      "- Fold1: eta=0.3, max_depth=0, gamma=0.1, colsample_bytree=0.9, min_child_weight=0, subsample=0.8, nrounds=150 \n",
      "+ Fold1: eta=0.3, max_depth=0, gamma=0.1, colsample_bytree=0.9, min_child_weight=0, subsample=1.0, nrounds=150 \n",
      "- Fold1: eta=0.3, max_depth=0, gamma=0.1, colsample_bytree=0.9, min_child_weight=0, subsample=1.0, nrounds=150 \n",
      "+ Fold1: eta=0.3, max_depth=0, gamma=0.1, colsample_bytree=0.9, min_child_weight=1, subsample=0.8, nrounds=150 \n",
      "- Fold1: eta=0.3, max_depth=0, gamma=0.1, colsample_bytree=0.9, min_child_weight=1, subsample=0.8, nrounds=150 \n",
      "+ Fold1: eta=0.3, max_depth=0, gamma=0.1, colsample_bytree=0.9, min_child_weight=1, subsample=1.0, nrounds=150 \n",
      "- Fold1: eta=0.3, max_depth=0, gamma=0.1, colsample_bytree=0.9, min_child_weight=1, subsample=1.0, nrounds=150 \n",
      "+ Fold1: eta=0.3, max_depth=0, gamma=0.1, colsample_bytree=0.9, min_child_weight=2, subsample=0.8, nrounds=150 \n",
      "- Fold1: eta=0.3, max_depth=0, gamma=0.1, colsample_bytree=0.9, min_child_weight=2, subsample=0.8, nrounds=150 \n",
      "+ Fold1: eta=0.3, max_depth=0, gamma=0.1, colsample_bytree=0.9, min_child_weight=2, subsample=1.0, nrounds=150 \n",
      "- Fold1: eta=0.3, max_depth=0, gamma=0.1, colsample_bytree=0.9, min_child_weight=2, subsample=1.0, nrounds=150 \n",
      "+ Fold1: eta=0.3, max_depth=1, gamma=0.0, colsample_bytree=0.6, min_child_weight=0, subsample=0.8, nrounds=150 \n",
      "- Fold1: eta=0.3, max_depth=1, gamma=0.0, colsample_bytree=0.6, min_child_weight=0, subsample=0.8, nrounds=150 \n",
      "+ Fold1: eta=0.3, max_depth=1, gamma=0.0, colsample_bytree=0.6, min_child_weight=0, subsample=1.0, nrounds=150 \n",
      "- Fold1: eta=0.3, max_depth=1, gamma=0.0, colsample_bytree=0.6, min_child_weight=0, subsample=1.0, nrounds=150 \n",
      "+ Fold1: eta=0.3, max_depth=1, gamma=0.0, colsample_bytree=0.6, min_child_weight=1, subsample=0.8, nrounds=150 \n",
      "- Fold1: eta=0.3, max_depth=1, gamma=0.0, colsample_bytree=0.6, min_child_weight=1, subsample=0.8, nrounds=150 \n",
      "+ Fold1: eta=0.3, max_depth=1, gamma=0.0, colsample_bytree=0.6, min_child_weight=1, subsample=1.0, nrounds=150 \n",
      "- Fold1: eta=0.3, max_depth=1, gamma=0.0, colsample_bytree=0.6, min_child_weight=1, subsample=1.0, nrounds=150 \n",
      "+ Fold1: eta=0.3, max_depth=1, gamma=0.0, colsample_bytree=0.6, min_child_weight=2, subsample=0.8, nrounds=150 \n",
      "- Fold1: eta=0.3, max_depth=1, gamma=0.0, colsample_bytree=0.6, min_child_weight=2, subsample=0.8, nrounds=150 \n",
      "+ Fold1: eta=0.3, max_depth=1, gamma=0.0, colsample_bytree=0.6, min_child_weight=2, subsample=1.0, nrounds=150 \n",
      "- Fold1: eta=0.3, max_depth=1, gamma=0.0, colsample_bytree=0.6, min_child_weight=2, subsample=1.0, nrounds=150 \n",
      "+ Fold1: eta=0.3, max_depth=1, gamma=0.0, colsample_bytree=0.8, min_child_weight=0, subsample=0.8, nrounds=150 \n",
      "- Fold1: eta=0.3, max_depth=1, gamma=0.0, colsample_bytree=0.8, min_child_weight=0, subsample=0.8, nrounds=150 \n",
      "+ Fold1: eta=0.3, max_depth=1, gamma=0.0, colsample_bytree=0.8, min_child_weight=0, subsample=1.0, nrounds=150 \n",
      "- Fold1: eta=0.3, max_depth=1, gamma=0.0, colsample_bytree=0.8, min_child_weight=0, subsample=1.0, nrounds=150 \n",
      "+ Fold1: eta=0.3, max_depth=1, gamma=0.0, colsample_bytree=0.8, min_child_weight=1, subsample=0.8, nrounds=150 \n",
      "- Fold1: eta=0.3, max_depth=1, gamma=0.0, colsample_bytree=0.8, min_child_weight=1, subsample=0.8, nrounds=150 \n",
      "+ Fold1: eta=0.3, max_depth=1, gamma=0.0, colsample_bytree=0.8, min_child_weight=1, subsample=1.0, nrounds=150 \n",
      "- Fold1: eta=0.3, max_depth=1, gamma=0.0, colsample_bytree=0.8, min_child_weight=1, subsample=1.0, nrounds=150 \n",
      "+ Fold1: eta=0.3, max_depth=1, gamma=0.0, colsample_bytree=0.8, min_child_weight=2, subsample=0.8, nrounds=150 \n",
      "- Fold1: eta=0.3, max_depth=1, gamma=0.0, colsample_bytree=0.8, min_child_weight=2, subsample=0.8, nrounds=150 \n",
      "+ Fold1: eta=0.3, max_depth=1, gamma=0.0, colsample_bytree=0.8, min_child_weight=2, subsample=1.0, nrounds=150 \n",
      "- Fold1: eta=0.3, max_depth=1, gamma=0.0, colsample_bytree=0.8, min_child_weight=2, subsample=1.0, nrounds=150 \n",
      "+ Fold1: eta=0.3, max_depth=1, gamma=0.0, colsample_bytree=0.9, min_child_weight=0, subsample=0.8, nrounds=150 \n",
      "- Fold1: eta=0.3, max_depth=1, gamma=0.0, colsample_bytree=0.9, min_child_weight=0, subsample=0.8, nrounds=150 \n",
      "+ Fold1: eta=0.3, max_depth=1, gamma=0.0, colsample_bytree=0.9, min_child_weight=0, subsample=1.0, nrounds=150 \n",
      "- Fold1: eta=0.3, max_depth=1, gamma=0.0, colsample_bytree=0.9, min_child_weight=0, subsample=1.0, nrounds=150 \n",
      "+ Fold1: eta=0.3, max_depth=1, gamma=0.0, colsample_bytree=0.9, min_child_weight=1, subsample=0.8, nrounds=150 \n",
      "- Fold1: eta=0.3, max_depth=1, gamma=0.0, colsample_bytree=0.9, min_child_weight=1, subsample=0.8, nrounds=150 \n",
      "+ Fold1: eta=0.3, max_depth=1, gamma=0.0, colsample_bytree=0.9, min_child_weight=1, subsample=1.0, nrounds=150 \n",
      "- Fold1: eta=0.3, max_depth=1, gamma=0.0, colsample_bytree=0.9, min_child_weight=1, subsample=1.0, nrounds=150 \n",
      "+ Fold1: eta=0.3, max_depth=1, gamma=0.0, colsample_bytree=0.9, min_child_weight=2, subsample=0.8, nrounds=150 \n",
      "- Fold1: eta=0.3, max_depth=1, gamma=0.0, colsample_bytree=0.9, min_child_weight=2, subsample=0.8, nrounds=150 \n",
      "+ Fold1: eta=0.3, max_depth=1, gamma=0.0, colsample_bytree=0.9, min_child_weight=2, subsample=1.0, nrounds=150 \n",
      "- Fold1: eta=0.3, max_depth=1, gamma=0.0, colsample_bytree=0.9, min_child_weight=2, subsample=1.0, nrounds=150 \n",
      "+ Fold1: eta=0.3, max_depth=1, gamma=0.1, colsample_bytree=0.6, min_child_weight=0, subsample=0.8, nrounds=150 \n",
      "- Fold1: eta=0.3, max_depth=1, gamma=0.1, colsample_bytree=0.6, min_child_weight=0, subsample=0.8, nrounds=150 \n",
      "+ Fold1: eta=0.3, max_depth=1, gamma=0.1, colsample_bytree=0.6, min_child_weight=0, subsample=1.0, nrounds=150 \n",
      "- Fold1: eta=0.3, max_depth=1, gamma=0.1, colsample_bytree=0.6, min_child_weight=0, subsample=1.0, nrounds=150 \n",
      "+ Fold1: eta=0.3, max_depth=1, gamma=0.1, colsample_bytree=0.6, min_child_weight=1, subsample=0.8, nrounds=150 \n",
      "- Fold1: eta=0.3, max_depth=1, gamma=0.1, colsample_bytree=0.6, min_child_weight=1, subsample=0.8, nrounds=150 \n",
      "+ Fold1: eta=0.3, max_depth=1, gamma=0.1, colsample_bytree=0.6, min_child_weight=1, subsample=1.0, nrounds=150 \n",
      "- Fold1: eta=0.3, max_depth=1, gamma=0.1, colsample_bytree=0.6, min_child_weight=1, subsample=1.0, nrounds=150 \n",
      "+ Fold1: eta=0.3, max_depth=1, gamma=0.1, colsample_bytree=0.6, min_child_weight=2, subsample=0.8, nrounds=150 \n",
      "- Fold1: eta=0.3, max_depth=1, gamma=0.1, colsample_bytree=0.6, min_child_weight=2, subsample=0.8, nrounds=150 \n",
      "+ Fold1: eta=0.3, max_depth=1, gamma=0.1, colsample_bytree=0.6, min_child_weight=2, subsample=1.0, nrounds=150 \n",
      "- Fold1: eta=0.3, max_depth=1, gamma=0.1, colsample_bytree=0.6, min_child_weight=2, subsample=1.0, nrounds=150 \n",
      "+ Fold1: eta=0.3, max_depth=1, gamma=0.1, colsample_bytree=0.8, min_child_weight=0, subsample=0.8, nrounds=150 \n",
      "- Fold1: eta=0.3, max_depth=1, gamma=0.1, colsample_bytree=0.8, min_child_weight=0, subsample=0.8, nrounds=150 \n",
      "+ Fold1: eta=0.3, max_depth=1, gamma=0.1, colsample_bytree=0.8, min_child_weight=0, subsample=1.0, nrounds=150 \n",
      "- Fold1: eta=0.3, max_depth=1, gamma=0.1, colsample_bytree=0.8, min_child_weight=0, subsample=1.0, nrounds=150 \n",
      "+ Fold1: eta=0.3, max_depth=1, gamma=0.1, colsample_bytree=0.8, min_child_weight=1, subsample=0.8, nrounds=150 \n",
      "- Fold1: eta=0.3, max_depth=1, gamma=0.1, colsample_bytree=0.8, min_child_weight=1, subsample=0.8, nrounds=150 \n",
      "+ Fold1: eta=0.3, max_depth=1, gamma=0.1, colsample_bytree=0.8, min_child_weight=1, subsample=1.0, nrounds=150 \n",
      "- Fold1: eta=0.3, max_depth=1, gamma=0.1, colsample_bytree=0.8, min_child_weight=1, subsample=1.0, nrounds=150 \n",
      "+ Fold1: eta=0.3, max_depth=1, gamma=0.1, colsample_bytree=0.8, min_child_weight=2, subsample=0.8, nrounds=150 \n",
      "- Fold1: eta=0.3, max_depth=1, gamma=0.1, colsample_bytree=0.8, min_child_weight=2, subsample=0.8, nrounds=150 \n",
      "+ Fold1: eta=0.3, max_depth=1, gamma=0.1, colsample_bytree=0.8, min_child_weight=2, subsample=1.0, nrounds=150 \n",
      "- Fold1: eta=0.3, max_depth=1, gamma=0.1, colsample_bytree=0.8, min_child_weight=2, subsample=1.0, nrounds=150 \n",
      "+ Fold1: eta=0.3, max_depth=1, gamma=0.1, colsample_bytree=0.9, min_child_weight=0, subsample=0.8, nrounds=150 \n",
      "- Fold1: eta=0.3, max_depth=1, gamma=0.1, colsample_bytree=0.9, min_child_weight=0, subsample=0.8, nrounds=150 \n",
      "+ Fold1: eta=0.3, max_depth=1, gamma=0.1, colsample_bytree=0.9, min_child_weight=0, subsample=1.0, nrounds=150 \n",
      "- Fold1: eta=0.3, max_depth=1, gamma=0.1, colsample_bytree=0.9, min_child_weight=0, subsample=1.0, nrounds=150 \n",
      "+ Fold1: eta=0.3, max_depth=1, gamma=0.1, colsample_bytree=0.9, min_child_weight=1, subsample=0.8, nrounds=150 \n",
      "- Fold1: eta=0.3, max_depth=1, gamma=0.1, colsample_bytree=0.9, min_child_weight=1, subsample=0.8, nrounds=150 \n",
      "+ Fold1: eta=0.3, max_depth=1, gamma=0.1, colsample_bytree=0.9, min_child_weight=1, subsample=1.0, nrounds=150 \n",
      "- Fold1: eta=0.3, max_depth=1, gamma=0.1, colsample_bytree=0.9, min_child_weight=1, subsample=1.0, nrounds=150 \n",
      "+ Fold1: eta=0.3, max_depth=1, gamma=0.1, colsample_bytree=0.9, min_child_weight=2, subsample=0.8, nrounds=150 \n",
      "- Fold1: eta=0.3, max_depth=1, gamma=0.1, colsample_bytree=0.9, min_child_weight=2, subsample=0.8, nrounds=150 \n",
      "+ Fold1: eta=0.3, max_depth=1, gamma=0.1, colsample_bytree=0.9, min_child_weight=2, subsample=1.0, nrounds=150 \n",
      "- Fold1: eta=0.3, max_depth=1, gamma=0.1, colsample_bytree=0.9, min_child_weight=2, subsample=1.0, nrounds=150 \n",
      "+ Fold1: eta=0.3, max_depth=2, gamma=0.0, colsample_bytree=0.6, min_child_weight=0, subsample=0.8, nrounds=150 \n",
      "- Fold1: eta=0.3, max_depth=2, gamma=0.0, colsample_bytree=0.6, min_child_weight=0, subsample=0.8, nrounds=150 \n",
      "+ Fold1: eta=0.3, max_depth=2, gamma=0.0, colsample_bytree=0.6, min_child_weight=0, subsample=1.0, nrounds=150 \n",
      "- Fold1: eta=0.3, max_depth=2, gamma=0.0, colsample_bytree=0.6, min_child_weight=0, subsample=1.0, nrounds=150 \n",
      "+ Fold1: eta=0.3, max_depth=2, gamma=0.0, colsample_bytree=0.6, min_child_weight=1, subsample=0.8, nrounds=150 \n",
      "- Fold1: eta=0.3, max_depth=2, gamma=0.0, colsample_bytree=0.6, min_child_weight=1, subsample=0.8, nrounds=150 \n",
      "+ Fold1: eta=0.3, max_depth=2, gamma=0.0, colsample_bytree=0.6, min_child_weight=1, subsample=1.0, nrounds=150 \n",
      "- Fold1: eta=0.3, max_depth=2, gamma=0.0, colsample_bytree=0.6, min_child_weight=1, subsample=1.0, nrounds=150 \n",
      "+ Fold1: eta=0.3, max_depth=2, gamma=0.0, colsample_bytree=0.6, min_child_weight=2, subsample=0.8, nrounds=150 \n",
      "- Fold1: eta=0.3, max_depth=2, gamma=0.0, colsample_bytree=0.6, min_child_weight=2, subsample=0.8, nrounds=150 \n",
      "+ Fold1: eta=0.3, max_depth=2, gamma=0.0, colsample_bytree=0.6, min_child_weight=2, subsample=1.0, nrounds=150 \n",
      "- Fold1: eta=0.3, max_depth=2, gamma=0.0, colsample_bytree=0.6, min_child_weight=2, subsample=1.0, nrounds=150 \n",
      "+ Fold1: eta=0.3, max_depth=2, gamma=0.0, colsample_bytree=0.8, min_child_weight=0, subsample=0.8, nrounds=150 \n",
      "- Fold1: eta=0.3, max_depth=2, gamma=0.0, colsample_bytree=0.8, min_child_weight=0, subsample=0.8, nrounds=150 \n",
      "+ Fold1: eta=0.3, max_depth=2, gamma=0.0, colsample_bytree=0.8, min_child_weight=0, subsample=1.0, nrounds=150 \n",
      "- Fold1: eta=0.3, max_depth=2, gamma=0.0, colsample_bytree=0.8, min_child_weight=0, subsample=1.0, nrounds=150 \n",
      "+ Fold1: eta=0.3, max_depth=2, gamma=0.0, colsample_bytree=0.8, min_child_weight=1, subsample=0.8, nrounds=150 \n",
      "- Fold1: eta=0.3, max_depth=2, gamma=0.0, colsample_bytree=0.8, min_child_weight=1, subsample=0.8, nrounds=150 \n",
      "+ Fold1: eta=0.3, max_depth=2, gamma=0.0, colsample_bytree=0.8, min_child_weight=1, subsample=1.0, nrounds=150 \n",
      "- Fold1: eta=0.3, max_depth=2, gamma=0.0, colsample_bytree=0.8, min_child_weight=1, subsample=1.0, nrounds=150 \n",
      "+ Fold1: eta=0.3, max_depth=2, gamma=0.0, colsample_bytree=0.8, min_child_weight=2, subsample=0.8, nrounds=150 \n",
      "- Fold1: eta=0.3, max_depth=2, gamma=0.0, colsample_bytree=0.8, min_child_weight=2, subsample=0.8, nrounds=150 \n",
      "+ Fold1: eta=0.3, max_depth=2, gamma=0.0, colsample_bytree=0.8, min_child_weight=2, subsample=1.0, nrounds=150 \n",
      "- Fold1: eta=0.3, max_depth=2, gamma=0.0, colsample_bytree=0.8, min_child_weight=2, subsample=1.0, nrounds=150 \n",
      "+ Fold1: eta=0.3, max_depth=2, gamma=0.0, colsample_bytree=0.9, min_child_weight=0, subsample=0.8, nrounds=150 \n",
      "- Fold1: eta=0.3, max_depth=2, gamma=0.0, colsample_bytree=0.9, min_child_weight=0, subsample=0.8, nrounds=150 \n",
      "+ Fold1: eta=0.3, max_depth=2, gamma=0.0, colsample_bytree=0.9, min_child_weight=0, subsample=1.0, nrounds=150 \n",
      "- Fold1: eta=0.3, max_depth=2, gamma=0.0, colsample_bytree=0.9, min_child_weight=0, subsample=1.0, nrounds=150 \n",
      "+ Fold1: eta=0.3, max_depth=2, gamma=0.0, colsample_bytree=0.9, min_child_weight=1, subsample=0.8, nrounds=150 \n",
      "- Fold1: eta=0.3, max_depth=2, gamma=0.0, colsample_bytree=0.9, min_child_weight=1, subsample=0.8, nrounds=150 \n",
      "+ Fold1: eta=0.3, max_depth=2, gamma=0.0, colsample_bytree=0.9, min_child_weight=1, subsample=1.0, nrounds=150 \n",
      "- Fold1: eta=0.3, max_depth=2, gamma=0.0, colsample_bytree=0.9, min_child_weight=1, subsample=1.0, nrounds=150 \n",
      "+ Fold1: eta=0.3, max_depth=2, gamma=0.0, colsample_bytree=0.9, min_child_weight=2, subsample=0.8, nrounds=150 \n",
      "- Fold1: eta=0.3, max_depth=2, gamma=0.0, colsample_bytree=0.9, min_child_weight=2, subsample=0.8, nrounds=150 \n",
      "+ Fold1: eta=0.3, max_depth=2, gamma=0.0, colsample_bytree=0.9, min_child_weight=2, subsample=1.0, nrounds=150 \n",
      "- Fold1: eta=0.3, max_depth=2, gamma=0.0, colsample_bytree=0.9, min_child_weight=2, subsample=1.0, nrounds=150 \n",
      "+ Fold1: eta=0.3, max_depth=2, gamma=0.1, colsample_bytree=0.6, min_child_weight=0, subsample=0.8, nrounds=150 \n",
      "- Fold1: eta=0.3, max_depth=2, gamma=0.1, colsample_bytree=0.6, min_child_weight=0, subsample=0.8, nrounds=150 \n",
      "+ Fold1: eta=0.3, max_depth=2, gamma=0.1, colsample_bytree=0.6, min_child_weight=0, subsample=1.0, nrounds=150 \n",
      "- Fold1: eta=0.3, max_depth=2, gamma=0.1, colsample_bytree=0.6, min_child_weight=0, subsample=1.0, nrounds=150 \n",
      "+ Fold1: eta=0.3, max_depth=2, gamma=0.1, colsample_bytree=0.6, min_child_weight=1, subsample=0.8, nrounds=150 \n",
      "- Fold1: eta=0.3, max_depth=2, gamma=0.1, colsample_bytree=0.6, min_child_weight=1, subsample=0.8, nrounds=150 \n",
      "+ Fold1: eta=0.3, max_depth=2, gamma=0.1, colsample_bytree=0.6, min_child_weight=1, subsample=1.0, nrounds=150 \n",
      "- Fold1: eta=0.3, max_depth=2, gamma=0.1, colsample_bytree=0.6, min_child_weight=1, subsample=1.0, nrounds=150 \n",
      "+ Fold1: eta=0.3, max_depth=2, gamma=0.1, colsample_bytree=0.6, min_child_weight=2, subsample=0.8, nrounds=150 \n",
      "- Fold1: eta=0.3, max_depth=2, gamma=0.1, colsample_bytree=0.6, min_child_weight=2, subsample=0.8, nrounds=150 \n",
      "+ Fold1: eta=0.3, max_depth=2, gamma=0.1, colsample_bytree=0.6, min_child_weight=2, subsample=1.0, nrounds=150 \n",
      "- Fold1: eta=0.3, max_depth=2, gamma=0.1, colsample_bytree=0.6, min_child_weight=2, subsample=1.0, nrounds=150 \n",
      "+ Fold1: eta=0.3, max_depth=2, gamma=0.1, colsample_bytree=0.8, min_child_weight=0, subsample=0.8, nrounds=150 \n",
      "- Fold1: eta=0.3, max_depth=2, gamma=0.1, colsample_bytree=0.8, min_child_weight=0, subsample=0.8, nrounds=150 \n",
      "+ Fold1: eta=0.3, max_depth=2, gamma=0.1, colsample_bytree=0.8, min_child_weight=0, subsample=1.0, nrounds=150 \n",
      "- Fold1: eta=0.3, max_depth=2, gamma=0.1, colsample_bytree=0.8, min_child_weight=0, subsample=1.0, nrounds=150 \n",
      "+ Fold1: eta=0.3, max_depth=2, gamma=0.1, colsample_bytree=0.8, min_child_weight=1, subsample=0.8, nrounds=150 \n",
      "- Fold1: eta=0.3, max_depth=2, gamma=0.1, colsample_bytree=0.8, min_child_weight=1, subsample=0.8, nrounds=150 \n",
      "+ Fold1: eta=0.3, max_depth=2, gamma=0.1, colsample_bytree=0.8, min_child_weight=1, subsample=1.0, nrounds=150 \n",
      "- Fold1: eta=0.3, max_depth=2, gamma=0.1, colsample_bytree=0.8, min_child_weight=1, subsample=1.0, nrounds=150 \n",
      "+ Fold1: eta=0.3, max_depth=2, gamma=0.1, colsample_bytree=0.8, min_child_weight=2, subsample=0.8, nrounds=150 \n",
      "- Fold1: eta=0.3, max_depth=2, gamma=0.1, colsample_bytree=0.8, min_child_weight=2, subsample=0.8, nrounds=150 \n",
      "+ Fold1: eta=0.3, max_depth=2, gamma=0.1, colsample_bytree=0.8, min_child_weight=2, subsample=1.0, nrounds=150 \n",
      "- Fold1: eta=0.3, max_depth=2, gamma=0.1, colsample_bytree=0.8, min_child_weight=2, subsample=1.0, nrounds=150 \n",
      "+ Fold1: eta=0.3, max_depth=2, gamma=0.1, colsample_bytree=0.9, min_child_weight=0, subsample=0.8, nrounds=150 \n",
      "- Fold1: eta=0.3, max_depth=2, gamma=0.1, colsample_bytree=0.9, min_child_weight=0, subsample=0.8, nrounds=150 \n",
      "+ Fold1: eta=0.3, max_depth=2, gamma=0.1, colsample_bytree=0.9, min_child_weight=0, subsample=1.0, nrounds=150 \n",
      "- Fold1: eta=0.3, max_depth=2, gamma=0.1, colsample_bytree=0.9, min_child_weight=0, subsample=1.0, nrounds=150 \n",
      "+ Fold1: eta=0.3, max_depth=2, gamma=0.1, colsample_bytree=0.9, min_child_weight=1, subsample=0.8, nrounds=150 \n",
      "- Fold1: eta=0.3, max_depth=2, gamma=0.1, colsample_bytree=0.9, min_child_weight=1, subsample=0.8, nrounds=150 \n",
      "+ Fold1: eta=0.3, max_depth=2, gamma=0.1, colsample_bytree=0.9, min_child_weight=1, subsample=1.0, nrounds=150 \n",
      "- Fold1: eta=0.3, max_depth=2, gamma=0.1, colsample_bytree=0.9, min_child_weight=1, subsample=1.0, nrounds=150 \n",
      "+ Fold1: eta=0.3, max_depth=2, gamma=0.1, colsample_bytree=0.9, min_child_weight=2, subsample=0.8, nrounds=150 \n",
      "- Fold1: eta=0.3, max_depth=2, gamma=0.1, colsample_bytree=0.9, min_child_weight=2, subsample=0.8, nrounds=150 \n",
      "+ Fold1: eta=0.3, max_depth=2, gamma=0.1, colsample_bytree=0.9, min_child_weight=2, subsample=1.0, nrounds=150 \n",
      "- Fold1: eta=0.3, max_depth=2, gamma=0.1, colsample_bytree=0.9, min_child_weight=2, subsample=1.0, nrounds=150 \n",
      "+ Fold2: eta=0.1, max_depth=0, gamma=0.0, colsample_bytree=0.6, min_child_weight=0, subsample=0.8, nrounds=150 \n",
      "- Fold2: eta=0.1, max_depth=0, gamma=0.0, colsample_bytree=0.6, min_child_weight=0, subsample=0.8, nrounds=150 \n",
      "+ Fold2: eta=0.1, max_depth=0, gamma=0.0, colsample_bytree=0.6, min_child_weight=0, subsample=1.0, nrounds=150 \n",
      "- Fold2: eta=0.1, max_depth=0, gamma=0.0, colsample_bytree=0.6, min_child_weight=0, subsample=1.0, nrounds=150 \n",
      "+ Fold2: eta=0.1, max_depth=0, gamma=0.0, colsample_bytree=0.6, min_child_weight=1, subsample=0.8, nrounds=150 \n",
      "- Fold2: eta=0.1, max_depth=0, gamma=0.0, colsample_bytree=0.6, min_child_weight=1, subsample=0.8, nrounds=150 \n",
      "+ Fold2: eta=0.1, max_depth=0, gamma=0.0, colsample_bytree=0.6, min_child_weight=1, subsample=1.0, nrounds=150 \n",
      "- Fold2: eta=0.1, max_depth=0, gamma=0.0, colsample_bytree=0.6, min_child_weight=1, subsample=1.0, nrounds=150 \n",
      "+ Fold2: eta=0.1, max_depth=0, gamma=0.0, colsample_bytree=0.6, min_child_weight=2, subsample=0.8, nrounds=150 \n",
      "- Fold2: eta=0.1, max_depth=0, gamma=0.0, colsample_bytree=0.6, min_child_weight=2, subsample=0.8, nrounds=150 \n",
      "+ Fold2: eta=0.1, max_depth=0, gamma=0.0, colsample_bytree=0.6, min_child_weight=2, subsample=1.0, nrounds=150 \n",
      "- Fold2: eta=0.1, max_depth=0, gamma=0.0, colsample_bytree=0.6, min_child_weight=2, subsample=1.0, nrounds=150 \n",
      "+ Fold2: eta=0.1, max_depth=0, gamma=0.0, colsample_bytree=0.8, min_child_weight=0, subsample=0.8, nrounds=150 \n",
      "- Fold2: eta=0.1, max_depth=0, gamma=0.0, colsample_bytree=0.8, min_child_weight=0, subsample=0.8, nrounds=150 \n",
      "+ Fold2: eta=0.1, max_depth=0, gamma=0.0, colsample_bytree=0.8, min_child_weight=0, subsample=1.0, nrounds=150 \n",
      "- Fold2: eta=0.1, max_depth=0, gamma=0.0, colsample_bytree=0.8, min_child_weight=0, subsample=1.0, nrounds=150 \n",
      "+ Fold2: eta=0.1, max_depth=0, gamma=0.0, colsample_bytree=0.8, min_child_weight=1, subsample=0.8, nrounds=150 \n",
      "- Fold2: eta=0.1, max_depth=0, gamma=0.0, colsample_bytree=0.8, min_child_weight=1, subsample=0.8, nrounds=150 \n",
      "+ Fold2: eta=0.1, max_depth=0, gamma=0.0, colsample_bytree=0.8, min_child_weight=1, subsample=1.0, nrounds=150 \n",
      "- Fold2: eta=0.1, max_depth=0, gamma=0.0, colsample_bytree=0.8, min_child_weight=1, subsample=1.0, nrounds=150 \n",
      "+ Fold2: eta=0.1, max_depth=0, gamma=0.0, colsample_bytree=0.8, min_child_weight=2, subsample=0.8, nrounds=150 \n",
      "- Fold2: eta=0.1, max_depth=0, gamma=0.0, colsample_bytree=0.8, min_child_weight=2, subsample=0.8, nrounds=150 \n",
      "+ Fold2: eta=0.1, max_depth=0, gamma=0.0, colsample_bytree=0.8, min_child_weight=2, subsample=1.0, nrounds=150 \n",
      "- Fold2: eta=0.1, max_depth=0, gamma=0.0, colsample_bytree=0.8, min_child_weight=2, subsample=1.0, nrounds=150 \n",
      "+ Fold2: eta=0.1, max_depth=0, gamma=0.0, colsample_bytree=0.9, min_child_weight=0, subsample=0.8, nrounds=150 \n",
      "- Fold2: eta=0.1, max_depth=0, gamma=0.0, colsample_bytree=0.9, min_child_weight=0, subsample=0.8, nrounds=150 \n",
      "+ Fold2: eta=0.1, max_depth=0, gamma=0.0, colsample_bytree=0.9, min_child_weight=0, subsample=1.0, nrounds=150 \n",
      "- Fold2: eta=0.1, max_depth=0, gamma=0.0, colsample_bytree=0.9, min_child_weight=0, subsample=1.0, nrounds=150 \n",
      "+ Fold2: eta=0.1, max_depth=0, gamma=0.0, colsample_bytree=0.9, min_child_weight=1, subsample=0.8, nrounds=150 \n",
      "- Fold2: eta=0.1, max_depth=0, gamma=0.0, colsample_bytree=0.9, min_child_weight=1, subsample=0.8, nrounds=150 \n",
      "+ Fold2: eta=0.1, max_depth=0, gamma=0.0, colsample_bytree=0.9, min_child_weight=1, subsample=1.0, nrounds=150 \n",
      "- Fold2: eta=0.1, max_depth=0, gamma=0.0, colsample_bytree=0.9, min_child_weight=1, subsample=1.0, nrounds=150 \n",
      "+ Fold2: eta=0.1, max_depth=0, gamma=0.0, colsample_bytree=0.9, min_child_weight=2, subsample=0.8, nrounds=150 \n",
      "- Fold2: eta=0.1, max_depth=0, gamma=0.0, colsample_bytree=0.9, min_child_weight=2, subsample=0.8, nrounds=150 \n",
      "+ Fold2: eta=0.1, max_depth=0, gamma=0.0, colsample_bytree=0.9, min_child_weight=2, subsample=1.0, nrounds=150 \n",
      "- Fold2: eta=0.1, max_depth=0, gamma=0.0, colsample_bytree=0.9, min_child_weight=2, subsample=1.0, nrounds=150 \n",
      "+ Fold2: eta=0.1, max_depth=0, gamma=0.1, colsample_bytree=0.6, min_child_weight=0, subsample=0.8, nrounds=150 \n",
      "- Fold2: eta=0.1, max_depth=0, gamma=0.1, colsample_bytree=0.6, min_child_weight=0, subsample=0.8, nrounds=150 \n",
      "+ Fold2: eta=0.1, max_depth=0, gamma=0.1, colsample_bytree=0.6, min_child_weight=0, subsample=1.0, nrounds=150 \n",
      "- Fold2: eta=0.1, max_depth=0, gamma=0.1, colsample_bytree=0.6, min_child_weight=0, subsample=1.0, nrounds=150 \n",
      "+ Fold2: eta=0.1, max_depth=0, gamma=0.1, colsample_bytree=0.6, min_child_weight=1, subsample=0.8, nrounds=150 \n",
      "- Fold2: eta=0.1, max_depth=0, gamma=0.1, colsample_bytree=0.6, min_child_weight=1, subsample=0.8, nrounds=150 \n",
      "+ Fold2: eta=0.1, max_depth=0, gamma=0.1, colsample_bytree=0.6, min_child_weight=1, subsample=1.0, nrounds=150 \n",
      "- Fold2: eta=0.1, max_depth=0, gamma=0.1, colsample_bytree=0.6, min_child_weight=1, subsample=1.0, nrounds=150 \n",
      "+ Fold2: eta=0.1, max_depth=0, gamma=0.1, colsample_bytree=0.6, min_child_weight=2, subsample=0.8, nrounds=150 \n",
      "- Fold2: eta=0.1, max_depth=0, gamma=0.1, colsample_bytree=0.6, min_child_weight=2, subsample=0.8, nrounds=150 \n",
      "+ Fold2: eta=0.1, max_depth=0, gamma=0.1, colsample_bytree=0.6, min_child_weight=2, subsample=1.0, nrounds=150 \n",
      "- Fold2: eta=0.1, max_depth=0, gamma=0.1, colsample_bytree=0.6, min_child_weight=2, subsample=1.0, nrounds=150 \n",
      "+ Fold2: eta=0.1, max_depth=0, gamma=0.1, colsample_bytree=0.8, min_child_weight=0, subsample=0.8, nrounds=150 \n",
      "- Fold2: eta=0.1, max_depth=0, gamma=0.1, colsample_bytree=0.8, min_child_weight=0, subsample=0.8, nrounds=150 \n",
      "+ Fold2: eta=0.1, max_depth=0, gamma=0.1, colsample_bytree=0.8, min_child_weight=0, subsample=1.0, nrounds=150 \n",
      "- Fold2: eta=0.1, max_depth=0, gamma=0.1, colsample_bytree=0.8, min_child_weight=0, subsample=1.0, nrounds=150 \n",
      "+ Fold2: eta=0.1, max_depth=0, gamma=0.1, colsample_bytree=0.8, min_child_weight=1, subsample=0.8, nrounds=150 \n",
      "- Fold2: eta=0.1, max_depth=0, gamma=0.1, colsample_bytree=0.8, min_child_weight=1, subsample=0.8, nrounds=150 \n",
      "+ Fold2: eta=0.1, max_depth=0, gamma=0.1, colsample_bytree=0.8, min_child_weight=1, subsample=1.0, nrounds=150 \n",
      "- Fold2: eta=0.1, max_depth=0, gamma=0.1, colsample_bytree=0.8, min_child_weight=1, subsample=1.0, nrounds=150 \n",
      "+ Fold2: eta=0.1, max_depth=0, gamma=0.1, colsample_bytree=0.8, min_child_weight=2, subsample=0.8, nrounds=150 \n",
      "- Fold2: eta=0.1, max_depth=0, gamma=0.1, colsample_bytree=0.8, min_child_weight=2, subsample=0.8, nrounds=150 \n",
      "+ Fold2: eta=0.1, max_depth=0, gamma=0.1, colsample_bytree=0.8, min_child_weight=2, subsample=1.0, nrounds=150 \n",
      "- Fold2: eta=0.1, max_depth=0, gamma=0.1, colsample_bytree=0.8, min_child_weight=2, subsample=1.0, nrounds=150 \n",
      "+ Fold2: eta=0.1, max_depth=0, gamma=0.1, colsample_bytree=0.9, min_child_weight=0, subsample=0.8, nrounds=150 \n",
      "- Fold2: eta=0.1, max_depth=0, gamma=0.1, colsample_bytree=0.9, min_child_weight=0, subsample=0.8, nrounds=150 \n",
      "+ Fold2: eta=0.1, max_depth=0, gamma=0.1, colsample_bytree=0.9, min_child_weight=0, subsample=1.0, nrounds=150 \n",
      "- Fold2: eta=0.1, max_depth=0, gamma=0.1, colsample_bytree=0.9, min_child_weight=0, subsample=1.0, nrounds=150 \n",
      "+ Fold2: eta=0.1, max_depth=0, gamma=0.1, colsample_bytree=0.9, min_child_weight=1, subsample=0.8, nrounds=150 \n",
      "- Fold2: eta=0.1, max_depth=0, gamma=0.1, colsample_bytree=0.9, min_child_weight=1, subsample=0.8, nrounds=150 \n",
      "+ Fold2: eta=0.1, max_depth=0, gamma=0.1, colsample_bytree=0.9, min_child_weight=1, subsample=1.0, nrounds=150 \n",
      "- Fold2: eta=0.1, max_depth=0, gamma=0.1, colsample_bytree=0.9, min_child_weight=1, subsample=1.0, nrounds=150 \n",
      "+ Fold2: eta=0.1, max_depth=0, gamma=0.1, colsample_bytree=0.9, min_child_weight=2, subsample=0.8, nrounds=150 \n",
      "- Fold2: eta=0.1, max_depth=0, gamma=0.1, colsample_bytree=0.9, min_child_weight=2, subsample=0.8, nrounds=150 \n",
      "+ Fold2: eta=0.1, max_depth=0, gamma=0.1, colsample_bytree=0.9, min_child_weight=2, subsample=1.0, nrounds=150 \n",
      "- Fold2: eta=0.1, max_depth=0, gamma=0.1, colsample_bytree=0.9, min_child_weight=2, subsample=1.0, nrounds=150 \n",
      "+ Fold2: eta=0.1, max_depth=1, gamma=0.0, colsample_bytree=0.6, min_child_weight=0, subsample=0.8, nrounds=150 \n",
      "- Fold2: eta=0.1, max_depth=1, gamma=0.0, colsample_bytree=0.6, min_child_weight=0, subsample=0.8, nrounds=150 \n",
      "+ Fold2: eta=0.1, max_depth=1, gamma=0.0, colsample_bytree=0.6, min_child_weight=0, subsample=1.0, nrounds=150 \n",
      "- Fold2: eta=0.1, max_depth=1, gamma=0.0, colsample_bytree=0.6, min_child_weight=0, subsample=1.0, nrounds=150 \n",
      "+ Fold2: eta=0.1, max_depth=1, gamma=0.0, colsample_bytree=0.6, min_child_weight=1, subsample=0.8, nrounds=150 \n",
      "- Fold2: eta=0.1, max_depth=1, gamma=0.0, colsample_bytree=0.6, min_child_weight=1, subsample=0.8, nrounds=150 \n",
      "+ Fold2: eta=0.1, max_depth=1, gamma=0.0, colsample_bytree=0.6, min_child_weight=1, subsample=1.0, nrounds=150 \n",
      "- Fold2: eta=0.1, max_depth=1, gamma=0.0, colsample_bytree=0.6, min_child_weight=1, subsample=1.0, nrounds=150 \n",
      "+ Fold2: eta=0.1, max_depth=1, gamma=0.0, colsample_bytree=0.6, min_child_weight=2, subsample=0.8, nrounds=150 \n",
      "- Fold2: eta=0.1, max_depth=1, gamma=0.0, colsample_bytree=0.6, min_child_weight=2, subsample=0.8, nrounds=150 \n",
      "+ Fold2: eta=0.1, max_depth=1, gamma=0.0, colsample_bytree=0.6, min_child_weight=2, subsample=1.0, nrounds=150 \n",
      "- Fold2: eta=0.1, max_depth=1, gamma=0.0, colsample_bytree=0.6, min_child_weight=2, subsample=1.0, nrounds=150 \n",
      "+ Fold2: eta=0.1, max_depth=1, gamma=0.0, colsample_bytree=0.8, min_child_weight=0, subsample=0.8, nrounds=150 \n",
      "- Fold2: eta=0.1, max_depth=1, gamma=0.0, colsample_bytree=0.8, min_child_weight=0, subsample=0.8, nrounds=150 \n",
      "+ Fold2: eta=0.1, max_depth=1, gamma=0.0, colsample_bytree=0.8, min_child_weight=0, subsample=1.0, nrounds=150 \n",
      "- Fold2: eta=0.1, max_depth=1, gamma=0.0, colsample_bytree=0.8, min_child_weight=0, subsample=1.0, nrounds=150 \n",
      "+ Fold2: eta=0.1, max_depth=1, gamma=0.0, colsample_bytree=0.8, min_child_weight=1, subsample=0.8, nrounds=150 \n",
      "- Fold2: eta=0.1, max_depth=1, gamma=0.0, colsample_bytree=0.8, min_child_weight=1, subsample=0.8, nrounds=150 \n",
      "+ Fold2: eta=0.1, max_depth=1, gamma=0.0, colsample_bytree=0.8, min_child_weight=1, subsample=1.0, nrounds=150 \n",
      "- Fold2: eta=0.1, max_depth=1, gamma=0.0, colsample_bytree=0.8, min_child_weight=1, subsample=1.0, nrounds=150 \n",
      "+ Fold2: eta=0.1, max_depth=1, gamma=0.0, colsample_bytree=0.8, min_child_weight=2, subsample=0.8, nrounds=150 \n",
      "- Fold2: eta=0.1, max_depth=1, gamma=0.0, colsample_bytree=0.8, min_child_weight=2, subsample=0.8, nrounds=150 \n",
      "+ Fold2: eta=0.1, max_depth=1, gamma=0.0, colsample_bytree=0.8, min_child_weight=2, subsample=1.0, nrounds=150 \n",
      "- Fold2: eta=0.1, max_depth=1, gamma=0.0, colsample_bytree=0.8, min_child_weight=2, subsample=1.0, nrounds=150 \n",
      "+ Fold2: eta=0.1, max_depth=1, gamma=0.0, colsample_bytree=0.9, min_child_weight=0, subsample=0.8, nrounds=150 \n",
      "- Fold2: eta=0.1, max_depth=1, gamma=0.0, colsample_bytree=0.9, min_child_weight=0, subsample=0.8, nrounds=150 \n",
      "+ Fold2: eta=0.1, max_depth=1, gamma=0.0, colsample_bytree=0.9, min_child_weight=0, subsample=1.0, nrounds=150 \n",
      "- Fold2: eta=0.1, max_depth=1, gamma=0.0, colsample_bytree=0.9, min_child_weight=0, subsample=1.0, nrounds=150 \n",
      "+ Fold2: eta=0.1, max_depth=1, gamma=0.0, colsample_bytree=0.9, min_child_weight=1, subsample=0.8, nrounds=150 \n",
      "- Fold2: eta=0.1, max_depth=1, gamma=0.0, colsample_bytree=0.9, min_child_weight=1, subsample=0.8, nrounds=150 \n",
      "+ Fold2: eta=0.1, max_depth=1, gamma=0.0, colsample_bytree=0.9, min_child_weight=1, subsample=1.0, nrounds=150 \n",
      "- Fold2: eta=0.1, max_depth=1, gamma=0.0, colsample_bytree=0.9, min_child_weight=1, subsample=1.0, nrounds=150 \n",
      "+ Fold2: eta=0.1, max_depth=1, gamma=0.0, colsample_bytree=0.9, min_child_weight=2, subsample=0.8, nrounds=150 \n",
      "- Fold2: eta=0.1, max_depth=1, gamma=0.0, colsample_bytree=0.9, min_child_weight=2, subsample=0.8, nrounds=150 \n",
      "+ Fold2: eta=0.1, max_depth=1, gamma=0.0, colsample_bytree=0.9, min_child_weight=2, subsample=1.0, nrounds=150 \n",
      "- Fold2: eta=0.1, max_depth=1, gamma=0.0, colsample_bytree=0.9, min_child_weight=2, subsample=1.0, nrounds=150 \n",
      "+ Fold2: eta=0.1, max_depth=1, gamma=0.1, colsample_bytree=0.6, min_child_weight=0, subsample=0.8, nrounds=150 \n",
      "- Fold2: eta=0.1, max_depth=1, gamma=0.1, colsample_bytree=0.6, min_child_weight=0, subsample=0.8, nrounds=150 \n",
      "+ Fold2: eta=0.1, max_depth=1, gamma=0.1, colsample_bytree=0.6, min_child_weight=0, subsample=1.0, nrounds=150 \n",
      "- Fold2: eta=0.1, max_depth=1, gamma=0.1, colsample_bytree=0.6, min_child_weight=0, subsample=1.0, nrounds=150 \n",
      "+ Fold2: eta=0.1, max_depth=1, gamma=0.1, colsample_bytree=0.6, min_child_weight=1, subsample=0.8, nrounds=150 \n",
      "- Fold2: eta=0.1, max_depth=1, gamma=0.1, colsample_bytree=0.6, min_child_weight=1, subsample=0.8, nrounds=150 \n",
      "+ Fold2: eta=0.1, max_depth=1, gamma=0.1, colsample_bytree=0.6, min_child_weight=1, subsample=1.0, nrounds=150 \n",
      "- Fold2: eta=0.1, max_depth=1, gamma=0.1, colsample_bytree=0.6, min_child_weight=1, subsample=1.0, nrounds=150 \n",
      "+ Fold2: eta=0.1, max_depth=1, gamma=0.1, colsample_bytree=0.6, min_child_weight=2, subsample=0.8, nrounds=150 \n",
      "- Fold2: eta=0.1, max_depth=1, gamma=0.1, colsample_bytree=0.6, min_child_weight=2, subsample=0.8, nrounds=150 \n",
      "+ Fold2: eta=0.1, max_depth=1, gamma=0.1, colsample_bytree=0.6, min_child_weight=2, subsample=1.0, nrounds=150 \n",
      "- Fold2: eta=0.1, max_depth=1, gamma=0.1, colsample_bytree=0.6, min_child_weight=2, subsample=1.0, nrounds=150 \n",
      "+ Fold2: eta=0.1, max_depth=1, gamma=0.1, colsample_bytree=0.8, min_child_weight=0, subsample=0.8, nrounds=150 \n",
      "- Fold2: eta=0.1, max_depth=1, gamma=0.1, colsample_bytree=0.8, min_child_weight=0, subsample=0.8, nrounds=150 \n",
      "+ Fold2: eta=0.1, max_depth=1, gamma=0.1, colsample_bytree=0.8, min_child_weight=0, subsample=1.0, nrounds=150 \n",
      "- Fold2: eta=0.1, max_depth=1, gamma=0.1, colsample_bytree=0.8, min_child_weight=0, subsample=1.0, nrounds=150 \n",
      "+ Fold2: eta=0.1, max_depth=1, gamma=0.1, colsample_bytree=0.8, min_child_weight=1, subsample=0.8, nrounds=150 \n",
      "- Fold2: eta=0.1, max_depth=1, gamma=0.1, colsample_bytree=0.8, min_child_weight=1, subsample=0.8, nrounds=150 \n",
      "+ Fold2: eta=0.1, max_depth=1, gamma=0.1, colsample_bytree=0.8, min_child_weight=1, subsample=1.0, nrounds=150 \n",
      "- Fold2: eta=0.1, max_depth=1, gamma=0.1, colsample_bytree=0.8, min_child_weight=1, subsample=1.0, nrounds=150 \n",
      "+ Fold2: eta=0.1, max_depth=1, gamma=0.1, colsample_bytree=0.8, min_child_weight=2, subsample=0.8, nrounds=150 \n",
      "- Fold2: eta=0.1, max_depth=1, gamma=0.1, colsample_bytree=0.8, min_child_weight=2, subsample=0.8, nrounds=150 \n",
      "+ Fold2: eta=0.1, max_depth=1, gamma=0.1, colsample_bytree=0.8, min_child_weight=2, subsample=1.0, nrounds=150 \n",
      "- Fold2: eta=0.1, max_depth=1, gamma=0.1, colsample_bytree=0.8, min_child_weight=2, subsample=1.0, nrounds=150 \n",
      "+ Fold2: eta=0.1, max_depth=1, gamma=0.1, colsample_bytree=0.9, min_child_weight=0, subsample=0.8, nrounds=150 \n",
      "- Fold2: eta=0.1, max_depth=1, gamma=0.1, colsample_bytree=0.9, min_child_weight=0, subsample=0.8, nrounds=150 \n",
      "+ Fold2: eta=0.1, max_depth=1, gamma=0.1, colsample_bytree=0.9, min_child_weight=0, subsample=1.0, nrounds=150 \n",
      "- Fold2: eta=0.1, max_depth=1, gamma=0.1, colsample_bytree=0.9, min_child_weight=0, subsample=1.0, nrounds=150 \n",
      "+ Fold2: eta=0.1, max_depth=1, gamma=0.1, colsample_bytree=0.9, min_child_weight=1, subsample=0.8, nrounds=150 \n",
      "- Fold2: eta=0.1, max_depth=1, gamma=0.1, colsample_bytree=0.9, min_child_weight=1, subsample=0.8, nrounds=150 \n",
      "+ Fold2: eta=0.1, max_depth=1, gamma=0.1, colsample_bytree=0.9, min_child_weight=1, subsample=1.0, nrounds=150 \n",
      "- Fold2: eta=0.1, max_depth=1, gamma=0.1, colsample_bytree=0.9, min_child_weight=1, subsample=1.0, nrounds=150 \n",
      "+ Fold2: eta=0.1, max_depth=1, gamma=0.1, colsample_bytree=0.9, min_child_weight=2, subsample=0.8, nrounds=150 \n",
      "- Fold2: eta=0.1, max_depth=1, gamma=0.1, colsample_bytree=0.9, min_child_weight=2, subsample=0.8, nrounds=150 \n",
      "+ Fold2: eta=0.1, max_depth=1, gamma=0.1, colsample_bytree=0.9, min_child_weight=2, subsample=1.0, nrounds=150 \n",
      "- Fold2: eta=0.1, max_depth=1, gamma=0.1, colsample_bytree=0.9, min_child_weight=2, subsample=1.0, nrounds=150 \n",
      "+ Fold2: eta=0.1, max_depth=2, gamma=0.0, colsample_bytree=0.6, min_child_weight=0, subsample=0.8, nrounds=150 \n",
      "- Fold2: eta=0.1, max_depth=2, gamma=0.0, colsample_bytree=0.6, min_child_weight=0, subsample=0.8, nrounds=150 \n",
      "+ Fold2: eta=0.1, max_depth=2, gamma=0.0, colsample_bytree=0.6, min_child_weight=0, subsample=1.0, nrounds=150 \n",
      "- Fold2: eta=0.1, max_depth=2, gamma=0.0, colsample_bytree=0.6, min_child_weight=0, subsample=1.0, nrounds=150 \n",
      "+ Fold2: eta=0.1, max_depth=2, gamma=0.0, colsample_bytree=0.6, min_child_weight=1, subsample=0.8, nrounds=150 \n",
      "- Fold2: eta=0.1, max_depth=2, gamma=0.0, colsample_bytree=0.6, min_child_weight=1, subsample=0.8, nrounds=150 \n",
      "+ Fold2: eta=0.1, max_depth=2, gamma=0.0, colsample_bytree=0.6, min_child_weight=1, subsample=1.0, nrounds=150 \n",
      "- Fold2: eta=0.1, max_depth=2, gamma=0.0, colsample_bytree=0.6, min_child_weight=1, subsample=1.0, nrounds=150 \n",
      "+ Fold2: eta=0.1, max_depth=2, gamma=0.0, colsample_bytree=0.6, min_child_weight=2, subsample=0.8, nrounds=150 \n",
      "- Fold2: eta=0.1, max_depth=2, gamma=0.0, colsample_bytree=0.6, min_child_weight=2, subsample=0.8, nrounds=150 \n",
      "+ Fold2: eta=0.1, max_depth=2, gamma=0.0, colsample_bytree=0.6, min_child_weight=2, subsample=1.0, nrounds=150 \n",
      "- Fold2: eta=0.1, max_depth=2, gamma=0.0, colsample_bytree=0.6, min_child_weight=2, subsample=1.0, nrounds=150 \n",
      "+ Fold2: eta=0.1, max_depth=2, gamma=0.0, colsample_bytree=0.8, min_child_weight=0, subsample=0.8, nrounds=150 \n",
      "- Fold2: eta=0.1, max_depth=2, gamma=0.0, colsample_bytree=0.8, min_child_weight=0, subsample=0.8, nrounds=150 \n",
      "+ Fold2: eta=0.1, max_depth=2, gamma=0.0, colsample_bytree=0.8, min_child_weight=0, subsample=1.0, nrounds=150 \n",
      "- Fold2: eta=0.1, max_depth=2, gamma=0.0, colsample_bytree=0.8, min_child_weight=0, subsample=1.0, nrounds=150 \n",
      "+ Fold2: eta=0.1, max_depth=2, gamma=0.0, colsample_bytree=0.8, min_child_weight=1, subsample=0.8, nrounds=150 \n",
      "- Fold2: eta=0.1, max_depth=2, gamma=0.0, colsample_bytree=0.8, min_child_weight=1, subsample=0.8, nrounds=150 \n",
      "+ Fold2: eta=0.1, max_depth=2, gamma=0.0, colsample_bytree=0.8, min_child_weight=1, subsample=1.0, nrounds=150 \n",
      "- Fold2: eta=0.1, max_depth=2, gamma=0.0, colsample_bytree=0.8, min_child_weight=1, subsample=1.0, nrounds=150 \n",
      "+ Fold2: eta=0.1, max_depth=2, gamma=0.0, colsample_bytree=0.8, min_child_weight=2, subsample=0.8, nrounds=150 \n",
      "- Fold2: eta=0.1, max_depth=2, gamma=0.0, colsample_bytree=0.8, min_child_weight=2, subsample=0.8, nrounds=150 \n",
      "+ Fold2: eta=0.1, max_depth=2, gamma=0.0, colsample_bytree=0.8, min_child_weight=2, subsample=1.0, nrounds=150 \n",
      "- Fold2: eta=0.1, max_depth=2, gamma=0.0, colsample_bytree=0.8, min_child_weight=2, subsample=1.0, nrounds=150 \n",
      "+ Fold2: eta=0.1, max_depth=2, gamma=0.0, colsample_bytree=0.9, min_child_weight=0, subsample=0.8, nrounds=150 \n",
      "- Fold2: eta=0.1, max_depth=2, gamma=0.0, colsample_bytree=0.9, min_child_weight=0, subsample=0.8, nrounds=150 \n",
      "+ Fold2: eta=0.1, max_depth=2, gamma=0.0, colsample_bytree=0.9, min_child_weight=0, subsample=1.0, nrounds=150 \n",
      "- Fold2: eta=0.1, max_depth=2, gamma=0.0, colsample_bytree=0.9, min_child_weight=0, subsample=1.0, nrounds=150 \n",
      "+ Fold2: eta=0.1, max_depth=2, gamma=0.0, colsample_bytree=0.9, min_child_weight=1, subsample=0.8, nrounds=150 \n",
      "- Fold2: eta=0.1, max_depth=2, gamma=0.0, colsample_bytree=0.9, min_child_weight=1, subsample=0.8, nrounds=150 \n",
      "+ Fold2: eta=0.1, max_depth=2, gamma=0.0, colsample_bytree=0.9, min_child_weight=1, subsample=1.0, nrounds=150 \n",
      "- Fold2: eta=0.1, max_depth=2, gamma=0.0, colsample_bytree=0.9, min_child_weight=1, subsample=1.0, nrounds=150 \n",
      "+ Fold2: eta=0.1, max_depth=2, gamma=0.0, colsample_bytree=0.9, min_child_weight=2, subsample=0.8, nrounds=150 \n",
      "- Fold2: eta=0.1, max_depth=2, gamma=0.0, colsample_bytree=0.9, min_child_weight=2, subsample=0.8, nrounds=150 \n",
      "+ Fold2: eta=0.1, max_depth=2, gamma=0.0, colsample_bytree=0.9, min_child_weight=2, subsample=1.0, nrounds=150 \n",
      "- Fold2: eta=0.1, max_depth=2, gamma=0.0, colsample_bytree=0.9, min_child_weight=2, subsample=1.0, nrounds=150 \n",
      "+ Fold2: eta=0.1, max_depth=2, gamma=0.1, colsample_bytree=0.6, min_child_weight=0, subsample=0.8, nrounds=150 \n",
      "- Fold2: eta=0.1, max_depth=2, gamma=0.1, colsample_bytree=0.6, min_child_weight=0, subsample=0.8, nrounds=150 \n",
      "+ Fold2: eta=0.1, max_depth=2, gamma=0.1, colsample_bytree=0.6, min_child_weight=0, subsample=1.0, nrounds=150 \n",
      "- Fold2: eta=0.1, max_depth=2, gamma=0.1, colsample_bytree=0.6, min_child_weight=0, subsample=1.0, nrounds=150 \n",
      "+ Fold2: eta=0.1, max_depth=2, gamma=0.1, colsample_bytree=0.6, min_child_weight=1, subsample=0.8, nrounds=150 \n",
      "- Fold2: eta=0.1, max_depth=2, gamma=0.1, colsample_bytree=0.6, min_child_weight=1, subsample=0.8, nrounds=150 \n",
      "+ Fold2: eta=0.1, max_depth=2, gamma=0.1, colsample_bytree=0.6, min_child_weight=1, subsample=1.0, nrounds=150 \n",
      "- Fold2: eta=0.1, max_depth=2, gamma=0.1, colsample_bytree=0.6, min_child_weight=1, subsample=1.0, nrounds=150 \n",
      "+ Fold2: eta=0.1, max_depth=2, gamma=0.1, colsample_bytree=0.6, min_child_weight=2, subsample=0.8, nrounds=150 \n",
      "- Fold2: eta=0.1, max_depth=2, gamma=0.1, colsample_bytree=0.6, min_child_weight=2, subsample=0.8, nrounds=150 \n",
      "+ Fold2: eta=0.1, max_depth=2, gamma=0.1, colsample_bytree=0.6, min_child_weight=2, subsample=1.0, nrounds=150 \n",
      "- Fold2: eta=0.1, max_depth=2, gamma=0.1, colsample_bytree=0.6, min_child_weight=2, subsample=1.0, nrounds=150 \n",
      "+ Fold2: eta=0.1, max_depth=2, gamma=0.1, colsample_bytree=0.8, min_child_weight=0, subsample=0.8, nrounds=150 \n",
      "- Fold2: eta=0.1, max_depth=2, gamma=0.1, colsample_bytree=0.8, min_child_weight=0, subsample=0.8, nrounds=150 \n",
      "+ Fold2: eta=0.1, max_depth=2, gamma=0.1, colsample_bytree=0.8, min_child_weight=0, subsample=1.0, nrounds=150 \n",
      "- Fold2: eta=0.1, max_depth=2, gamma=0.1, colsample_bytree=0.8, min_child_weight=0, subsample=1.0, nrounds=150 \n",
      "+ Fold2: eta=0.1, max_depth=2, gamma=0.1, colsample_bytree=0.8, min_child_weight=1, subsample=0.8, nrounds=150 \n",
      "- Fold2: eta=0.1, max_depth=2, gamma=0.1, colsample_bytree=0.8, min_child_weight=1, subsample=0.8, nrounds=150 \n",
      "+ Fold2: eta=0.1, max_depth=2, gamma=0.1, colsample_bytree=0.8, min_child_weight=1, subsample=1.0, nrounds=150 \n",
      "- Fold2: eta=0.1, max_depth=2, gamma=0.1, colsample_bytree=0.8, min_child_weight=1, subsample=1.0, nrounds=150 \n",
      "+ Fold2: eta=0.1, max_depth=2, gamma=0.1, colsample_bytree=0.8, min_child_weight=2, subsample=0.8, nrounds=150 \n",
      "- Fold2: eta=0.1, max_depth=2, gamma=0.1, colsample_bytree=0.8, min_child_weight=2, subsample=0.8, nrounds=150 \n",
      "+ Fold2: eta=0.1, max_depth=2, gamma=0.1, colsample_bytree=0.8, min_child_weight=2, subsample=1.0, nrounds=150 \n",
      "- Fold2: eta=0.1, max_depth=2, gamma=0.1, colsample_bytree=0.8, min_child_weight=2, subsample=1.0, nrounds=150 \n",
      "+ Fold2: eta=0.1, max_depth=2, gamma=0.1, colsample_bytree=0.9, min_child_weight=0, subsample=0.8, nrounds=150 \n",
      "- Fold2: eta=0.1, max_depth=2, gamma=0.1, colsample_bytree=0.9, min_child_weight=0, subsample=0.8, nrounds=150 \n",
      "+ Fold2: eta=0.1, max_depth=2, gamma=0.1, colsample_bytree=0.9, min_child_weight=0, subsample=1.0, nrounds=150 \n",
      "- Fold2: eta=0.1, max_depth=2, gamma=0.1, colsample_bytree=0.9, min_child_weight=0, subsample=1.0, nrounds=150 \n",
      "+ Fold2: eta=0.1, max_depth=2, gamma=0.1, colsample_bytree=0.9, min_child_weight=1, subsample=0.8, nrounds=150 \n",
      "- Fold2: eta=0.1, max_depth=2, gamma=0.1, colsample_bytree=0.9, min_child_weight=1, subsample=0.8, nrounds=150 \n",
      "+ Fold2: eta=0.1, max_depth=2, gamma=0.1, colsample_bytree=0.9, min_child_weight=1, subsample=1.0, nrounds=150 \n",
      "- Fold2: eta=0.1, max_depth=2, gamma=0.1, colsample_bytree=0.9, min_child_weight=1, subsample=1.0, nrounds=150 \n",
      "+ Fold2: eta=0.1, max_depth=2, gamma=0.1, colsample_bytree=0.9, min_child_weight=2, subsample=0.8, nrounds=150 \n",
      "- Fold2: eta=0.1, max_depth=2, gamma=0.1, colsample_bytree=0.9, min_child_weight=2, subsample=0.8, nrounds=150 \n",
      "+ Fold2: eta=0.1, max_depth=2, gamma=0.1, colsample_bytree=0.9, min_child_weight=2, subsample=1.0, nrounds=150 \n",
      "- Fold2: eta=0.1, max_depth=2, gamma=0.1, colsample_bytree=0.9, min_child_weight=2, subsample=1.0, nrounds=150 \n",
      "+ Fold2: eta=0.3, max_depth=0, gamma=0.0, colsample_bytree=0.6, min_child_weight=0, subsample=0.8, nrounds=150 \n",
      "- Fold2: eta=0.3, max_depth=0, gamma=0.0, colsample_bytree=0.6, min_child_weight=0, subsample=0.8, nrounds=150 \n",
      "+ Fold2: eta=0.3, max_depth=0, gamma=0.0, colsample_bytree=0.6, min_child_weight=0, subsample=1.0, nrounds=150 \n",
      "- Fold2: eta=0.3, max_depth=0, gamma=0.0, colsample_bytree=0.6, min_child_weight=0, subsample=1.0, nrounds=150 \n",
      "+ Fold2: eta=0.3, max_depth=0, gamma=0.0, colsample_bytree=0.6, min_child_weight=1, subsample=0.8, nrounds=150 \n",
      "- Fold2: eta=0.3, max_depth=0, gamma=0.0, colsample_bytree=0.6, min_child_weight=1, subsample=0.8, nrounds=150 \n",
      "+ Fold2: eta=0.3, max_depth=0, gamma=0.0, colsample_bytree=0.6, min_child_weight=1, subsample=1.0, nrounds=150 \n",
      "- Fold2: eta=0.3, max_depth=0, gamma=0.0, colsample_bytree=0.6, min_child_weight=1, subsample=1.0, nrounds=150 \n",
      "+ Fold2: eta=0.3, max_depth=0, gamma=0.0, colsample_bytree=0.6, min_child_weight=2, subsample=0.8, nrounds=150 \n",
      "- Fold2: eta=0.3, max_depth=0, gamma=0.0, colsample_bytree=0.6, min_child_weight=2, subsample=0.8, nrounds=150 \n",
      "+ Fold2: eta=0.3, max_depth=0, gamma=0.0, colsample_bytree=0.6, min_child_weight=2, subsample=1.0, nrounds=150 \n",
      "- Fold2: eta=0.3, max_depth=0, gamma=0.0, colsample_bytree=0.6, min_child_weight=2, subsample=1.0, nrounds=150 \n",
      "+ Fold2: eta=0.3, max_depth=0, gamma=0.0, colsample_bytree=0.8, min_child_weight=0, subsample=0.8, nrounds=150 \n",
      "- Fold2: eta=0.3, max_depth=0, gamma=0.0, colsample_bytree=0.8, min_child_weight=0, subsample=0.8, nrounds=150 \n",
      "+ Fold2: eta=0.3, max_depth=0, gamma=0.0, colsample_bytree=0.8, min_child_weight=0, subsample=1.0, nrounds=150 \n",
      "- Fold2: eta=0.3, max_depth=0, gamma=0.0, colsample_bytree=0.8, min_child_weight=0, subsample=1.0, nrounds=150 \n",
      "+ Fold2: eta=0.3, max_depth=0, gamma=0.0, colsample_bytree=0.8, min_child_weight=1, subsample=0.8, nrounds=150 \n",
      "- Fold2: eta=0.3, max_depth=0, gamma=0.0, colsample_bytree=0.8, min_child_weight=1, subsample=0.8, nrounds=150 \n",
      "+ Fold2: eta=0.3, max_depth=0, gamma=0.0, colsample_bytree=0.8, min_child_weight=1, subsample=1.0, nrounds=150 \n",
      "- Fold2: eta=0.3, max_depth=0, gamma=0.0, colsample_bytree=0.8, min_child_weight=1, subsample=1.0, nrounds=150 \n",
      "+ Fold2: eta=0.3, max_depth=0, gamma=0.0, colsample_bytree=0.8, min_child_weight=2, subsample=0.8, nrounds=150 \n",
      "- Fold2: eta=0.3, max_depth=0, gamma=0.0, colsample_bytree=0.8, min_child_weight=2, subsample=0.8, nrounds=150 \n",
      "+ Fold2: eta=0.3, max_depth=0, gamma=0.0, colsample_bytree=0.8, min_child_weight=2, subsample=1.0, nrounds=150 \n",
      "- Fold2: eta=0.3, max_depth=0, gamma=0.0, colsample_bytree=0.8, min_child_weight=2, subsample=1.0, nrounds=150 \n",
      "+ Fold2: eta=0.3, max_depth=0, gamma=0.0, colsample_bytree=0.9, min_child_weight=0, subsample=0.8, nrounds=150 \n",
      "- Fold2: eta=0.3, max_depth=0, gamma=0.0, colsample_bytree=0.9, min_child_weight=0, subsample=0.8, nrounds=150 \n",
      "+ Fold2: eta=0.3, max_depth=0, gamma=0.0, colsample_bytree=0.9, min_child_weight=0, subsample=1.0, nrounds=150 \n",
      "- Fold2: eta=0.3, max_depth=0, gamma=0.0, colsample_bytree=0.9, min_child_weight=0, subsample=1.0, nrounds=150 \n",
      "+ Fold2: eta=0.3, max_depth=0, gamma=0.0, colsample_bytree=0.9, min_child_weight=1, subsample=0.8, nrounds=150 \n",
      "- Fold2: eta=0.3, max_depth=0, gamma=0.0, colsample_bytree=0.9, min_child_weight=1, subsample=0.8, nrounds=150 \n",
      "+ Fold2: eta=0.3, max_depth=0, gamma=0.0, colsample_bytree=0.9, min_child_weight=1, subsample=1.0, nrounds=150 \n",
      "- Fold2: eta=0.3, max_depth=0, gamma=0.0, colsample_bytree=0.9, min_child_weight=1, subsample=1.0, nrounds=150 \n",
      "+ Fold2: eta=0.3, max_depth=0, gamma=0.0, colsample_bytree=0.9, min_child_weight=2, subsample=0.8, nrounds=150 \n",
      "- Fold2: eta=0.3, max_depth=0, gamma=0.0, colsample_bytree=0.9, min_child_weight=2, subsample=0.8, nrounds=150 \n",
      "+ Fold2: eta=0.3, max_depth=0, gamma=0.0, colsample_bytree=0.9, min_child_weight=2, subsample=1.0, nrounds=150 \n",
      "- Fold2: eta=0.3, max_depth=0, gamma=0.0, colsample_bytree=0.9, min_child_weight=2, subsample=1.0, nrounds=150 \n",
      "+ Fold2: eta=0.3, max_depth=0, gamma=0.1, colsample_bytree=0.6, min_child_weight=0, subsample=0.8, nrounds=150 \n",
      "- Fold2: eta=0.3, max_depth=0, gamma=0.1, colsample_bytree=0.6, min_child_weight=0, subsample=0.8, nrounds=150 \n",
      "+ Fold2: eta=0.3, max_depth=0, gamma=0.1, colsample_bytree=0.6, min_child_weight=0, subsample=1.0, nrounds=150 \n",
      "- Fold2: eta=0.3, max_depth=0, gamma=0.1, colsample_bytree=0.6, min_child_weight=0, subsample=1.0, nrounds=150 \n",
      "+ Fold2: eta=0.3, max_depth=0, gamma=0.1, colsample_bytree=0.6, min_child_weight=1, subsample=0.8, nrounds=150 \n",
      "- Fold2: eta=0.3, max_depth=0, gamma=0.1, colsample_bytree=0.6, min_child_weight=1, subsample=0.8, nrounds=150 \n",
      "+ Fold2: eta=0.3, max_depth=0, gamma=0.1, colsample_bytree=0.6, min_child_weight=1, subsample=1.0, nrounds=150 \n",
      "- Fold2: eta=0.3, max_depth=0, gamma=0.1, colsample_bytree=0.6, min_child_weight=1, subsample=1.0, nrounds=150 \n",
      "+ Fold2: eta=0.3, max_depth=0, gamma=0.1, colsample_bytree=0.6, min_child_weight=2, subsample=0.8, nrounds=150 \n",
      "- Fold2: eta=0.3, max_depth=0, gamma=0.1, colsample_bytree=0.6, min_child_weight=2, subsample=0.8, nrounds=150 \n",
      "+ Fold2: eta=0.3, max_depth=0, gamma=0.1, colsample_bytree=0.6, min_child_weight=2, subsample=1.0, nrounds=150 \n",
      "- Fold2: eta=0.3, max_depth=0, gamma=0.1, colsample_bytree=0.6, min_child_weight=2, subsample=1.0, nrounds=150 \n",
      "+ Fold2: eta=0.3, max_depth=0, gamma=0.1, colsample_bytree=0.8, min_child_weight=0, subsample=0.8, nrounds=150 \n",
      "- Fold2: eta=0.3, max_depth=0, gamma=0.1, colsample_bytree=0.8, min_child_weight=0, subsample=0.8, nrounds=150 \n",
      "+ Fold2: eta=0.3, max_depth=0, gamma=0.1, colsample_bytree=0.8, min_child_weight=0, subsample=1.0, nrounds=150 \n",
      "- Fold2: eta=0.3, max_depth=0, gamma=0.1, colsample_bytree=0.8, min_child_weight=0, subsample=1.0, nrounds=150 \n",
      "+ Fold2: eta=0.3, max_depth=0, gamma=0.1, colsample_bytree=0.8, min_child_weight=1, subsample=0.8, nrounds=150 \n",
      "- Fold2: eta=0.3, max_depth=0, gamma=0.1, colsample_bytree=0.8, min_child_weight=1, subsample=0.8, nrounds=150 \n",
      "+ Fold2: eta=0.3, max_depth=0, gamma=0.1, colsample_bytree=0.8, min_child_weight=1, subsample=1.0, nrounds=150 \n",
      "- Fold2: eta=0.3, max_depth=0, gamma=0.1, colsample_bytree=0.8, min_child_weight=1, subsample=1.0, nrounds=150 \n",
      "+ Fold2: eta=0.3, max_depth=0, gamma=0.1, colsample_bytree=0.8, min_child_weight=2, subsample=0.8, nrounds=150 \n",
      "- Fold2: eta=0.3, max_depth=0, gamma=0.1, colsample_bytree=0.8, min_child_weight=2, subsample=0.8, nrounds=150 \n",
      "+ Fold2: eta=0.3, max_depth=0, gamma=0.1, colsample_bytree=0.8, min_child_weight=2, subsample=1.0, nrounds=150 \n",
      "- Fold2: eta=0.3, max_depth=0, gamma=0.1, colsample_bytree=0.8, min_child_weight=2, subsample=1.0, nrounds=150 \n",
      "+ Fold2: eta=0.3, max_depth=0, gamma=0.1, colsample_bytree=0.9, min_child_weight=0, subsample=0.8, nrounds=150 \n",
      "- Fold2: eta=0.3, max_depth=0, gamma=0.1, colsample_bytree=0.9, min_child_weight=0, subsample=0.8, nrounds=150 \n",
      "+ Fold2: eta=0.3, max_depth=0, gamma=0.1, colsample_bytree=0.9, min_child_weight=0, subsample=1.0, nrounds=150 \n",
      "- Fold2: eta=0.3, max_depth=0, gamma=0.1, colsample_bytree=0.9, min_child_weight=0, subsample=1.0, nrounds=150 \n",
      "+ Fold2: eta=0.3, max_depth=0, gamma=0.1, colsample_bytree=0.9, min_child_weight=1, subsample=0.8, nrounds=150 \n",
      "- Fold2: eta=0.3, max_depth=0, gamma=0.1, colsample_bytree=0.9, min_child_weight=1, subsample=0.8, nrounds=150 \n",
      "+ Fold2: eta=0.3, max_depth=0, gamma=0.1, colsample_bytree=0.9, min_child_weight=1, subsample=1.0, nrounds=150 \n",
      "- Fold2: eta=0.3, max_depth=0, gamma=0.1, colsample_bytree=0.9, min_child_weight=1, subsample=1.0, nrounds=150 \n",
      "+ Fold2: eta=0.3, max_depth=0, gamma=0.1, colsample_bytree=0.9, min_child_weight=2, subsample=0.8, nrounds=150 \n",
      "- Fold2: eta=0.3, max_depth=0, gamma=0.1, colsample_bytree=0.9, min_child_weight=2, subsample=0.8, nrounds=150 \n",
      "+ Fold2: eta=0.3, max_depth=0, gamma=0.1, colsample_bytree=0.9, min_child_weight=2, subsample=1.0, nrounds=150 \n",
      "- Fold2: eta=0.3, max_depth=0, gamma=0.1, colsample_bytree=0.9, min_child_weight=2, subsample=1.0, nrounds=150 \n",
      "+ Fold2: eta=0.3, max_depth=1, gamma=0.0, colsample_bytree=0.6, min_child_weight=0, subsample=0.8, nrounds=150 \n",
      "- Fold2: eta=0.3, max_depth=1, gamma=0.0, colsample_bytree=0.6, min_child_weight=0, subsample=0.8, nrounds=150 \n",
      "+ Fold2: eta=0.3, max_depth=1, gamma=0.0, colsample_bytree=0.6, min_child_weight=0, subsample=1.0, nrounds=150 \n",
      "- Fold2: eta=0.3, max_depth=1, gamma=0.0, colsample_bytree=0.6, min_child_weight=0, subsample=1.0, nrounds=150 \n",
      "+ Fold2: eta=0.3, max_depth=1, gamma=0.0, colsample_bytree=0.6, min_child_weight=1, subsample=0.8, nrounds=150 \n",
      "- Fold2: eta=0.3, max_depth=1, gamma=0.0, colsample_bytree=0.6, min_child_weight=1, subsample=0.8, nrounds=150 \n",
      "+ Fold2: eta=0.3, max_depth=1, gamma=0.0, colsample_bytree=0.6, min_child_weight=1, subsample=1.0, nrounds=150 \n",
      "- Fold2: eta=0.3, max_depth=1, gamma=0.0, colsample_bytree=0.6, min_child_weight=1, subsample=1.0, nrounds=150 \n",
      "+ Fold2: eta=0.3, max_depth=1, gamma=0.0, colsample_bytree=0.6, min_child_weight=2, subsample=0.8, nrounds=150 \n",
      "- Fold2: eta=0.3, max_depth=1, gamma=0.0, colsample_bytree=0.6, min_child_weight=2, subsample=0.8, nrounds=150 \n",
      "+ Fold2: eta=0.3, max_depth=1, gamma=0.0, colsample_bytree=0.6, min_child_weight=2, subsample=1.0, nrounds=150 \n",
      "- Fold2: eta=0.3, max_depth=1, gamma=0.0, colsample_bytree=0.6, min_child_weight=2, subsample=1.0, nrounds=150 \n",
      "+ Fold2: eta=0.3, max_depth=1, gamma=0.0, colsample_bytree=0.8, min_child_weight=0, subsample=0.8, nrounds=150 \n",
      "- Fold2: eta=0.3, max_depth=1, gamma=0.0, colsample_bytree=0.8, min_child_weight=0, subsample=0.8, nrounds=150 \n",
      "+ Fold2: eta=0.3, max_depth=1, gamma=0.0, colsample_bytree=0.8, min_child_weight=0, subsample=1.0, nrounds=150 \n",
      "- Fold2: eta=0.3, max_depth=1, gamma=0.0, colsample_bytree=0.8, min_child_weight=0, subsample=1.0, nrounds=150 \n",
      "+ Fold2: eta=0.3, max_depth=1, gamma=0.0, colsample_bytree=0.8, min_child_weight=1, subsample=0.8, nrounds=150 \n",
      "- Fold2: eta=0.3, max_depth=1, gamma=0.0, colsample_bytree=0.8, min_child_weight=1, subsample=0.8, nrounds=150 \n",
      "+ Fold2: eta=0.3, max_depth=1, gamma=0.0, colsample_bytree=0.8, min_child_weight=1, subsample=1.0, nrounds=150 \n",
      "- Fold2: eta=0.3, max_depth=1, gamma=0.0, colsample_bytree=0.8, min_child_weight=1, subsample=1.0, nrounds=150 \n",
      "+ Fold2: eta=0.3, max_depth=1, gamma=0.0, colsample_bytree=0.8, min_child_weight=2, subsample=0.8, nrounds=150 \n",
      "- Fold2: eta=0.3, max_depth=1, gamma=0.0, colsample_bytree=0.8, min_child_weight=2, subsample=0.8, nrounds=150 \n",
      "+ Fold2: eta=0.3, max_depth=1, gamma=0.0, colsample_bytree=0.8, min_child_weight=2, subsample=1.0, nrounds=150 \n",
      "- Fold2: eta=0.3, max_depth=1, gamma=0.0, colsample_bytree=0.8, min_child_weight=2, subsample=1.0, nrounds=150 \n",
      "+ Fold2: eta=0.3, max_depth=1, gamma=0.0, colsample_bytree=0.9, min_child_weight=0, subsample=0.8, nrounds=150 \n",
      "- Fold2: eta=0.3, max_depth=1, gamma=0.0, colsample_bytree=0.9, min_child_weight=0, subsample=0.8, nrounds=150 \n",
      "+ Fold2: eta=0.3, max_depth=1, gamma=0.0, colsample_bytree=0.9, min_child_weight=0, subsample=1.0, nrounds=150 \n",
      "- Fold2: eta=0.3, max_depth=1, gamma=0.0, colsample_bytree=0.9, min_child_weight=0, subsample=1.0, nrounds=150 \n",
      "+ Fold2: eta=0.3, max_depth=1, gamma=0.0, colsample_bytree=0.9, min_child_weight=1, subsample=0.8, nrounds=150 \n",
      "- Fold2: eta=0.3, max_depth=1, gamma=0.0, colsample_bytree=0.9, min_child_weight=1, subsample=0.8, nrounds=150 \n",
      "+ Fold2: eta=0.3, max_depth=1, gamma=0.0, colsample_bytree=0.9, min_child_weight=1, subsample=1.0, nrounds=150 \n",
      "- Fold2: eta=0.3, max_depth=1, gamma=0.0, colsample_bytree=0.9, min_child_weight=1, subsample=1.0, nrounds=150 \n",
      "+ Fold2: eta=0.3, max_depth=1, gamma=0.0, colsample_bytree=0.9, min_child_weight=2, subsample=0.8, nrounds=150 \n",
      "- Fold2: eta=0.3, max_depth=1, gamma=0.0, colsample_bytree=0.9, min_child_weight=2, subsample=0.8, nrounds=150 \n",
      "+ Fold2: eta=0.3, max_depth=1, gamma=0.0, colsample_bytree=0.9, min_child_weight=2, subsample=1.0, nrounds=150 \n",
      "- Fold2: eta=0.3, max_depth=1, gamma=0.0, colsample_bytree=0.9, min_child_weight=2, subsample=1.0, nrounds=150 \n",
      "+ Fold2: eta=0.3, max_depth=1, gamma=0.1, colsample_bytree=0.6, min_child_weight=0, subsample=0.8, nrounds=150 \n",
      "- Fold2: eta=0.3, max_depth=1, gamma=0.1, colsample_bytree=0.6, min_child_weight=0, subsample=0.8, nrounds=150 \n",
      "+ Fold2: eta=0.3, max_depth=1, gamma=0.1, colsample_bytree=0.6, min_child_weight=0, subsample=1.0, nrounds=150 \n",
      "- Fold2: eta=0.3, max_depth=1, gamma=0.1, colsample_bytree=0.6, min_child_weight=0, subsample=1.0, nrounds=150 \n",
      "+ Fold2: eta=0.3, max_depth=1, gamma=0.1, colsample_bytree=0.6, min_child_weight=1, subsample=0.8, nrounds=150 \n",
      "- Fold2: eta=0.3, max_depth=1, gamma=0.1, colsample_bytree=0.6, min_child_weight=1, subsample=0.8, nrounds=150 \n",
      "+ Fold2: eta=0.3, max_depth=1, gamma=0.1, colsample_bytree=0.6, min_child_weight=1, subsample=1.0, nrounds=150 \n",
      "- Fold2: eta=0.3, max_depth=1, gamma=0.1, colsample_bytree=0.6, min_child_weight=1, subsample=1.0, nrounds=150 \n",
      "+ Fold2: eta=0.3, max_depth=1, gamma=0.1, colsample_bytree=0.6, min_child_weight=2, subsample=0.8, nrounds=150 \n",
      "- Fold2: eta=0.3, max_depth=1, gamma=0.1, colsample_bytree=0.6, min_child_weight=2, subsample=0.8, nrounds=150 \n",
      "+ Fold2: eta=0.3, max_depth=1, gamma=0.1, colsample_bytree=0.6, min_child_weight=2, subsample=1.0, nrounds=150 \n",
      "- Fold2: eta=0.3, max_depth=1, gamma=0.1, colsample_bytree=0.6, min_child_weight=2, subsample=1.0, nrounds=150 \n",
      "+ Fold2: eta=0.3, max_depth=1, gamma=0.1, colsample_bytree=0.8, min_child_weight=0, subsample=0.8, nrounds=150 \n",
      "- Fold2: eta=0.3, max_depth=1, gamma=0.1, colsample_bytree=0.8, min_child_weight=0, subsample=0.8, nrounds=150 \n",
      "+ Fold2: eta=0.3, max_depth=1, gamma=0.1, colsample_bytree=0.8, min_child_weight=0, subsample=1.0, nrounds=150 \n",
      "- Fold2: eta=0.3, max_depth=1, gamma=0.1, colsample_bytree=0.8, min_child_weight=0, subsample=1.0, nrounds=150 \n",
      "+ Fold2: eta=0.3, max_depth=1, gamma=0.1, colsample_bytree=0.8, min_child_weight=1, subsample=0.8, nrounds=150 \n",
      "- Fold2: eta=0.3, max_depth=1, gamma=0.1, colsample_bytree=0.8, min_child_weight=1, subsample=0.8, nrounds=150 \n",
      "+ Fold2: eta=0.3, max_depth=1, gamma=0.1, colsample_bytree=0.8, min_child_weight=1, subsample=1.0, nrounds=150 \n",
      "- Fold2: eta=0.3, max_depth=1, gamma=0.1, colsample_bytree=0.8, min_child_weight=1, subsample=1.0, nrounds=150 \n",
      "+ Fold2: eta=0.3, max_depth=1, gamma=0.1, colsample_bytree=0.8, min_child_weight=2, subsample=0.8, nrounds=150 \n",
      "- Fold2: eta=0.3, max_depth=1, gamma=0.1, colsample_bytree=0.8, min_child_weight=2, subsample=0.8, nrounds=150 \n",
      "+ Fold2: eta=0.3, max_depth=1, gamma=0.1, colsample_bytree=0.8, min_child_weight=2, subsample=1.0, nrounds=150 \n",
      "- Fold2: eta=0.3, max_depth=1, gamma=0.1, colsample_bytree=0.8, min_child_weight=2, subsample=1.0, nrounds=150 \n",
      "+ Fold2: eta=0.3, max_depth=1, gamma=0.1, colsample_bytree=0.9, min_child_weight=0, subsample=0.8, nrounds=150 \n",
      "- Fold2: eta=0.3, max_depth=1, gamma=0.1, colsample_bytree=0.9, min_child_weight=0, subsample=0.8, nrounds=150 \n",
      "+ Fold2: eta=0.3, max_depth=1, gamma=0.1, colsample_bytree=0.9, min_child_weight=0, subsample=1.0, nrounds=150 \n",
      "- Fold2: eta=0.3, max_depth=1, gamma=0.1, colsample_bytree=0.9, min_child_weight=0, subsample=1.0, nrounds=150 \n",
      "+ Fold2: eta=0.3, max_depth=1, gamma=0.1, colsample_bytree=0.9, min_child_weight=1, subsample=0.8, nrounds=150 \n",
      "- Fold2: eta=0.3, max_depth=1, gamma=0.1, colsample_bytree=0.9, min_child_weight=1, subsample=0.8, nrounds=150 \n",
      "+ Fold2: eta=0.3, max_depth=1, gamma=0.1, colsample_bytree=0.9, min_child_weight=1, subsample=1.0, nrounds=150 \n",
      "- Fold2: eta=0.3, max_depth=1, gamma=0.1, colsample_bytree=0.9, min_child_weight=1, subsample=1.0, nrounds=150 \n",
      "+ Fold2: eta=0.3, max_depth=1, gamma=0.1, colsample_bytree=0.9, min_child_weight=2, subsample=0.8, nrounds=150 \n",
      "- Fold2: eta=0.3, max_depth=1, gamma=0.1, colsample_bytree=0.9, min_child_weight=2, subsample=0.8, nrounds=150 \n",
      "+ Fold2: eta=0.3, max_depth=1, gamma=0.1, colsample_bytree=0.9, min_child_weight=2, subsample=1.0, nrounds=150 \n",
      "- Fold2: eta=0.3, max_depth=1, gamma=0.1, colsample_bytree=0.9, min_child_weight=2, subsample=1.0, nrounds=150 \n",
      "+ Fold2: eta=0.3, max_depth=2, gamma=0.0, colsample_bytree=0.6, min_child_weight=0, subsample=0.8, nrounds=150 \n",
      "- Fold2: eta=0.3, max_depth=2, gamma=0.0, colsample_bytree=0.6, min_child_weight=0, subsample=0.8, nrounds=150 \n",
      "+ Fold2: eta=0.3, max_depth=2, gamma=0.0, colsample_bytree=0.6, min_child_weight=0, subsample=1.0, nrounds=150 \n",
      "- Fold2: eta=0.3, max_depth=2, gamma=0.0, colsample_bytree=0.6, min_child_weight=0, subsample=1.0, nrounds=150 \n",
      "+ Fold2: eta=0.3, max_depth=2, gamma=0.0, colsample_bytree=0.6, min_child_weight=1, subsample=0.8, nrounds=150 \n",
      "- Fold2: eta=0.3, max_depth=2, gamma=0.0, colsample_bytree=0.6, min_child_weight=1, subsample=0.8, nrounds=150 \n",
      "+ Fold2: eta=0.3, max_depth=2, gamma=0.0, colsample_bytree=0.6, min_child_weight=1, subsample=1.0, nrounds=150 \n",
      "- Fold2: eta=0.3, max_depth=2, gamma=0.0, colsample_bytree=0.6, min_child_weight=1, subsample=1.0, nrounds=150 \n",
      "+ Fold2: eta=0.3, max_depth=2, gamma=0.0, colsample_bytree=0.6, min_child_weight=2, subsample=0.8, nrounds=150 \n",
      "- Fold2: eta=0.3, max_depth=2, gamma=0.0, colsample_bytree=0.6, min_child_weight=2, subsample=0.8, nrounds=150 \n",
      "+ Fold2: eta=0.3, max_depth=2, gamma=0.0, colsample_bytree=0.6, min_child_weight=2, subsample=1.0, nrounds=150 \n",
      "- Fold2: eta=0.3, max_depth=2, gamma=0.0, colsample_bytree=0.6, min_child_weight=2, subsample=1.0, nrounds=150 \n",
      "+ Fold2: eta=0.3, max_depth=2, gamma=0.0, colsample_bytree=0.8, min_child_weight=0, subsample=0.8, nrounds=150 \n",
      "- Fold2: eta=0.3, max_depth=2, gamma=0.0, colsample_bytree=0.8, min_child_weight=0, subsample=0.8, nrounds=150 \n",
      "+ Fold2: eta=0.3, max_depth=2, gamma=0.0, colsample_bytree=0.8, min_child_weight=0, subsample=1.0, nrounds=150 \n",
      "- Fold2: eta=0.3, max_depth=2, gamma=0.0, colsample_bytree=0.8, min_child_weight=0, subsample=1.0, nrounds=150 \n",
      "+ Fold2: eta=0.3, max_depth=2, gamma=0.0, colsample_bytree=0.8, min_child_weight=1, subsample=0.8, nrounds=150 \n",
      "- Fold2: eta=0.3, max_depth=2, gamma=0.0, colsample_bytree=0.8, min_child_weight=1, subsample=0.8, nrounds=150 \n",
      "+ Fold2: eta=0.3, max_depth=2, gamma=0.0, colsample_bytree=0.8, min_child_weight=1, subsample=1.0, nrounds=150 \n",
      "- Fold2: eta=0.3, max_depth=2, gamma=0.0, colsample_bytree=0.8, min_child_weight=1, subsample=1.0, nrounds=150 \n",
      "+ Fold2: eta=0.3, max_depth=2, gamma=0.0, colsample_bytree=0.8, min_child_weight=2, subsample=0.8, nrounds=150 \n",
      "- Fold2: eta=0.3, max_depth=2, gamma=0.0, colsample_bytree=0.8, min_child_weight=2, subsample=0.8, nrounds=150 \n",
      "+ Fold2: eta=0.3, max_depth=2, gamma=0.0, colsample_bytree=0.8, min_child_weight=2, subsample=1.0, nrounds=150 \n",
      "- Fold2: eta=0.3, max_depth=2, gamma=0.0, colsample_bytree=0.8, min_child_weight=2, subsample=1.0, nrounds=150 \n",
      "+ Fold2: eta=0.3, max_depth=2, gamma=0.0, colsample_bytree=0.9, min_child_weight=0, subsample=0.8, nrounds=150 \n",
      "- Fold2: eta=0.3, max_depth=2, gamma=0.0, colsample_bytree=0.9, min_child_weight=0, subsample=0.8, nrounds=150 \n",
      "+ Fold2: eta=0.3, max_depth=2, gamma=0.0, colsample_bytree=0.9, min_child_weight=0, subsample=1.0, nrounds=150 \n",
      "- Fold2: eta=0.3, max_depth=2, gamma=0.0, colsample_bytree=0.9, min_child_weight=0, subsample=1.0, nrounds=150 \n",
      "+ Fold2: eta=0.3, max_depth=2, gamma=0.0, colsample_bytree=0.9, min_child_weight=1, subsample=0.8, nrounds=150 \n",
      "- Fold2: eta=0.3, max_depth=2, gamma=0.0, colsample_bytree=0.9, min_child_weight=1, subsample=0.8, nrounds=150 \n",
      "+ Fold2: eta=0.3, max_depth=2, gamma=0.0, colsample_bytree=0.9, min_child_weight=1, subsample=1.0, nrounds=150 \n",
      "- Fold2: eta=0.3, max_depth=2, gamma=0.0, colsample_bytree=0.9, min_child_weight=1, subsample=1.0, nrounds=150 \n",
      "+ Fold2: eta=0.3, max_depth=2, gamma=0.0, colsample_bytree=0.9, min_child_weight=2, subsample=0.8, nrounds=150 \n",
      "- Fold2: eta=0.3, max_depth=2, gamma=0.0, colsample_bytree=0.9, min_child_weight=2, subsample=0.8, nrounds=150 \n",
      "+ Fold2: eta=0.3, max_depth=2, gamma=0.0, colsample_bytree=0.9, min_child_weight=2, subsample=1.0, nrounds=150 \n",
      "- Fold2: eta=0.3, max_depth=2, gamma=0.0, colsample_bytree=0.9, min_child_weight=2, subsample=1.0, nrounds=150 \n",
      "+ Fold2: eta=0.3, max_depth=2, gamma=0.1, colsample_bytree=0.6, min_child_weight=0, subsample=0.8, nrounds=150 \n",
      "- Fold2: eta=0.3, max_depth=2, gamma=0.1, colsample_bytree=0.6, min_child_weight=0, subsample=0.8, nrounds=150 \n",
      "+ Fold2: eta=0.3, max_depth=2, gamma=0.1, colsample_bytree=0.6, min_child_weight=0, subsample=1.0, nrounds=150 \n",
      "- Fold2: eta=0.3, max_depth=2, gamma=0.1, colsample_bytree=0.6, min_child_weight=0, subsample=1.0, nrounds=150 \n",
      "+ Fold2: eta=0.3, max_depth=2, gamma=0.1, colsample_bytree=0.6, min_child_weight=1, subsample=0.8, nrounds=150 \n",
      "- Fold2: eta=0.3, max_depth=2, gamma=0.1, colsample_bytree=0.6, min_child_weight=1, subsample=0.8, nrounds=150 \n",
      "+ Fold2: eta=0.3, max_depth=2, gamma=0.1, colsample_bytree=0.6, min_child_weight=1, subsample=1.0, nrounds=150 \n",
      "- Fold2: eta=0.3, max_depth=2, gamma=0.1, colsample_bytree=0.6, min_child_weight=1, subsample=1.0, nrounds=150 \n",
      "+ Fold2: eta=0.3, max_depth=2, gamma=0.1, colsample_bytree=0.6, min_child_weight=2, subsample=0.8, nrounds=150 \n",
      "- Fold2: eta=0.3, max_depth=2, gamma=0.1, colsample_bytree=0.6, min_child_weight=2, subsample=0.8, nrounds=150 \n",
      "+ Fold2: eta=0.3, max_depth=2, gamma=0.1, colsample_bytree=0.6, min_child_weight=2, subsample=1.0, nrounds=150 \n",
      "- Fold2: eta=0.3, max_depth=2, gamma=0.1, colsample_bytree=0.6, min_child_weight=2, subsample=1.0, nrounds=150 \n",
      "+ Fold2: eta=0.3, max_depth=2, gamma=0.1, colsample_bytree=0.8, min_child_weight=0, subsample=0.8, nrounds=150 \n",
      "- Fold2: eta=0.3, max_depth=2, gamma=0.1, colsample_bytree=0.8, min_child_weight=0, subsample=0.8, nrounds=150 \n",
      "+ Fold2: eta=0.3, max_depth=2, gamma=0.1, colsample_bytree=0.8, min_child_weight=0, subsample=1.0, nrounds=150 \n",
      "- Fold2: eta=0.3, max_depth=2, gamma=0.1, colsample_bytree=0.8, min_child_weight=0, subsample=1.0, nrounds=150 \n",
      "+ Fold2: eta=0.3, max_depth=2, gamma=0.1, colsample_bytree=0.8, min_child_weight=1, subsample=0.8, nrounds=150 \n",
      "- Fold2: eta=0.3, max_depth=2, gamma=0.1, colsample_bytree=0.8, min_child_weight=1, subsample=0.8, nrounds=150 \n",
      "+ Fold2: eta=0.3, max_depth=2, gamma=0.1, colsample_bytree=0.8, min_child_weight=1, subsample=1.0, nrounds=150 \n",
      "- Fold2: eta=0.3, max_depth=2, gamma=0.1, colsample_bytree=0.8, min_child_weight=1, subsample=1.0, nrounds=150 \n",
      "+ Fold2: eta=0.3, max_depth=2, gamma=0.1, colsample_bytree=0.8, min_child_weight=2, subsample=0.8, nrounds=150 \n",
      "- Fold2: eta=0.3, max_depth=2, gamma=0.1, colsample_bytree=0.8, min_child_weight=2, subsample=0.8, nrounds=150 \n",
      "+ Fold2: eta=0.3, max_depth=2, gamma=0.1, colsample_bytree=0.8, min_child_weight=2, subsample=1.0, nrounds=150 \n",
      "- Fold2: eta=0.3, max_depth=2, gamma=0.1, colsample_bytree=0.8, min_child_weight=2, subsample=1.0, nrounds=150 \n",
      "+ Fold2: eta=0.3, max_depth=2, gamma=0.1, colsample_bytree=0.9, min_child_weight=0, subsample=0.8, nrounds=150 \n",
      "- Fold2: eta=0.3, max_depth=2, gamma=0.1, colsample_bytree=0.9, min_child_weight=0, subsample=0.8, nrounds=150 \n",
      "+ Fold2: eta=0.3, max_depth=2, gamma=0.1, colsample_bytree=0.9, min_child_weight=0, subsample=1.0, nrounds=150 \n",
      "- Fold2: eta=0.3, max_depth=2, gamma=0.1, colsample_bytree=0.9, min_child_weight=0, subsample=1.0, nrounds=150 \n",
      "+ Fold2: eta=0.3, max_depth=2, gamma=0.1, colsample_bytree=0.9, min_child_weight=1, subsample=0.8, nrounds=150 \n",
      "- Fold2: eta=0.3, max_depth=2, gamma=0.1, colsample_bytree=0.9, min_child_weight=1, subsample=0.8, nrounds=150 \n",
      "+ Fold2: eta=0.3, max_depth=2, gamma=0.1, colsample_bytree=0.9, min_child_weight=1, subsample=1.0, nrounds=150 \n",
      "- Fold2: eta=0.3, max_depth=2, gamma=0.1, colsample_bytree=0.9, min_child_weight=1, subsample=1.0, nrounds=150 \n",
      "+ Fold2: eta=0.3, max_depth=2, gamma=0.1, colsample_bytree=0.9, min_child_weight=2, subsample=0.8, nrounds=150 \n",
      "- Fold2: eta=0.3, max_depth=2, gamma=0.1, colsample_bytree=0.9, min_child_weight=2, subsample=0.8, nrounds=150 \n",
      "+ Fold2: eta=0.3, max_depth=2, gamma=0.1, colsample_bytree=0.9, min_child_weight=2, subsample=1.0, nrounds=150 \n",
      "- Fold2: eta=0.3, max_depth=2, gamma=0.1, colsample_bytree=0.9, min_child_weight=2, subsample=1.0, nrounds=150 \n",
      "+ Fold3: eta=0.1, max_depth=0, gamma=0.0, colsample_bytree=0.6, min_child_weight=0, subsample=0.8, nrounds=150 \n",
      "- Fold3: eta=0.1, max_depth=0, gamma=0.0, colsample_bytree=0.6, min_child_weight=0, subsample=0.8, nrounds=150 \n",
      "+ Fold3: eta=0.1, max_depth=0, gamma=0.0, colsample_bytree=0.6, min_child_weight=0, subsample=1.0, nrounds=150 \n",
      "- Fold3: eta=0.1, max_depth=0, gamma=0.0, colsample_bytree=0.6, min_child_weight=0, subsample=1.0, nrounds=150 \n",
      "+ Fold3: eta=0.1, max_depth=0, gamma=0.0, colsample_bytree=0.6, min_child_weight=1, subsample=0.8, nrounds=150 \n",
      "- Fold3: eta=0.1, max_depth=0, gamma=0.0, colsample_bytree=0.6, min_child_weight=1, subsample=0.8, nrounds=150 \n",
      "+ Fold3: eta=0.1, max_depth=0, gamma=0.0, colsample_bytree=0.6, min_child_weight=1, subsample=1.0, nrounds=150 \n",
      "- Fold3: eta=0.1, max_depth=0, gamma=0.0, colsample_bytree=0.6, min_child_weight=1, subsample=1.0, nrounds=150 \n",
      "+ Fold3: eta=0.1, max_depth=0, gamma=0.0, colsample_bytree=0.6, min_child_weight=2, subsample=0.8, nrounds=150 \n",
      "- Fold3: eta=0.1, max_depth=0, gamma=0.0, colsample_bytree=0.6, min_child_weight=2, subsample=0.8, nrounds=150 \n",
      "+ Fold3: eta=0.1, max_depth=0, gamma=0.0, colsample_bytree=0.6, min_child_weight=2, subsample=1.0, nrounds=150 \n",
      "- Fold3: eta=0.1, max_depth=0, gamma=0.0, colsample_bytree=0.6, min_child_weight=2, subsample=1.0, nrounds=150 \n",
      "+ Fold3: eta=0.1, max_depth=0, gamma=0.0, colsample_bytree=0.8, min_child_weight=0, subsample=0.8, nrounds=150 \n",
      "- Fold3: eta=0.1, max_depth=0, gamma=0.0, colsample_bytree=0.8, min_child_weight=0, subsample=0.8, nrounds=150 \n",
      "+ Fold3: eta=0.1, max_depth=0, gamma=0.0, colsample_bytree=0.8, min_child_weight=0, subsample=1.0, nrounds=150 \n",
      "- Fold3: eta=0.1, max_depth=0, gamma=0.0, colsample_bytree=0.8, min_child_weight=0, subsample=1.0, nrounds=150 \n",
      "+ Fold3: eta=0.1, max_depth=0, gamma=0.0, colsample_bytree=0.8, min_child_weight=1, subsample=0.8, nrounds=150 \n",
      "- Fold3: eta=0.1, max_depth=0, gamma=0.0, colsample_bytree=0.8, min_child_weight=1, subsample=0.8, nrounds=150 \n",
      "+ Fold3: eta=0.1, max_depth=0, gamma=0.0, colsample_bytree=0.8, min_child_weight=1, subsample=1.0, nrounds=150 \n",
      "- Fold3: eta=0.1, max_depth=0, gamma=0.0, colsample_bytree=0.8, min_child_weight=1, subsample=1.0, nrounds=150 \n",
      "+ Fold3: eta=0.1, max_depth=0, gamma=0.0, colsample_bytree=0.8, min_child_weight=2, subsample=0.8, nrounds=150 \n",
      "- Fold3: eta=0.1, max_depth=0, gamma=0.0, colsample_bytree=0.8, min_child_weight=2, subsample=0.8, nrounds=150 \n",
      "+ Fold3: eta=0.1, max_depth=0, gamma=0.0, colsample_bytree=0.8, min_child_weight=2, subsample=1.0, nrounds=150 \n",
      "- Fold3: eta=0.1, max_depth=0, gamma=0.0, colsample_bytree=0.8, min_child_weight=2, subsample=1.0, nrounds=150 \n",
      "+ Fold3: eta=0.1, max_depth=0, gamma=0.0, colsample_bytree=0.9, min_child_weight=0, subsample=0.8, nrounds=150 \n",
      "- Fold3: eta=0.1, max_depth=0, gamma=0.0, colsample_bytree=0.9, min_child_weight=0, subsample=0.8, nrounds=150 \n",
      "+ Fold3: eta=0.1, max_depth=0, gamma=0.0, colsample_bytree=0.9, min_child_weight=0, subsample=1.0, nrounds=150 \n",
      "- Fold3: eta=0.1, max_depth=0, gamma=0.0, colsample_bytree=0.9, min_child_weight=0, subsample=1.0, nrounds=150 \n",
      "+ Fold3: eta=0.1, max_depth=0, gamma=0.0, colsample_bytree=0.9, min_child_weight=1, subsample=0.8, nrounds=150 \n",
      "- Fold3: eta=0.1, max_depth=0, gamma=0.0, colsample_bytree=0.9, min_child_weight=1, subsample=0.8, nrounds=150 \n",
      "+ Fold3: eta=0.1, max_depth=0, gamma=0.0, colsample_bytree=0.9, min_child_weight=1, subsample=1.0, nrounds=150 \n",
      "- Fold3: eta=0.1, max_depth=0, gamma=0.0, colsample_bytree=0.9, min_child_weight=1, subsample=1.0, nrounds=150 \n",
      "+ Fold3: eta=0.1, max_depth=0, gamma=0.0, colsample_bytree=0.9, min_child_weight=2, subsample=0.8, nrounds=150 \n",
      "- Fold3: eta=0.1, max_depth=0, gamma=0.0, colsample_bytree=0.9, min_child_weight=2, subsample=0.8, nrounds=150 \n",
      "+ Fold3: eta=0.1, max_depth=0, gamma=0.0, colsample_bytree=0.9, min_child_weight=2, subsample=1.0, nrounds=150 \n",
      "- Fold3: eta=0.1, max_depth=0, gamma=0.0, colsample_bytree=0.9, min_child_weight=2, subsample=1.0, nrounds=150 \n",
      "+ Fold3: eta=0.1, max_depth=0, gamma=0.1, colsample_bytree=0.6, min_child_weight=0, subsample=0.8, nrounds=150 \n",
      "- Fold3: eta=0.1, max_depth=0, gamma=0.1, colsample_bytree=0.6, min_child_weight=0, subsample=0.8, nrounds=150 \n",
      "+ Fold3: eta=0.1, max_depth=0, gamma=0.1, colsample_bytree=0.6, min_child_weight=0, subsample=1.0, nrounds=150 \n",
      "- Fold3: eta=0.1, max_depth=0, gamma=0.1, colsample_bytree=0.6, min_child_weight=0, subsample=1.0, nrounds=150 \n",
      "+ Fold3: eta=0.1, max_depth=0, gamma=0.1, colsample_bytree=0.6, min_child_weight=1, subsample=0.8, nrounds=150 \n",
      "- Fold3: eta=0.1, max_depth=0, gamma=0.1, colsample_bytree=0.6, min_child_weight=1, subsample=0.8, nrounds=150 \n",
      "+ Fold3: eta=0.1, max_depth=0, gamma=0.1, colsample_bytree=0.6, min_child_weight=1, subsample=1.0, nrounds=150 \n",
      "- Fold3: eta=0.1, max_depth=0, gamma=0.1, colsample_bytree=0.6, min_child_weight=1, subsample=1.0, nrounds=150 \n",
      "+ Fold3: eta=0.1, max_depth=0, gamma=0.1, colsample_bytree=0.6, min_child_weight=2, subsample=0.8, nrounds=150 \n",
      "- Fold3: eta=0.1, max_depth=0, gamma=0.1, colsample_bytree=0.6, min_child_weight=2, subsample=0.8, nrounds=150 \n",
      "+ Fold3: eta=0.1, max_depth=0, gamma=0.1, colsample_bytree=0.6, min_child_weight=2, subsample=1.0, nrounds=150 \n",
      "- Fold3: eta=0.1, max_depth=0, gamma=0.1, colsample_bytree=0.6, min_child_weight=2, subsample=1.0, nrounds=150 \n",
      "+ Fold3: eta=0.1, max_depth=0, gamma=0.1, colsample_bytree=0.8, min_child_weight=0, subsample=0.8, nrounds=150 \n",
      "- Fold3: eta=0.1, max_depth=0, gamma=0.1, colsample_bytree=0.8, min_child_weight=0, subsample=0.8, nrounds=150 \n",
      "+ Fold3: eta=0.1, max_depth=0, gamma=0.1, colsample_bytree=0.8, min_child_weight=0, subsample=1.0, nrounds=150 \n",
      "- Fold3: eta=0.1, max_depth=0, gamma=0.1, colsample_bytree=0.8, min_child_weight=0, subsample=1.0, nrounds=150 \n",
      "+ Fold3: eta=0.1, max_depth=0, gamma=0.1, colsample_bytree=0.8, min_child_weight=1, subsample=0.8, nrounds=150 \n",
      "- Fold3: eta=0.1, max_depth=0, gamma=0.1, colsample_bytree=0.8, min_child_weight=1, subsample=0.8, nrounds=150 \n",
      "+ Fold3: eta=0.1, max_depth=0, gamma=0.1, colsample_bytree=0.8, min_child_weight=1, subsample=1.0, nrounds=150 \n",
      "- Fold3: eta=0.1, max_depth=0, gamma=0.1, colsample_bytree=0.8, min_child_weight=1, subsample=1.0, nrounds=150 \n",
      "+ Fold3: eta=0.1, max_depth=0, gamma=0.1, colsample_bytree=0.8, min_child_weight=2, subsample=0.8, nrounds=150 \n",
      "- Fold3: eta=0.1, max_depth=0, gamma=0.1, colsample_bytree=0.8, min_child_weight=2, subsample=0.8, nrounds=150 \n",
      "+ Fold3: eta=0.1, max_depth=0, gamma=0.1, colsample_bytree=0.8, min_child_weight=2, subsample=1.0, nrounds=150 \n",
      "- Fold3: eta=0.1, max_depth=0, gamma=0.1, colsample_bytree=0.8, min_child_weight=2, subsample=1.0, nrounds=150 \n",
      "+ Fold3: eta=0.1, max_depth=0, gamma=0.1, colsample_bytree=0.9, min_child_weight=0, subsample=0.8, nrounds=150 \n",
      "- Fold3: eta=0.1, max_depth=0, gamma=0.1, colsample_bytree=0.9, min_child_weight=0, subsample=0.8, nrounds=150 \n",
      "+ Fold3: eta=0.1, max_depth=0, gamma=0.1, colsample_bytree=0.9, min_child_weight=0, subsample=1.0, nrounds=150 \n",
      "- Fold3: eta=0.1, max_depth=0, gamma=0.1, colsample_bytree=0.9, min_child_weight=0, subsample=1.0, nrounds=150 \n",
      "+ Fold3: eta=0.1, max_depth=0, gamma=0.1, colsample_bytree=0.9, min_child_weight=1, subsample=0.8, nrounds=150 \n",
      "- Fold3: eta=0.1, max_depth=0, gamma=0.1, colsample_bytree=0.9, min_child_weight=1, subsample=0.8, nrounds=150 \n",
      "+ Fold3: eta=0.1, max_depth=0, gamma=0.1, colsample_bytree=0.9, min_child_weight=1, subsample=1.0, nrounds=150 \n",
      "- Fold3: eta=0.1, max_depth=0, gamma=0.1, colsample_bytree=0.9, min_child_weight=1, subsample=1.0, nrounds=150 \n",
      "+ Fold3: eta=0.1, max_depth=0, gamma=0.1, colsample_bytree=0.9, min_child_weight=2, subsample=0.8, nrounds=150 \n",
      "- Fold3: eta=0.1, max_depth=0, gamma=0.1, colsample_bytree=0.9, min_child_weight=2, subsample=0.8, nrounds=150 \n",
      "+ Fold3: eta=0.1, max_depth=0, gamma=0.1, colsample_bytree=0.9, min_child_weight=2, subsample=1.0, nrounds=150 \n",
      "- Fold3: eta=0.1, max_depth=0, gamma=0.1, colsample_bytree=0.9, min_child_weight=2, subsample=1.0, nrounds=150 \n",
      "+ Fold3: eta=0.1, max_depth=1, gamma=0.0, colsample_bytree=0.6, min_child_weight=0, subsample=0.8, nrounds=150 \n",
      "- Fold3: eta=0.1, max_depth=1, gamma=0.0, colsample_bytree=0.6, min_child_weight=0, subsample=0.8, nrounds=150 \n",
      "+ Fold3: eta=0.1, max_depth=1, gamma=0.0, colsample_bytree=0.6, min_child_weight=0, subsample=1.0, nrounds=150 \n",
      "- Fold3: eta=0.1, max_depth=1, gamma=0.0, colsample_bytree=0.6, min_child_weight=0, subsample=1.0, nrounds=150 \n",
      "+ Fold3: eta=0.1, max_depth=1, gamma=0.0, colsample_bytree=0.6, min_child_weight=1, subsample=0.8, nrounds=150 \n",
      "- Fold3: eta=0.1, max_depth=1, gamma=0.0, colsample_bytree=0.6, min_child_weight=1, subsample=0.8, nrounds=150 \n",
      "+ Fold3: eta=0.1, max_depth=1, gamma=0.0, colsample_bytree=0.6, min_child_weight=1, subsample=1.0, nrounds=150 \n",
      "- Fold3: eta=0.1, max_depth=1, gamma=0.0, colsample_bytree=0.6, min_child_weight=1, subsample=1.0, nrounds=150 \n",
      "+ Fold3: eta=0.1, max_depth=1, gamma=0.0, colsample_bytree=0.6, min_child_weight=2, subsample=0.8, nrounds=150 \n",
      "- Fold3: eta=0.1, max_depth=1, gamma=0.0, colsample_bytree=0.6, min_child_weight=2, subsample=0.8, nrounds=150 \n",
      "+ Fold3: eta=0.1, max_depth=1, gamma=0.0, colsample_bytree=0.6, min_child_weight=2, subsample=1.0, nrounds=150 \n",
      "- Fold3: eta=0.1, max_depth=1, gamma=0.0, colsample_bytree=0.6, min_child_weight=2, subsample=1.0, nrounds=150 \n",
      "+ Fold3: eta=0.1, max_depth=1, gamma=0.0, colsample_bytree=0.8, min_child_weight=0, subsample=0.8, nrounds=150 \n",
      "- Fold3: eta=0.1, max_depth=1, gamma=0.0, colsample_bytree=0.8, min_child_weight=0, subsample=0.8, nrounds=150 \n",
      "+ Fold3: eta=0.1, max_depth=1, gamma=0.0, colsample_bytree=0.8, min_child_weight=0, subsample=1.0, nrounds=150 \n",
      "- Fold3: eta=0.1, max_depth=1, gamma=0.0, colsample_bytree=0.8, min_child_weight=0, subsample=1.0, nrounds=150 \n",
      "+ Fold3: eta=0.1, max_depth=1, gamma=0.0, colsample_bytree=0.8, min_child_weight=1, subsample=0.8, nrounds=150 \n",
      "- Fold3: eta=0.1, max_depth=1, gamma=0.0, colsample_bytree=0.8, min_child_weight=1, subsample=0.8, nrounds=150 \n",
      "+ Fold3: eta=0.1, max_depth=1, gamma=0.0, colsample_bytree=0.8, min_child_weight=1, subsample=1.0, nrounds=150 \n",
      "- Fold3: eta=0.1, max_depth=1, gamma=0.0, colsample_bytree=0.8, min_child_weight=1, subsample=1.0, nrounds=150 \n",
      "+ Fold3: eta=0.1, max_depth=1, gamma=0.0, colsample_bytree=0.8, min_child_weight=2, subsample=0.8, nrounds=150 \n",
      "- Fold3: eta=0.1, max_depth=1, gamma=0.0, colsample_bytree=0.8, min_child_weight=2, subsample=0.8, nrounds=150 \n",
      "+ Fold3: eta=0.1, max_depth=1, gamma=0.0, colsample_bytree=0.8, min_child_weight=2, subsample=1.0, nrounds=150 \n",
      "- Fold3: eta=0.1, max_depth=1, gamma=0.0, colsample_bytree=0.8, min_child_weight=2, subsample=1.0, nrounds=150 \n",
      "+ Fold3: eta=0.1, max_depth=1, gamma=0.0, colsample_bytree=0.9, min_child_weight=0, subsample=0.8, nrounds=150 \n",
      "- Fold3: eta=0.1, max_depth=1, gamma=0.0, colsample_bytree=0.9, min_child_weight=0, subsample=0.8, nrounds=150 \n",
      "+ Fold3: eta=0.1, max_depth=1, gamma=0.0, colsample_bytree=0.9, min_child_weight=0, subsample=1.0, nrounds=150 \n",
      "- Fold3: eta=0.1, max_depth=1, gamma=0.0, colsample_bytree=0.9, min_child_weight=0, subsample=1.0, nrounds=150 \n",
      "+ Fold3: eta=0.1, max_depth=1, gamma=0.0, colsample_bytree=0.9, min_child_weight=1, subsample=0.8, nrounds=150 \n",
      "- Fold3: eta=0.1, max_depth=1, gamma=0.0, colsample_bytree=0.9, min_child_weight=1, subsample=0.8, nrounds=150 \n",
      "+ Fold3: eta=0.1, max_depth=1, gamma=0.0, colsample_bytree=0.9, min_child_weight=1, subsample=1.0, nrounds=150 \n",
      "- Fold3: eta=0.1, max_depth=1, gamma=0.0, colsample_bytree=0.9, min_child_weight=1, subsample=1.0, nrounds=150 \n",
      "+ Fold3: eta=0.1, max_depth=1, gamma=0.0, colsample_bytree=0.9, min_child_weight=2, subsample=0.8, nrounds=150 \n",
      "- Fold3: eta=0.1, max_depth=1, gamma=0.0, colsample_bytree=0.9, min_child_weight=2, subsample=0.8, nrounds=150 \n",
      "+ Fold3: eta=0.1, max_depth=1, gamma=0.0, colsample_bytree=0.9, min_child_weight=2, subsample=1.0, nrounds=150 \n",
      "- Fold3: eta=0.1, max_depth=1, gamma=0.0, colsample_bytree=0.9, min_child_weight=2, subsample=1.0, nrounds=150 \n",
      "+ Fold3: eta=0.1, max_depth=1, gamma=0.1, colsample_bytree=0.6, min_child_weight=0, subsample=0.8, nrounds=150 \n",
      "- Fold3: eta=0.1, max_depth=1, gamma=0.1, colsample_bytree=0.6, min_child_weight=0, subsample=0.8, nrounds=150 \n",
      "+ Fold3: eta=0.1, max_depth=1, gamma=0.1, colsample_bytree=0.6, min_child_weight=0, subsample=1.0, nrounds=150 \n",
      "- Fold3: eta=0.1, max_depth=1, gamma=0.1, colsample_bytree=0.6, min_child_weight=0, subsample=1.0, nrounds=150 \n",
      "+ Fold3: eta=0.1, max_depth=1, gamma=0.1, colsample_bytree=0.6, min_child_weight=1, subsample=0.8, nrounds=150 \n",
      "- Fold3: eta=0.1, max_depth=1, gamma=0.1, colsample_bytree=0.6, min_child_weight=1, subsample=0.8, nrounds=150 \n",
      "+ Fold3: eta=0.1, max_depth=1, gamma=0.1, colsample_bytree=0.6, min_child_weight=1, subsample=1.0, nrounds=150 \n",
      "- Fold3: eta=0.1, max_depth=1, gamma=0.1, colsample_bytree=0.6, min_child_weight=1, subsample=1.0, nrounds=150 \n",
      "+ Fold3: eta=0.1, max_depth=1, gamma=0.1, colsample_bytree=0.6, min_child_weight=2, subsample=0.8, nrounds=150 \n",
      "- Fold3: eta=0.1, max_depth=1, gamma=0.1, colsample_bytree=0.6, min_child_weight=2, subsample=0.8, nrounds=150 \n",
      "+ Fold3: eta=0.1, max_depth=1, gamma=0.1, colsample_bytree=0.6, min_child_weight=2, subsample=1.0, nrounds=150 \n",
      "- Fold3: eta=0.1, max_depth=1, gamma=0.1, colsample_bytree=0.6, min_child_weight=2, subsample=1.0, nrounds=150 \n",
      "+ Fold3: eta=0.1, max_depth=1, gamma=0.1, colsample_bytree=0.8, min_child_weight=0, subsample=0.8, nrounds=150 \n",
      "- Fold3: eta=0.1, max_depth=1, gamma=0.1, colsample_bytree=0.8, min_child_weight=0, subsample=0.8, nrounds=150 \n",
      "+ Fold3: eta=0.1, max_depth=1, gamma=0.1, colsample_bytree=0.8, min_child_weight=0, subsample=1.0, nrounds=150 \n",
      "- Fold3: eta=0.1, max_depth=1, gamma=0.1, colsample_bytree=0.8, min_child_weight=0, subsample=1.0, nrounds=150 \n",
      "+ Fold3: eta=0.1, max_depth=1, gamma=0.1, colsample_bytree=0.8, min_child_weight=1, subsample=0.8, nrounds=150 \n",
      "- Fold3: eta=0.1, max_depth=1, gamma=0.1, colsample_bytree=0.8, min_child_weight=1, subsample=0.8, nrounds=150 \n",
      "+ Fold3: eta=0.1, max_depth=1, gamma=0.1, colsample_bytree=0.8, min_child_weight=1, subsample=1.0, nrounds=150 \n",
      "- Fold3: eta=0.1, max_depth=1, gamma=0.1, colsample_bytree=0.8, min_child_weight=1, subsample=1.0, nrounds=150 \n",
      "+ Fold3: eta=0.1, max_depth=1, gamma=0.1, colsample_bytree=0.8, min_child_weight=2, subsample=0.8, nrounds=150 \n",
      "- Fold3: eta=0.1, max_depth=1, gamma=0.1, colsample_bytree=0.8, min_child_weight=2, subsample=0.8, nrounds=150 \n",
      "+ Fold3: eta=0.1, max_depth=1, gamma=0.1, colsample_bytree=0.8, min_child_weight=2, subsample=1.0, nrounds=150 \n",
      "- Fold3: eta=0.1, max_depth=1, gamma=0.1, colsample_bytree=0.8, min_child_weight=2, subsample=1.0, nrounds=150 \n",
      "+ Fold3: eta=0.1, max_depth=1, gamma=0.1, colsample_bytree=0.9, min_child_weight=0, subsample=0.8, nrounds=150 \n",
      "- Fold3: eta=0.1, max_depth=1, gamma=0.1, colsample_bytree=0.9, min_child_weight=0, subsample=0.8, nrounds=150 \n",
      "+ Fold3: eta=0.1, max_depth=1, gamma=0.1, colsample_bytree=0.9, min_child_weight=0, subsample=1.0, nrounds=150 \n",
      "- Fold3: eta=0.1, max_depth=1, gamma=0.1, colsample_bytree=0.9, min_child_weight=0, subsample=1.0, nrounds=150 \n",
      "+ Fold3: eta=0.1, max_depth=1, gamma=0.1, colsample_bytree=0.9, min_child_weight=1, subsample=0.8, nrounds=150 \n",
      "- Fold3: eta=0.1, max_depth=1, gamma=0.1, colsample_bytree=0.9, min_child_weight=1, subsample=0.8, nrounds=150 \n",
      "+ Fold3: eta=0.1, max_depth=1, gamma=0.1, colsample_bytree=0.9, min_child_weight=1, subsample=1.0, nrounds=150 \n",
      "- Fold3: eta=0.1, max_depth=1, gamma=0.1, colsample_bytree=0.9, min_child_weight=1, subsample=1.0, nrounds=150 \n",
      "+ Fold3: eta=0.1, max_depth=1, gamma=0.1, colsample_bytree=0.9, min_child_weight=2, subsample=0.8, nrounds=150 \n",
      "- Fold3: eta=0.1, max_depth=1, gamma=0.1, colsample_bytree=0.9, min_child_weight=2, subsample=0.8, nrounds=150 \n",
      "+ Fold3: eta=0.1, max_depth=1, gamma=0.1, colsample_bytree=0.9, min_child_weight=2, subsample=1.0, nrounds=150 \n",
      "- Fold3: eta=0.1, max_depth=1, gamma=0.1, colsample_bytree=0.9, min_child_weight=2, subsample=1.0, nrounds=150 \n",
      "+ Fold3: eta=0.1, max_depth=2, gamma=0.0, colsample_bytree=0.6, min_child_weight=0, subsample=0.8, nrounds=150 \n",
      "- Fold3: eta=0.1, max_depth=2, gamma=0.0, colsample_bytree=0.6, min_child_weight=0, subsample=0.8, nrounds=150 \n",
      "+ Fold3: eta=0.1, max_depth=2, gamma=0.0, colsample_bytree=0.6, min_child_weight=0, subsample=1.0, nrounds=150 \n",
      "- Fold3: eta=0.1, max_depth=2, gamma=0.0, colsample_bytree=0.6, min_child_weight=0, subsample=1.0, nrounds=150 \n",
      "+ Fold3: eta=0.1, max_depth=2, gamma=0.0, colsample_bytree=0.6, min_child_weight=1, subsample=0.8, nrounds=150 \n",
      "- Fold3: eta=0.1, max_depth=2, gamma=0.0, colsample_bytree=0.6, min_child_weight=1, subsample=0.8, nrounds=150 \n",
      "+ Fold3: eta=0.1, max_depth=2, gamma=0.0, colsample_bytree=0.6, min_child_weight=1, subsample=1.0, nrounds=150 \n",
      "- Fold3: eta=0.1, max_depth=2, gamma=0.0, colsample_bytree=0.6, min_child_weight=1, subsample=1.0, nrounds=150 \n",
      "+ Fold3: eta=0.1, max_depth=2, gamma=0.0, colsample_bytree=0.6, min_child_weight=2, subsample=0.8, nrounds=150 \n",
      "- Fold3: eta=0.1, max_depth=2, gamma=0.0, colsample_bytree=0.6, min_child_weight=2, subsample=0.8, nrounds=150 \n",
      "+ Fold3: eta=0.1, max_depth=2, gamma=0.0, colsample_bytree=0.6, min_child_weight=2, subsample=1.0, nrounds=150 \n",
      "- Fold3: eta=0.1, max_depth=2, gamma=0.0, colsample_bytree=0.6, min_child_weight=2, subsample=1.0, nrounds=150 \n",
      "+ Fold3: eta=0.1, max_depth=2, gamma=0.0, colsample_bytree=0.8, min_child_weight=0, subsample=0.8, nrounds=150 \n",
      "- Fold3: eta=0.1, max_depth=2, gamma=0.0, colsample_bytree=0.8, min_child_weight=0, subsample=0.8, nrounds=150 \n",
      "+ Fold3: eta=0.1, max_depth=2, gamma=0.0, colsample_bytree=0.8, min_child_weight=0, subsample=1.0, nrounds=150 \n",
      "- Fold3: eta=0.1, max_depth=2, gamma=0.0, colsample_bytree=0.8, min_child_weight=0, subsample=1.0, nrounds=150 \n",
      "+ Fold3: eta=0.1, max_depth=2, gamma=0.0, colsample_bytree=0.8, min_child_weight=1, subsample=0.8, nrounds=150 \n",
      "- Fold3: eta=0.1, max_depth=2, gamma=0.0, colsample_bytree=0.8, min_child_weight=1, subsample=0.8, nrounds=150 \n",
      "+ Fold3: eta=0.1, max_depth=2, gamma=0.0, colsample_bytree=0.8, min_child_weight=1, subsample=1.0, nrounds=150 \n",
      "- Fold3: eta=0.1, max_depth=2, gamma=0.0, colsample_bytree=0.8, min_child_weight=1, subsample=1.0, nrounds=150 \n",
      "+ Fold3: eta=0.1, max_depth=2, gamma=0.0, colsample_bytree=0.8, min_child_weight=2, subsample=0.8, nrounds=150 \n",
      "- Fold3: eta=0.1, max_depth=2, gamma=0.0, colsample_bytree=0.8, min_child_weight=2, subsample=0.8, nrounds=150 \n",
      "+ Fold3: eta=0.1, max_depth=2, gamma=0.0, colsample_bytree=0.8, min_child_weight=2, subsample=1.0, nrounds=150 \n",
      "- Fold3: eta=0.1, max_depth=2, gamma=0.0, colsample_bytree=0.8, min_child_weight=2, subsample=1.0, nrounds=150 \n",
      "+ Fold3: eta=0.1, max_depth=2, gamma=0.0, colsample_bytree=0.9, min_child_weight=0, subsample=0.8, nrounds=150 \n",
      "- Fold3: eta=0.1, max_depth=2, gamma=0.0, colsample_bytree=0.9, min_child_weight=0, subsample=0.8, nrounds=150 \n",
      "+ Fold3: eta=0.1, max_depth=2, gamma=0.0, colsample_bytree=0.9, min_child_weight=0, subsample=1.0, nrounds=150 \n",
      "- Fold3: eta=0.1, max_depth=2, gamma=0.0, colsample_bytree=0.9, min_child_weight=0, subsample=1.0, nrounds=150 \n",
      "+ Fold3: eta=0.1, max_depth=2, gamma=0.0, colsample_bytree=0.9, min_child_weight=1, subsample=0.8, nrounds=150 \n",
      "- Fold3: eta=0.1, max_depth=2, gamma=0.0, colsample_bytree=0.9, min_child_weight=1, subsample=0.8, nrounds=150 \n",
      "+ Fold3: eta=0.1, max_depth=2, gamma=0.0, colsample_bytree=0.9, min_child_weight=1, subsample=1.0, nrounds=150 \n",
      "- Fold3: eta=0.1, max_depth=2, gamma=0.0, colsample_bytree=0.9, min_child_weight=1, subsample=1.0, nrounds=150 \n",
      "+ Fold3: eta=0.1, max_depth=2, gamma=0.0, colsample_bytree=0.9, min_child_weight=2, subsample=0.8, nrounds=150 \n",
      "- Fold3: eta=0.1, max_depth=2, gamma=0.0, colsample_bytree=0.9, min_child_weight=2, subsample=0.8, nrounds=150 \n",
      "+ Fold3: eta=0.1, max_depth=2, gamma=0.0, colsample_bytree=0.9, min_child_weight=2, subsample=1.0, nrounds=150 \n",
      "- Fold3: eta=0.1, max_depth=2, gamma=0.0, colsample_bytree=0.9, min_child_weight=2, subsample=1.0, nrounds=150 \n",
      "+ Fold3: eta=0.1, max_depth=2, gamma=0.1, colsample_bytree=0.6, min_child_weight=0, subsample=0.8, nrounds=150 \n",
      "- Fold3: eta=0.1, max_depth=2, gamma=0.1, colsample_bytree=0.6, min_child_weight=0, subsample=0.8, nrounds=150 \n",
      "+ Fold3: eta=0.1, max_depth=2, gamma=0.1, colsample_bytree=0.6, min_child_weight=0, subsample=1.0, nrounds=150 \n",
      "- Fold3: eta=0.1, max_depth=2, gamma=0.1, colsample_bytree=0.6, min_child_weight=0, subsample=1.0, nrounds=150 \n",
      "+ Fold3: eta=0.1, max_depth=2, gamma=0.1, colsample_bytree=0.6, min_child_weight=1, subsample=0.8, nrounds=150 \n",
      "- Fold3: eta=0.1, max_depth=2, gamma=0.1, colsample_bytree=0.6, min_child_weight=1, subsample=0.8, nrounds=150 \n",
      "+ Fold3: eta=0.1, max_depth=2, gamma=0.1, colsample_bytree=0.6, min_child_weight=1, subsample=1.0, nrounds=150 \n",
      "- Fold3: eta=0.1, max_depth=2, gamma=0.1, colsample_bytree=0.6, min_child_weight=1, subsample=1.0, nrounds=150 \n",
      "+ Fold3: eta=0.1, max_depth=2, gamma=0.1, colsample_bytree=0.6, min_child_weight=2, subsample=0.8, nrounds=150 \n",
      "- Fold3: eta=0.1, max_depth=2, gamma=0.1, colsample_bytree=0.6, min_child_weight=2, subsample=0.8, nrounds=150 \n",
      "+ Fold3: eta=0.1, max_depth=2, gamma=0.1, colsample_bytree=0.6, min_child_weight=2, subsample=1.0, nrounds=150 \n",
      "- Fold3: eta=0.1, max_depth=2, gamma=0.1, colsample_bytree=0.6, min_child_weight=2, subsample=1.0, nrounds=150 \n",
      "+ Fold3: eta=0.1, max_depth=2, gamma=0.1, colsample_bytree=0.8, min_child_weight=0, subsample=0.8, nrounds=150 \n",
      "- Fold3: eta=0.1, max_depth=2, gamma=0.1, colsample_bytree=0.8, min_child_weight=0, subsample=0.8, nrounds=150 \n",
      "+ Fold3: eta=0.1, max_depth=2, gamma=0.1, colsample_bytree=0.8, min_child_weight=0, subsample=1.0, nrounds=150 \n",
      "- Fold3: eta=0.1, max_depth=2, gamma=0.1, colsample_bytree=0.8, min_child_weight=0, subsample=1.0, nrounds=150 \n",
      "+ Fold3: eta=0.1, max_depth=2, gamma=0.1, colsample_bytree=0.8, min_child_weight=1, subsample=0.8, nrounds=150 \n",
      "- Fold3: eta=0.1, max_depth=2, gamma=0.1, colsample_bytree=0.8, min_child_weight=1, subsample=0.8, nrounds=150 \n",
      "+ Fold3: eta=0.1, max_depth=2, gamma=0.1, colsample_bytree=0.8, min_child_weight=1, subsample=1.0, nrounds=150 \n",
      "- Fold3: eta=0.1, max_depth=2, gamma=0.1, colsample_bytree=0.8, min_child_weight=1, subsample=1.0, nrounds=150 \n",
      "+ Fold3: eta=0.1, max_depth=2, gamma=0.1, colsample_bytree=0.8, min_child_weight=2, subsample=0.8, nrounds=150 \n",
      "- Fold3: eta=0.1, max_depth=2, gamma=0.1, colsample_bytree=0.8, min_child_weight=2, subsample=0.8, nrounds=150 \n",
      "+ Fold3: eta=0.1, max_depth=2, gamma=0.1, colsample_bytree=0.8, min_child_weight=2, subsample=1.0, nrounds=150 \n",
      "- Fold3: eta=0.1, max_depth=2, gamma=0.1, colsample_bytree=0.8, min_child_weight=2, subsample=1.0, nrounds=150 \n",
      "+ Fold3: eta=0.1, max_depth=2, gamma=0.1, colsample_bytree=0.9, min_child_weight=0, subsample=0.8, nrounds=150 \n",
      "- Fold3: eta=0.1, max_depth=2, gamma=0.1, colsample_bytree=0.9, min_child_weight=0, subsample=0.8, nrounds=150 \n",
      "+ Fold3: eta=0.1, max_depth=2, gamma=0.1, colsample_bytree=0.9, min_child_weight=0, subsample=1.0, nrounds=150 \n",
      "- Fold3: eta=0.1, max_depth=2, gamma=0.1, colsample_bytree=0.9, min_child_weight=0, subsample=1.0, nrounds=150 \n",
      "+ Fold3: eta=0.1, max_depth=2, gamma=0.1, colsample_bytree=0.9, min_child_weight=1, subsample=0.8, nrounds=150 \n",
      "- Fold3: eta=0.1, max_depth=2, gamma=0.1, colsample_bytree=0.9, min_child_weight=1, subsample=0.8, nrounds=150 \n",
      "+ Fold3: eta=0.1, max_depth=2, gamma=0.1, colsample_bytree=0.9, min_child_weight=1, subsample=1.0, nrounds=150 \n",
      "- Fold3: eta=0.1, max_depth=2, gamma=0.1, colsample_bytree=0.9, min_child_weight=1, subsample=1.0, nrounds=150 \n",
      "+ Fold3: eta=0.1, max_depth=2, gamma=0.1, colsample_bytree=0.9, min_child_weight=2, subsample=0.8, nrounds=150 \n",
      "- Fold3: eta=0.1, max_depth=2, gamma=0.1, colsample_bytree=0.9, min_child_weight=2, subsample=0.8, nrounds=150 \n",
      "+ Fold3: eta=0.1, max_depth=2, gamma=0.1, colsample_bytree=0.9, min_child_weight=2, subsample=1.0, nrounds=150 \n",
      "- Fold3: eta=0.1, max_depth=2, gamma=0.1, colsample_bytree=0.9, min_child_weight=2, subsample=1.0, nrounds=150 \n",
      "+ Fold3: eta=0.3, max_depth=0, gamma=0.0, colsample_bytree=0.6, min_child_weight=0, subsample=0.8, nrounds=150 \n",
      "- Fold3: eta=0.3, max_depth=0, gamma=0.0, colsample_bytree=0.6, min_child_weight=0, subsample=0.8, nrounds=150 \n",
      "+ Fold3: eta=0.3, max_depth=0, gamma=0.0, colsample_bytree=0.6, min_child_weight=0, subsample=1.0, nrounds=150 \n",
      "- Fold3: eta=0.3, max_depth=0, gamma=0.0, colsample_bytree=0.6, min_child_weight=0, subsample=1.0, nrounds=150 \n",
      "+ Fold3: eta=0.3, max_depth=0, gamma=0.0, colsample_bytree=0.6, min_child_weight=1, subsample=0.8, nrounds=150 \n",
      "- Fold3: eta=0.3, max_depth=0, gamma=0.0, colsample_bytree=0.6, min_child_weight=1, subsample=0.8, nrounds=150 \n",
      "+ Fold3: eta=0.3, max_depth=0, gamma=0.0, colsample_bytree=0.6, min_child_weight=1, subsample=1.0, nrounds=150 \n",
      "- Fold3: eta=0.3, max_depth=0, gamma=0.0, colsample_bytree=0.6, min_child_weight=1, subsample=1.0, nrounds=150 \n",
      "+ Fold3: eta=0.3, max_depth=0, gamma=0.0, colsample_bytree=0.6, min_child_weight=2, subsample=0.8, nrounds=150 \n",
      "- Fold3: eta=0.3, max_depth=0, gamma=0.0, colsample_bytree=0.6, min_child_weight=2, subsample=0.8, nrounds=150 \n",
      "+ Fold3: eta=0.3, max_depth=0, gamma=0.0, colsample_bytree=0.6, min_child_weight=2, subsample=1.0, nrounds=150 \n",
      "- Fold3: eta=0.3, max_depth=0, gamma=0.0, colsample_bytree=0.6, min_child_weight=2, subsample=1.0, nrounds=150 \n",
      "+ Fold3: eta=0.3, max_depth=0, gamma=0.0, colsample_bytree=0.8, min_child_weight=0, subsample=0.8, nrounds=150 \n",
      "- Fold3: eta=0.3, max_depth=0, gamma=0.0, colsample_bytree=0.8, min_child_weight=0, subsample=0.8, nrounds=150 \n",
      "+ Fold3: eta=0.3, max_depth=0, gamma=0.0, colsample_bytree=0.8, min_child_weight=0, subsample=1.0, nrounds=150 \n",
      "- Fold3: eta=0.3, max_depth=0, gamma=0.0, colsample_bytree=0.8, min_child_weight=0, subsample=1.0, nrounds=150 \n",
      "+ Fold3: eta=0.3, max_depth=0, gamma=0.0, colsample_bytree=0.8, min_child_weight=1, subsample=0.8, nrounds=150 \n",
      "- Fold3: eta=0.3, max_depth=0, gamma=0.0, colsample_bytree=0.8, min_child_weight=1, subsample=0.8, nrounds=150 \n",
      "+ Fold3: eta=0.3, max_depth=0, gamma=0.0, colsample_bytree=0.8, min_child_weight=1, subsample=1.0, nrounds=150 \n",
      "- Fold3: eta=0.3, max_depth=0, gamma=0.0, colsample_bytree=0.8, min_child_weight=1, subsample=1.0, nrounds=150 \n",
      "+ Fold3: eta=0.3, max_depth=0, gamma=0.0, colsample_bytree=0.8, min_child_weight=2, subsample=0.8, nrounds=150 \n",
      "- Fold3: eta=0.3, max_depth=0, gamma=0.0, colsample_bytree=0.8, min_child_weight=2, subsample=0.8, nrounds=150 \n",
      "+ Fold3: eta=0.3, max_depth=0, gamma=0.0, colsample_bytree=0.8, min_child_weight=2, subsample=1.0, nrounds=150 \n",
      "- Fold3: eta=0.3, max_depth=0, gamma=0.0, colsample_bytree=0.8, min_child_weight=2, subsample=1.0, nrounds=150 \n",
      "+ Fold3: eta=0.3, max_depth=0, gamma=0.0, colsample_bytree=0.9, min_child_weight=0, subsample=0.8, nrounds=150 \n",
      "- Fold3: eta=0.3, max_depth=0, gamma=0.0, colsample_bytree=0.9, min_child_weight=0, subsample=0.8, nrounds=150 \n",
      "+ Fold3: eta=0.3, max_depth=0, gamma=0.0, colsample_bytree=0.9, min_child_weight=0, subsample=1.0, nrounds=150 \n",
      "- Fold3: eta=0.3, max_depth=0, gamma=0.0, colsample_bytree=0.9, min_child_weight=0, subsample=1.0, nrounds=150 \n",
      "+ Fold3: eta=0.3, max_depth=0, gamma=0.0, colsample_bytree=0.9, min_child_weight=1, subsample=0.8, nrounds=150 \n",
      "- Fold3: eta=0.3, max_depth=0, gamma=0.0, colsample_bytree=0.9, min_child_weight=1, subsample=0.8, nrounds=150 \n",
      "+ Fold3: eta=0.3, max_depth=0, gamma=0.0, colsample_bytree=0.9, min_child_weight=1, subsample=1.0, nrounds=150 \n",
      "- Fold3: eta=0.3, max_depth=0, gamma=0.0, colsample_bytree=0.9, min_child_weight=1, subsample=1.0, nrounds=150 \n",
      "+ Fold3: eta=0.3, max_depth=0, gamma=0.0, colsample_bytree=0.9, min_child_weight=2, subsample=0.8, nrounds=150 \n",
      "- Fold3: eta=0.3, max_depth=0, gamma=0.0, colsample_bytree=0.9, min_child_weight=2, subsample=0.8, nrounds=150 \n",
      "+ Fold3: eta=0.3, max_depth=0, gamma=0.0, colsample_bytree=0.9, min_child_weight=2, subsample=1.0, nrounds=150 \n",
      "- Fold3: eta=0.3, max_depth=0, gamma=0.0, colsample_bytree=0.9, min_child_weight=2, subsample=1.0, nrounds=150 \n",
      "+ Fold3: eta=0.3, max_depth=0, gamma=0.1, colsample_bytree=0.6, min_child_weight=0, subsample=0.8, nrounds=150 \n",
      "- Fold3: eta=0.3, max_depth=0, gamma=0.1, colsample_bytree=0.6, min_child_weight=0, subsample=0.8, nrounds=150 \n",
      "+ Fold3: eta=0.3, max_depth=0, gamma=0.1, colsample_bytree=0.6, min_child_weight=0, subsample=1.0, nrounds=150 \n",
      "- Fold3: eta=0.3, max_depth=0, gamma=0.1, colsample_bytree=0.6, min_child_weight=0, subsample=1.0, nrounds=150 \n",
      "+ Fold3: eta=0.3, max_depth=0, gamma=0.1, colsample_bytree=0.6, min_child_weight=1, subsample=0.8, nrounds=150 \n",
      "- Fold3: eta=0.3, max_depth=0, gamma=0.1, colsample_bytree=0.6, min_child_weight=1, subsample=0.8, nrounds=150 \n",
      "+ Fold3: eta=0.3, max_depth=0, gamma=0.1, colsample_bytree=0.6, min_child_weight=1, subsample=1.0, nrounds=150 \n",
      "- Fold3: eta=0.3, max_depth=0, gamma=0.1, colsample_bytree=0.6, min_child_weight=1, subsample=1.0, nrounds=150 \n",
      "+ Fold3: eta=0.3, max_depth=0, gamma=0.1, colsample_bytree=0.6, min_child_weight=2, subsample=0.8, nrounds=150 \n",
      "- Fold3: eta=0.3, max_depth=0, gamma=0.1, colsample_bytree=0.6, min_child_weight=2, subsample=0.8, nrounds=150 \n",
      "+ Fold3: eta=0.3, max_depth=0, gamma=0.1, colsample_bytree=0.6, min_child_weight=2, subsample=1.0, nrounds=150 \n",
      "- Fold3: eta=0.3, max_depth=0, gamma=0.1, colsample_bytree=0.6, min_child_weight=2, subsample=1.0, nrounds=150 \n",
      "+ Fold3: eta=0.3, max_depth=0, gamma=0.1, colsample_bytree=0.8, min_child_weight=0, subsample=0.8, nrounds=150 \n",
      "- Fold3: eta=0.3, max_depth=0, gamma=0.1, colsample_bytree=0.8, min_child_weight=0, subsample=0.8, nrounds=150 \n",
      "+ Fold3: eta=0.3, max_depth=0, gamma=0.1, colsample_bytree=0.8, min_child_weight=0, subsample=1.0, nrounds=150 \n",
      "- Fold3: eta=0.3, max_depth=0, gamma=0.1, colsample_bytree=0.8, min_child_weight=0, subsample=1.0, nrounds=150 \n",
      "+ Fold3: eta=0.3, max_depth=0, gamma=0.1, colsample_bytree=0.8, min_child_weight=1, subsample=0.8, nrounds=150 \n",
      "- Fold3: eta=0.3, max_depth=0, gamma=0.1, colsample_bytree=0.8, min_child_weight=1, subsample=0.8, nrounds=150 \n",
      "+ Fold3: eta=0.3, max_depth=0, gamma=0.1, colsample_bytree=0.8, min_child_weight=1, subsample=1.0, nrounds=150 \n",
      "- Fold3: eta=0.3, max_depth=0, gamma=0.1, colsample_bytree=0.8, min_child_weight=1, subsample=1.0, nrounds=150 \n",
      "+ Fold3: eta=0.3, max_depth=0, gamma=0.1, colsample_bytree=0.8, min_child_weight=2, subsample=0.8, nrounds=150 \n",
      "- Fold3: eta=0.3, max_depth=0, gamma=0.1, colsample_bytree=0.8, min_child_weight=2, subsample=0.8, nrounds=150 \n",
      "+ Fold3: eta=0.3, max_depth=0, gamma=0.1, colsample_bytree=0.8, min_child_weight=2, subsample=1.0, nrounds=150 \n",
      "- Fold3: eta=0.3, max_depth=0, gamma=0.1, colsample_bytree=0.8, min_child_weight=2, subsample=1.0, nrounds=150 \n",
      "+ Fold3: eta=0.3, max_depth=0, gamma=0.1, colsample_bytree=0.9, min_child_weight=0, subsample=0.8, nrounds=150 \n",
      "- Fold3: eta=0.3, max_depth=0, gamma=0.1, colsample_bytree=0.9, min_child_weight=0, subsample=0.8, nrounds=150 \n",
      "+ Fold3: eta=0.3, max_depth=0, gamma=0.1, colsample_bytree=0.9, min_child_weight=0, subsample=1.0, nrounds=150 \n",
      "- Fold3: eta=0.3, max_depth=0, gamma=0.1, colsample_bytree=0.9, min_child_weight=0, subsample=1.0, nrounds=150 \n",
      "+ Fold3: eta=0.3, max_depth=0, gamma=0.1, colsample_bytree=0.9, min_child_weight=1, subsample=0.8, nrounds=150 \n",
      "- Fold3: eta=0.3, max_depth=0, gamma=0.1, colsample_bytree=0.9, min_child_weight=1, subsample=0.8, nrounds=150 \n",
      "+ Fold3: eta=0.3, max_depth=0, gamma=0.1, colsample_bytree=0.9, min_child_weight=1, subsample=1.0, nrounds=150 \n",
      "- Fold3: eta=0.3, max_depth=0, gamma=0.1, colsample_bytree=0.9, min_child_weight=1, subsample=1.0, nrounds=150 \n",
      "+ Fold3: eta=0.3, max_depth=0, gamma=0.1, colsample_bytree=0.9, min_child_weight=2, subsample=0.8, nrounds=150 \n",
      "- Fold3: eta=0.3, max_depth=0, gamma=0.1, colsample_bytree=0.9, min_child_weight=2, subsample=0.8, nrounds=150 \n",
      "+ Fold3: eta=0.3, max_depth=0, gamma=0.1, colsample_bytree=0.9, min_child_weight=2, subsample=1.0, nrounds=150 \n",
      "- Fold3: eta=0.3, max_depth=0, gamma=0.1, colsample_bytree=0.9, min_child_weight=2, subsample=1.0, nrounds=150 \n",
      "+ Fold3: eta=0.3, max_depth=1, gamma=0.0, colsample_bytree=0.6, min_child_weight=0, subsample=0.8, nrounds=150 \n",
      "- Fold3: eta=0.3, max_depth=1, gamma=0.0, colsample_bytree=0.6, min_child_weight=0, subsample=0.8, nrounds=150 \n",
      "+ Fold3: eta=0.3, max_depth=1, gamma=0.0, colsample_bytree=0.6, min_child_weight=0, subsample=1.0, nrounds=150 \n",
      "- Fold3: eta=0.3, max_depth=1, gamma=0.0, colsample_bytree=0.6, min_child_weight=0, subsample=1.0, nrounds=150 \n",
      "+ Fold3: eta=0.3, max_depth=1, gamma=0.0, colsample_bytree=0.6, min_child_weight=1, subsample=0.8, nrounds=150 \n",
      "- Fold3: eta=0.3, max_depth=1, gamma=0.0, colsample_bytree=0.6, min_child_weight=1, subsample=0.8, nrounds=150 \n",
      "+ Fold3: eta=0.3, max_depth=1, gamma=0.0, colsample_bytree=0.6, min_child_weight=1, subsample=1.0, nrounds=150 \n",
      "- Fold3: eta=0.3, max_depth=1, gamma=0.0, colsample_bytree=0.6, min_child_weight=1, subsample=1.0, nrounds=150 \n",
      "+ Fold3: eta=0.3, max_depth=1, gamma=0.0, colsample_bytree=0.6, min_child_weight=2, subsample=0.8, nrounds=150 \n",
      "- Fold3: eta=0.3, max_depth=1, gamma=0.0, colsample_bytree=0.6, min_child_weight=2, subsample=0.8, nrounds=150 \n",
      "+ Fold3: eta=0.3, max_depth=1, gamma=0.0, colsample_bytree=0.6, min_child_weight=2, subsample=1.0, nrounds=150 \n",
      "- Fold3: eta=0.3, max_depth=1, gamma=0.0, colsample_bytree=0.6, min_child_weight=2, subsample=1.0, nrounds=150 \n",
      "+ Fold3: eta=0.3, max_depth=1, gamma=0.0, colsample_bytree=0.8, min_child_weight=0, subsample=0.8, nrounds=150 \n",
      "- Fold3: eta=0.3, max_depth=1, gamma=0.0, colsample_bytree=0.8, min_child_weight=0, subsample=0.8, nrounds=150 \n",
      "+ Fold3: eta=0.3, max_depth=1, gamma=0.0, colsample_bytree=0.8, min_child_weight=0, subsample=1.0, nrounds=150 \n",
      "- Fold3: eta=0.3, max_depth=1, gamma=0.0, colsample_bytree=0.8, min_child_weight=0, subsample=1.0, nrounds=150 \n",
      "+ Fold3: eta=0.3, max_depth=1, gamma=0.0, colsample_bytree=0.8, min_child_weight=1, subsample=0.8, nrounds=150 \n",
      "- Fold3: eta=0.3, max_depth=1, gamma=0.0, colsample_bytree=0.8, min_child_weight=1, subsample=0.8, nrounds=150 \n",
      "+ Fold3: eta=0.3, max_depth=1, gamma=0.0, colsample_bytree=0.8, min_child_weight=1, subsample=1.0, nrounds=150 \n",
      "- Fold3: eta=0.3, max_depth=1, gamma=0.0, colsample_bytree=0.8, min_child_weight=1, subsample=1.0, nrounds=150 \n",
      "+ Fold3: eta=0.3, max_depth=1, gamma=0.0, colsample_bytree=0.8, min_child_weight=2, subsample=0.8, nrounds=150 \n",
      "- Fold3: eta=0.3, max_depth=1, gamma=0.0, colsample_bytree=0.8, min_child_weight=2, subsample=0.8, nrounds=150 \n",
      "+ Fold3: eta=0.3, max_depth=1, gamma=0.0, colsample_bytree=0.8, min_child_weight=2, subsample=1.0, nrounds=150 \n",
      "- Fold3: eta=0.3, max_depth=1, gamma=0.0, colsample_bytree=0.8, min_child_weight=2, subsample=1.0, nrounds=150 \n",
      "+ Fold3: eta=0.3, max_depth=1, gamma=0.0, colsample_bytree=0.9, min_child_weight=0, subsample=0.8, nrounds=150 \n",
      "- Fold3: eta=0.3, max_depth=1, gamma=0.0, colsample_bytree=0.9, min_child_weight=0, subsample=0.8, nrounds=150 \n",
      "+ Fold3: eta=0.3, max_depth=1, gamma=0.0, colsample_bytree=0.9, min_child_weight=0, subsample=1.0, nrounds=150 \n",
      "- Fold3: eta=0.3, max_depth=1, gamma=0.0, colsample_bytree=0.9, min_child_weight=0, subsample=1.0, nrounds=150 \n",
      "+ Fold3: eta=0.3, max_depth=1, gamma=0.0, colsample_bytree=0.9, min_child_weight=1, subsample=0.8, nrounds=150 \n",
      "- Fold3: eta=0.3, max_depth=1, gamma=0.0, colsample_bytree=0.9, min_child_weight=1, subsample=0.8, nrounds=150 \n",
      "+ Fold3: eta=0.3, max_depth=1, gamma=0.0, colsample_bytree=0.9, min_child_weight=1, subsample=1.0, nrounds=150 \n",
      "- Fold3: eta=0.3, max_depth=1, gamma=0.0, colsample_bytree=0.9, min_child_weight=1, subsample=1.0, nrounds=150 \n",
      "+ Fold3: eta=0.3, max_depth=1, gamma=0.0, colsample_bytree=0.9, min_child_weight=2, subsample=0.8, nrounds=150 \n",
      "- Fold3: eta=0.3, max_depth=1, gamma=0.0, colsample_bytree=0.9, min_child_weight=2, subsample=0.8, nrounds=150 \n",
      "+ Fold3: eta=0.3, max_depth=1, gamma=0.0, colsample_bytree=0.9, min_child_weight=2, subsample=1.0, nrounds=150 \n",
      "- Fold3: eta=0.3, max_depth=1, gamma=0.0, colsample_bytree=0.9, min_child_weight=2, subsample=1.0, nrounds=150 \n",
      "+ Fold3: eta=0.3, max_depth=1, gamma=0.1, colsample_bytree=0.6, min_child_weight=0, subsample=0.8, nrounds=150 \n",
      "- Fold3: eta=0.3, max_depth=1, gamma=0.1, colsample_bytree=0.6, min_child_weight=0, subsample=0.8, nrounds=150 \n",
      "+ Fold3: eta=0.3, max_depth=1, gamma=0.1, colsample_bytree=0.6, min_child_weight=0, subsample=1.0, nrounds=150 \n",
      "- Fold3: eta=0.3, max_depth=1, gamma=0.1, colsample_bytree=0.6, min_child_weight=0, subsample=1.0, nrounds=150 \n",
      "+ Fold3: eta=0.3, max_depth=1, gamma=0.1, colsample_bytree=0.6, min_child_weight=1, subsample=0.8, nrounds=150 \n",
      "- Fold3: eta=0.3, max_depth=1, gamma=0.1, colsample_bytree=0.6, min_child_weight=1, subsample=0.8, nrounds=150 \n",
      "+ Fold3: eta=0.3, max_depth=1, gamma=0.1, colsample_bytree=0.6, min_child_weight=1, subsample=1.0, nrounds=150 \n",
      "- Fold3: eta=0.3, max_depth=1, gamma=0.1, colsample_bytree=0.6, min_child_weight=1, subsample=1.0, nrounds=150 \n",
      "+ Fold3: eta=0.3, max_depth=1, gamma=0.1, colsample_bytree=0.6, min_child_weight=2, subsample=0.8, nrounds=150 \n",
      "- Fold3: eta=0.3, max_depth=1, gamma=0.1, colsample_bytree=0.6, min_child_weight=2, subsample=0.8, nrounds=150 \n",
      "+ Fold3: eta=0.3, max_depth=1, gamma=0.1, colsample_bytree=0.6, min_child_weight=2, subsample=1.0, nrounds=150 \n",
      "- Fold3: eta=0.3, max_depth=1, gamma=0.1, colsample_bytree=0.6, min_child_weight=2, subsample=1.0, nrounds=150 \n",
      "+ Fold3: eta=0.3, max_depth=1, gamma=0.1, colsample_bytree=0.8, min_child_weight=0, subsample=0.8, nrounds=150 \n",
      "- Fold3: eta=0.3, max_depth=1, gamma=0.1, colsample_bytree=0.8, min_child_weight=0, subsample=0.8, nrounds=150 \n",
      "+ Fold3: eta=0.3, max_depth=1, gamma=0.1, colsample_bytree=0.8, min_child_weight=0, subsample=1.0, nrounds=150 \n",
      "- Fold3: eta=0.3, max_depth=1, gamma=0.1, colsample_bytree=0.8, min_child_weight=0, subsample=1.0, nrounds=150 \n",
      "+ Fold3: eta=0.3, max_depth=1, gamma=0.1, colsample_bytree=0.8, min_child_weight=1, subsample=0.8, nrounds=150 \n",
      "- Fold3: eta=0.3, max_depth=1, gamma=0.1, colsample_bytree=0.8, min_child_weight=1, subsample=0.8, nrounds=150 \n",
      "+ Fold3: eta=0.3, max_depth=1, gamma=0.1, colsample_bytree=0.8, min_child_weight=1, subsample=1.0, nrounds=150 \n",
      "- Fold3: eta=0.3, max_depth=1, gamma=0.1, colsample_bytree=0.8, min_child_weight=1, subsample=1.0, nrounds=150 \n",
      "+ Fold3: eta=0.3, max_depth=1, gamma=0.1, colsample_bytree=0.8, min_child_weight=2, subsample=0.8, nrounds=150 \n",
      "- Fold3: eta=0.3, max_depth=1, gamma=0.1, colsample_bytree=0.8, min_child_weight=2, subsample=0.8, nrounds=150 \n",
      "+ Fold3: eta=0.3, max_depth=1, gamma=0.1, colsample_bytree=0.8, min_child_weight=2, subsample=1.0, nrounds=150 \n",
      "- Fold3: eta=0.3, max_depth=1, gamma=0.1, colsample_bytree=0.8, min_child_weight=2, subsample=1.0, nrounds=150 \n",
      "+ Fold3: eta=0.3, max_depth=1, gamma=0.1, colsample_bytree=0.9, min_child_weight=0, subsample=0.8, nrounds=150 \n",
      "- Fold3: eta=0.3, max_depth=1, gamma=0.1, colsample_bytree=0.9, min_child_weight=0, subsample=0.8, nrounds=150 \n",
      "+ Fold3: eta=0.3, max_depth=1, gamma=0.1, colsample_bytree=0.9, min_child_weight=0, subsample=1.0, nrounds=150 \n",
      "- Fold3: eta=0.3, max_depth=1, gamma=0.1, colsample_bytree=0.9, min_child_weight=0, subsample=1.0, nrounds=150 \n",
      "+ Fold3: eta=0.3, max_depth=1, gamma=0.1, colsample_bytree=0.9, min_child_weight=1, subsample=0.8, nrounds=150 \n",
      "- Fold3: eta=0.3, max_depth=1, gamma=0.1, colsample_bytree=0.9, min_child_weight=1, subsample=0.8, nrounds=150 \n",
      "+ Fold3: eta=0.3, max_depth=1, gamma=0.1, colsample_bytree=0.9, min_child_weight=1, subsample=1.0, nrounds=150 \n",
      "- Fold3: eta=0.3, max_depth=1, gamma=0.1, colsample_bytree=0.9, min_child_weight=1, subsample=1.0, nrounds=150 \n",
      "+ Fold3: eta=0.3, max_depth=1, gamma=0.1, colsample_bytree=0.9, min_child_weight=2, subsample=0.8, nrounds=150 \n",
      "- Fold3: eta=0.3, max_depth=1, gamma=0.1, colsample_bytree=0.9, min_child_weight=2, subsample=0.8, nrounds=150 \n",
      "+ Fold3: eta=0.3, max_depth=1, gamma=0.1, colsample_bytree=0.9, min_child_weight=2, subsample=1.0, nrounds=150 \n",
      "- Fold3: eta=0.3, max_depth=1, gamma=0.1, colsample_bytree=0.9, min_child_weight=2, subsample=1.0, nrounds=150 \n",
      "+ Fold3: eta=0.3, max_depth=2, gamma=0.0, colsample_bytree=0.6, min_child_weight=0, subsample=0.8, nrounds=150 \n",
      "- Fold3: eta=0.3, max_depth=2, gamma=0.0, colsample_bytree=0.6, min_child_weight=0, subsample=0.8, nrounds=150 \n",
      "+ Fold3: eta=0.3, max_depth=2, gamma=0.0, colsample_bytree=0.6, min_child_weight=0, subsample=1.0, nrounds=150 \n",
      "- Fold3: eta=0.3, max_depth=2, gamma=0.0, colsample_bytree=0.6, min_child_weight=0, subsample=1.0, nrounds=150 \n",
      "+ Fold3: eta=0.3, max_depth=2, gamma=0.0, colsample_bytree=0.6, min_child_weight=1, subsample=0.8, nrounds=150 \n",
      "- Fold3: eta=0.3, max_depth=2, gamma=0.0, colsample_bytree=0.6, min_child_weight=1, subsample=0.8, nrounds=150 \n",
      "+ Fold3: eta=0.3, max_depth=2, gamma=0.0, colsample_bytree=0.6, min_child_weight=1, subsample=1.0, nrounds=150 \n",
      "- Fold3: eta=0.3, max_depth=2, gamma=0.0, colsample_bytree=0.6, min_child_weight=1, subsample=1.0, nrounds=150 \n",
      "+ Fold3: eta=0.3, max_depth=2, gamma=0.0, colsample_bytree=0.6, min_child_weight=2, subsample=0.8, nrounds=150 \n",
      "- Fold3: eta=0.3, max_depth=2, gamma=0.0, colsample_bytree=0.6, min_child_weight=2, subsample=0.8, nrounds=150 \n",
      "+ Fold3: eta=0.3, max_depth=2, gamma=0.0, colsample_bytree=0.6, min_child_weight=2, subsample=1.0, nrounds=150 \n",
      "- Fold3: eta=0.3, max_depth=2, gamma=0.0, colsample_bytree=0.6, min_child_weight=2, subsample=1.0, nrounds=150 \n",
      "+ Fold3: eta=0.3, max_depth=2, gamma=0.0, colsample_bytree=0.8, min_child_weight=0, subsample=0.8, nrounds=150 \n",
      "- Fold3: eta=0.3, max_depth=2, gamma=0.0, colsample_bytree=0.8, min_child_weight=0, subsample=0.8, nrounds=150 \n",
      "+ Fold3: eta=0.3, max_depth=2, gamma=0.0, colsample_bytree=0.8, min_child_weight=0, subsample=1.0, nrounds=150 \n",
      "- Fold3: eta=0.3, max_depth=2, gamma=0.0, colsample_bytree=0.8, min_child_weight=0, subsample=1.0, nrounds=150 \n",
      "+ Fold3: eta=0.3, max_depth=2, gamma=0.0, colsample_bytree=0.8, min_child_weight=1, subsample=0.8, nrounds=150 \n",
      "- Fold3: eta=0.3, max_depth=2, gamma=0.0, colsample_bytree=0.8, min_child_weight=1, subsample=0.8, nrounds=150 \n",
      "+ Fold3: eta=0.3, max_depth=2, gamma=0.0, colsample_bytree=0.8, min_child_weight=1, subsample=1.0, nrounds=150 \n",
      "- Fold3: eta=0.3, max_depth=2, gamma=0.0, colsample_bytree=0.8, min_child_weight=1, subsample=1.0, nrounds=150 \n",
      "+ Fold3: eta=0.3, max_depth=2, gamma=0.0, colsample_bytree=0.8, min_child_weight=2, subsample=0.8, nrounds=150 \n",
      "- Fold3: eta=0.3, max_depth=2, gamma=0.0, colsample_bytree=0.8, min_child_weight=2, subsample=0.8, nrounds=150 \n",
      "+ Fold3: eta=0.3, max_depth=2, gamma=0.0, colsample_bytree=0.8, min_child_weight=2, subsample=1.0, nrounds=150 \n",
      "- Fold3: eta=0.3, max_depth=2, gamma=0.0, colsample_bytree=0.8, min_child_weight=2, subsample=1.0, nrounds=150 \n",
      "+ Fold3: eta=0.3, max_depth=2, gamma=0.0, colsample_bytree=0.9, min_child_weight=0, subsample=0.8, nrounds=150 \n",
      "- Fold3: eta=0.3, max_depth=2, gamma=0.0, colsample_bytree=0.9, min_child_weight=0, subsample=0.8, nrounds=150 \n",
      "+ Fold3: eta=0.3, max_depth=2, gamma=0.0, colsample_bytree=0.9, min_child_weight=0, subsample=1.0, nrounds=150 \n",
      "- Fold3: eta=0.3, max_depth=2, gamma=0.0, colsample_bytree=0.9, min_child_weight=0, subsample=1.0, nrounds=150 \n",
      "+ Fold3: eta=0.3, max_depth=2, gamma=0.0, colsample_bytree=0.9, min_child_weight=1, subsample=0.8, nrounds=150 \n",
      "- Fold3: eta=0.3, max_depth=2, gamma=0.0, colsample_bytree=0.9, min_child_weight=1, subsample=0.8, nrounds=150 \n",
      "+ Fold3: eta=0.3, max_depth=2, gamma=0.0, colsample_bytree=0.9, min_child_weight=1, subsample=1.0, nrounds=150 \n",
      "- Fold3: eta=0.3, max_depth=2, gamma=0.0, colsample_bytree=0.9, min_child_weight=1, subsample=1.0, nrounds=150 \n",
      "+ Fold3: eta=0.3, max_depth=2, gamma=0.0, colsample_bytree=0.9, min_child_weight=2, subsample=0.8, nrounds=150 \n",
      "- Fold3: eta=0.3, max_depth=2, gamma=0.0, colsample_bytree=0.9, min_child_weight=2, subsample=0.8, nrounds=150 \n",
      "+ Fold3: eta=0.3, max_depth=2, gamma=0.0, colsample_bytree=0.9, min_child_weight=2, subsample=1.0, nrounds=150 \n",
      "- Fold3: eta=0.3, max_depth=2, gamma=0.0, colsample_bytree=0.9, min_child_weight=2, subsample=1.0, nrounds=150 \n",
      "+ Fold3: eta=0.3, max_depth=2, gamma=0.1, colsample_bytree=0.6, min_child_weight=0, subsample=0.8, nrounds=150 \n",
      "- Fold3: eta=0.3, max_depth=2, gamma=0.1, colsample_bytree=0.6, min_child_weight=0, subsample=0.8, nrounds=150 \n",
      "+ Fold3: eta=0.3, max_depth=2, gamma=0.1, colsample_bytree=0.6, min_child_weight=0, subsample=1.0, nrounds=150 \n",
      "- Fold3: eta=0.3, max_depth=2, gamma=0.1, colsample_bytree=0.6, min_child_weight=0, subsample=1.0, nrounds=150 \n",
      "+ Fold3: eta=0.3, max_depth=2, gamma=0.1, colsample_bytree=0.6, min_child_weight=1, subsample=0.8, nrounds=150 \n",
      "- Fold3: eta=0.3, max_depth=2, gamma=0.1, colsample_bytree=0.6, min_child_weight=1, subsample=0.8, nrounds=150 \n",
      "+ Fold3: eta=0.3, max_depth=2, gamma=0.1, colsample_bytree=0.6, min_child_weight=1, subsample=1.0, nrounds=150 \n",
      "- Fold3: eta=0.3, max_depth=2, gamma=0.1, colsample_bytree=0.6, min_child_weight=1, subsample=1.0, nrounds=150 \n",
      "+ Fold3: eta=0.3, max_depth=2, gamma=0.1, colsample_bytree=0.6, min_child_weight=2, subsample=0.8, nrounds=150 \n",
      "- Fold3: eta=0.3, max_depth=2, gamma=0.1, colsample_bytree=0.6, min_child_weight=2, subsample=0.8, nrounds=150 \n",
      "+ Fold3: eta=0.3, max_depth=2, gamma=0.1, colsample_bytree=0.6, min_child_weight=2, subsample=1.0, nrounds=150 \n",
      "- Fold3: eta=0.3, max_depth=2, gamma=0.1, colsample_bytree=0.6, min_child_weight=2, subsample=1.0, nrounds=150 \n",
      "+ Fold3: eta=0.3, max_depth=2, gamma=0.1, colsample_bytree=0.8, min_child_weight=0, subsample=0.8, nrounds=150 \n",
      "- Fold3: eta=0.3, max_depth=2, gamma=0.1, colsample_bytree=0.8, min_child_weight=0, subsample=0.8, nrounds=150 \n",
      "+ Fold3: eta=0.3, max_depth=2, gamma=0.1, colsample_bytree=0.8, min_child_weight=0, subsample=1.0, nrounds=150 \n",
      "- Fold3: eta=0.3, max_depth=2, gamma=0.1, colsample_bytree=0.8, min_child_weight=0, subsample=1.0, nrounds=150 \n",
      "+ Fold3: eta=0.3, max_depth=2, gamma=0.1, colsample_bytree=0.8, min_child_weight=1, subsample=0.8, nrounds=150 \n",
      "- Fold3: eta=0.3, max_depth=2, gamma=0.1, colsample_bytree=0.8, min_child_weight=1, subsample=0.8, nrounds=150 \n",
      "+ Fold3: eta=0.3, max_depth=2, gamma=0.1, colsample_bytree=0.8, min_child_weight=1, subsample=1.0, nrounds=150 \n",
      "- Fold3: eta=0.3, max_depth=2, gamma=0.1, colsample_bytree=0.8, min_child_weight=1, subsample=1.0, nrounds=150 \n",
      "+ Fold3: eta=0.3, max_depth=2, gamma=0.1, colsample_bytree=0.8, min_child_weight=2, subsample=0.8, nrounds=150 \n",
      "- Fold3: eta=0.3, max_depth=2, gamma=0.1, colsample_bytree=0.8, min_child_weight=2, subsample=0.8, nrounds=150 \n",
      "+ Fold3: eta=0.3, max_depth=2, gamma=0.1, colsample_bytree=0.8, min_child_weight=2, subsample=1.0, nrounds=150 \n",
      "- Fold3: eta=0.3, max_depth=2, gamma=0.1, colsample_bytree=0.8, min_child_weight=2, subsample=1.0, nrounds=150 \n",
      "+ Fold3: eta=0.3, max_depth=2, gamma=0.1, colsample_bytree=0.9, min_child_weight=0, subsample=0.8, nrounds=150 \n",
      "- Fold3: eta=0.3, max_depth=2, gamma=0.1, colsample_bytree=0.9, min_child_weight=0, subsample=0.8, nrounds=150 \n",
      "+ Fold3: eta=0.3, max_depth=2, gamma=0.1, colsample_bytree=0.9, min_child_weight=0, subsample=1.0, nrounds=150 \n",
      "- Fold3: eta=0.3, max_depth=2, gamma=0.1, colsample_bytree=0.9, min_child_weight=0, subsample=1.0, nrounds=150 \n",
      "+ Fold3: eta=0.3, max_depth=2, gamma=0.1, colsample_bytree=0.9, min_child_weight=1, subsample=0.8, nrounds=150 \n",
      "- Fold3: eta=0.3, max_depth=2, gamma=0.1, colsample_bytree=0.9, min_child_weight=1, subsample=0.8, nrounds=150 \n",
      "+ Fold3: eta=0.3, max_depth=2, gamma=0.1, colsample_bytree=0.9, min_child_weight=1, subsample=1.0, nrounds=150 \n",
      "- Fold3: eta=0.3, max_depth=2, gamma=0.1, colsample_bytree=0.9, min_child_weight=1, subsample=1.0, nrounds=150 \n",
      "+ Fold3: eta=0.3, max_depth=2, gamma=0.1, colsample_bytree=0.9, min_child_weight=2, subsample=0.8, nrounds=150 \n",
      "- Fold3: eta=0.3, max_depth=2, gamma=0.1, colsample_bytree=0.9, min_child_weight=2, subsample=0.8, nrounds=150 \n",
      "+ Fold3: eta=0.3, max_depth=2, gamma=0.1, colsample_bytree=0.9, min_child_weight=2, subsample=1.0, nrounds=150 \n",
      "- Fold3: eta=0.3, max_depth=2, gamma=0.1, colsample_bytree=0.9, min_child_weight=2, subsample=1.0, nrounds=150 \n",
      "+ Fold4: eta=0.1, max_depth=0, gamma=0.0, colsample_bytree=0.6, min_child_weight=0, subsample=0.8, nrounds=150 \n",
      "- Fold4: eta=0.1, max_depth=0, gamma=0.0, colsample_bytree=0.6, min_child_weight=0, subsample=0.8, nrounds=150 \n",
      "+ Fold4: eta=0.1, max_depth=0, gamma=0.0, colsample_bytree=0.6, min_child_weight=0, subsample=1.0, nrounds=150 \n",
      "- Fold4: eta=0.1, max_depth=0, gamma=0.0, colsample_bytree=0.6, min_child_weight=0, subsample=1.0, nrounds=150 \n",
      "+ Fold4: eta=0.1, max_depth=0, gamma=0.0, colsample_bytree=0.6, min_child_weight=1, subsample=0.8, nrounds=150 \n",
      "- Fold4: eta=0.1, max_depth=0, gamma=0.0, colsample_bytree=0.6, min_child_weight=1, subsample=0.8, nrounds=150 \n",
      "+ Fold4: eta=0.1, max_depth=0, gamma=0.0, colsample_bytree=0.6, min_child_weight=1, subsample=1.0, nrounds=150 \n",
      "- Fold4: eta=0.1, max_depth=0, gamma=0.0, colsample_bytree=0.6, min_child_weight=1, subsample=1.0, nrounds=150 \n",
      "+ Fold4: eta=0.1, max_depth=0, gamma=0.0, colsample_bytree=0.6, min_child_weight=2, subsample=0.8, nrounds=150 \n",
      "- Fold4: eta=0.1, max_depth=0, gamma=0.0, colsample_bytree=0.6, min_child_weight=2, subsample=0.8, nrounds=150 \n",
      "+ Fold4: eta=0.1, max_depth=0, gamma=0.0, colsample_bytree=0.6, min_child_weight=2, subsample=1.0, nrounds=150 \n",
      "- Fold4: eta=0.1, max_depth=0, gamma=0.0, colsample_bytree=0.6, min_child_weight=2, subsample=1.0, nrounds=150 \n",
      "+ Fold4: eta=0.1, max_depth=0, gamma=0.0, colsample_bytree=0.8, min_child_weight=0, subsample=0.8, nrounds=150 \n",
      "- Fold4: eta=0.1, max_depth=0, gamma=0.0, colsample_bytree=0.8, min_child_weight=0, subsample=0.8, nrounds=150 \n",
      "+ Fold4: eta=0.1, max_depth=0, gamma=0.0, colsample_bytree=0.8, min_child_weight=0, subsample=1.0, nrounds=150 \n",
      "- Fold4: eta=0.1, max_depth=0, gamma=0.0, colsample_bytree=0.8, min_child_weight=0, subsample=1.0, nrounds=150 \n",
      "+ Fold4: eta=0.1, max_depth=0, gamma=0.0, colsample_bytree=0.8, min_child_weight=1, subsample=0.8, nrounds=150 \n",
      "- Fold4: eta=0.1, max_depth=0, gamma=0.0, colsample_bytree=0.8, min_child_weight=1, subsample=0.8, nrounds=150 \n",
      "+ Fold4: eta=0.1, max_depth=0, gamma=0.0, colsample_bytree=0.8, min_child_weight=1, subsample=1.0, nrounds=150 \n",
      "- Fold4: eta=0.1, max_depth=0, gamma=0.0, colsample_bytree=0.8, min_child_weight=1, subsample=1.0, nrounds=150 \n",
      "+ Fold4: eta=0.1, max_depth=0, gamma=0.0, colsample_bytree=0.8, min_child_weight=2, subsample=0.8, nrounds=150 \n",
      "- Fold4: eta=0.1, max_depth=0, gamma=0.0, colsample_bytree=0.8, min_child_weight=2, subsample=0.8, nrounds=150 \n",
      "+ Fold4: eta=0.1, max_depth=0, gamma=0.0, colsample_bytree=0.8, min_child_weight=2, subsample=1.0, nrounds=150 \n",
      "- Fold4: eta=0.1, max_depth=0, gamma=0.0, colsample_bytree=0.8, min_child_weight=2, subsample=1.0, nrounds=150 \n",
      "+ Fold4: eta=0.1, max_depth=0, gamma=0.0, colsample_bytree=0.9, min_child_weight=0, subsample=0.8, nrounds=150 \n",
      "- Fold4: eta=0.1, max_depth=0, gamma=0.0, colsample_bytree=0.9, min_child_weight=0, subsample=0.8, nrounds=150 \n",
      "+ Fold4: eta=0.1, max_depth=0, gamma=0.0, colsample_bytree=0.9, min_child_weight=0, subsample=1.0, nrounds=150 \n",
      "- Fold4: eta=0.1, max_depth=0, gamma=0.0, colsample_bytree=0.9, min_child_weight=0, subsample=1.0, nrounds=150 \n",
      "+ Fold4: eta=0.1, max_depth=0, gamma=0.0, colsample_bytree=0.9, min_child_weight=1, subsample=0.8, nrounds=150 \n",
      "- Fold4: eta=0.1, max_depth=0, gamma=0.0, colsample_bytree=0.9, min_child_weight=1, subsample=0.8, nrounds=150 \n",
      "+ Fold4: eta=0.1, max_depth=0, gamma=0.0, colsample_bytree=0.9, min_child_weight=1, subsample=1.0, nrounds=150 \n",
      "- Fold4: eta=0.1, max_depth=0, gamma=0.0, colsample_bytree=0.9, min_child_weight=1, subsample=1.0, nrounds=150 \n",
      "+ Fold4: eta=0.1, max_depth=0, gamma=0.0, colsample_bytree=0.9, min_child_weight=2, subsample=0.8, nrounds=150 \n",
      "- Fold4: eta=0.1, max_depth=0, gamma=0.0, colsample_bytree=0.9, min_child_weight=2, subsample=0.8, nrounds=150 \n",
      "+ Fold4: eta=0.1, max_depth=0, gamma=0.0, colsample_bytree=0.9, min_child_weight=2, subsample=1.0, nrounds=150 \n",
      "- Fold4: eta=0.1, max_depth=0, gamma=0.0, colsample_bytree=0.9, min_child_weight=2, subsample=1.0, nrounds=150 \n",
      "+ Fold4: eta=0.1, max_depth=0, gamma=0.1, colsample_bytree=0.6, min_child_weight=0, subsample=0.8, nrounds=150 \n",
      "- Fold4: eta=0.1, max_depth=0, gamma=0.1, colsample_bytree=0.6, min_child_weight=0, subsample=0.8, nrounds=150 \n",
      "+ Fold4: eta=0.1, max_depth=0, gamma=0.1, colsample_bytree=0.6, min_child_weight=0, subsample=1.0, nrounds=150 \n",
      "- Fold4: eta=0.1, max_depth=0, gamma=0.1, colsample_bytree=0.6, min_child_weight=0, subsample=1.0, nrounds=150 \n",
      "+ Fold4: eta=0.1, max_depth=0, gamma=0.1, colsample_bytree=0.6, min_child_weight=1, subsample=0.8, nrounds=150 \n",
      "- Fold4: eta=0.1, max_depth=0, gamma=0.1, colsample_bytree=0.6, min_child_weight=1, subsample=0.8, nrounds=150 \n",
      "+ Fold4: eta=0.1, max_depth=0, gamma=0.1, colsample_bytree=0.6, min_child_weight=1, subsample=1.0, nrounds=150 \n",
      "- Fold4: eta=0.1, max_depth=0, gamma=0.1, colsample_bytree=0.6, min_child_weight=1, subsample=1.0, nrounds=150 \n",
      "+ Fold4: eta=0.1, max_depth=0, gamma=0.1, colsample_bytree=0.6, min_child_weight=2, subsample=0.8, nrounds=150 \n",
      "- Fold4: eta=0.1, max_depth=0, gamma=0.1, colsample_bytree=0.6, min_child_weight=2, subsample=0.8, nrounds=150 \n",
      "+ Fold4: eta=0.1, max_depth=0, gamma=0.1, colsample_bytree=0.6, min_child_weight=2, subsample=1.0, nrounds=150 \n",
      "- Fold4: eta=0.1, max_depth=0, gamma=0.1, colsample_bytree=0.6, min_child_weight=2, subsample=1.0, nrounds=150 \n",
      "+ Fold4: eta=0.1, max_depth=0, gamma=0.1, colsample_bytree=0.8, min_child_weight=0, subsample=0.8, nrounds=150 \n",
      "- Fold4: eta=0.1, max_depth=0, gamma=0.1, colsample_bytree=0.8, min_child_weight=0, subsample=0.8, nrounds=150 \n",
      "+ Fold4: eta=0.1, max_depth=0, gamma=0.1, colsample_bytree=0.8, min_child_weight=0, subsample=1.0, nrounds=150 \n",
      "- Fold4: eta=0.1, max_depth=0, gamma=0.1, colsample_bytree=0.8, min_child_weight=0, subsample=1.0, nrounds=150 \n",
      "+ Fold4: eta=0.1, max_depth=0, gamma=0.1, colsample_bytree=0.8, min_child_weight=1, subsample=0.8, nrounds=150 \n",
      "- Fold4: eta=0.1, max_depth=0, gamma=0.1, colsample_bytree=0.8, min_child_weight=1, subsample=0.8, nrounds=150 \n",
      "+ Fold4: eta=0.1, max_depth=0, gamma=0.1, colsample_bytree=0.8, min_child_weight=1, subsample=1.0, nrounds=150 \n",
      "- Fold4: eta=0.1, max_depth=0, gamma=0.1, colsample_bytree=0.8, min_child_weight=1, subsample=1.0, nrounds=150 \n",
      "+ Fold4: eta=0.1, max_depth=0, gamma=0.1, colsample_bytree=0.8, min_child_weight=2, subsample=0.8, nrounds=150 \n",
      "- Fold4: eta=0.1, max_depth=0, gamma=0.1, colsample_bytree=0.8, min_child_weight=2, subsample=0.8, nrounds=150 \n",
      "+ Fold4: eta=0.1, max_depth=0, gamma=0.1, colsample_bytree=0.8, min_child_weight=2, subsample=1.0, nrounds=150 \n",
      "- Fold4: eta=0.1, max_depth=0, gamma=0.1, colsample_bytree=0.8, min_child_weight=2, subsample=1.0, nrounds=150 \n",
      "+ Fold4: eta=0.1, max_depth=0, gamma=0.1, colsample_bytree=0.9, min_child_weight=0, subsample=0.8, nrounds=150 \n",
      "- Fold4: eta=0.1, max_depth=0, gamma=0.1, colsample_bytree=0.9, min_child_weight=0, subsample=0.8, nrounds=150 \n",
      "+ Fold4: eta=0.1, max_depth=0, gamma=0.1, colsample_bytree=0.9, min_child_weight=0, subsample=1.0, nrounds=150 \n",
      "- Fold4: eta=0.1, max_depth=0, gamma=0.1, colsample_bytree=0.9, min_child_weight=0, subsample=1.0, nrounds=150 \n",
      "+ Fold4: eta=0.1, max_depth=0, gamma=0.1, colsample_bytree=0.9, min_child_weight=1, subsample=0.8, nrounds=150 \n",
      "- Fold4: eta=0.1, max_depth=0, gamma=0.1, colsample_bytree=0.9, min_child_weight=1, subsample=0.8, nrounds=150 \n",
      "+ Fold4: eta=0.1, max_depth=0, gamma=0.1, colsample_bytree=0.9, min_child_weight=1, subsample=1.0, nrounds=150 \n",
      "- Fold4: eta=0.1, max_depth=0, gamma=0.1, colsample_bytree=0.9, min_child_weight=1, subsample=1.0, nrounds=150 \n",
      "+ Fold4: eta=0.1, max_depth=0, gamma=0.1, colsample_bytree=0.9, min_child_weight=2, subsample=0.8, nrounds=150 \n",
      "- Fold4: eta=0.1, max_depth=0, gamma=0.1, colsample_bytree=0.9, min_child_weight=2, subsample=0.8, nrounds=150 \n",
      "+ Fold4: eta=0.1, max_depth=0, gamma=0.1, colsample_bytree=0.9, min_child_weight=2, subsample=1.0, nrounds=150 \n",
      "- Fold4: eta=0.1, max_depth=0, gamma=0.1, colsample_bytree=0.9, min_child_weight=2, subsample=1.0, nrounds=150 \n",
      "+ Fold4: eta=0.1, max_depth=1, gamma=0.0, colsample_bytree=0.6, min_child_weight=0, subsample=0.8, nrounds=150 \n",
      "- Fold4: eta=0.1, max_depth=1, gamma=0.0, colsample_bytree=0.6, min_child_weight=0, subsample=0.8, nrounds=150 \n",
      "+ Fold4: eta=0.1, max_depth=1, gamma=0.0, colsample_bytree=0.6, min_child_weight=0, subsample=1.0, nrounds=150 \n",
      "- Fold4: eta=0.1, max_depth=1, gamma=0.0, colsample_bytree=0.6, min_child_weight=0, subsample=1.0, nrounds=150 \n",
      "+ Fold4: eta=0.1, max_depth=1, gamma=0.0, colsample_bytree=0.6, min_child_weight=1, subsample=0.8, nrounds=150 \n",
      "- Fold4: eta=0.1, max_depth=1, gamma=0.0, colsample_bytree=0.6, min_child_weight=1, subsample=0.8, nrounds=150 \n",
      "+ Fold4: eta=0.1, max_depth=1, gamma=0.0, colsample_bytree=0.6, min_child_weight=1, subsample=1.0, nrounds=150 \n",
      "- Fold4: eta=0.1, max_depth=1, gamma=0.0, colsample_bytree=0.6, min_child_weight=1, subsample=1.0, nrounds=150 \n",
      "+ Fold4: eta=0.1, max_depth=1, gamma=0.0, colsample_bytree=0.6, min_child_weight=2, subsample=0.8, nrounds=150 \n",
      "- Fold4: eta=0.1, max_depth=1, gamma=0.0, colsample_bytree=0.6, min_child_weight=2, subsample=0.8, nrounds=150 \n",
      "+ Fold4: eta=0.1, max_depth=1, gamma=0.0, colsample_bytree=0.6, min_child_weight=2, subsample=1.0, nrounds=150 \n",
      "- Fold4: eta=0.1, max_depth=1, gamma=0.0, colsample_bytree=0.6, min_child_weight=2, subsample=1.0, nrounds=150 \n",
      "+ Fold4: eta=0.1, max_depth=1, gamma=0.0, colsample_bytree=0.8, min_child_weight=0, subsample=0.8, nrounds=150 \n",
      "- Fold4: eta=0.1, max_depth=1, gamma=0.0, colsample_bytree=0.8, min_child_weight=0, subsample=0.8, nrounds=150 \n",
      "+ Fold4: eta=0.1, max_depth=1, gamma=0.0, colsample_bytree=0.8, min_child_weight=0, subsample=1.0, nrounds=150 \n",
      "- Fold4: eta=0.1, max_depth=1, gamma=0.0, colsample_bytree=0.8, min_child_weight=0, subsample=1.0, nrounds=150 \n",
      "+ Fold4: eta=0.1, max_depth=1, gamma=0.0, colsample_bytree=0.8, min_child_weight=1, subsample=0.8, nrounds=150 \n",
      "- Fold4: eta=0.1, max_depth=1, gamma=0.0, colsample_bytree=0.8, min_child_weight=1, subsample=0.8, nrounds=150 \n",
      "+ Fold4: eta=0.1, max_depth=1, gamma=0.0, colsample_bytree=0.8, min_child_weight=1, subsample=1.0, nrounds=150 \n",
      "- Fold4: eta=0.1, max_depth=1, gamma=0.0, colsample_bytree=0.8, min_child_weight=1, subsample=1.0, nrounds=150 \n",
      "+ Fold4: eta=0.1, max_depth=1, gamma=0.0, colsample_bytree=0.8, min_child_weight=2, subsample=0.8, nrounds=150 \n",
      "- Fold4: eta=0.1, max_depth=1, gamma=0.0, colsample_bytree=0.8, min_child_weight=2, subsample=0.8, nrounds=150 \n",
      "+ Fold4: eta=0.1, max_depth=1, gamma=0.0, colsample_bytree=0.8, min_child_weight=2, subsample=1.0, nrounds=150 \n",
      "- Fold4: eta=0.1, max_depth=1, gamma=0.0, colsample_bytree=0.8, min_child_weight=2, subsample=1.0, nrounds=150 \n",
      "+ Fold4: eta=0.1, max_depth=1, gamma=0.0, colsample_bytree=0.9, min_child_weight=0, subsample=0.8, nrounds=150 \n",
      "- Fold4: eta=0.1, max_depth=1, gamma=0.0, colsample_bytree=0.9, min_child_weight=0, subsample=0.8, nrounds=150 \n",
      "+ Fold4: eta=0.1, max_depth=1, gamma=0.0, colsample_bytree=0.9, min_child_weight=0, subsample=1.0, nrounds=150 \n",
      "- Fold4: eta=0.1, max_depth=1, gamma=0.0, colsample_bytree=0.9, min_child_weight=0, subsample=1.0, nrounds=150 \n",
      "+ Fold4: eta=0.1, max_depth=1, gamma=0.0, colsample_bytree=0.9, min_child_weight=1, subsample=0.8, nrounds=150 \n",
      "- Fold4: eta=0.1, max_depth=1, gamma=0.0, colsample_bytree=0.9, min_child_weight=1, subsample=0.8, nrounds=150 \n",
      "+ Fold4: eta=0.1, max_depth=1, gamma=0.0, colsample_bytree=0.9, min_child_weight=1, subsample=1.0, nrounds=150 \n",
      "- Fold4: eta=0.1, max_depth=1, gamma=0.0, colsample_bytree=0.9, min_child_weight=1, subsample=1.0, nrounds=150 \n",
      "+ Fold4: eta=0.1, max_depth=1, gamma=0.0, colsample_bytree=0.9, min_child_weight=2, subsample=0.8, nrounds=150 \n",
      "- Fold4: eta=0.1, max_depth=1, gamma=0.0, colsample_bytree=0.9, min_child_weight=2, subsample=0.8, nrounds=150 \n",
      "+ Fold4: eta=0.1, max_depth=1, gamma=0.0, colsample_bytree=0.9, min_child_weight=2, subsample=1.0, nrounds=150 \n",
      "- Fold4: eta=0.1, max_depth=1, gamma=0.0, colsample_bytree=0.9, min_child_weight=2, subsample=1.0, nrounds=150 \n",
      "+ Fold4: eta=0.1, max_depth=1, gamma=0.1, colsample_bytree=0.6, min_child_weight=0, subsample=0.8, nrounds=150 \n",
      "- Fold4: eta=0.1, max_depth=1, gamma=0.1, colsample_bytree=0.6, min_child_weight=0, subsample=0.8, nrounds=150 \n",
      "+ Fold4: eta=0.1, max_depth=1, gamma=0.1, colsample_bytree=0.6, min_child_weight=0, subsample=1.0, nrounds=150 \n",
      "- Fold4: eta=0.1, max_depth=1, gamma=0.1, colsample_bytree=0.6, min_child_weight=0, subsample=1.0, nrounds=150 \n",
      "+ Fold4: eta=0.1, max_depth=1, gamma=0.1, colsample_bytree=0.6, min_child_weight=1, subsample=0.8, nrounds=150 \n",
      "- Fold4: eta=0.1, max_depth=1, gamma=0.1, colsample_bytree=0.6, min_child_weight=1, subsample=0.8, nrounds=150 \n",
      "+ Fold4: eta=0.1, max_depth=1, gamma=0.1, colsample_bytree=0.6, min_child_weight=1, subsample=1.0, nrounds=150 \n",
      "- Fold4: eta=0.1, max_depth=1, gamma=0.1, colsample_bytree=0.6, min_child_weight=1, subsample=1.0, nrounds=150 \n",
      "+ Fold4: eta=0.1, max_depth=1, gamma=0.1, colsample_bytree=0.6, min_child_weight=2, subsample=0.8, nrounds=150 \n",
      "- Fold4: eta=0.1, max_depth=1, gamma=0.1, colsample_bytree=0.6, min_child_weight=2, subsample=0.8, nrounds=150 \n",
      "+ Fold4: eta=0.1, max_depth=1, gamma=0.1, colsample_bytree=0.6, min_child_weight=2, subsample=1.0, nrounds=150 \n",
      "- Fold4: eta=0.1, max_depth=1, gamma=0.1, colsample_bytree=0.6, min_child_weight=2, subsample=1.0, nrounds=150 \n",
      "+ Fold4: eta=0.1, max_depth=1, gamma=0.1, colsample_bytree=0.8, min_child_weight=0, subsample=0.8, nrounds=150 \n",
      "- Fold4: eta=0.1, max_depth=1, gamma=0.1, colsample_bytree=0.8, min_child_weight=0, subsample=0.8, nrounds=150 \n",
      "+ Fold4: eta=0.1, max_depth=1, gamma=0.1, colsample_bytree=0.8, min_child_weight=0, subsample=1.0, nrounds=150 \n",
      "- Fold4: eta=0.1, max_depth=1, gamma=0.1, colsample_bytree=0.8, min_child_weight=0, subsample=1.0, nrounds=150 \n",
      "+ Fold4: eta=0.1, max_depth=1, gamma=0.1, colsample_bytree=0.8, min_child_weight=1, subsample=0.8, nrounds=150 \n",
      "- Fold4: eta=0.1, max_depth=1, gamma=0.1, colsample_bytree=0.8, min_child_weight=1, subsample=0.8, nrounds=150 \n",
      "+ Fold4: eta=0.1, max_depth=1, gamma=0.1, colsample_bytree=0.8, min_child_weight=1, subsample=1.0, nrounds=150 \n",
      "- Fold4: eta=0.1, max_depth=1, gamma=0.1, colsample_bytree=0.8, min_child_weight=1, subsample=1.0, nrounds=150 \n",
      "+ Fold4: eta=0.1, max_depth=1, gamma=0.1, colsample_bytree=0.8, min_child_weight=2, subsample=0.8, nrounds=150 \n",
      "- Fold4: eta=0.1, max_depth=1, gamma=0.1, colsample_bytree=0.8, min_child_weight=2, subsample=0.8, nrounds=150 \n",
      "+ Fold4: eta=0.1, max_depth=1, gamma=0.1, colsample_bytree=0.8, min_child_weight=2, subsample=1.0, nrounds=150 \n",
      "- Fold4: eta=0.1, max_depth=1, gamma=0.1, colsample_bytree=0.8, min_child_weight=2, subsample=1.0, nrounds=150 \n",
      "+ Fold4: eta=0.1, max_depth=1, gamma=0.1, colsample_bytree=0.9, min_child_weight=0, subsample=0.8, nrounds=150 \n",
      "- Fold4: eta=0.1, max_depth=1, gamma=0.1, colsample_bytree=0.9, min_child_weight=0, subsample=0.8, nrounds=150 \n",
      "+ Fold4: eta=0.1, max_depth=1, gamma=0.1, colsample_bytree=0.9, min_child_weight=0, subsample=1.0, nrounds=150 \n",
      "- Fold4: eta=0.1, max_depth=1, gamma=0.1, colsample_bytree=0.9, min_child_weight=0, subsample=1.0, nrounds=150 \n",
      "+ Fold4: eta=0.1, max_depth=1, gamma=0.1, colsample_bytree=0.9, min_child_weight=1, subsample=0.8, nrounds=150 \n",
      "- Fold4: eta=0.1, max_depth=1, gamma=0.1, colsample_bytree=0.9, min_child_weight=1, subsample=0.8, nrounds=150 \n",
      "+ Fold4: eta=0.1, max_depth=1, gamma=0.1, colsample_bytree=0.9, min_child_weight=1, subsample=1.0, nrounds=150 \n",
      "- Fold4: eta=0.1, max_depth=1, gamma=0.1, colsample_bytree=0.9, min_child_weight=1, subsample=1.0, nrounds=150 \n",
      "+ Fold4: eta=0.1, max_depth=1, gamma=0.1, colsample_bytree=0.9, min_child_weight=2, subsample=0.8, nrounds=150 \n",
      "- Fold4: eta=0.1, max_depth=1, gamma=0.1, colsample_bytree=0.9, min_child_weight=2, subsample=0.8, nrounds=150 \n",
      "+ Fold4: eta=0.1, max_depth=1, gamma=0.1, colsample_bytree=0.9, min_child_weight=2, subsample=1.0, nrounds=150 \n",
      "- Fold4: eta=0.1, max_depth=1, gamma=0.1, colsample_bytree=0.9, min_child_weight=2, subsample=1.0, nrounds=150 \n",
      "+ Fold4: eta=0.1, max_depth=2, gamma=0.0, colsample_bytree=0.6, min_child_weight=0, subsample=0.8, nrounds=150 \n",
      "- Fold4: eta=0.1, max_depth=2, gamma=0.0, colsample_bytree=0.6, min_child_weight=0, subsample=0.8, nrounds=150 \n",
      "+ Fold4: eta=0.1, max_depth=2, gamma=0.0, colsample_bytree=0.6, min_child_weight=0, subsample=1.0, nrounds=150 \n",
      "- Fold4: eta=0.1, max_depth=2, gamma=0.0, colsample_bytree=0.6, min_child_weight=0, subsample=1.0, nrounds=150 \n",
      "+ Fold4: eta=0.1, max_depth=2, gamma=0.0, colsample_bytree=0.6, min_child_weight=1, subsample=0.8, nrounds=150 \n",
      "- Fold4: eta=0.1, max_depth=2, gamma=0.0, colsample_bytree=0.6, min_child_weight=1, subsample=0.8, nrounds=150 \n",
      "+ Fold4: eta=0.1, max_depth=2, gamma=0.0, colsample_bytree=0.6, min_child_weight=1, subsample=1.0, nrounds=150 \n",
      "- Fold4: eta=0.1, max_depth=2, gamma=0.0, colsample_bytree=0.6, min_child_weight=1, subsample=1.0, nrounds=150 \n",
      "+ Fold4: eta=0.1, max_depth=2, gamma=0.0, colsample_bytree=0.6, min_child_weight=2, subsample=0.8, nrounds=150 \n",
      "- Fold4: eta=0.1, max_depth=2, gamma=0.0, colsample_bytree=0.6, min_child_weight=2, subsample=0.8, nrounds=150 \n",
      "+ Fold4: eta=0.1, max_depth=2, gamma=0.0, colsample_bytree=0.6, min_child_weight=2, subsample=1.0, nrounds=150 \n",
      "- Fold4: eta=0.1, max_depth=2, gamma=0.0, colsample_bytree=0.6, min_child_weight=2, subsample=1.0, nrounds=150 \n",
      "+ Fold4: eta=0.1, max_depth=2, gamma=0.0, colsample_bytree=0.8, min_child_weight=0, subsample=0.8, nrounds=150 \n",
      "- Fold4: eta=0.1, max_depth=2, gamma=0.0, colsample_bytree=0.8, min_child_weight=0, subsample=0.8, nrounds=150 \n",
      "+ Fold4: eta=0.1, max_depth=2, gamma=0.0, colsample_bytree=0.8, min_child_weight=0, subsample=1.0, nrounds=150 \n",
      "- Fold4: eta=0.1, max_depth=2, gamma=0.0, colsample_bytree=0.8, min_child_weight=0, subsample=1.0, nrounds=150 \n",
      "+ Fold4: eta=0.1, max_depth=2, gamma=0.0, colsample_bytree=0.8, min_child_weight=1, subsample=0.8, nrounds=150 \n",
      "- Fold4: eta=0.1, max_depth=2, gamma=0.0, colsample_bytree=0.8, min_child_weight=1, subsample=0.8, nrounds=150 \n",
      "+ Fold4: eta=0.1, max_depth=2, gamma=0.0, colsample_bytree=0.8, min_child_weight=1, subsample=1.0, nrounds=150 \n",
      "- Fold4: eta=0.1, max_depth=2, gamma=0.0, colsample_bytree=0.8, min_child_weight=1, subsample=1.0, nrounds=150 \n",
      "+ Fold4: eta=0.1, max_depth=2, gamma=0.0, colsample_bytree=0.8, min_child_weight=2, subsample=0.8, nrounds=150 \n",
      "- Fold4: eta=0.1, max_depth=2, gamma=0.0, colsample_bytree=0.8, min_child_weight=2, subsample=0.8, nrounds=150 \n",
      "+ Fold4: eta=0.1, max_depth=2, gamma=0.0, colsample_bytree=0.8, min_child_weight=2, subsample=1.0, nrounds=150 \n",
      "- Fold4: eta=0.1, max_depth=2, gamma=0.0, colsample_bytree=0.8, min_child_weight=2, subsample=1.0, nrounds=150 \n",
      "+ Fold4: eta=0.1, max_depth=2, gamma=0.0, colsample_bytree=0.9, min_child_weight=0, subsample=0.8, nrounds=150 \n",
      "- Fold4: eta=0.1, max_depth=2, gamma=0.0, colsample_bytree=0.9, min_child_weight=0, subsample=0.8, nrounds=150 \n",
      "+ Fold4: eta=0.1, max_depth=2, gamma=0.0, colsample_bytree=0.9, min_child_weight=0, subsample=1.0, nrounds=150 \n",
      "- Fold4: eta=0.1, max_depth=2, gamma=0.0, colsample_bytree=0.9, min_child_weight=0, subsample=1.0, nrounds=150 \n",
      "+ Fold4: eta=0.1, max_depth=2, gamma=0.0, colsample_bytree=0.9, min_child_weight=1, subsample=0.8, nrounds=150 \n",
      "- Fold4: eta=0.1, max_depth=2, gamma=0.0, colsample_bytree=0.9, min_child_weight=1, subsample=0.8, nrounds=150 \n",
      "+ Fold4: eta=0.1, max_depth=2, gamma=0.0, colsample_bytree=0.9, min_child_weight=1, subsample=1.0, nrounds=150 \n",
      "- Fold4: eta=0.1, max_depth=2, gamma=0.0, colsample_bytree=0.9, min_child_weight=1, subsample=1.0, nrounds=150 \n",
      "+ Fold4: eta=0.1, max_depth=2, gamma=0.0, colsample_bytree=0.9, min_child_weight=2, subsample=0.8, nrounds=150 \n",
      "- Fold4: eta=0.1, max_depth=2, gamma=0.0, colsample_bytree=0.9, min_child_weight=2, subsample=0.8, nrounds=150 \n",
      "+ Fold4: eta=0.1, max_depth=2, gamma=0.0, colsample_bytree=0.9, min_child_weight=2, subsample=1.0, nrounds=150 \n",
      "- Fold4: eta=0.1, max_depth=2, gamma=0.0, colsample_bytree=0.9, min_child_weight=2, subsample=1.0, nrounds=150 \n",
      "+ Fold4: eta=0.1, max_depth=2, gamma=0.1, colsample_bytree=0.6, min_child_weight=0, subsample=0.8, nrounds=150 \n",
      "- Fold4: eta=0.1, max_depth=2, gamma=0.1, colsample_bytree=0.6, min_child_weight=0, subsample=0.8, nrounds=150 \n",
      "+ Fold4: eta=0.1, max_depth=2, gamma=0.1, colsample_bytree=0.6, min_child_weight=0, subsample=1.0, nrounds=150 \n",
      "- Fold4: eta=0.1, max_depth=2, gamma=0.1, colsample_bytree=0.6, min_child_weight=0, subsample=1.0, nrounds=150 \n",
      "+ Fold4: eta=0.1, max_depth=2, gamma=0.1, colsample_bytree=0.6, min_child_weight=1, subsample=0.8, nrounds=150 \n",
      "- Fold4: eta=0.1, max_depth=2, gamma=0.1, colsample_bytree=0.6, min_child_weight=1, subsample=0.8, nrounds=150 \n",
      "+ Fold4: eta=0.1, max_depth=2, gamma=0.1, colsample_bytree=0.6, min_child_weight=1, subsample=1.0, nrounds=150 \n",
      "- Fold4: eta=0.1, max_depth=2, gamma=0.1, colsample_bytree=0.6, min_child_weight=1, subsample=1.0, nrounds=150 \n",
      "+ Fold4: eta=0.1, max_depth=2, gamma=0.1, colsample_bytree=0.6, min_child_weight=2, subsample=0.8, nrounds=150 \n",
      "- Fold4: eta=0.1, max_depth=2, gamma=0.1, colsample_bytree=0.6, min_child_weight=2, subsample=0.8, nrounds=150 \n",
      "+ Fold4: eta=0.1, max_depth=2, gamma=0.1, colsample_bytree=0.6, min_child_weight=2, subsample=1.0, nrounds=150 \n",
      "- Fold4: eta=0.1, max_depth=2, gamma=0.1, colsample_bytree=0.6, min_child_weight=2, subsample=1.0, nrounds=150 \n",
      "+ Fold4: eta=0.1, max_depth=2, gamma=0.1, colsample_bytree=0.8, min_child_weight=0, subsample=0.8, nrounds=150 \n",
      "- Fold4: eta=0.1, max_depth=2, gamma=0.1, colsample_bytree=0.8, min_child_weight=0, subsample=0.8, nrounds=150 \n",
      "+ Fold4: eta=0.1, max_depth=2, gamma=0.1, colsample_bytree=0.8, min_child_weight=0, subsample=1.0, nrounds=150 \n",
      "- Fold4: eta=0.1, max_depth=2, gamma=0.1, colsample_bytree=0.8, min_child_weight=0, subsample=1.0, nrounds=150 \n",
      "+ Fold4: eta=0.1, max_depth=2, gamma=0.1, colsample_bytree=0.8, min_child_weight=1, subsample=0.8, nrounds=150 \n",
      "- Fold4: eta=0.1, max_depth=2, gamma=0.1, colsample_bytree=0.8, min_child_weight=1, subsample=0.8, nrounds=150 \n",
      "+ Fold4: eta=0.1, max_depth=2, gamma=0.1, colsample_bytree=0.8, min_child_weight=1, subsample=1.0, nrounds=150 \n",
      "- Fold4: eta=0.1, max_depth=2, gamma=0.1, colsample_bytree=0.8, min_child_weight=1, subsample=1.0, nrounds=150 \n",
      "+ Fold4: eta=0.1, max_depth=2, gamma=0.1, colsample_bytree=0.8, min_child_weight=2, subsample=0.8, nrounds=150 \n",
      "- Fold4: eta=0.1, max_depth=2, gamma=0.1, colsample_bytree=0.8, min_child_weight=2, subsample=0.8, nrounds=150 \n",
      "+ Fold4: eta=0.1, max_depth=2, gamma=0.1, colsample_bytree=0.8, min_child_weight=2, subsample=1.0, nrounds=150 \n",
      "- Fold4: eta=0.1, max_depth=2, gamma=0.1, colsample_bytree=0.8, min_child_weight=2, subsample=1.0, nrounds=150 \n",
      "+ Fold4: eta=0.1, max_depth=2, gamma=0.1, colsample_bytree=0.9, min_child_weight=0, subsample=0.8, nrounds=150 \n",
      "- Fold4: eta=0.1, max_depth=2, gamma=0.1, colsample_bytree=0.9, min_child_weight=0, subsample=0.8, nrounds=150 \n",
      "+ Fold4: eta=0.1, max_depth=2, gamma=0.1, colsample_bytree=0.9, min_child_weight=0, subsample=1.0, nrounds=150 \n",
      "- Fold4: eta=0.1, max_depth=2, gamma=0.1, colsample_bytree=0.9, min_child_weight=0, subsample=1.0, nrounds=150 \n",
      "+ Fold4: eta=0.1, max_depth=2, gamma=0.1, colsample_bytree=0.9, min_child_weight=1, subsample=0.8, nrounds=150 \n",
      "- Fold4: eta=0.1, max_depth=2, gamma=0.1, colsample_bytree=0.9, min_child_weight=1, subsample=0.8, nrounds=150 \n",
      "+ Fold4: eta=0.1, max_depth=2, gamma=0.1, colsample_bytree=0.9, min_child_weight=1, subsample=1.0, nrounds=150 \n",
      "- Fold4: eta=0.1, max_depth=2, gamma=0.1, colsample_bytree=0.9, min_child_weight=1, subsample=1.0, nrounds=150 \n",
      "+ Fold4: eta=0.1, max_depth=2, gamma=0.1, colsample_bytree=0.9, min_child_weight=2, subsample=0.8, nrounds=150 \n",
      "- Fold4: eta=0.1, max_depth=2, gamma=0.1, colsample_bytree=0.9, min_child_weight=2, subsample=0.8, nrounds=150 \n",
      "+ Fold4: eta=0.1, max_depth=2, gamma=0.1, colsample_bytree=0.9, min_child_weight=2, subsample=1.0, nrounds=150 \n",
      "- Fold4: eta=0.1, max_depth=2, gamma=0.1, colsample_bytree=0.9, min_child_weight=2, subsample=1.0, nrounds=150 \n",
      "+ Fold4: eta=0.3, max_depth=0, gamma=0.0, colsample_bytree=0.6, min_child_weight=0, subsample=0.8, nrounds=150 \n",
      "- Fold4: eta=0.3, max_depth=0, gamma=0.0, colsample_bytree=0.6, min_child_weight=0, subsample=0.8, nrounds=150 \n",
      "+ Fold4: eta=0.3, max_depth=0, gamma=0.0, colsample_bytree=0.6, min_child_weight=0, subsample=1.0, nrounds=150 \n",
      "- Fold4: eta=0.3, max_depth=0, gamma=0.0, colsample_bytree=0.6, min_child_weight=0, subsample=1.0, nrounds=150 \n",
      "+ Fold4: eta=0.3, max_depth=0, gamma=0.0, colsample_bytree=0.6, min_child_weight=1, subsample=0.8, nrounds=150 \n",
      "- Fold4: eta=0.3, max_depth=0, gamma=0.0, colsample_bytree=0.6, min_child_weight=1, subsample=0.8, nrounds=150 \n",
      "+ Fold4: eta=0.3, max_depth=0, gamma=0.0, colsample_bytree=0.6, min_child_weight=1, subsample=1.0, nrounds=150 \n",
      "- Fold4: eta=0.3, max_depth=0, gamma=0.0, colsample_bytree=0.6, min_child_weight=1, subsample=1.0, nrounds=150 \n",
      "+ Fold4: eta=0.3, max_depth=0, gamma=0.0, colsample_bytree=0.6, min_child_weight=2, subsample=0.8, nrounds=150 \n",
      "- Fold4: eta=0.3, max_depth=0, gamma=0.0, colsample_bytree=0.6, min_child_weight=2, subsample=0.8, nrounds=150 \n",
      "+ Fold4: eta=0.3, max_depth=0, gamma=0.0, colsample_bytree=0.6, min_child_weight=2, subsample=1.0, nrounds=150 \n",
      "- Fold4: eta=0.3, max_depth=0, gamma=0.0, colsample_bytree=0.6, min_child_weight=2, subsample=1.0, nrounds=150 \n",
      "+ Fold4: eta=0.3, max_depth=0, gamma=0.0, colsample_bytree=0.8, min_child_weight=0, subsample=0.8, nrounds=150 \n",
      "- Fold4: eta=0.3, max_depth=0, gamma=0.0, colsample_bytree=0.8, min_child_weight=0, subsample=0.8, nrounds=150 \n",
      "+ Fold4: eta=0.3, max_depth=0, gamma=0.0, colsample_bytree=0.8, min_child_weight=0, subsample=1.0, nrounds=150 \n",
      "- Fold4: eta=0.3, max_depth=0, gamma=0.0, colsample_bytree=0.8, min_child_weight=0, subsample=1.0, nrounds=150 \n",
      "+ Fold4: eta=0.3, max_depth=0, gamma=0.0, colsample_bytree=0.8, min_child_weight=1, subsample=0.8, nrounds=150 \n",
      "- Fold4: eta=0.3, max_depth=0, gamma=0.0, colsample_bytree=0.8, min_child_weight=1, subsample=0.8, nrounds=150 \n",
      "+ Fold4: eta=0.3, max_depth=0, gamma=0.0, colsample_bytree=0.8, min_child_weight=1, subsample=1.0, nrounds=150 \n",
      "- Fold4: eta=0.3, max_depth=0, gamma=0.0, colsample_bytree=0.8, min_child_weight=1, subsample=1.0, nrounds=150 \n",
      "+ Fold4: eta=0.3, max_depth=0, gamma=0.0, colsample_bytree=0.8, min_child_weight=2, subsample=0.8, nrounds=150 \n",
      "- Fold4: eta=0.3, max_depth=0, gamma=0.0, colsample_bytree=0.8, min_child_weight=2, subsample=0.8, nrounds=150 \n",
      "+ Fold4: eta=0.3, max_depth=0, gamma=0.0, colsample_bytree=0.8, min_child_weight=2, subsample=1.0, nrounds=150 \n",
      "- Fold4: eta=0.3, max_depth=0, gamma=0.0, colsample_bytree=0.8, min_child_weight=2, subsample=1.0, nrounds=150 \n",
      "+ Fold4: eta=0.3, max_depth=0, gamma=0.0, colsample_bytree=0.9, min_child_weight=0, subsample=0.8, nrounds=150 \n",
      "- Fold4: eta=0.3, max_depth=0, gamma=0.0, colsample_bytree=0.9, min_child_weight=0, subsample=0.8, nrounds=150 \n",
      "+ Fold4: eta=0.3, max_depth=0, gamma=0.0, colsample_bytree=0.9, min_child_weight=0, subsample=1.0, nrounds=150 \n",
      "- Fold4: eta=0.3, max_depth=0, gamma=0.0, colsample_bytree=0.9, min_child_weight=0, subsample=1.0, nrounds=150 \n",
      "+ Fold4: eta=0.3, max_depth=0, gamma=0.0, colsample_bytree=0.9, min_child_weight=1, subsample=0.8, nrounds=150 \n",
      "- Fold4: eta=0.3, max_depth=0, gamma=0.0, colsample_bytree=0.9, min_child_weight=1, subsample=0.8, nrounds=150 \n",
      "+ Fold4: eta=0.3, max_depth=0, gamma=0.0, colsample_bytree=0.9, min_child_weight=1, subsample=1.0, nrounds=150 \n",
      "- Fold4: eta=0.3, max_depth=0, gamma=0.0, colsample_bytree=0.9, min_child_weight=1, subsample=1.0, nrounds=150 \n",
      "+ Fold4: eta=0.3, max_depth=0, gamma=0.0, colsample_bytree=0.9, min_child_weight=2, subsample=0.8, nrounds=150 \n",
      "- Fold4: eta=0.3, max_depth=0, gamma=0.0, colsample_bytree=0.9, min_child_weight=2, subsample=0.8, nrounds=150 \n",
      "+ Fold4: eta=0.3, max_depth=0, gamma=0.0, colsample_bytree=0.9, min_child_weight=2, subsample=1.0, nrounds=150 \n",
      "- Fold4: eta=0.3, max_depth=0, gamma=0.0, colsample_bytree=0.9, min_child_weight=2, subsample=1.0, nrounds=150 \n",
      "+ Fold4: eta=0.3, max_depth=0, gamma=0.1, colsample_bytree=0.6, min_child_weight=0, subsample=0.8, nrounds=150 \n",
      "- Fold4: eta=0.3, max_depth=0, gamma=0.1, colsample_bytree=0.6, min_child_weight=0, subsample=0.8, nrounds=150 \n",
      "+ Fold4: eta=0.3, max_depth=0, gamma=0.1, colsample_bytree=0.6, min_child_weight=0, subsample=1.0, nrounds=150 \n",
      "- Fold4: eta=0.3, max_depth=0, gamma=0.1, colsample_bytree=0.6, min_child_weight=0, subsample=1.0, nrounds=150 \n",
      "+ Fold4: eta=0.3, max_depth=0, gamma=0.1, colsample_bytree=0.6, min_child_weight=1, subsample=0.8, nrounds=150 \n",
      "- Fold4: eta=0.3, max_depth=0, gamma=0.1, colsample_bytree=0.6, min_child_weight=1, subsample=0.8, nrounds=150 \n",
      "+ Fold4: eta=0.3, max_depth=0, gamma=0.1, colsample_bytree=0.6, min_child_weight=1, subsample=1.0, nrounds=150 \n",
      "- Fold4: eta=0.3, max_depth=0, gamma=0.1, colsample_bytree=0.6, min_child_weight=1, subsample=1.0, nrounds=150 \n",
      "+ Fold4: eta=0.3, max_depth=0, gamma=0.1, colsample_bytree=0.6, min_child_weight=2, subsample=0.8, nrounds=150 \n",
      "- Fold4: eta=0.3, max_depth=0, gamma=0.1, colsample_bytree=0.6, min_child_weight=2, subsample=0.8, nrounds=150 \n",
      "+ Fold4: eta=0.3, max_depth=0, gamma=0.1, colsample_bytree=0.6, min_child_weight=2, subsample=1.0, nrounds=150 \n",
      "- Fold4: eta=0.3, max_depth=0, gamma=0.1, colsample_bytree=0.6, min_child_weight=2, subsample=1.0, nrounds=150 \n",
      "+ Fold4: eta=0.3, max_depth=0, gamma=0.1, colsample_bytree=0.8, min_child_weight=0, subsample=0.8, nrounds=150 \n",
      "- Fold4: eta=0.3, max_depth=0, gamma=0.1, colsample_bytree=0.8, min_child_weight=0, subsample=0.8, nrounds=150 \n",
      "+ Fold4: eta=0.3, max_depth=0, gamma=0.1, colsample_bytree=0.8, min_child_weight=0, subsample=1.0, nrounds=150 \n",
      "- Fold4: eta=0.3, max_depth=0, gamma=0.1, colsample_bytree=0.8, min_child_weight=0, subsample=1.0, nrounds=150 \n",
      "+ Fold4: eta=0.3, max_depth=0, gamma=0.1, colsample_bytree=0.8, min_child_weight=1, subsample=0.8, nrounds=150 \n",
      "- Fold4: eta=0.3, max_depth=0, gamma=0.1, colsample_bytree=0.8, min_child_weight=1, subsample=0.8, nrounds=150 \n",
      "+ Fold4: eta=0.3, max_depth=0, gamma=0.1, colsample_bytree=0.8, min_child_weight=1, subsample=1.0, nrounds=150 \n",
      "- Fold4: eta=0.3, max_depth=0, gamma=0.1, colsample_bytree=0.8, min_child_weight=1, subsample=1.0, nrounds=150 \n",
      "+ Fold4: eta=0.3, max_depth=0, gamma=0.1, colsample_bytree=0.8, min_child_weight=2, subsample=0.8, nrounds=150 \n",
      "- Fold4: eta=0.3, max_depth=0, gamma=0.1, colsample_bytree=0.8, min_child_weight=2, subsample=0.8, nrounds=150 \n",
      "+ Fold4: eta=0.3, max_depth=0, gamma=0.1, colsample_bytree=0.8, min_child_weight=2, subsample=1.0, nrounds=150 \n",
      "- Fold4: eta=0.3, max_depth=0, gamma=0.1, colsample_bytree=0.8, min_child_weight=2, subsample=1.0, nrounds=150 \n",
      "+ Fold4: eta=0.3, max_depth=0, gamma=0.1, colsample_bytree=0.9, min_child_weight=0, subsample=0.8, nrounds=150 \n",
      "- Fold4: eta=0.3, max_depth=0, gamma=0.1, colsample_bytree=0.9, min_child_weight=0, subsample=0.8, nrounds=150 \n",
      "+ Fold4: eta=0.3, max_depth=0, gamma=0.1, colsample_bytree=0.9, min_child_weight=0, subsample=1.0, nrounds=150 \n",
      "- Fold4: eta=0.3, max_depth=0, gamma=0.1, colsample_bytree=0.9, min_child_weight=0, subsample=1.0, nrounds=150 \n",
      "+ Fold4: eta=0.3, max_depth=0, gamma=0.1, colsample_bytree=0.9, min_child_weight=1, subsample=0.8, nrounds=150 \n",
      "- Fold4: eta=0.3, max_depth=0, gamma=0.1, colsample_bytree=0.9, min_child_weight=1, subsample=0.8, nrounds=150 \n",
      "+ Fold4: eta=0.3, max_depth=0, gamma=0.1, colsample_bytree=0.9, min_child_weight=1, subsample=1.0, nrounds=150 \n",
      "- Fold4: eta=0.3, max_depth=0, gamma=0.1, colsample_bytree=0.9, min_child_weight=1, subsample=1.0, nrounds=150 \n",
      "+ Fold4: eta=0.3, max_depth=0, gamma=0.1, colsample_bytree=0.9, min_child_weight=2, subsample=0.8, nrounds=150 \n",
      "- Fold4: eta=0.3, max_depth=0, gamma=0.1, colsample_bytree=0.9, min_child_weight=2, subsample=0.8, nrounds=150 \n",
      "+ Fold4: eta=0.3, max_depth=0, gamma=0.1, colsample_bytree=0.9, min_child_weight=2, subsample=1.0, nrounds=150 \n",
      "- Fold4: eta=0.3, max_depth=0, gamma=0.1, colsample_bytree=0.9, min_child_weight=2, subsample=1.0, nrounds=150 \n",
      "+ Fold4: eta=0.3, max_depth=1, gamma=0.0, colsample_bytree=0.6, min_child_weight=0, subsample=0.8, nrounds=150 \n",
      "- Fold4: eta=0.3, max_depth=1, gamma=0.0, colsample_bytree=0.6, min_child_weight=0, subsample=0.8, nrounds=150 \n",
      "+ Fold4: eta=0.3, max_depth=1, gamma=0.0, colsample_bytree=0.6, min_child_weight=0, subsample=1.0, nrounds=150 \n",
      "- Fold4: eta=0.3, max_depth=1, gamma=0.0, colsample_bytree=0.6, min_child_weight=0, subsample=1.0, nrounds=150 \n",
      "+ Fold4: eta=0.3, max_depth=1, gamma=0.0, colsample_bytree=0.6, min_child_weight=1, subsample=0.8, nrounds=150 \n",
      "- Fold4: eta=0.3, max_depth=1, gamma=0.0, colsample_bytree=0.6, min_child_weight=1, subsample=0.8, nrounds=150 \n",
      "+ Fold4: eta=0.3, max_depth=1, gamma=0.0, colsample_bytree=0.6, min_child_weight=1, subsample=1.0, nrounds=150 \n",
      "- Fold4: eta=0.3, max_depth=1, gamma=0.0, colsample_bytree=0.6, min_child_weight=1, subsample=1.0, nrounds=150 \n",
      "+ Fold4: eta=0.3, max_depth=1, gamma=0.0, colsample_bytree=0.6, min_child_weight=2, subsample=0.8, nrounds=150 \n",
      "- Fold4: eta=0.3, max_depth=1, gamma=0.0, colsample_bytree=0.6, min_child_weight=2, subsample=0.8, nrounds=150 \n",
      "+ Fold4: eta=0.3, max_depth=1, gamma=0.0, colsample_bytree=0.6, min_child_weight=2, subsample=1.0, nrounds=150 \n",
      "- Fold4: eta=0.3, max_depth=1, gamma=0.0, colsample_bytree=0.6, min_child_weight=2, subsample=1.0, nrounds=150 \n",
      "+ Fold4: eta=0.3, max_depth=1, gamma=0.0, colsample_bytree=0.8, min_child_weight=0, subsample=0.8, nrounds=150 \n",
      "- Fold4: eta=0.3, max_depth=1, gamma=0.0, colsample_bytree=0.8, min_child_weight=0, subsample=0.8, nrounds=150 \n",
      "+ Fold4: eta=0.3, max_depth=1, gamma=0.0, colsample_bytree=0.8, min_child_weight=0, subsample=1.0, nrounds=150 \n",
      "- Fold4: eta=0.3, max_depth=1, gamma=0.0, colsample_bytree=0.8, min_child_weight=0, subsample=1.0, nrounds=150 \n",
      "+ Fold4: eta=0.3, max_depth=1, gamma=0.0, colsample_bytree=0.8, min_child_weight=1, subsample=0.8, nrounds=150 \n",
      "- Fold4: eta=0.3, max_depth=1, gamma=0.0, colsample_bytree=0.8, min_child_weight=1, subsample=0.8, nrounds=150 \n",
      "+ Fold4: eta=0.3, max_depth=1, gamma=0.0, colsample_bytree=0.8, min_child_weight=1, subsample=1.0, nrounds=150 \n",
      "- Fold4: eta=0.3, max_depth=1, gamma=0.0, colsample_bytree=0.8, min_child_weight=1, subsample=1.0, nrounds=150 \n",
      "+ Fold4: eta=0.3, max_depth=1, gamma=0.0, colsample_bytree=0.8, min_child_weight=2, subsample=0.8, nrounds=150 \n",
      "- Fold4: eta=0.3, max_depth=1, gamma=0.0, colsample_bytree=0.8, min_child_weight=2, subsample=0.8, nrounds=150 \n",
      "+ Fold4: eta=0.3, max_depth=1, gamma=0.0, colsample_bytree=0.8, min_child_weight=2, subsample=1.0, nrounds=150 \n",
      "- Fold4: eta=0.3, max_depth=1, gamma=0.0, colsample_bytree=0.8, min_child_weight=2, subsample=1.0, nrounds=150 \n",
      "+ Fold4: eta=0.3, max_depth=1, gamma=0.0, colsample_bytree=0.9, min_child_weight=0, subsample=0.8, nrounds=150 \n",
      "- Fold4: eta=0.3, max_depth=1, gamma=0.0, colsample_bytree=0.9, min_child_weight=0, subsample=0.8, nrounds=150 \n",
      "+ Fold4: eta=0.3, max_depth=1, gamma=0.0, colsample_bytree=0.9, min_child_weight=0, subsample=1.0, nrounds=150 \n",
      "- Fold4: eta=0.3, max_depth=1, gamma=0.0, colsample_bytree=0.9, min_child_weight=0, subsample=1.0, nrounds=150 \n",
      "+ Fold4: eta=0.3, max_depth=1, gamma=0.0, colsample_bytree=0.9, min_child_weight=1, subsample=0.8, nrounds=150 \n",
      "- Fold4: eta=0.3, max_depth=1, gamma=0.0, colsample_bytree=0.9, min_child_weight=1, subsample=0.8, nrounds=150 \n",
      "+ Fold4: eta=0.3, max_depth=1, gamma=0.0, colsample_bytree=0.9, min_child_weight=1, subsample=1.0, nrounds=150 \n",
      "- Fold4: eta=0.3, max_depth=1, gamma=0.0, colsample_bytree=0.9, min_child_weight=1, subsample=1.0, nrounds=150 \n",
      "+ Fold4: eta=0.3, max_depth=1, gamma=0.0, colsample_bytree=0.9, min_child_weight=2, subsample=0.8, nrounds=150 \n",
      "- Fold4: eta=0.3, max_depth=1, gamma=0.0, colsample_bytree=0.9, min_child_weight=2, subsample=0.8, nrounds=150 \n",
      "+ Fold4: eta=0.3, max_depth=1, gamma=0.0, colsample_bytree=0.9, min_child_weight=2, subsample=1.0, nrounds=150 \n",
      "- Fold4: eta=0.3, max_depth=1, gamma=0.0, colsample_bytree=0.9, min_child_weight=2, subsample=1.0, nrounds=150 \n",
      "+ Fold4: eta=0.3, max_depth=1, gamma=0.1, colsample_bytree=0.6, min_child_weight=0, subsample=0.8, nrounds=150 \n",
      "- Fold4: eta=0.3, max_depth=1, gamma=0.1, colsample_bytree=0.6, min_child_weight=0, subsample=0.8, nrounds=150 \n",
      "+ Fold4: eta=0.3, max_depth=1, gamma=0.1, colsample_bytree=0.6, min_child_weight=0, subsample=1.0, nrounds=150 \n",
      "- Fold4: eta=0.3, max_depth=1, gamma=0.1, colsample_bytree=0.6, min_child_weight=0, subsample=1.0, nrounds=150 \n",
      "+ Fold4: eta=0.3, max_depth=1, gamma=0.1, colsample_bytree=0.6, min_child_weight=1, subsample=0.8, nrounds=150 \n",
      "- Fold4: eta=0.3, max_depth=1, gamma=0.1, colsample_bytree=0.6, min_child_weight=1, subsample=0.8, nrounds=150 \n",
      "+ Fold4: eta=0.3, max_depth=1, gamma=0.1, colsample_bytree=0.6, min_child_weight=1, subsample=1.0, nrounds=150 \n",
      "- Fold4: eta=0.3, max_depth=1, gamma=0.1, colsample_bytree=0.6, min_child_weight=1, subsample=1.0, nrounds=150 \n",
      "+ Fold4: eta=0.3, max_depth=1, gamma=0.1, colsample_bytree=0.6, min_child_weight=2, subsample=0.8, nrounds=150 \n",
      "- Fold4: eta=0.3, max_depth=1, gamma=0.1, colsample_bytree=0.6, min_child_weight=2, subsample=0.8, nrounds=150 \n",
      "+ Fold4: eta=0.3, max_depth=1, gamma=0.1, colsample_bytree=0.6, min_child_weight=2, subsample=1.0, nrounds=150 \n",
      "- Fold4: eta=0.3, max_depth=1, gamma=0.1, colsample_bytree=0.6, min_child_weight=2, subsample=1.0, nrounds=150 \n",
      "+ Fold4: eta=0.3, max_depth=1, gamma=0.1, colsample_bytree=0.8, min_child_weight=0, subsample=0.8, nrounds=150 \n",
      "- Fold4: eta=0.3, max_depth=1, gamma=0.1, colsample_bytree=0.8, min_child_weight=0, subsample=0.8, nrounds=150 \n",
      "+ Fold4: eta=0.3, max_depth=1, gamma=0.1, colsample_bytree=0.8, min_child_weight=0, subsample=1.0, nrounds=150 \n",
      "- Fold4: eta=0.3, max_depth=1, gamma=0.1, colsample_bytree=0.8, min_child_weight=0, subsample=1.0, nrounds=150 \n",
      "+ Fold4: eta=0.3, max_depth=1, gamma=0.1, colsample_bytree=0.8, min_child_weight=1, subsample=0.8, nrounds=150 \n",
      "- Fold4: eta=0.3, max_depth=1, gamma=0.1, colsample_bytree=0.8, min_child_weight=1, subsample=0.8, nrounds=150 \n",
      "+ Fold4: eta=0.3, max_depth=1, gamma=0.1, colsample_bytree=0.8, min_child_weight=1, subsample=1.0, nrounds=150 \n",
      "- Fold4: eta=0.3, max_depth=1, gamma=0.1, colsample_bytree=0.8, min_child_weight=1, subsample=1.0, nrounds=150 \n",
      "+ Fold4: eta=0.3, max_depth=1, gamma=0.1, colsample_bytree=0.8, min_child_weight=2, subsample=0.8, nrounds=150 \n",
      "- Fold4: eta=0.3, max_depth=1, gamma=0.1, colsample_bytree=0.8, min_child_weight=2, subsample=0.8, nrounds=150 \n",
      "+ Fold4: eta=0.3, max_depth=1, gamma=0.1, colsample_bytree=0.8, min_child_weight=2, subsample=1.0, nrounds=150 \n",
      "- Fold4: eta=0.3, max_depth=1, gamma=0.1, colsample_bytree=0.8, min_child_weight=2, subsample=1.0, nrounds=150 \n",
      "+ Fold4: eta=0.3, max_depth=1, gamma=0.1, colsample_bytree=0.9, min_child_weight=0, subsample=0.8, nrounds=150 \n",
      "- Fold4: eta=0.3, max_depth=1, gamma=0.1, colsample_bytree=0.9, min_child_weight=0, subsample=0.8, nrounds=150 \n",
      "+ Fold4: eta=0.3, max_depth=1, gamma=0.1, colsample_bytree=0.9, min_child_weight=0, subsample=1.0, nrounds=150 \n",
      "- Fold4: eta=0.3, max_depth=1, gamma=0.1, colsample_bytree=0.9, min_child_weight=0, subsample=1.0, nrounds=150 \n",
      "+ Fold4: eta=0.3, max_depth=1, gamma=0.1, colsample_bytree=0.9, min_child_weight=1, subsample=0.8, nrounds=150 \n",
      "- Fold4: eta=0.3, max_depth=1, gamma=0.1, colsample_bytree=0.9, min_child_weight=1, subsample=0.8, nrounds=150 \n",
      "+ Fold4: eta=0.3, max_depth=1, gamma=0.1, colsample_bytree=0.9, min_child_weight=1, subsample=1.0, nrounds=150 \n",
      "- Fold4: eta=0.3, max_depth=1, gamma=0.1, colsample_bytree=0.9, min_child_weight=1, subsample=1.0, nrounds=150 \n",
      "+ Fold4: eta=0.3, max_depth=1, gamma=0.1, colsample_bytree=0.9, min_child_weight=2, subsample=0.8, nrounds=150 \n",
      "- Fold4: eta=0.3, max_depth=1, gamma=0.1, colsample_bytree=0.9, min_child_weight=2, subsample=0.8, nrounds=150 \n",
      "+ Fold4: eta=0.3, max_depth=1, gamma=0.1, colsample_bytree=0.9, min_child_weight=2, subsample=1.0, nrounds=150 \n",
      "- Fold4: eta=0.3, max_depth=1, gamma=0.1, colsample_bytree=0.9, min_child_weight=2, subsample=1.0, nrounds=150 \n",
      "+ Fold4: eta=0.3, max_depth=2, gamma=0.0, colsample_bytree=0.6, min_child_weight=0, subsample=0.8, nrounds=150 \n",
      "- Fold4: eta=0.3, max_depth=2, gamma=0.0, colsample_bytree=0.6, min_child_weight=0, subsample=0.8, nrounds=150 \n",
      "+ Fold4: eta=0.3, max_depth=2, gamma=0.0, colsample_bytree=0.6, min_child_weight=0, subsample=1.0, nrounds=150 \n",
      "- Fold4: eta=0.3, max_depth=2, gamma=0.0, colsample_bytree=0.6, min_child_weight=0, subsample=1.0, nrounds=150 \n",
      "+ Fold4: eta=0.3, max_depth=2, gamma=0.0, colsample_bytree=0.6, min_child_weight=1, subsample=0.8, nrounds=150 \n",
      "- Fold4: eta=0.3, max_depth=2, gamma=0.0, colsample_bytree=0.6, min_child_weight=1, subsample=0.8, nrounds=150 \n",
      "+ Fold4: eta=0.3, max_depth=2, gamma=0.0, colsample_bytree=0.6, min_child_weight=1, subsample=1.0, nrounds=150 \n",
      "- Fold4: eta=0.3, max_depth=2, gamma=0.0, colsample_bytree=0.6, min_child_weight=1, subsample=1.0, nrounds=150 \n",
      "+ Fold4: eta=0.3, max_depth=2, gamma=0.0, colsample_bytree=0.6, min_child_weight=2, subsample=0.8, nrounds=150 \n",
      "- Fold4: eta=0.3, max_depth=2, gamma=0.0, colsample_bytree=0.6, min_child_weight=2, subsample=0.8, nrounds=150 \n",
      "+ Fold4: eta=0.3, max_depth=2, gamma=0.0, colsample_bytree=0.6, min_child_weight=2, subsample=1.0, nrounds=150 \n",
      "- Fold4: eta=0.3, max_depth=2, gamma=0.0, colsample_bytree=0.6, min_child_weight=2, subsample=1.0, nrounds=150 \n",
      "+ Fold4: eta=0.3, max_depth=2, gamma=0.0, colsample_bytree=0.8, min_child_weight=0, subsample=0.8, nrounds=150 \n",
      "- Fold4: eta=0.3, max_depth=2, gamma=0.0, colsample_bytree=0.8, min_child_weight=0, subsample=0.8, nrounds=150 \n",
      "+ Fold4: eta=0.3, max_depth=2, gamma=0.0, colsample_bytree=0.8, min_child_weight=0, subsample=1.0, nrounds=150 \n",
      "- Fold4: eta=0.3, max_depth=2, gamma=0.0, colsample_bytree=0.8, min_child_weight=0, subsample=1.0, nrounds=150 \n",
      "+ Fold4: eta=0.3, max_depth=2, gamma=0.0, colsample_bytree=0.8, min_child_weight=1, subsample=0.8, nrounds=150 \n",
      "- Fold4: eta=0.3, max_depth=2, gamma=0.0, colsample_bytree=0.8, min_child_weight=1, subsample=0.8, nrounds=150 \n",
      "+ Fold4: eta=0.3, max_depth=2, gamma=0.0, colsample_bytree=0.8, min_child_weight=1, subsample=1.0, nrounds=150 \n",
      "- Fold4: eta=0.3, max_depth=2, gamma=0.0, colsample_bytree=0.8, min_child_weight=1, subsample=1.0, nrounds=150 \n",
      "+ Fold4: eta=0.3, max_depth=2, gamma=0.0, colsample_bytree=0.8, min_child_weight=2, subsample=0.8, nrounds=150 \n",
      "- Fold4: eta=0.3, max_depth=2, gamma=0.0, colsample_bytree=0.8, min_child_weight=2, subsample=0.8, nrounds=150 \n",
      "+ Fold4: eta=0.3, max_depth=2, gamma=0.0, colsample_bytree=0.8, min_child_weight=2, subsample=1.0, nrounds=150 \n",
      "- Fold4: eta=0.3, max_depth=2, gamma=0.0, colsample_bytree=0.8, min_child_weight=2, subsample=1.0, nrounds=150 \n",
      "+ Fold4: eta=0.3, max_depth=2, gamma=0.0, colsample_bytree=0.9, min_child_weight=0, subsample=0.8, nrounds=150 \n",
      "- Fold4: eta=0.3, max_depth=2, gamma=0.0, colsample_bytree=0.9, min_child_weight=0, subsample=0.8, nrounds=150 \n",
      "+ Fold4: eta=0.3, max_depth=2, gamma=0.0, colsample_bytree=0.9, min_child_weight=0, subsample=1.0, nrounds=150 \n",
      "- Fold4: eta=0.3, max_depth=2, gamma=0.0, colsample_bytree=0.9, min_child_weight=0, subsample=1.0, nrounds=150 \n",
      "+ Fold4: eta=0.3, max_depth=2, gamma=0.0, colsample_bytree=0.9, min_child_weight=1, subsample=0.8, nrounds=150 \n",
      "- Fold4: eta=0.3, max_depth=2, gamma=0.0, colsample_bytree=0.9, min_child_weight=1, subsample=0.8, nrounds=150 \n",
      "+ Fold4: eta=0.3, max_depth=2, gamma=0.0, colsample_bytree=0.9, min_child_weight=1, subsample=1.0, nrounds=150 \n",
      "- Fold4: eta=0.3, max_depth=2, gamma=0.0, colsample_bytree=0.9, min_child_weight=1, subsample=1.0, nrounds=150 \n",
      "+ Fold4: eta=0.3, max_depth=2, gamma=0.0, colsample_bytree=0.9, min_child_weight=2, subsample=0.8, nrounds=150 \n",
      "- Fold4: eta=0.3, max_depth=2, gamma=0.0, colsample_bytree=0.9, min_child_weight=2, subsample=0.8, nrounds=150 \n",
      "+ Fold4: eta=0.3, max_depth=2, gamma=0.0, colsample_bytree=0.9, min_child_weight=2, subsample=1.0, nrounds=150 \n",
      "- Fold4: eta=0.3, max_depth=2, gamma=0.0, colsample_bytree=0.9, min_child_weight=2, subsample=1.0, nrounds=150 \n",
      "+ Fold4: eta=0.3, max_depth=2, gamma=0.1, colsample_bytree=0.6, min_child_weight=0, subsample=0.8, nrounds=150 \n",
      "- Fold4: eta=0.3, max_depth=2, gamma=0.1, colsample_bytree=0.6, min_child_weight=0, subsample=0.8, nrounds=150 \n",
      "+ Fold4: eta=0.3, max_depth=2, gamma=0.1, colsample_bytree=0.6, min_child_weight=0, subsample=1.0, nrounds=150 \n",
      "- Fold4: eta=0.3, max_depth=2, gamma=0.1, colsample_bytree=0.6, min_child_weight=0, subsample=1.0, nrounds=150 \n",
      "+ Fold4: eta=0.3, max_depth=2, gamma=0.1, colsample_bytree=0.6, min_child_weight=1, subsample=0.8, nrounds=150 \n",
      "- Fold4: eta=0.3, max_depth=2, gamma=0.1, colsample_bytree=0.6, min_child_weight=1, subsample=0.8, nrounds=150 \n",
      "+ Fold4: eta=0.3, max_depth=2, gamma=0.1, colsample_bytree=0.6, min_child_weight=1, subsample=1.0, nrounds=150 \n",
      "- Fold4: eta=0.3, max_depth=2, gamma=0.1, colsample_bytree=0.6, min_child_weight=1, subsample=1.0, nrounds=150 \n",
      "+ Fold4: eta=0.3, max_depth=2, gamma=0.1, colsample_bytree=0.6, min_child_weight=2, subsample=0.8, nrounds=150 \n",
      "- Fold4: eta=0.3, max_depth=2, gamma=0.1, colsample_bytree=0.6, min_child_weight=2, subsample=0.8, nrounds=150 \n",
      "+ Fold4: eta=0.3, max_depth=2, gamma=0.1, colsample_bytree=0.6, min_child_weight=2, subsample=1.0, nrounds=150 \n",
      "- Fold4: eta=0.3, max_depth=2, gamma=0.1, colsample_bytree=0.6, min_child_weight=2, subsample=1.0, nrounds=150 \n",
      "+ Fold4: eta=0.3, max_depth=2, gamma=0.1, colsample_bytree=0.8, min_child_weight=0, subsample=0.8, nrounds=150 \n",
      "- Fold4: eta=0.3, max_depth=2, gamma=0.1, colsample_bytree=0.8, min_child_weight=0, subsample=0.8, nrounds=150 \n",
      "+ Fold4: eta=0.3, max_depth=2, gamma=0.1, colsample_bytree=0.8, min_child_weight=0, subsample=1.0, nrounds=150 \n",
      "- Fold4: eta=0.3, max_depth=2, gamma=0.1, colsample_bytree=0.8, min_child_weight=0, subsample=1.0, nrounds=150 \n",
      "+ Fold4: eta=0.3, max_depth=2, gamma=0.1, colsample_bytree=0.8, min_child_weight=1, subsample=0.8, nrounds=150 \n",
      "- Fold4: eta=0.3, max_depth=2, gamma=0.1, colsample_bytree=0.8, min_child_weight=1, subsample=0.8, nrounds=150 \n",
      "+ Fold4: eta=0.3, max_depth=2, gamma=0.1, colsample_bytree=0.8, min_child_weight=1, subsample=1.0, nrounds=150 \n",
      "- Fold4: eta=0.3, max_depth=2, gamma=0.1, colsample_bytree=0.8, min_child_weight=1, subsample=1.0, nrounds=150 \n",
      "+ Fold4: eta=0.3, max_depth=2, gamma=0.1, colsample_bytree=0.8, min_child_weight=2, subsample=0.8, nrounds=150 \n",
      "- Fold4: eta=0.3, max_depth=2, gamma=0.1, colsample_bytree=0.8, min_child_weight=2, subsample=0.8, nrounds=150 \n",
      "+ Fold4: eta=0.3, max_depth=2, gamma=0.1, colsample_bytree=0.8, min_child_weight=2, subsample=1.0, nrounds=150 \n",
      "- Fold4: eta=0.3, max_depth=2, gamma=0.1, colsample_bytree=0.8, min_child_weight=2, subsample=1.0, nrounds=150 \n",
      "+ Fold4: eta=0.3, max_depth=2, gamma=0.1, colsample_bytree=0.9, min_child_weight=0, subsample=0.8, nrounds=150 \n",
      "- Fold4: eta=0.3, max_depth=2, gamma=0.1, colsample_bytree=0.9, min_child_weight=0, subsample=0.8, nrounds=150 \n",
      "+ Fold4: eta=0.3, max_depth=2, gamma=0.1, colsample_bytree=0.9, min_child_weight=0, subsample=1.0, nrounds=150 \n",
      "- Fold4: eta=0.3, max_depth=2, gamma=0.1, colsample_bytree=0.9, min_child_weight=0, subsample=1.0, nrounds=150 \n",
      "+ Fold4: eta=0.3, max_depth=2, gamma=0.1, colsample_bytree=0.9, min_child_weight=1, subsample=0.8, nrounds=150 \n",
      "- Fold4: eta=0.3, max_depth=2, gamma=0.1, colsample_bytree=0.9, min_child_weight=1, subsample=0.8, nrounds=150 \n",
      "+ Fold4: eta=0.3, max_depth=2, gamma=0.1, colsample_bytree=0.9, min_child_weight=1, subsample=1.0, nrounds=150 \n",
      "- Fold4: eta=0.3, max_depth=2, gamma=0.1, colsample_bytree=0.9, min_child_weight=1, subsample=1.0, nrounds=150 \n",
      "+ Fold4: eta=0.3, max_depth=2, gamma=0.1, colsample_bytree=0.9, min_child_weight=2, subsample=0.8, nrounds=150 \n",
      "- Fold4: eta=0.3, max_depth=2, gamma=0.1, colsample_bytree=0.9, min_child_weight=2, subsample=0.8, nrounds=150 \n",
      "+ Fold4: eta=0.3, max_depth=2, gamma=0.1, colsample_bytree=0.9, min_child_weight=2, subsample=1.0, nrounds=150 \n",
      "- Fold4: eta=0.3, max_depth=2, gamma=0.1, colsample_bytree=0.9, min_child_weight=2, subsample=1.0, nrounds=150 \n",
      "+ Fold5: eta=0.1, max_depth=0, gamma=0.0, colsample_bytree=0.6, min_child_weight=0, subsample=0.8, nrounds=150 \n",
      "- Fold5: eta=0.1, max_depth=0, gamma=0.0, colsample_bytree=0.6, min_child_weight=0, subsample=0.8, nrounds=150 \n",
      "+ Fold5: eta=0.1, max_depth=0, gamma=0.0, colsample_bytree=0.6, min_child_weight=0, subsample=1.0, nrounds=150 \n",
      "- Fold5: eta=0.1, max_depth=0, gamma=0.0, colsample_bytree=0.6, min_child_weight=0, subsample=1.0, nrounds=150 \n",
      "+ Fold5: eta=0.1, max_depth=0, gamma=0.0, colsample_bytree=0.6, min_child_weight=1, subsample=0.8, nrounds=150 \n",
      "- Fold5: eta=0.1, max_depth=0, gamma=0.0, colsample_bytree=0.6, min_child_weight=1, subsample=0.8, nrounds=150 \n",
      "+ Fold5: eta=0.1, max_depth=0, gamma=0.0, colsample_bytree=0.6, min_child_weight=1, subsample=1.0, nrounds=150 \n",
      "- Fold5: eta=0.1, max_depth=0, gamma=0.0, colsample_bytree=0.6, min_child_weight=1, subsample=1.0, nrounds=150 \n",
      "+ Fold5: eta=0.1, max_depth=0, gamma=0.0, colsample_bytree=0.6, min_child_weight=2, subsample=0.8, nrounds=150 \n",
      "- Fold5: eta=0.1, max_depth=0, gamma=0.0, colsample_bytree=0.6, min_child_weight=2, subsample=0.8, nrounds=150 \n",
      "+ Fold5: eta=0.1, max_depth=0, gamma=0.0, colsample_bytree=0.6, min_child_weight=2, subsample=1.0, nrounds=150 \n",
      "- Fold5: eta=0.1, max_depth=0, gamma=0.0, colsample_bytree=0.6, min_child_weight=2, subsample=1.0, nrounds=150 \n",
      "+ Fold5: eta=0.1, max_depth=0, gamma=0.0, colsample_bytree=0.8, min_child_weight=0, subsample=0.8, nrounds=150 \n",
      "- Fold5: eta=0.1, max_depth=0, gamma=0.0, colsample_bytree=0.8, min_child_weight=0, subsample=0.8, nrounds=150 \n",
      "+ Fold5: eta=0.1, max_depth=0, gamma=0.0, colsample_bytree=0.8, min_child_weight=0, subsample=1.0, nrounds=150 \n",
      "- Fold5: eta=0.1, max_depth=0, gamma=0.0, colsample_bytree=0.8, min_child_weight=0, subsample=1.0, nrounds=150 \n",
      "+ Fold5: eta=0.1, max_depth=0, gamma=0.0, colsample_bytree=0.8, min_child_weight=1, subsample=0.8, nrounds=150 \n",
      "- Fold5: eta=0.1, max_depth=0, gamma=0.0, colsample_bytree=0.8, min_child_weight=1, subsample=0.8, nrounds=150 \n",
      "+ Fold5: eta=0.1, max_depth=0, gamma=0.0, colsample_bytree=0.8, min_child_weight=1, subsample=1.0, nrounds=150 \n",
      "- Fold5: eta=0.1, max_depth=0, gamma=0.0, colsample_bytree=0.8, min_child_weight=1, subsample=1.0, nrounds=150 \n",
      "+ Fold5: eta=0.1, max_depth=0, gamma=0.0, colsample_bytree=0.8, min_child_weight=2, subsample=0.8, nrounds=150 \n",
      "- Fold5: eta=0.1, max_depth=0, gamma=0.0, colsample_bytree=0.8, min_child_weight=2, subsample=0.8, nrounds=150 \n",
      "+ Fold5: eta=0.1, max_depth=0, gamma=0.0, colsample_bytree=0.8, min_child_weight=2, subsample=1.0, nrounds=150 \n",
      "- Fold5: eta=0.1, max_depth=0, gamma=0.0, colsample_bytree=0.8, min_child_weight=2, subsample=1.0, nrounds=150 \n",
      "+ Fold5: eta=0.1, max_depth=0, gamma=0.0, colsample_bytree=0.9, min_child_weight=0, subsample=0.8, nrounds=150 \n",
      "- Fold5: eta=0.1, max_depth=0, gamma=0.0, colsample_bytree=0.9, min_child_weight=0, subsample=0.8, nrounds=150 \n",
      "+ Fold5: eta=0.1, max_depth=0, gamma=0.0, colsample_bytree=0.9, min_child_weight=0, subsample=1.0, nrounds=150 \n",
      "- Fold5: eta=0.1, max_depth=0, gamma=0.0, colsample_bytree=0.9, min_child_weight=0, subsample=1.0, nrounds=150 \n",
      "+ Fold5: eta=0.1, max_depth=0, gamma=0.0, colsample_bytree=0.9, min_child_weight=1, subsample=0.8, nrounds=150 \n",
      "- Fold5: eta=0.1, max_depth=0, gamma=0.0, colsample_bytree=0.9, min_child_weight=1, subsample=0.8, nrounds=150 \n",
      "+ Fold5: eta=0.1, max_depth=0, gamma=0.0, colsample_bytree=0.9, min_child_weight=1, subsample=1.0, nrounds=150 \n",
      "- Fold5: eta=0.1, max_depth=0, gamma=0.0, colsample_bytree=0.9, min_child_weight=1, subsample=1.0, nrounds=150 \n",
      "+ Fold5: eta=0.1, max_depth=0, gamma=0.0, colsample_bytree=0.9, min_child_weight=2, subsample=0.8, nrounds=150 \n",
      "- Fold5: eta=0.1, max_depth=0, gamma=0.0, colsample_bytree=0.9, min_child_weight=2, subsample=0.8, nrounds=150 \n",
      "+ Fold5: eta=0.1, max_depth=0, gamma=0.0, colsample_bytree=0.9, min_child_weight=2, subsample=1.0, nrounds=150 \n",
      "- Fold5: eta=0.1, max_depth=0, gamma=0.0, colsample_bytree=0.9, min_child_weight=2, subsample=1.0, nrounds=150 \n",
      "+ Fold5: eta=0.1, max_depth=0, gamma=0.1, colsample_bytree=0.6, min_child_weight=0, subsample=0.8, nrounds=150 \n",
      "- Fold5: eta=0.1, max_depth=0, gamma=0.1, colsample_bytree=0.6, min_child_weight=0, subsample=0.8, nrounds=150 \n",
      "+ Fold5: eta=0.1, max_depth=0, gamma=0.1, colsample_bytree=0.6, min_child_weight=0, subsample=1.0, nrounds=150 \n",
      "- Fold5: eta=0.1, max_depth=0, gamma=0.1, colsample_bytree=0.6, min_child_weight=0, subsample=1.0, nrounds=150 \n",
      "+ Fold5: eta=0.1, max_depth=0, gamma=0.1, colsample_bytree=0.6, min_child_weight=1, subsample=0.8, nrounds=150 \n",
      "- Fold5: eta=0.1, max_depth=0, gamma=0.1, colsample_bytree=0.6, min_child_weight=1, subsample=0.8, nrounds=150 \n",
      "+ Fold5: eta=0.1, max_depth=0, gamma=0.1, colsample_bytree=0.6, min_child_weight=1, subsample=1.0, nrounds=150 \n",
      "- Fold5: eta=0.1, max_depth=0, gamma=0.1, colsample_bytree=0.6, min_child_weight=1, subsample=1.0, nrounds=150 \n",
      "+ Fold5: eta=0.1, max_depth=0, gamma=0.1, colsample_bytree=0.6, min_child_weight=2, subsample=0.8, nrounds=150 \n",
      "- Fold5: eta=0.1, max_depth=0, gamma=0.1, colsample_bytree=0.6, min_child_weight=2, subsample=0.8, nrounds=150 \n",
      "+ Fold5: eta=0.1, max_depth=0, gamma=0.1, colsample_bytree=0.6, min_child_weight=2, subsample=1.0, nrounds=150 \n",
      "- Fold5: eta=0.1, max_depth=0, gamma=0.1, colsample_bytree=0.6, min_child_weight=2, subsample=1.0, nrounds=150 \n",
      "+ Fold5: eta=0.1, max_depth=0, gamma=0.1, colsample_bytree=0.8, min_child_weight=0, subsample=0.8, nrounds=150 \n",
      "- Fold5: eta=0.1, max_depth=0, gamma=0.1, colsample_bytree=0.8, min_child_weight=0, subsample=0.8, nrounds=150 \n",
      "+ Fold5: eta=0.1, max_depth=0, gamma=0.1, colsample_bytree=0.8, min_child_weight=0, subsample=1.0, nrounds=150 \n",
      "- Fold5: eta=0.1, max_depth=0, gamma=0.1, colsample_bytree=0.8, min_child_weight=0, subsample=1.0, nrounds=150 \n",
      "+ Fold5: eta=0.1, max_depth=0, gamma=0.1, colsample_bytree=0.8, min_child_weight=1, subsample=0.8, nrounds=150 \n",
      "- Fold5: eta=0.1, max_depth=0, gamma=0.1, colsample_bytree=0.8, min_child_weight=1, subsample=0.8, nrounds=150 \n",
      "+ Fold5: eta=0.1, max_depth=0, gamma=0.1, colsample_bytree=0.8, min_child_weight=1, subsample=1.0, nrounds=150 \n",
      "- Fold5: eta=0.1, max_depth=0, gamma=0.1, colsample_bytree=0.8, min_child_weight=1, subsample=1.0, nrounds=150 \n",
      "+ Fold5: eta=0.1, max_depth=0, gamma=0.1, colsample_bytree=0.8, min_child_weight=2, subsample=0.8, nrounds=150 \n",
      "- Fold5: eta=0.1, max_depth=0, gamma=0.1, colsample_bytree=0.8, min_child_weight=2, subsample=0.8, nrounds=150 \n",
      "+ Fold5: eta=0.1, max_depth=0, gamma=0.1, colsample_bytree=0.8, min_child_weight=2, subsample=1.0, nrounds=150 \n",
      "- Fold5: eta=0.1, max_depth=0, gamma=0.1, colsample_bytree=0.8, min_child_weight=2, subsample=1.0, nrounds=150 \n",
      "+ Fold5: eta=0.1, max_depth=0, gamma=0.1, colsample_bytree=0.9, min_child_weight=0, subsample=0.8, nrounds=150 \n",
      "- Fold5: eta=0.1, max_depth=0, gamma=0.1, colsample_bytree=0.9, min_child_weight=0, subsample=0.8, nrounds=150 \n",
      "+ Fold5: eta=0.1, max_depth=0, gamma=0.1, colsample_bytree=0.9, min_child_weight=0, subsample=1.0, nrounds=150 \n",
      "- Fold5: eta=0.1, max_depth=0, gamma=0.1, colsample_bytree=0.9, min_child_weight=0, subsample=1.0, nrounds=150 \n",
      "+ Fold5: eta=0.1, max_depth=0, gamma=0.1, colsample_bytree=0.9, min_child_weight=1, subsample=0.8, nrounds=150 \n",
      "- Fold5: eta=0.1, max_depth=0, gamma=0.1, colsample_bytree=0.9, min_child_weight=1, subsample=0.8, nrounds=150 \n",
      "+ Fold5: eta=0.1, max_depth=0, gamma=0.1, colsample_bytree=0.9, min_child_weight=1, subsample=1.0, nrounds=150 \n",
      "- Fold5: eta=0.1, max_depth=0, gamma=0.1, colsample_bytree=0.9, min_child_weight=1, subsample=1.0, nrounds=150 \n",
      "+ Fold5: eta=0.1, max_depth=0, gamma=0.1, colsample_bytree=0.9, min_child_weight=2, subsample=0.8, nrounds=150 \n",
      "- Fold5: eta=0.1, max_depth=0, gamma=0.1, colsample_bytree=0.9, min_child_weight=2, subsample=0.8, nrounds=150 \n",
      "+ Fold5: eta=0.1, max_depth=0, gamma=0.1, colsample_bytree=0.9, min_child_weight=2, subsample=1.0, nrounds=150 \n",
      "- Fold5: eta=0.1, max_depth=0, gamma=0.1, colsample_bytree=0.9, min_child_weight=2, subsample=1.0, nrounds=150 \n",
      "+ Fold5: eta=0.1, max_depth=1, gamma=0.0, colsample_bytree=0.6, min_child_weight=0, subsample=0.8, nrounds=150 \n",
      "- Fold5: eta=0.1, max_depth=1, gamma=0.0, colsample_bytree=0.6, min_child_weight=0, subsample=0.8, nrounds=150 \n",
      "+ Fold5: eta=0.1, max_depth=1, gamma=0.0, colsample_bytree=0.6, min_child_weight=0, subsample=1.0, nrounds=150 \n",
      "- Fold5: eta=0.1, max_depth=1, gamma=0.0, colsample_bytree=0.6, min_child_weight=0, subsample=1.0, nrounds=150 \n",
      "+ Fold5: eta=0.1, max_depth=1, gamma=0.0, colsample_bytree=0.6, min_child_weight=1, subsample=0.8, nrounds=150 \n",
      "- Fold5: eta=0.1, max_depth=1, gamma=0.0, colsample_bytree=0.6, min_child_weight=1, subsample=0.8, nrounds=150 \n",
      "+ Fold5: eta=0.1, max_depth=1, gamma=0.0, colsample_bytree=0.6, min_child_weight=1, subsample=1.0, nrounds=150 \n",
      "- Fold5: eta=0.1, max_depth=1, gamma=0.0, colsample_bytree=0.6, min_child_weight=1, subsample=1.0, nrounds=150 \n",
      "+ Fold5: eta=0.1, max_depth=1, gamma=0.0, colsample_bytree=0.6, min_child_weight=2, subsample=0.8, nrounds=150 \n",
      "- Fold5: eta=0.1, max_depth=1, gamma=0.0, colsample_bytree=0.6, min_child_weight=2, subsample=0.8, nrounds=150 \n",
      "+ Fold5: eta=0.1, max_depth=1, gamma=0.0, colsample_bytree=0.6, min_child_weight=2, subsample=1.0, nrounds=150 \n",
      "- Fold5: eta=0.1, max_depth=1, gamma=0.0, colsample_bytree=0.6, min_child_weight=2, subsample=1.0, nrounds=150 \n",
      "+ Fold5: eta=0.1, max_depth=1, gamma=0.0, colsample_bytree=0.8, min_child_weight=0, subsample=0.8, nrounds=150 \n",
      "- Fold5: eta=0.1, max_depth=1, gamma=0.0, colsample_bytree=0.8, min_child_weight=0, subsample=0.8, nrounds=150 \n",
      "+ Fold5: eta=0.1, max_depth=1, gamma=0.0, colsample_bytree=0.8, min_child_weight=0, subsample=1.0, nrounds=150 \n",
      "- Fold5: eta=0.1, max_depth=1, gamma=0.0, colsample_bytree=0.8, min_child_weight=0, subsample=1.0, nrounds=150 \n",
      "+ Fold5: eta=0.1, max_depth=1, gamma=0.0, colsample_bytree=0.8, min_child_weight=1, subsample=0.8, nrounds=150 \n",
      "- Fold5: eta=0.1, max_depth=1, gamma=0.0, colsample_bytree=0.8, min_child_weight=1, subsample=0.8, nrounds=150 \n",
      "+ Fold5: eta=0.1, max_depth=1, gamma=0.0, colsample_bytree=0.8, min_child_weight=1, subsample=1.0, nrounds=150 \n",
      "- Fold5: eta=0.1, max_depth=1, gamma=0.0, colsample_bytree=0.8, min_child_weight=1, subsample=1.0, nrounds=150 \n",
      "+ Fold5: eta=0.1, max_depth=1, gamma=0.0, colsample_bytree=0.8, min_child_weight=2, subsample=0.8, nrounds=150 \n",
      "- Fold5: eta=0.1, max_depth=1, gamma=0.0, colsample_bytree=0.8, min_child_weight=2, subsample=0.8, nrounds=150 \n",
      "+ Fold5: eta=0.1, max_depth=1, gamma=0.0, colsample_bytree=0.8, min_child_weight=2, subsample=1.0, nrounds=150 \n",
      "- Fold5: eta=0.1, max_depth=1, gamma=0.0, colsample_bytree=0.8, min_child_weight=2, subsample=1.0, nrounds=150 \n",
      "+ Fold5: eta=0.1, max_depth=1, gamma=0.0, colsample_bytree=0.9, min_child_weight=0, subsample=0.8, nrounds=150 \n",
      "- Fold5: eta=0.1, max_depth=1, gamma=0.0, colsample_bytree=0.9, min_child_weight=0, subsample=0.8, nrounds=150 \n",
      "+ Fold5: eta=0.1, max_depth=1, gamma=0.0, colsample_bytree=0.9, min_child_weight=0, subsample=1.0, nrounds=150 \n",
      "- Fold5: eta=0.1, max_depth=1, gamma=0.0, colsample_bytree=0.9, min_child_weight=0, subsample=1.0, nrounds=150 \n",
      "+ Fold5: eta=0.1, max_depth=1, gamma=0.0, colsample_bytree=0.9, min_child_weight=1, subsample=0.8, nrounds=150 \n",
      "- Fold5: eta=0.1, max_depth=1, gamma=0.0, colsample_bytree=0.9, min_child_weight=1, subsample=0.8, nrounds=150 \n",
      "+ Fold5: eta=0.1, max_depth=1, gamma=0.0, colsample_bytree=0.9, min_child_weight=1, subsample=1.0, nrounds=150 \n",
      "- Fold5: eta=0.1, max_depth=1, gamma=0.0, colsample_bytree=0.9, min_child_weight=1, subsample=1.0, nrounds=150 \n",
      "+ Fold5: eta=0.1, max_depth=1, gamma=0.0, colsample_bytree=0.9, min_child_weight=2, subsample=0.8, nrounds=150 \n",
      "- Fold5: eta=0.1, max_depth=1, gamma=0.0, colsample_bytree=0.9, min_child_weight=2, subsample=0.8, nrounds=150 \n",
      "+ Fold5: eta=0.1, max_depth=1, gamma=0.0, colsample_bytree=0.9, min_child_weight=2, subsample=1.0, nrounds=150 \n",
      "- Fold5: eta=0.1, max_depth=1, gamma=0.0, colsample_bytree=0.9, min_child_weight=2, subsample=1.0, nrounds=150 \n",
      "+ Fold5: eta=0.1, max_depth=1, gamma=0.1, colsample_bytree=0.6, min_child_weight=0, subsample=0.8, nrounds=150 \n",
      "- Fold5: eta=0.1, max_depth=1, gamma=0.1, colsample_bytree=0.6, min_child_weight=0, subsample=0.8, nrounds=150 \n",
      "+ Fold5: eta=0.1, max_depth=1, gamma=0.1, colsample_bytree=0.6, min_child_weight=0, subsample=1.0, nrounds=150 \n",
      "- Fold5: eta=0.1, max_depth=1, gamma=0.1, colsample_bytree=0.6, min_child_weight=0, subsample=1.0, nrounds=150 \n",
      "+ Fold5: eta=0.1, max_depth=1, gamma=0.1, colsample_bytree=0.6, min_child_weight=1, subsample=0.8, nrounds=150 \n",
      "- Fold5: eta=0.1, max_depth=1, gamma=0.1, colsample_bytree=0.6, min_child_weight=1, subsample=0.8, nrounds=150 \n",
      "+ Fold5: eta=0.1, max_depth=1, gamma=0.1, colsample_bytree=0.6, min_child_weight=1, subsample=1.0, nrounds=150 \n",
      "- Fold5: eta=0.1, max_depth=1, gamma=0.1, colsample_bytree=0.6, min_child_weight=1, subsample=1.0, nrounds=150 \n",
      "+ Fold5: eta=0.1, max_depth=1, gamma=0.1, colsample_bytree=0.6, min_child_weight=2, subsample=0.8, nrounds=150 \n",
      "- Fold5: eta=0.1, max_depth=1, gamma=0.1, colsample_bytree=0.6, min_child_weight=2, subsample=0.8, nrounds=150 \n",
      "+ Fold5: eta=0.1, max_depth=1, gamma=0.1, colsample_bytree=0.6, min_child_weight=2, subsample=1.0, nrounds=150 \n",
      "- Fold5: eta=0.1, max_depth=1, gamma=0.1, colsample_bytree=0.6, min_child_weight=2, subsample=1.0, nrounds=150 \n",
      "+ Fold5: eta=0.1, max_depth=1, gamma=0.1, colsample_bytree=0.8, min_child_weight=0, subsample=0.8, nrounds=150 \n",
      "- Fold5: eta=0.1, max_depth=1, gamma=0.1, colsample_bytree=0.8, min_child_weight=0, subsample=0.8, nrounds=150 \n",
      "+ Fold5: eta=0.1, max_depth=1, gamma=0.1, colsample_bytree=0.8, min_child_weight=0, subsample=1.0, nrounds=150 \n",
      "- Fold5: eta=0.1, max_depth=1, gamma=0.1, colsample_bytree=0.8, min_child_weight=0, subsample=1.0, nrounds=150 \n",
      "+ Fold5: eta=0.1, max_depth=1, gamma=0.1, colsample_bytree=0.8, min_child_weight=1, subsample=0.8, nrounds=150 \n",
      "- Fold5: eta=0.1, max_depth=1, gamma=0.1, colsample_bytree=0.8, min_child_weight=1, subsample=0.8, nrounds=150 \n",
      "+ Fold5: eta=0.1, max_depth=1, gamma=0.1, colsample_bytree=0.8, min_child_weight=1, subsample=1.0, nrounds=150 \n",
      "- Fold5: eta=0.1, max_depth=1, gamma=0.1, colsample_bytree=0.8, min_child_weight=1, subsample=1.0, nrounds=150 \n",
      "+ Fold5: eta=0.1, max_depth=1, gamma=0.1, colsample_bytree=0.8, min_child_weight=2, subsample=0.8, nrounds=150 \n",
      "- Fold5: eta=0.1, max_depth=1, gamma=0.1, colsample_bytree=0.8, min_child_weight=2, subsample=0.8, nrounds=150 \n",
      "+ Fold5: eta=0.1, max_depth=1, gamma=0.1, colsample_bytree=0.8, min_child_weight=2, subsample=1.0, nrounds=150 \n",
      "- Fold5: eta=0.1, max_depth=1, gamma=0.1, colsample_bytree=0.8, min_child_weight=2, subsample=1.0, nrounds=150 \n",
      "+ Fold5: eta=0.1, max_depth=1, gamma=0.1, colsample_bytree=0.9, min_child_weight=0, subsample=0.8, nrounds=150 \n",
      "- Fold5: eta=0.1, max_depth=1, gamma=0.1, colsample_bytree=0.9, min_child_weight=0, subsample=0.8, nrounds=150 \n",
      "+ Fold5: eta=0.1, max_depth=1, gamma=0.1, colsample_bytree=0.9, min_child_weight=0, subsample=1.0, nrounds=150 \n",
      "- Fold5: eta=0.1, max_depth=1, gamma=0.1, colsample_bytree=0.9, min_child_weight=0, subsample=1.0, nrounds=150 \n",
      "+ Fold5: eta=0.1, max_depth=1, gamma=0.1, colsample_bytree=0.9, min_child_weight=1, subsample=0.8, nrounds=150 \n",
      "- Fold5: eta=0.1, max_depth=1, gamma=0.1, colsample_bytree=0.9, min_child_weight=1, subsample=0.8, nrounds=150 \n",
      "+ Fold5: eta=0.1, max_depth=1, gamma=0.1, colsample_bytree=0.9, min_child_weight=1, subsample=1.0, nrounds=150 \n",
      "- Fold5: eta=0.1, max_depth=1, gamma=0.1, colsample_bytree=0.9, min_child_weight=1, subsample=1.0, nrounds=150 \n",
      "+ Fold5: eta=0.1, max_depth=1, gamma=0.1, colsample_bytree=0.9, min_child_weight=2, subsample=0.8, nrounds=150 \n",
      "- Fold5: eta=0.1, max_depth=1, gamma=0.1, colsample_bytree=0.9, min_child_weight=2, subsample=0.8, nrounds=150 \n",
      "+ Fold5: eta=0.1, max_depth=1, gamma=0.1, colsample_bytree=0.9, min_child_weight=2, subsample=1.0, nrounds=150 \n",
      "- Fold5: eta=0.1, max_depth=1, gamma=0.1, colsample_bytree=0.9, min_child_weight=2, subsample=1.0, nrounds=150 \n",
      "+ Fold5: eta=0.1, max_depth=2, gamma=0.0, colsample_bytree=0.6, min_child_weight=0, subsample=0.8, nrounds=150 \n",
      "- Fold5: eta=0.1, max_depth=2, gamma=0.0, colsample_bytree=0.6, min_child_weight=0, subsample=0.8, nrounds=150 \n",
      "+ Fold5: eta=0.1, max_depth=2, gamma=0.0, colsample_bytree=0.6, min_child_weight=0, subsample=1.0, nrounds=150 \n",
      "- Fold5: eta=0.1, max_depth=2, gamma=0.0, colsample_bytree=0.6, min_child_weight=0, subsample=1.0, nrounds=150 \n",
      "+ Fold5: eta=0.1, max_depth=2, gamma=0.0, colsample_bytree=0.6, min_child_weight=1, subsample=0.8, nrounds=150 \n",
      "- Fold5: eta=0.1, max_depth=2, gamma=0.0, colsample_bytree=0.6, min_child_weight=1, subsample=0.8, nrounds=150 \n",
      "+ Fold5: eta=0.1, max_depth=2, gamma=0.0, colsample_bytree=0.6, min_child_weight=1, subsample=1.0, nrounds=150 \n",
      "- Fold5: eta=0.1, max_depth=2, gamma=0.0, colsample_bytree=0.6, min_child_weight=1, subsample=1.0, nrounds=150 \n",
      "+ Fold5: eta=0.1, max_depth=2, gamma=0.0, colsample_bytree=0.6, min_child_weight=2, subsample=0.8, nrounds=150 \n",
      "- Fold5: eta=0.1, max_depth=2, gamma=0.0, colsample_bytree=0.6, min_child_weight=2, subsample=0.8, nrounds=150 \n",
      "+ Fold5: eta=0.1, max_depth=2, gamma=0.0, colsample_bytree=0.6, min_child_weight=2, subsample=1.0, nrounds=150 \n",
      "- Fold5: eta=0.1, max_depth=2, gamma=0.0, colsample_bytree=0.6, min_child_weight=2, subsample=1.0, nrounds=150 \n",
      "+ Fold5: eta=0.1, max_depth=2, gamma=0.0, colsample_bytree=0.8, min_child_weight=0, subsample=0.8, nrounds=150 \n",
      "- Fold5: eta=0.1, max_depth=2, gamma=0.0, colsample_bytree=0.8, min_child_weight=0, subsample=0.8, nrounds=150 \n",
      "+ Fold5: eta=0.1, max_depth=2, gamma=0.0, colsample_bytree=0.8, min_child_weight=0, subsample=1.0, nrounds=150 \n",
      "- Fold5: eta=0.1, max_depth=2, gamma=0.0, colsample_bytree=0.8, min_child_weight=0, subsample=1.0, nrounds=150 \n",
      "+ Fold5: eta=0.1, max_depth=2, gamma=0.0, colsample_bytree=0.8, min_child_weight=1, subsample=0.8, nrounds=150 \n",
      "- Fold5: eta=0.1, max_depth=2, gamma=0.0, colsample_bytree=0.8, min_child_weight=1, subsample=0.8, nrounds=150 \n",
      "+ Fold5: eta=0.1, max_depth=2, gamma=0.0, colsample_bytree=0.8, min_child_weight=1, subsample=1.0, nrounds=150 \n",
      "- Fold5: eta=0.1, max_depth=2, gamma=0.0, colsample_bytree=0.8, min_child_weight=1, subsample=1.0, nrounds=150 \n",
      "+ Fold5: eta=0.1, max_depth=2, gamma=0.0, colsample_bytree=0.8, min_child_weight=2, subsample=0.8, nrounds=150 \n",
      "- Fold5: eta=0.1, max_depth=2, gamma=0.0, colsample_bytree=0.8, min_child_weight=2, subsample=0.8, nrounds=150 \n",
      "+ Fold5: eta=0.1, max_depth=2, gamma=0.0, colsample_bytree=0.8, min_child_weight=2, subsample=1.0, nrounds=150 \n",
      "- Fold5: eta=0.1, max_depth=2, gamma=0.0, colsample_bytree=0.8, min_child_weight=2, subsample=1.0, nrounds=150 \n",
      "+ Fold5: eta=0.1, max_depth=2, gamma=0.0, colsample_bytree=0.9, min_child_weight=0, subsample=0.8, nrounds=150 \n",
      "- Fold5: eta=0.1, max_depth=2, gamma=0.0, colsample_bytree=0.9, min_child_weight=0, subsample=0.8, nrounds=150 \n",
      "+ Fold5: eta=0.1, max_depth=2, gamma=0.0, colsample_bytree=0.9, min_child_weight=0, subsample=1.0, nrounds=150 \n",
      "- Fold5: eta=0.1, max_depth=2, gamma=0.0, colsample_bytree=0.9, min_child_weight=0, subsample=1.0, nrounds=150 \n",
      "+ Fold5: eta=0.1, max_depth=2, gamma=0.0, colsample_bytree=0.9, min_child_weight=1, subsample=0.8, nrounds=150 \n",
      "- Fold5: eta=0.1, max_depth=2, gamma=0.0, colsample_bytree=0.9, min_child_weight=1, subsample=0.8, nrounds=150 \n",
      "+ Fold5: eta=0.1, max_depth=2, gamma=0.0, colsample_bytree=0.9, min_child_weight=1, subsample=1.0, nrounds=150 \n",
      "- Fold5: eta=0.1, max_depth=2, gamma=0.0, colsample_bytree=0.9, min_child_weight=1, subsample=1.0, nrounds=150 \n",
      "+ Fold5: eta=0.1, max_depth=2, gamma=0.0, colsample_bytree=0.9, min_child_weight=2, subsample=0.8, nrounds=150 \n",
      "- Fold5: eta=0.1, max_depth=2, gamma=0.0, colsample_bytree=0.9, min_child_weight=2, subsample=0.8, nrounds=150 \n",
      "+ Fold5: eta=0.1, max_depth=2, gamma=0.0, colsample_bytree=0.9, min_child_weight=2, subsample=1.0, nrounds=150 \n",
      "- Fold5: eta=0.1, max_depth=2, gamma=0.0, colsample_bytree=0.9, min_child_weight=2, subsample=1.0, nrounds=150 \n",
      "+ Fold5: eta=0.1, max_depth=2, gamma=0.1, colsample_bytree=0.6, min_child_weight=0, subsample=0.8, nrounds=150 \n",
      "- Fold5: eta=0.1, max_depth=2, gamma=0.1, colsample_bytree=0.6, min_child_weight=0, subsample=0.8, nrounds=150 \n",
      "+ Fold5: eta=0.1, max_depth=2, gamma=0.1, colsample_bytree=0.6, min_child_weight=0, subsample=1.0, nrounds=150 \n",
      "- Fold5: eta=0.1, max_depth=2, gamma=0.1, colsample_bytree=0.6, min_child_weight=0, subsample=1.0, nrounds=150 \n",
      "+ Fold5: eta=0.1, max_depth=2, gamma=0.1, colsample_bytree=0.6, min_child_weight=1, subsample=0.8, nrounds=150 \n",
      "- Fold5: eta=0.1, max_depth=2, gamma=0.1, colsample_bytree=0.6, min_child_weight=1, subsample=0.8, nrounds=150 \n",
      "+ Fold5: eta=0.1, max_depth=2, gamma=0.1, colsample_bytree=0.6, min_child_weight=1, subsample=1.0, nrounds=150 \n",
      "- Fold5: eta=0.1, max_depth=2, gamma=0.1, colsample_bytree=0.6, min_child_weight=1, subsample=1.0, nrounds=150 \n",
      "+ Fold5: eta=0.1, max_depth=2, gamma=0.1, colsample_bytree=0.6, min_child_weight=2, subsample=0.8, nrounds=150 \n",
      "- Fold5: eta=0.1, max_depth=2, gamma=0.1, colsample_bytree=0.6, min_child_weight=2, subsample=0.8, nrounds=150 \n",
      "+ Fold5: eta=0.1, max_depth=2, gamma=0.1, colsample_bytree=0.6, min_child_weight=2, subsample=1.0, nrounds=150 \n",
      "- Fold5: eta=0.1, max_depth=2, gamma=0.1, colsample_bytree=0.6, min_child_weight=2, subsample=1.0, nrounds=150 \n",
      "+ Fold5: eta=0.1, max_depth=2, gamma=0.1, colsample_bytree=0.8, min_child_weight=0, subsample=0.8, nrounds=150 \n",
      "- Fold5: eta=0.1, max_depth=2, gamma=0.1, colsample_bytree=0.8, min_child_weight=0, subsample=0.8, nrounds=150 \n",
      "+ Fold5: eta=0.1, max_depth=2, gamma=0.1, colsample_bytree=0.8, min_child_weight=0, subsample=1.0, nrounds=150 \n",
      "- Fold5: eta=0.1, max_depth=2, gamma=0.1, colsample_bytree=0.8, min_child_weight=0, subsample=1.0, nrounds=150 \n",
      "+ Fold5: eta=0.1, max_depth=2, gamma=0.1, colsample_bytree=0.8, min_child_weight=1, subsample=0.8, nrounds=150 \n",
      "- Fold5: eta=0.1, max_depth=2, gamma=0.1, colsample_bytree=0.8, min_child_weight=1, subsample=0.8, nrounds=150 \n",
      "+ Fold5: eta=0.1, max_depth=2, gamma=0.1, colsample_bytree=0.8, min_child_weight=1, subsample=1.0, nrounds=150 \n",
      "- Fold5: eta=0.1, max_depth=2, gamma=0.1, colsample_bytree=0.8, min_child_weight=1, subsample=1.0, nrounds=150 \n",
      "+ Fold5: eta=0.1, max_depth=2, gamma=0.1, colsample_bytree=0.8, min_child_weight=2, subsample=0.8, nrounds=150 \n",
      "- Fold5: eta=0.1, max_depth=2, gamma=0.1, colsample_bytree=0.8, min_child_weight=2, subsample=0.8, nrounds=150 \n",
      "+ Fold5: eta=0.1, max_depth=2, gamma=0.1, colsample_bytree=0.8, min_child_weight=2, subsample=1.0, nrounds=150 \n",
      "- Fold5: eta=0.1, max_depth=2, gamma=0.1, colsample_bytree=0.8, min_child_weight=2, subsample=1.0, nrounds=150 \n",
      "+ Fold5: eta=0.1, max_depth=2, gamma=0.1, colsample_bytree=0.9, min_child_weight=0, subsample=0.8, nrounds=150 \n",
      "- Fold5: eta=0.1, max_depth=2, gamma=0.1, colsample_bytree=0.9, min_child_weight=0, subsample=0.8, nrounds=150 \n",
      "+ Fold5: eta=0.1, max_depth=2, gamma=0.1, colsample_bytree=0.9, min_child_weight=0, subsample=1.0, nrounds=150 \n",
      "- Fold5: eta=0.1, max_depth=2, gamma=0.1, colsample_bytree=0.9, min_child_weight=0, subsample=1.0, nrounds=150 \n",
      "+ Fold5: eta=0.1, max_depth=2, gamma=0.1, colsample_bytree=0.9, min_child_weight=1, subsample=0.8, nrounds=150 \n",
      "- Fold5: eta=0.1, max_depth=2, gamma=0.1, colsample_bytree=0.9, min_child_weight=1, subsample=0.8, nrounds=150 \n",
      "+ Fold5: eta=0.1, max_depth=2, gamma=0.1, colsample_bytree=0.9, min_child_weight=1, subsample=1.0, nrounds=150 \n",
      "- Fold5: eta=0.1, max_depth=2, gamma=0.1, colsample_bytree=0.9, min_child_weight=1, subsample=1.0, nrounds=150 \n",
      "+ Fold5: eta=0.1, max_depth=2, gamma=0.1, colsample_bytree=0.9, min_child_weight=2, subsample=0.8, nrounds=150 \n",
      "- Fold5: eta=0.1, max_depth=2, gamma=0.1, colsample_bytree=0.9, min_child_weight=2, subsample=0.8, nrounds=150 \n",
      "+ Fold5: eta=0.1, max_depth=2, gamma=0.1, colsample_bytree=0.9, min_child_weight=2, subsample=1.0, nrounds=150 \n",
      "- Fold5: eta=0.1, max_depth=2, gamma=0.1, colsample_bytree=0.9, min_child_weight=2, subsample=1.0, nrounds=150 \n",
      "+ Fold5: eta=0.3, max_depth=0, gamma=0.0, colsample_bytree=0.6, min_child_weight=0, subsample=0.8, nrounds=150 \n",
      "- Fold5: eta=0.3, max_depth=0, gamma=0.0, colsample_bytree=0.6, min_child_weight=0, subsample=0.8, nrounds=150 \n",
      "+ Fold5: eta=0.3, max_depth=0, gamma=0.0, colsample_bytree=0.6, min_child_weight=0, subsample=1.0, nrounds=150 \n",
      "- Fold5: eta=0.3, max_depth=0, gamma=0.0, colsample_bytree=0.6, min_child_weight=0, subsample=1.0, nrounds=150 \n",
      "+ Fold5: eta=0.3, max_depth=0, gamma=0.0, colsample_bytree=0.6, min_child_weight=1, subsample=0.8, nrounds=150 \n",
      "- Fold5: eta=0.3, max_depth=0, gamma=0.0, colsample_bytree=0.6, min_child_weight=1, subsample=0.8, nrounds=150 \n",
      "+ Fold5: eta=0.3, max_depth=0, gamma=0.0, colsample_bytree=0.6, min_child_weight=1, subsample=1.0, nrounds=150 \n",
      "- Fold5: eta=0.3, max_depth=0, gamma=0.0, colsample_bytree=0.6, min_child_weight=1, subsample=1.0, nrounds=150 \n",
      "+ Fold5: eta=0.3, max_depth=0, gamma=0.0, colsample_bytree=0.6, min_child_weight=2, subsample=0.8, nrounds=150 \n",
      "- Fold5: eta=0.3, max_depth=0, gamma=0.0, colsample_bytree=0.6, min_child_weight=2, subsample=0.8, nrounds=150 \n",
      "+ Fold5: eta=0.3, max_depth=0, gamma=0.0, colsample_bytree=0.6, min_child_weight=2, subsample=1.0, nrounds=150 \n",
      "- Fold5: eta=0.3, max_depth=0, gamma=0.0, colsample_bytree=0.6, min_child_weight=2, subsample=1.0, nrounds=150 \n",
      "+ Fold5: eta=0.3, max_depth=0, gamma=0.0, colsample_bytree=0.8, min_child_weight=0, subsample=0.8, nrounds=150 \n",
      "- Fold5: eta=0.3, max_depth=0, gamma=0.0, colsample_bytree=0.8, min_child_weight=0, subsample=0.8, nrounds=150 \n",
      "+ Fold5: eta=0.3, max_depth=0, gamma=0.0, colsample_bytree=0.8, min_child_weight=0, subsample=1.0, nrounds=150 \n",
      "- Fold5: eta=0.3, max_depth=0, gamma=0.0, colsample_bytree=0.8, min_child_weight=0, subsample=1.0, nrounds=150 \n",
      "+ Fold5: eta=0.3, max_depth=0, gamma=0.0, colsample_bytree=0.8, min_child_weight=1, subsample=0.8, nrounds=150 \n",
      "- Fold5: eta=0.3, max_depth=0, gamma=0.0, colsample_bytree=0.8, min_child_weight=1, subsample=0.8, nrounds=150 \n",
      "+ Fold5: eta=0.3, max_depth=0, gamma=0.0, colsample_bytree=0.8, min_child_weight=1, subsample=1.0, nrounds=150 \n",
      "- Fold5: eta=0.3, max_depth=0, gamma=0.0, colsample_bytree=0.8, min_child_weight=1, subsample=1.0, nrounds=150 \n",
      "+ Fold5: eta=0.3, max_depth=0, gamma=0.0, colsample_bytree=0.8, min_child_weight=2, subsample=0.8, nrounds=150 \n",
      "- Fold5: eta=0.3, max_depth=0, gamma=0.0, colsample_bytree=0.8, min_child_weight=2, subsample=0.8, nrounds=150 \n",
      "+ Fold5: eta=0.3, max_depth=0, gamma=0.0, colsample_bytree=0.8, min_child_weight=2, subsample=1.0, nrounds=150 \n",
      "- Fold5: eta=0.3, max_depth=0, gamma=0.0, colsample_bytree=0.8, min_child_weight=2, subsample=1.0, nrounds=150 \n",
      "+ Fold5: eta=0.3, max_depth=0, gamma=0.0, colsample_bytree=0.9, min_child_weight=0, subsample=0.8, nrounds=150 \n",
      "- Fold5: eta=0.3, max_depth=0, gamma=0.0, colsample_bytree=0.9, min_child_weight=0, subsample=0.8, nrounds=150 \n",
      "+ Fold5: eta=0.3, max_depth=0, gamma=0.0, colsample_bytree=0.9, min_child_weight=0, subsample=1.0, nrounds=150 \n",
      "- Fold5: eta=0.3, max_depth=0, gamma=0.0, colsample_bytree=0.9, min_child_weight=0, subsample=1.0, nrounds=150 \n",
      "+ Fold5: eta=0.3, max_depth=0, gamma=0.0, colsample_bytree=0.9, min_child_weight=1, subsample=0.8, nrounds=150 \n",
      "- Fold5: eta=0.3, max_depth=0, gamma=0.0, colsample_bytree=0.9, min_child_weight=1, subsample=0.8, nrounds=150 \n",
      "+ Fold5: eta=0.3, max_depth=0, gamma=0.0, colsample_bytree=0.9, min_child_weight=1, subsample=1.0, nrounds=150 \n",
      "- Fold5: eta=0.3, max_depth=0, gamma=0.0, colsample_bytree=0.9, min_child_weight=1, subsample=1.0, nrounds=150 \n",
      "+ Fold5: eta=0.3, max_depth=0, gamma=0.0, colsample_bytree=0.9, min_child_weight=2, subsample=0.8, nrounds=150 \n",
      "- Fold5: eta=0.3, max_depth=0, gamma=0.0, colsample_bytree=0.9, min_child_weight=2, subsample=0.8, nrounds=150 \n",
      "+ Fold5: eta=0.3, max_depth=0, gamma=0.0, colsample_bytree=0.9, min_child_weight=2, subsample=1.0, nrounds=150 \n",
      "- Fold5: eta=0.3, max_depth=0, gamma=0.0, colsample_bytree=0.9, min_child_weight=2, subsample=1.0, nrounds=150 \n",
      "+ Fold5: eta=0.3, max_depth=0, gamma=0.1, colsample_bytree=0.6, min_child_weight=0, subsample=0.8, nrounds=150 \n",
      "- Fold5: eta=0.3, max_depth=0, gamma=0.1, colsample_bytree=0.6, min_child_weight=0, subsample=0.8, nrounds=150 \n",
      "+ Fold5: eta=0.3, max_depth=0, gamma=0.1, colsample_bytree=0.6, min_child_weight=0, subsample=1.0, nrounds=150 \n",
      "- Fold5: eta=0.3, max_depth=0, gamma=0.1, colsample_bytree=0.6, min_child_weight=0, subsample=1.0, nrounds=150 \n",
      "+ Fold5: eta=0.3, max_depth=0, gamma=0.1, colsample_bytree=0.6, min_child_weight=1, subsample=0.8, nrounds=150 \n",
      "- Fold5: eta=0.3, max_depth=0, gamma=0.1, colsample_bytree=0.6, min_child_weight=1, subsample=0.8, nrounds=150 \n",
      "+ Fold5: eta=0.3, max_depth=0, gamma=0.1, colsample_bytree=0.6, min_child_weight=1, subsample=1.0, nrounds=150 \n",
      "- Fold5: eta=0.3, max_depth=0, gamma=0.1, colsample_bytree=0.6, min_child_weight=1, subsample=1.0, nrounds=150 \n",
      "+ Fold5: eta=0.3, max_depth=0, gamma=0.1, colsample_bytree=0.6, min_child_weight=2, subsample=0.8, nrounds=150 \n",
      "- Fold5: eta=0.3, max_depth=0, gamma=0.1, colsample_bytree=0.6, min_child_weight=2, subsample=0.8, nrounds=150 \n",
      "+ Fold5: eta=0.3, max_depth=0, gamma=0.1, colsample_bytree=0.6, min_child_weight=2, subsample=1.0, nrounds=150 \n",
      "- Fold5: eta=0.3, max_depth=0, gamma=0.1, colsample_bytree=0.6, min_child_weight=2, subsample=1.0, nrounds=150 \n",
      "+ Fold5: eta=0.3, max_depth=0, gamma=0.1, colsample_bytree=0.8, min_child_weight=0, subsample=0.8, nrounds=150 \n",
      "- Fold5: eta=0.3, max_depth=0, gamma=0.1, colsample_bytree=0.8, min_child_weight=0, subsample=0.8, nrounds=150 \n",
      "+ Fold5: eta=0.3, max_depth=0, gamma=0.1, colsample_bytree=0.8, min_child_weight=0, subsample=1.0, nrounds=150 \n",
      "- Fold5: eta=0.3, max_depth=0, gamma=0.1, colsample_bytree=0.8, min_child_weight=0, subsample=1.0, nrounds=150 \n",
      "+ Fold5: eta=0.3, max_depth=0, gamma=0.1, colsample_bytree=0.8, min_child_weight=1, subsample=0.8, nrounds=150 \n",
      "- Fold5: eta=0.3, max_depth=0, gamma=0.1, colsample_bytree=0.8, min_child_weight=1, subsample=0.8, nrounds=150 \n",
      "+ Fold5: eta=0.3, max_depth=0, gamma=0.1, colsample_bytree=0.8, min_child_weight=1, subsample=1.0, nrounds=150 \n",
      "- Fold5: eta=0.3, max_depth=0, gamma=0.1, colsample_bytree=0.8, min_child_weight=1, subsample=1.0, nrounds=150 \n",
      "+ Fold5: eta=0.3, max_depth=0, gamma=0.1, colsample_bytree=0.8, min_child_weight=2, subsample=0.8, nrounds=150 \n",
      "- Fold5: eta=0.3, max_depth=0, gamma=0.1, colsample_bytree=0.8, min_child_weight=2, subsample=0.8, nrounds=150 \n",
      "+ Fold5: eta=0.3, max_depth=0, gamma=0.1, colsample_bytree=0.8, min_child_weight=2, subsample=1.0, nrounds=150 \n",
      "- Fold5: eta=0.3, max_depth=0, gamma=0.1, colsample_bytree=0.8, min_child_weight=2, subsample=1.0, nrounds=150 \n",
      "+ Fold5: eta=0.3, max_depth=0, gamma=0.1, colsample_bytree=0.9, min_child_weight=0, subsample=0.8, nrounds=150 \n",
      "- Fold5: eta=0.3, max_depth=0, gamma=0.1, colsample_bytree=0.9, min_child_weight=0, subsample=0.8, nrounds=150 \n",
      "+ Fold5: eta=0.3, max_depth=0, gamma=0.1, colsample_bytree=0.9, min_child_weight=0, subsample=1.0, nrounds=150 \n",
      "- Fold5: eta=0.3, max_depth=0, gamma=0.1, colsample_bytree=0.9, min_child_weight=0, subsample=1.0, nrounds=150 \n",
      "+ Fold5: eta=0.3, max_depth=0, gamma=0.1, colsample_bytree=0.9, min_child_weight=1, subsample=0.8, nrounds=150 \n",
      "- Fold5: eta=0.3, max_depth=0, gamma=0.1, colsample_bytree=0.9, min_child_weight=1, subsample=0.8, nrounds=150 \n",
      "+ Fold5: eta=0.3, max_depth=0, gamma=0.1, colsample_bytree=0.9, min_child_weight=1, subsample=1.0, nrounds=150 \n",
      "- Fold5: eta=0.3, max_depth=0, gamma=0.1, colsample_bytree=0.9, min_child_weight=1, subsample=1.0, nrounds=150 \n",
      "+ Fold5: eta=0.3, max_depth=0, gamma=0.1, colsample_bytree=0.9, min_child_weight=2, subsample=0.8, nrounds=150 \n",
      "- Fold5: eta=0.3, max_depth=0, gamma=0.1, colsample_bytree=0.9, min_child_weight=2, subsample=0.8, nrounds=150 \n",
      "+ Fold5: eta=0.3, max_depth=0, gamma=0.1, colsample_bytree=0.9, min_child_weight=2, subsample=1.0, nrounds=150 \n",
      "- Fold5: eta=0.3, max_depth=0, gamma=0.1, colsample_bytree=0.9, min_child_weight=2, subsample=1.0, nrounds=150 \n",
      "+ Fold5: eta=0.3, max_depth=1, gamma=0.0, colsample_bytree=0.6, min_child_weight=0, subsample=0.8, nrounds=150 \n",
      "- Fold5: eta=0.3, max_depth=1, gamma=0.0, colsample_bytree=0.6, min_child_weight=0, subsample=0.8, nrounds=150 \n",
      "+ Fold5: eta=0.3, max_depth=1, gamma=0.0, colsample_bytree=0.6, min_child_weight=0, subsample=1.0, nrounds=150 \n",
      "- Fold5: eta=0.3, max_depth=1, gamma=0.0, colsample_bytree=0.6, min_child_weight=0, subsample=1.0, nrounds=150 \n",
      "+ Fold5: eta=0.3, max_depth=1, gamma=0.0, colsample_bytree=0.6, min_child_weight=1, subsample=0.8, nrounds=150 \n",
      "- Fold5: eta=0.3, max_depth=1, gamma=0.0, colsample_bytree=0.6, min_child_weight=1, subsample=0.8, nrounds=150 \n",
      "+ Fold5: eta=0.3, max_depth=1, gamma=0.0, colsample_bytree=0.6, min_child_weight=1, subsample=1.0, nrounds=150 \n",
      "- Fold5: eta=0.3, max_depth=1, gamma=0.0, colsample_bytree=0.6, min_child_weight=1, subsample=1.0, nrounds=150 \n",
      "+ Fold5: eta=0.3, max_depth=1, gamma=0.0, colsample_bytree=0.6, min_child_weight=2, subsample=0.8, nrounds=150 \n",
      "- Fold5: eta=0.3, max_depth=1, gamma=0.0, colsample_bytree=0.6, min_child_weight=2, subsample=0.8, nrounds=150 \n",
      "+ Fold5: eta=0.3, max_depth=1, gamma=0.0, colsample_bytree=0.6, min_child_weight=2, subsample=1.0, nrounds=150 \n",
      "- Fold5: eta=0.3, max_depth=1, gamma=0.0, colsample_bytree=0.6, min_child_weight=2, subsample=1.0, nrounds=150 \n",
      "+ Fold5: eta=0.3, max_depth=1, gamma=0.0, colsample_bytree=0.8, min_child_weight=0, subsample=0.8, nrounds=150 \n",
      "- Fold5: eta=0.3, max_depth=1, gamma=0.0, colsample_bytree=0.8, min_child_weight=0, subsample=0.8, nrounds=150 \n",
      "+ Fold5: eta=0.3, max_depth=1, gamma=0.0, colsample_bytree=0.8, min_child_weight=0, subsample=1.0, nrounds=150 \n",
      "- Fold5: eta=0.3, max_depth=1, gamma=0.0, colsample_bytree=0.8, min_child_weight=0, subsample=1.0, nrounds=150 \n",
      "+ Fold5: eta=0.3, max_depth=1, gamma=0.0, colsample_bytree=0.8, min_child_weight=1, subsample=0.8, nrounds=150 \n",
      "- Fold5: eta=0.3, max_depth=1, gamma=0.0, colsample_bytree=0.8, min_child_weight=1, subsample=0.8, nrounds=150 \n",
      "+ Fold5: eta=0.3, max_depth=1, gamma=0.0, colsample_bytree=0.8, min_child_weight=1, subsample=1.0, nrounds=150 \n",
      "- Fold5: eta=0.3, max_depth=1, gamma=0.0, colsample_bytree=0.8, min_child_weight=1, subsample=1.0, nrounds=150 \n",
      "+ Fold5: eta=0.3, max_depth=1, gamma=0.0, colsample_bytree=0.8, min_child_weight=2, subsample=0.8, nrounds=150 \n",
      "- Fold5: eta=0.3, max_depth=1, gamma=0.0, colsample_bytree=0.8, min_child_weight=2, subsample=0.8, nrounds=150 \n",
      "+ Fold5: eta=0.3, max_depth=1, gamma=0.0, colsample_bytree=0.8, min_child_weight=2, subsample=1.0, nrounds=150 \n",
      "- Fold5: eta=0.3, max_depth=1, gamma=0.0, colsample_bytree=0.8, min_child_weight=2, subsample=1.0, nrounds=150 \n",
      "+ Fold5: eta=0.3, max_depth=1, gamma=0.0, colsample_bytree=0.9, min_child_weight=0, subsample=0.8, nrounds=150 \n",
      "- Fold5: eta=0.3, max_depth=1, gamma=0.0, colsample_bytree=0.9, min_child_weight=0, subsample=0.8, nrounds=150 \n",
      "+ Fold5: eta=0.3, max_depth=1, gamma=0.0, colsample_bytree=0.9, min_child_weight=0, subsample=1.0, nrounds=150 \n",
      "- Fold5: eta=0.3, max_depth=1, gamma=0.0, colsample_bytree=0.9, min_child_weight=0, subsample=1.0, nrounds=150 \n",
      "+ Fold5: eta=0.3, max_depth=1, gamma=0.0, colsample_bytree=0.9, min_child_weight=1, subsample=0.8, nrounds=150 \n",
      "- Fold5: eta=0.3, max_depth=1, gamma=0.0, colsample_bytree=0.9, min_child_weight=1, subsample=0.8, nrounds=150 \n",
      "+ Fold5: eta=0.3, max_depth=1, gamma=0.0, colsample_bytree=0.9, min_child_weight=1, subsample=1.0, nrounds=150 \n",
      "- Fold5: eta=0.3, max_depth=1, gamma=0.0, colsample_bytree=0.9, min_child_weight=1, subsample=1.0, nrounds=150 \n",
      "+ Fold5: eta=0.3, max_depth=1, gamma=0.0, colsample_bytree=0.9, min_child_weight=2, subsample=0.8, nrounds=150 \n",
      "- Fold5: eta=0.3, max_depth=1, gamma=0.0, colsample_bytree=0.9, min_child_weight=2, subsample=0.8, nrounds=150 \n",
      "+ Fold5: eta=0.3, max_depth=1, gamma=0.0, colsample_bytree=0.9, min_child_weight=2, subsample=1.0, nrounds=150 \n",
      "- Fold5: eta=0.3, max_depth=1, gamma=0.0, colsample_bytree=0.9, min_child_weight=2, subsample=1.0, nrounds=150 \n",
      "+ Fold5: eta=0.3, max_depth=1, gamma=0.1, colsample_bytree=0.6, min_child_weight=0, subsample=0.8, nrounds=150 \n",
      "- Fold5: eta=0.3, max_depth=1, gamma=0.1, colsample_bytree=0.6, min_child_weight=0, subsample=0.8, nrounds=150 \n",
      "+ Fold5: eta=0.3, max_depth=1, gamma=0.1, colsample_bytree=0.6, min_child_weight=0, subsample=1.0, nrounds=150 \n",
      "- Fold5: eta=0.3, max_depth=1, gamma=0.1, colsample_bytree=0.6, min_child_weight=0, subsample=1.0, nrounds=150 \n",
      "+ Fold5: eta=0.3, max_depth=1, gamma=0.1, colsample_bytree=0.6, min_child_weight=1, subsample=0.8, nrounds=150 \n",
      "- Fold5: eta=0.3, max_depth=1, gamma=0.1, colsample_bytree=0.6, min_child_weight=1, subsample=0.8, nrounds=150 \n",
      "+ Fold5: eta=0.3, max_depth=1, gamma=0.1, colsample_bytree=0.6, min_child_weight=1, subsample=1.0, nrounds=150 \n",
      "- Fold5: eta=0.3, max_depth=1, gamma=0.1, colsample_bytree=0.6, min_child_weight=1, subsample=1.0, nrounds=150 \n",
      "+ Fold5: eta=0.3, max_depth=1, gamma=0.1, colsample_bytree=0.6, min_child_weight=2, subsample=0.8, nrounds=150 \n",
      "- Fold5: eta=0.3, max_depth=1, gamma=0.1, colsample_bytree=0.6, min_child_weight=2, subsample=0.8, nrounds=150 \n",
      "+ Fold5: eta=0.3, max_depth=1, gamma=0.1, colsample_bytree=0.6, min_child_weight=2, subsample=1.0, nrounds=150 \n",
      "- Fold5: eta=0.3, max_depth=1, gamma=0.1, colsample_bytree=0.6, min_child_weight=2, subsample=1.0, nrounds=150 \n",
      "+ Fold5: eta=0.3, max_depth=1, gamma=0.1, colsample_bytree=0.8, min_child_weight=0, subsample=0.8, nrounds=150 \n",
      "- Fold5: eta=0.3, max_depth=1, gamma=0.1, colsample_bytree=0.8, min_child_weight=0, subsample=0.8, nrounds=150 \n",
      "+ Fold5: eta=0.3, max_depth=1, gamma=0.1, colsample_bytree=0.8, min_child_weight=0, subsample=1.0, nrounds=150 \n",
      "- Fold5: eta=0.3, max_depth=1, gamma=0.1, colsample_bytree=0.8, min_child_weight=0, subsample=1.0, nrounds=150 \n",
      "+ Fold5: eta=0.3, max_depth=1, gamma=0.1, colsample_bytree=0.8, min_child_weight=1, subsample=0.8, nrounds=150 \n",
      "- Fold5: eta=0.3, max_depth=1, gamma=0.1, colsample_bytree=0.8, min_child_weight=1, subsample=0.8, nrounds=150 \n",
      "+ Fold5: eta=0.3, max_depth=1, gamma=0.1, colsample_bytree=0.8, min_child_weight=1, subsample=1.0, nrounds=150 \n",
      "- Fold5: eta=0.3, max_depth=1, gamma=0.1, colsample_bytree=0.8, min_child_weight=1, subsample=1.0, nrounds=150 \n",
      "+ Fold5: eta=0.3, max_depth=1, gamma=0.1, colsample_bytree=0.8, min_child_weight=2, subsample=0.8, nrounds=150 \n",
      "- Fold5: eta=0.3, max_depth=1, gamma=0.1, colsample_bytree=0.8, min_child_weight=2, subsample=0.8, nrounds=150 \n",
      "+ Fold5: eta=0.3, max_depth=1, gamma=0.1, colsample_bytree=0.8, min_child_weight=2, subsample=1.0, nrounds=150 \n",
      "- Fold5: eta=0.3, max_depth=1, gamma=0.1, colsample_bytree=0.8, min_child_weight=2, subsample=1.0, nrounds=150 \n",
      "+ Fold5: eta=0.3, max_depth=1, gamma=0.1, colsample_bytree=0.9, min_child_weight=0, subsample=0.8, nrounds=150 \n",
      "- Fold5: eta=0.3, max_depth=1, gamma=0.1, colsample_bytree=0.9, min_child_weight=0, subsample=0.8, nrounds=150 \n",
      "+ Fold5: eta=0.3, max_depth=1, gamma=0.1, colsample_bytree=0.9, min_child_weight=0, subsample=1.0, nrounds=150 \n",
      "- Fold5: eta=0.3, max_depth=1, gamma=0.1, colsample_bytree=0.9, min_child_weight=0, subsample=1.0, nrounds=150 \n",
      "+ Fold5: eta=0.3, max_depth=1, gamma=0.1, colsample_bytree=0.9, min_child_weight=1, subsample=0.8, nrounds=150 \n",
      "- Fold5: eta=0.3, max_depth=1, gamma=0.1, colsample_bytree=0.9, min_child_weight=1, subsample=0.8, nrounds=150 \n",
      "+ Fold5: eta=0.3, max_depth=1, gamma=0.1, colsample_bytree=0.9, min_child_weight=1, subsample=1.0, nrounds=150 \n",
      "- Fold5: eta=0.3, max_depth=1, gamma=0.1, colsample_bytree=0.9, min_child_weight=1, subsample=1.0, nrounds=150 \n",
      "+ Fold5: eta=0.3, max_depth=1, gamma=0.1, colsample_bytree=0.9, min_child_weight=2, subsample=0.8, nrounds=150 \n",
      "- Fold5: eta=0.3, max_depth=1, gamma=0.1, colsample_bytree=0.9, min_child_weight=2, subsample=0.8, nrounds=150 \n",
      "+ Fold5: eta=0.3, max_depth=1, gamma=0.1, colsample_bytree=0.9, min_child_weight=2, subsample=1.0, nrounds=150 \n",
      "- Fold5: eta=0.3, max_depth=1, gamma=0.1, colsample_bytree=0.9, min_child_weight=2, subsample=1.0, nrounds=150 \n",
      "+ Fold5: eta=0.3, max_depth=2, gamma=0.0, colsample_bytree=0.6, min_child_weight=0, subsample=0.8, nrounds=150 \n",
      "- Fold5: eta=0.3, max_depth=2, gamma=0.0, colsample_bytree=0.6, min_child_weight=0, subsample=0.8, nrounds=150 \n",
      "+ Fold5: eta=0.3, max_depth=2, gamma=0.0, colsample_bytree=0.6, min_child_weight=0, subsample=1.0, nrounds=150 \n",
      "- Fold5: eta=0.3, max_depth=2, gamma=0.0, colsample_bytree=0.6, min_child_weight=0, subsample=1.0, nrounds=150 \n",
      "+ Fold5: eta=0.3, max_depth=2, gamma=0.0, colsample_bytree=0.6, min_child_weight=1, subsample=0.8, nrounds=150 \n",
      "- Fold5: eta=0.3, max_depth=2, gamma=0.0, colsample_bytree=0.6, min_child_weight=1, subsample=0.8, nrounds=150 \n",
      "+ Fold5: eta=0.3, max_depth=2, gamma=0.0, colsample_bytree=0.6, min_child_weight=1, subsample=1.0, nrounds=150 \n",
      "- Fold5: eta=0.3, max_depth=2, gamma=0.0, colsample_bytree=0.6, min_child_weight=1, subsample=1.0, nrounds=150 \n",
      "+ Fold5: eta=0.3, max_depth=2, gamma=0.0, colsample_bytree=0.6, min_child_weight=2, subsample=0.8, nrounds=150 \n",
      "- Fold5: eta=0.3, max_depth=2, gamma=0.0, colsample_bytree=0.6, min_child_weight=2, subsample=0.8, nrounds=150 \n",
      "+ Fold5: eta=0.3, max_depth=2, gamma=0.0, colsample_bytree=0.6, min_child_weight=2, subsample=1.0, nrounds=150 \n",
      "- Fold5: eta=0.3, max_depth=2, gamma=0.0, colsample_bytree=0.6, min_child_weight=2, subsample=1.0, nrounds=150 \n",
      "+ Fold5: eta=0.3, max_depth=2, gamma=0.0, colsample_bytree=0.8, min_child_weight=0, subsample=0.8, nrounds=150 \n",
      "- Fold5: eta=0.3, max_depth=2, gamma=0.0, colsample_bytree=0.8, min_child_weight=0, subsample=0.8, nrounds=150 \n",
      "+ Fold5: eta=0.3, max_depth=2, gamma=0.0, colsample_bytree=0.8, min_child_weight=0, subsample=1.0, nrounds=150 \n",
      "- Fold5: eta=0.3, max_depth=2, gamma=0.0, colsample_bytree=0.8, min_child_weight=0, subsample=1.0, nrounds=150 \n",
      "+ Fold5: eta=0.3, max_depth=2, gamma=0.0, colsample_bytree=0.8, min_child_weight=1, subsample=0.8, nrounds=150 \n",
      "- Fold5: eta=0.3, max_depth=2, gamma=0.0, colsample_bytree=0.8, min_child_weight=1, subsample=0.8, nrounds=150 \n",
      "+ Fold5: eta=0.3, max_depth=2, gamma=0.0, colsample_bytree=0.8, min_child_weight=1, subsample=1.0, nrounds=150 \n",
      "- Fold5: eta=0.3, max_depth=2, gamma=0.0, colsample_bytree=0.8, min_child_weight=1, subsample=1.0, nrounds=150 \n",
      "+ Fold5: eta=0.3, max_depth=2, gamma=0.0, colsample_bytree=0.8, min_child_weight=2, subsample=0.8, nrounds=150 \n",
      "- Fold5: eta=0.3, max_depth=2, gamma=0.0, colsample_bytree=0.8, min_child_weight=2, subsample=0.8, nrounds=150 \n",
      "+ Fold5: eta=0.3, max_depth=2, gamma=0.0, colsample_bytree=0.8, min_child_weight=2, subsample=1.0, nrounds=150 \n",
      "- Fold5: eta=0.3, max_depth=2, gamma=0.0, colsample_bytree=0.8, min_child_weight=2, subsample=1.0, nrounds=150 \n",
      "+ Fold5: eta=0.3, max_depth=2, gamma=0.0, colsample_bytree=0.9, min_child_weight=0, subsample=0.8, nrounds=150 \n",
      "- Fold5: eta=0.3, max_depth=2, gamma=0.0, colsample_bytree=0.9, min_child_weight=0, subsample=0.8, nrounds=150 \n",
      "+ Fold5: eta=0.3, max_depth=2, gamma=0.0, colsample_bytree=0.9, min_child_weight=0, subsample=1.0, nrounds=150 \n",
      "- Fold5: eta=0.3, max_depth=2, gamma=0.0, colsample_bytree=0.9, min_child_weight=0, subsample=1.0, nrounds=150 \n",
      "+ Fold5: eta=0.3, max_depth=2, gamma=0.0, colsample_bytree=0.9, min_child_weight=1, subsample=0.8, nrounds=150 \n",
      "- Fold5: eta=0.3, max_depth=2, gamma=0.0, colsample_bytree=0.9, min_child_weight=1, subsample=0.8, nrounds=150 \n",
      "+ Fold5: eta=0.3, max_depth=2, gamma=0.0, colsample_bytree=0.9, min_child_weight=1, subsample=1.0, nrounds=150 \n",
      "- Fold5: eta=0.3, max_depth=2, gamma=0.0, colsample_bytree=0.9, min_child_weight=1, subsample=1.0, nrounds=150 \n",
      "+ Fold5: eta=0.3, max_depth=2, gamma=0.0, colsample_bytree=0.9, min_child_weight=2, subsample=0.8, nrounds=150 \n",
      "- Fold5: eta=0.3, max_depth=2, gamma=0.0, colsample_bytree=0.9, min_child_weight=2, subsample=0.8, nrounds=150 \n",
      "+ Fold5: eta=0.3, max_depth=2, gamma=0.0, colsample_bytree=0.9, min_child_weight=2, subsample=1.0, nrounds=150 \n",
      "- Fold5: eta=0.3, max_depth=2, gamma=0.0, colsample_bytree=0.9, min_child_weight=2, subsample=1.0, nrounds=150 \n",
      "+ Fold5: eta=0.3, max_depth=2, gamma=0.1, colsample_bytree=0.6, min_child_weight=0, subsample=0.8, nrounds=150 \n",
      "- Fold5: eta=0.3, max_depth=2, gamma=0.1, colsample_bytree=0.6, min_child_weight=0, subsample=0.8, nrounds=150 \n",
      "+ Fold5: eta=0.3, max_depth=2, gamma=0.1, colsample_bytree=0.6, min_child_weight=0, subsample=1.0, nrounds=150 \n",
      "- Fold5: eta=0.3, max_depth=2, gamma=0.1, colsample_bytree=0.6, min_child_weight=0, subsample=1.0, nrounds=150 \n",
      "+ Fold5: eta=0.3, max_depth=2, gamma=0.1, colsample_bytree=0.6, min_child_weight=1, subsample=0.8, nrounds=150 \n",
      "- Fold5: eta=0.3, max_depth=2, gamma=0.1, colsample_bytree=0.6, min_child_weight=1, subsample=0.8, nrounds=150 \n",
      "+ Fold5: eta=0.3, max_depth=2, gamma=0.1, colsample_bytree=0.6, min_child_weight=1, subsample=1.0, nrounds=150 \n",
      "- Fold5: eta=0.3, max_depth=2, gamma=0.1, colsample_bytree=0.6, min_child_weight=1, subsample=1.0, nrounds=150 \n",
      "+ Fold5: eta=0.3, max_depth=2, gamma=0.1, colsample_bytree=0.6, min_child_weight=2, subsample=0.8, nrounds=150 \n",
      "- Fold5: eta=0.3, max_depth=2, gamma=0.1, colsample_bytree=0.6, min_child_weight=2, subsample=0.8, nrounds=150 \n",
      "+ Fold5: eta=0.3, max_depth=2, gamma=0.1, colsample_bytree=0.6, min_child_weight=2, subsample=1.0, nrounds=150 \n",
      "- Fold5: eta=0.3, max_depth=2, gamma=0.1, colsample_bytree=0.6, min_child_weight=2, subsample=1.0, nrounds=150 \n",
      "+ Fold5: eta=0.3, max_depth=2, gamma=0.1, colsample_bytree=0.8, min_child_weight=0, subsample=0.8, nrounds=150 \n",
      "- Fold5: eta=0.3, max_depth=2, gamma=0.1, colsample_bytree=0.8, min_child_weight=0, subsample=0.8, nrounds=150 \n",
      "+ Fold5: eta=0.3, max_depth=2, gamma=0.1, colsample_bytree=0.8, min_child_weight=0, subsample=1.0, nrounds=150 \n",
      "- Fold5: eta=0.3, max_depth=2, gamma=0.1, colsample_bytree=0.8, min_child_weight=0, subsample=1.0, nrounds=150 \n",
      "+ Fold5: eta=0.3, max_depth=2, gamma=0.1, colsample_bytree=0.8, min_child_weight=1, subsample=0.8, nrounds=150 \n",
      "- Fold5: eta=0.3, max_depth=2, gamma=0.1, colsample_bytree=0.8, min_child_weight=1, subsample=0.8, nrounds=150 \n",
      "+ Fold5: eta=0.3, max_depth=2, gamma=0.1, colsample_bytree=0.8, min_child_weight=1, subsample=1.0, nrounds=150 \n",
      "- Fold5: eta=0.3, max_depth=2, gamma=0.1, colsample_bytree=0.8, min_child_weight=1, subsample=1.0, nrounds=150 \n",
      "+ Fold5: eta=0.3, max_depth=2, gamma=0.1, colsample_bytree=0.8, min_child_weight=2, subsample=0.8, nrounds=150 \n",
      "- Fold5: eta=0.3, max_depth=2, gamma=0.1, colsample_bytree=0.8, min_child_weight=2, subsample=0.8, nrounds=150 \n",
      "+ Fold5: eta=0.3, max_depth=2, gamma=0.1, colsample_bytree=0.8, min_child_weight=2, subsample=1.0, nrounds=150 \n",
      "- Fold5: eta=0.3, max_depth=2, gamma=0.1, colsample_bytree=0.8, min_child_weight=2, subsample=1.0, nrounds=150 \n",
      "+ Fold5: eta=0.3, max_depth=2, gamma=0.1, colsample_bytree=0.9, min_child_weight=0, subsample=0.8, nrounds=150 \n",
      "- Fold5: eta=0.3, max_depth=2, gamma=0.1, colsample_bytree=0.9, min_child_weight=0, subsample=0.8, nrounds=150 \n",
      "+ Fold5: eta=0.3, max_depth=2, gamma=0.1, colsample_bytree=0.9, min_child_weight=0, subsample=1.0, nrounds=150 \n",
      "- Fold5: eta=0.3, max_depth=2, gamma=0.1, colsample_bytree=0.9, min_child_weight=0, subsample=1.0, nrounds=150 \n",
      "+ Fold5: eta=0.3, max_depth=2, gamma=0.1, colsample_bytree=0.9, min_child_weight=1, subsample=0.8, nrounds=150 \n",
      "- Fold5: eta=0.3, max_depth=2, gamma=0.1, colsample_bytree=0.9, min_child_weight=1, subsample=0.8, nrounds=150 \n",
      "+ Fold5: eta=0.3, max_depth=2, gamma=0.1, colsample_bytree=0.9, min_child_weight=1, subsample=1.0, nrounds=150 \n",
      "- Fold5: eta=0.3, max_depth=2, gamma=0.1, colsample_bytree=0.9, min_child_weight=1, subsample=1.0, nrounds=150 \n",
      "+ Fold5: eta=0.3, max_depth=2, gamma=0.1, colsample_bytree=0.9, min_child_weight=2, subsample=0.8, nrounds=150 \n",
      "- Fold5: eta=0.3, max_depth=2, gamma=0.1, colsample_bytree=0.9, min_child_weight=2, subsample=0.8, nrounds=150 \n",
      "+ Fold5: eta=0.3, max_depth=2, gamma=0.1, colsample_bytree=0.9, min_child_weight=2, subsample=1.0, nrounds=150 \n",
      "- Fold5: eta=0.3, max_depth=2, gamma=0.1, colsample_bytree=0.9, min_child_weight=2, subsample=1.0, nrounds=150 \n",
      "Aggregating results\n"
     ]
    },
    {
     "name": "stdout",
     "output_type": "stream",
     "text": [
      "Selecting tuning parameters\n",
      "Fitting nrounds = 150, max_depth = 1, eta = 0.3, gamma = 0.1, colsample_bytree = 0.6, min_child_weight = 1, subsample = 1 on full training set\n"
     ]
    }
   ],
   "source": [
    "xgModel = train(xgx,xgy,\n",
    "    method = \"xgbTree\", \n",
    "    trControl = xgFitControl,\n",
    "    tuneGrid=expand.grid(\n",
    "    eta=c(0.1,0.3),\n",
    "    max_depth=c(0,1,2),\n",
    "    colsample_bytree=c(0.6,0.8, 0.9),\n",
    "    subsample=c(0.8,1),\n",
    "    nrounds=c(50,100,150),\n",
    "    gamma=c(0.0,0.1),\n",
    "    min_child_weight=c(0,1,2)\n",
    "    ),verbose = TRUE)"
   ]
  },
  {
   "cell_type": "markdown",
   "metadata": {},
   "source": [
    "Trzy najlepsze modele widoczne są poniżej:"
   ]
  },
  {
   "cell_type": "code",
   "execution_count": 309,
   "metadata": {},
   "outputs": [
    {
     "data": {
      "text/html": [
       "<table>\n",
       "<thead><tr><th scope=col>eta</th><th scope=col>max_depth</th><th scope=col>gamma</th><th scope=col>colsample_bytree</th><th scope=col>min_child_weight</th><th scope=col>subsample</th><th scope=col>nrounds</th><th scope=col>Accuracy</th><th scope=col>Kappa</th><th scope=col>AccuracySD</th><th scope=col>KappaSD</th></tr></thead>\n",
       "<tbody>\n",
       "\t<tr><td>0.3        </td><td>1          </td><td>0.0        </td><td>0.8        </td><td>2          </td><td>1          </td><td>150        </td><td>0.7220997  </td><td>0.4441855  </td><td>0.008425810</td><td>0.01685938 </td></tr>\n",
       "\t<tr><td>0.3        </td><td>1          </td><td>0.1        </td><td>0.6        </td><td>1          </td><td>1          </td><td>150        </td><td>0.7224002  </td><td>0.4447849  </td><td>0.008817809</td><td>0.01764268 </td></tr>\n",
       "\t<tr><td>0.3        </td><td>1          </td><td>0.1        </td><td>0.8        </td><td>0          </td><td>1          </td><td>150        </td><td>0.7223003  </td><td>0.4445858  </td><td>0.008774400</td><td>0.01755471 </td></tr>\n",
       "</tbody>\n",
       "</table>\n"
      ],
      "text/latex": [
       "\\begin{tabular}{r|lllllllllll}\n",
       " eta & max\\_depth & gamma & colsample\\_bytree & min\\_child\\_weight & subsample & nrounds & Accuracy & Kappa & AccuracySD & KappaSD\\\\\n",
       "\\hline\n",
       "\t 0.3         & 1           & 0.0         & 0.8         & 2           & 1           & 150         & 0.7220997   & 0.4441855   & 0.008425810 & 0.01685938 \\\\\n",
       "\t 0.3         & 1           & 0.1         & 0.6         & 1           & 1           & 150         & 0.7224002   & 0.4447849   & 0.008817809 & 0.01764268 \\\\\n",
       "\t 0.3         & 1           & 0.1         & 0.8         & 0           & 1           & 150         & 0.7223003   & 0.4445858   & 0.008774400 & 0.01755471 \\\\\n",
       "\\end{tabular}\n"
      ],
      "text/markdown": [
       "\n",
       "eta | max_depth | gamma | colsample_bytree | min_child_weight | subsample | nrounds | Accuracy | Kappa | AccuracySD | KappaSD | \n",
       "|---|---|---|\n",
       "| 0.3         | 1           | 0.0         | 0.8         | 2           | 1           | 150         | 0.7220997   | 0.4441855   | 0.008425810 | 0.01685938  | \n",
       "| 0.3         | 1           | 0.1         | 0.6         | 1           | 1           | 150         | 0.7224002   | 0.4447849   | 0.008817809 | 0.01764268  | \n",
       "| 0.3         | 1           | 0.1         | 0.8         | 0           | 1           | 150         | 0.7223003   | 0.4445858   | 0.008774400 | 0.01755471  | \n",
       "\n",
       "\n"
      ],
      "text/plain": [
       "  eta max_depth gamma colsample_bytree min_child_weight subsample nrounds\n",
       "1 0.3 1         0.0   0.8              2                1         150    \n",
       "2 0.3 1         0.1   0.6              1                1         150    \n",
       "3 0.3 1         0.1   0.8              0                1         150    \n",
       "  Accuracy  Kappa     AccuracySD  KappaSD   \n",
       "1 0.7220997 0.4441855 0.008425810 0.01685938\n",
       "2 0.7224002 0.4447849 0.008817809 0.01764268\n",
       "3 0.7223003 0.4445858 0.008774400 0.01755471"
      ]
     },
     "metadata": {},
     "output_type": "display_data"
    }
   ],
   "source": [
    "filter(xgModel$results,Accuracy>0.722)"
   ]
  },
  {
   "cell_type": "markdown",
   "metadata": {},
   "source": [
    "Postaram się teraz trochę zawęzić zakresy rozpatrywanych parametrów."
   ]
  },
  {
   "cell_type": "code",
   "execution_count": 311,
   "metadata": {
    "collapsed": true
   },
   "outputs": [],
   "source": [
    "set.seed(1939)\n",
    "rnd = sample(1:length(train_y2),10000)\n",
    "xgx = train_x[rnd,xcoefs]\n",
    "xgy = train_y2[rnd]\n",
    "xgFitControl = trainControl (method=\"cv\",number = 5) #5fold\n",
    "\n",
    "xgModel2 = train(xgx,xgy,\n",
    "    method = \"xgbTree\", \n",
    "    trControl = xgFitControl,\n",
    "    tuneGrid=expand.grid(\n",
    "    eta=c(0.2,0.3),\n",
    "    max_depth=c(1,2,3),\n",
    "    colsample_bytree=c(0.6,0.8),\n",
    "    subsample=c(0.8,1),\n",
    "    nrounds=c(150,200),\n",
    "    gamma=c(0.0,0.1),\n",
    "    min_child_weight=c(0,1,2)\n",
    "    ))"
   ]
  },
  {
   "cell_type": "code",
   "execution_count": 317,
   "metadata": {},
   "outputs": [
    {
     "data": {
      "text/html": [
       "<table>\n",
       "<thead><tr><th scope=col>eta</th><th scope=col>max_depth</th><th scope=col>gamma</th><th scope=col>colsample_bytree</th><th scope=col>min_child_weight</th><th scope=col>subsample</th><th scope=col>nrounds</th><th scope=col>Accuracy</th><th scope=col>Kappa</th><th scope=col>AccuracySD</th><th scope=col>KappaSD</th></tr></thead>\n",
       "<tbody>\n",
       "\t<tr><td>0.3        </td><td>1          </td><td>0.0        </td><td>0.6        </td><td>2          </td><td>0.8        </td><td>150        </td><td>0.7262002  </td><td>0.4524012  </td><td>0.005866713</td><td>0.01173402 </td></tr>\n",
       "\t<tr><td>0.3        </td><td>1          </td><td>0.0        </td><td>0.8        </td><td>1          </td><td>0.8        </td><td>150        </td><td>0.7261001  </td><td>0.4522007  </td><td>0.006945617</td><td>0.01389300 </td></tr>\n",
       "\t<tr><td>0.3        </td><td>1          </td><td>0.1        </td><td>0.6        </td><td>0          </td><td>0.8        </td><td>150        </td><td>0.7261000  </td><td>0.4521988  </td><td>0.009317112</td><td>0.01863325 </td></tr>\n",
       "\t<tr><td>0.3        </td><td>1          </td><td>0.0        </td><td>0.8        </td><td>0          </td><td>0.8        </td><td>200        </td><td>0.7265997  </td><td>0.4531987  </td><td>0.006640847</td><td>0.01328113 </td></tr>\n",
       "\t<tr><td>0.3        </td><td>1          </td><td>0.1        </td><td>0.6        </td><td>0          </td><td>0.8        </td><td>200        </td><td>0.7262998  </td><td>0.4525987  </td><td>0.008998262</td><td>0.01799653 </td></tr>\n",
       "\t<tr><td>0.3        </td><td>1          </td><td>0.1        </td><td>0.8        </td><td>1          </td><td>0.8        </td><td>200        </td><td>0.7260994  </td><td>0.4521996  </td><td>0.006877638</td><td>0.01375557 </td></tr>\n",
       "</tbody>\n",
       "</table>\n"
      ],
      "text/latex": [
       "\\begin{tabular}{r|lllllllllll}\n",
       " eta & max\\_depth & gamma & colsample\\_bytree & min\\_child\\_weight & subsample & nrounds & Accuracy & Kappa & AccuracySD & KappaSD\\\\\n",
       "\\hline\n",
       "\t 0.3         & 1           & 0.0         & 0.6         & 2           & 0.8         & 150         & 0.7262002   & 0.4524012   & 0.005866713 & 0.01173402 \\\\\n",
       "\t 0.3         & 1           & 0.0         & 0.8         & 1           & 0.8         & 150         & 0.7261001   & 0.4522007   & 0.006945617 & 0.01389300 \\\\\n",
       "\t 0.3         & 1           & 0.1         & 0.6         & 0           & 0.8         & 150         & 0.7261000   & 0.4521988   & 0.009317112 & 0.01863325 \\\\\n",
       "\t 0.3         & 1           & 0.0         & 0.8         & 0           & 0.8         & 200         & 0.7265997   & 0.4531987   & 0.006640847 & 0.01328113 \\\\\n",
       "\t 0.3         & 1           & 0.1         & 0.6         & 0           & 0.8         & 200         & 0.7262998   & 0.4525987   & 0.008998262 & 0.01799653 \\\\\n",
       "\t 0.3         & 1           & 0.1         & 0.8         & 1           & 0.8         & 200         & 0.7260994   & 0.4521996   & 0.006877638 & 0.01375557 \\\\\n",
       "\\end{tabular}\n"
      ],
      "text/markdown": [
       "\n",
       "eta | max_depth | gamma | colsample_bytree | min_child_weight | subsample | nrounds | Accuracy | Kappa | AccuracySD | KappaSD | \n",
       "|---|---|---|---|---|---|\n",
       "| 0.3         | 1           | 0.0         | 0.6         | 2           | 0.8         | 150         | 0.7262002   | 0.4524012   | 0.005866713 | 0.01173402  | \n",
       "| 0.3         | 1           | 0.0         | 0.8         | 1           | 0.8         | 150         | 0.7261001   | 0.4522007   | 0.006945617 | 0.01389300  | \n",
       "| 0.3         | 1           | 0.1         | 0.6         | 0           | 0.8         | 150         | 0.7261000   | 0.4521988   | 0.009317112 | 0.01863325  | \n",
       "| 0.3         | 1           | 0.0         | 0.8         | 0           | 0.8         | 200         | 0.7265997   | 0.4531987   | 0.006640847 | 0.01328113  | \n",
       "| 0.3         | 1           | 0.1         | 0.6         | 0           | 0.8         | 200         | 0.7262998   | 0.4525987   | 0.008998262 | 0.01799653  | \n",
       "| 0.3         | 1           | 0.1         | 0.8         | 1           | 0.8         | 200         | 0.7260994   | 0.4521996   | 0.006877638 | 0.01375557  | \n",
       "\n",
       "\n"
      ],
      "text/plain": [
       "  eta max_depth gamma colsample_bytree min_child_weight subsample nrounds\n",
       "1 0.3 1         0.0   0.6              2                0.8       150    \n",
       "2 0.3 1         0.0   0.8              1                0.8       150    \n",
       "3 0.3 1         0.1   0.6              0                0.8       150    \n",
       "4 0.3 1         0.0   0.8              0                0.8       200    \n",
       "5 0.3 1         0.1   0.6              0                0.8       200    \n",
       "6 0.3 1         0.1   0.8              1                0.8       200    \n",
       "  Accuracy  Kappa     AccuracySD  KappaSD   \n",
       "1 0.7262002 0.4524012 0.005866713 0.01173402\n",
       "2 0.7261001 0.4522007 0.006945617 0.01389300\n",
       "3 0.7261000 0.4521988 0.009317112 0.01863325\n",
       "4 0.7265997 0.4531987 0.006640847 0.01328113\n",
       "5 0.7262998 0.4525987 0.008998262 0.01799653\n",
       "6 0.7260994 0.4521996 0.006877638 0.01375557"
      ]
     },
     "metadata": {},
     "output_type": "display_data"
    }
   ],
   "source": [
    "filter(xgModel2$results,Accuracy>0.726)"
   ]
  },
  {
   "cell_type": "code",
   "execution_count": 324,
   "metadata": {},
   "outputs": [
    {
     "data": {
      "text/html": [
       "<table>\n",
       "<thead><tr><th></th><th scope=col>nrounds</th><th scope=col>max_depth</th><th scope=col>eta</th><th scope=col>gamma</th><th scope=col>colsample_bytree</th><th scope=col>min_child_weight</th><th scope=col>subsample</th></tr></thead>\n",
       "<tbody>\n",
       "\t<tr><th scope=row>158</th><td>200</td><td>1  </td><td>0.3</td><td>0  </td><td>0.8</td><td>0  </td><td>0.8</td></tr>\n",
       "</tbody>\n",
       "</table>\n"
      ],
      "text/latex": [
       "\\begin{tabular}{r|lllllll}\n",
       "  & nrounds & max\\_depth & eta & gamma & colsample\\_bytree & min\\_child\\_weight & subsample\\\\\n",
       "\\hline\n",
       "\t158 & 200 & 1   & 0.3 & 0   & 0.8 & 0   & 0.8\\\\\n",
       "\\end{tabular}\n"
      ],
      "text/markdown": [
       "\n",
       "| <!--/--> | nrounds | max_depth | eta | gamma | colsample_bytree | min_child_weight | subsample | \n",
       "|---|\n",
       "| 158 | 200 | 1   | 0.3 | 0   | 0.8 | 0   | 0.8 | \n",
       "\n",
       "\n"
      ],
      "text/plain": [
       "    nrounds max_depth eta gamma colsample_bytree min_child_weight subsample\n",
       "158 200     1         0.3 0     0.8              0                0.8      "
      ]
     },
     "metadata": {},
     "output_type": "display_data"
    }
   ],
   "source": [
    "xgModel2$finalModel$tuneValue"
   ]
  },
  {
   "cell_type": "markdown",
   "metadata": {},
   "source": [
    "Jak można zauważyć, maksymalna głębokość drzew stabilizuje się na stałym poziomie 1. Rozważę jeszcze kolejny zestaw parametrów, jednakże tym razem jedynie dla parametrów różnych w powyższej tabelce, czyli *colsample_bytree*, *gamma*, *min_child_weight* oraz *nrounds*. Dodatkowo sprawdzę na wszelki wypadek ponownie parametr *subsample*."
   ]
  },
  {
   "cell_type": "code",
   "execution_count": 318,
   "metadata": {
    "collapsed": true
   },
   "outputs": [],
   "source": [
    "set.seed(1939)\n",
    "rnd = sample(1:length(train_y2),10000)\n",
    "xgx = train_x[rnd,xcoefs]\n",
    "xgy = train_y2[rnd]\n",
    "xgFitControl = trainControl (method=\"cv\",number = 5) #5fold\n",
    "\n",
    "xgModel3 = train(xgx,xgy,\n",
    "    method = \"xgbTree\", \n",
    "    trControl = xgFitControl,\n",
    "    tuneGrid=expand.grid(\n",
    "    eta=c(0.3),\n",
    "    max_depth=c(1),\n",
    "    colsample_bytree=c(0.6,0.8),\n",
    "    subsample=c(0.7,0.8),\n",
    "    nrounds=c(150,200,250),\n",
    "    gamma=c(0.0,0.1),\n",
    "    min_child_weight=c(0,1,2)\n",
    "    ))"
   ]
  },
  {
   "cell_type": "code",
   "execution_count": 329,
   "metadata": {},
   "outputs": [
    {
     "data": {
      "text/html": [
       "<table>\n",
       "<thead><tr><th></th><th scope=col>eta</th><th scope=col>max_depth</th><th scope=col>gamma</th><th scope=col>colsample_bytree</th><th scope=col>min_child_weight</th><th scope=col>subsample</th><th scope=col>nrounds</th><th scope=col>Accuracy</th><th scope=col>Kappa</th><th scope=col>AccuracySD</th><th scope=col>KappaSD</th></tr></thead>\n",
       "<tbody>\n",
       "\t<tr><th scope=row>56</th><td>0.3        </td><td>1          </td><td>0.1        </td><td>0.8        </td><td>0          </td><td>0.7        </td><td>200        </td><td>0.7273000  </td><td>0.4546009  </td><td>0.007402751</td><td>0.01480636 </td></tr>\n",
       "\t<tr><th scope=row>67</th><td>0.3        </td><td>1          </td><td>0.1        </td><td>0.8        </td><td>2          </td><td>0.7        </td><td>150        </td><td>0.7269003  </td><td>0.4538009  </td><td>0.006320534</td><td>0.01264084 </td></tr>\n",
       "\t<tr><th scope=row>30</th><td>0.3        </td><td>1          </td><td>0.0        </td><td>0.8        </td><td>1          </td><td>0.8        </td><td>250        </td><td>0.7267998  </td><td>0.4536000  </td><td>0.005763593</td><td>0.01152726 </td></tr>\n",
       "\t<tr><th scope=row>12</th><td>0.3        </td><td>1          </td><td>0.0        </td><td>0.6        </td><td>1          </td><td>0.8        </td><td>250        </td><td>0.7267993  </td><td>0.4535996  </td><td>0.008813388</td><td>0.01762761 </td></tr>\n",
       "\t<tr><th scope=row>42</th><td>0.3        </td><td>1          </td><td>0.1        </td><td>0.6        </td><td>0          </td><td>0.8        </td><td>250        </td><td>0.7267003  </td><td>0.4534018  </td><td>0.009033145</td><td>0.01806779 </td></tr>\n",
       "\t<tr><th scope=row>69</th><td>0.3        </td><td>1          </td><td>0.1        </td><td>0.8        </td><td>2          </td><td>0.7        </td><td>250        </td><td>0.7266992  </td><td>0.4533994  </td><td>0.005741750</td><td>0.01148302 </td></tr>\n",
       "</tbody>\n",
       "</table>\n"
      ],
      "text/latex": [
       "\\begin{tabular}{r|lllllllllll}\n",
       "  & eta & max\\_depth & gamma & colsample\\_bytree & min\\_child\\_weight & subsample & nrounds & Accuracy & Kappa & AccuracySD & KappaSD\\\\\n",
       "\\hline\n",
       "\t56 & 0.3         & 1           & 0.1         & 0.8         & 0           & 0.7         & 200         & 0.7273000   & 0.4546009   & 0.007402751 & 0.01480636 \\\\\n",
       "\t67 & 0.3         & 1           & 0.1         & 0.8         & 2           & 0.7         & 150         & 0.7269003   & 0.4538009   & 0.006320534 & 0.01264084 \\\\\n",
       "\t30 & 0.3         & 1           & 0.0         & 0.8         & 1           & 0.8         & 250         & 0.7267998   & 0.4536000   & 0.005763593 & 0.01152726 \\\\\n",
       "\t12 & 0.3         & 1           & 0.0         & 0.6         & 1           & 0.8         & 250         & 0.7267993   & 0.4535996   & 0.008813388 & 0.01762761 \\\\\n",
       "\t42 & 0.3         & 1           & 0.1         & 0.6         & 0           & 0.8         & 250         & 0.7267003   & 0.4534018   & 0.009033145 & 0.01806779 \\\\\n",
       "\t69 & 0.3         & 1           & 0.1         & 0.8         & 2           & 0.7         & 250         & 0.7266992   & 0.4533994   & 0.005741750 & 0.01148302 \\\\\n",
       "\\end{tabular}\n"
      ],
      "text/markdown": [
       "\n",
       "| <!--/--> | eta | max_depth | gamma | colsample_bytree | min_child_weight | subsample | nrounds | Accuracy | Kappa | AccuracySD | KappaSD | \n",
       "|---|---|---|---|---|---|\n",
       "| 56 | 0.3         | 1           | 0.1         | 0.8         | 0           | 0.7         | 200         | 0.7273000   | 0.4546009   | 0.007402751 | 0.01480636  | \n",
       "| 67 | 0.3         | 1           | 0.1         | 0.8         | 2           | 0.7         | 150         | 0.7269003   | 0.4538009   | 0.006320534 | 0.01264084  | \n",
       "| 30 | 0.3         | 1           | 0.0         | 0.8         | 1           | 0.8         | 250         | 0.7267998   | 0.4536000   | 0.005763593 | 0.01152726  | \n",
       "| 12 | 0.3         | 1           | 0.0         | 0.6         | 1           | 0.8         | 250         | 0.7267993   | 0.4535996   | 0.008813388 | 0.01762761  | \n",
       "| 42 | 0.3         | 1           | 0.1         | 0.6         | 0           | 0.8         | 250         | 0.7267003   | 0.4534018   | 0.009033145 | 0.01806779  | \n",
       "| 69 | 0.3         | 1           | 0.1         | 0.8         | 2           | 0.7         | 250         | 0.7266992   | 0.4533994   | 0.005741750 | 0.01148302  | \n",
       "\n",
       "\n"
      ],
      "text/plain": [
       "   eta max_depth gamma colsample_bytree min_child_weight subsample nrounds\n",
       "56 0.3 1         0.1   0.8              0                0.7       200    \n",
       "67 0.3 1         0.1   0.8              2                0.7       150    \n",
       "30 0.3 1         0.0   0.8              1                0.8       250    \n",
       "12 0.3 1         0.0   0.6              1                0.8       250    \n",
       "42 0.3 1         0.1   0.6              0                0.8       250    \n",
       "69 0.3 1         0.1   0.8              2                0.7       250    \n",
       "   Accuracy  Kappa     AccuracySD  KappaSD   \n",
       "56 0.7273000 0.4546009 0.007402751 0.01480636\n",
       "67 0.7269003 0.4538009 0.006320534 0.01264084\n",
       "30 0.7267998 0.4536000 0.005763593 0.01152726\n",
       "12 0.7267993 0.4535996 0.008813388 0.01762761\n",
       "42 0.7267003 0.4534018 0.009033145 0.01806779\n",
       "69 0.7266992 0.4533994 0.005741750 0.01148302"
      ]
     },
     "metadata": {},
     "output_type": "display_data"
    }
   ],
   "source": [
    "head(xgModel3$results[order(xgModel3$results$Accuracy,decreasing=T),])"
   ]
  },
  {
   "cell_type": "markdown",
   "metadata": {},
   "source": [
    "Na tym już zakończę, ponieważ dalsze modyfikacje wartości parametrów zmieniają skuteczność w kroswalidacji bardzo nieznacznie. Wobec tego, za najlepsze, przyjmuję następujące parametry:"
   ]
  },
  {
   "cell_type": "code",
   "execution_count": 334,
   "metadata": {},
   "outputs": [
    {
     "data": {
      "text/html": [
       "<table>\n",
       "<thead><tr><th></th><th scope=col>nrounds</th><th scope=col>max_depth</th><th scope=col>eta</th><th scope=col>gamma</th><th scope=col>colsample_bytree</th><th scope=col>min_child_weight</th><th scope=col>subsample</th></tr></thead>\n",
       "<tbody>\n",
       "\t<tr><th scope=row>56</th><td>200</td><td>1  </td><td>0.3</td><td>0.1</td><td>0.8</td><td>0  </td><td>0.7</td></tr>\n",
       "</tbody>\n",
       "</table>\n"
      ],
      "text/latex": [
       "\\begin{tabular}{r|lllllll}\n",
       "  & nrounds & max\\_depth & eta & gamma & colsample\\_bytree & min\\_child\\_weight & subsample\\\\\n",
       "\\hline\n",
       "\t56 & 200 & 1   & 0.3 & 0.1 & 0.8 & 0   & 0.7\\\\\n",
       "\\end{tabular}\n"
      ],
      "text/markdown": [
       "\n",
       "| <!--/--> | nrounds | max_depth | eta | gamma | colsample_bytree | min_child_weight | subsample | \n",
       "|---|\n",
       "| 56 | 200 | 1   | 0.3 | 0.1 | 0.8 | 0   | 0.7 | \n",
       "\n",
       "\n"
      ],
      "text/plain": [
       "   nrounds max_depth eta gamma colsample_bytree min_child_weight subsample\n",
       "56 200     1         0.3 0.1   0.8              0                0.7      "
      ]
     },
     "metadata": {},
     "output_type": "display_data"
    }
   ],
   "source": [
    "xgModel3$finalModel$tuneValue"
   ]
  },
  {
   "cell_type": "markdown",
   "metadata": {},
   "source": [
    "## Klasyfikacja xgboost"
   ]
  },
  {
   "cell_type": "markdown",
   "metadata": {},
   "source": [
    "Dla obliczonych odpowiednich wartości hiperparametrów, wyznaczę profil działania modelu xgBoost w sposób określany poprzednio."
   ]
  },
  {
   "cell_type": "code",
   "execution_count": 63,
   "metadata": {
    "collapsed": true,
    "scrolled": true
   },
   "outputs": [],
   "source": [
    "nfold_xg = function (input_data,n, xparams, n_round){\n",
    "    \n",
    "    nchunk = nrow(input_data)/n\n",
    "    results = numeric(n)\n",
    "    \n",
    "    for (i in 1:n){\n",
    "        lower = (i-1)*nchunk+1\n",
    "        upper = i*nchunk\n",
    "        indices = lower:upper\n",
    "        \n",
    "        #label na koncu ramki:\n",
    "        names_tst_x = rownames(input_data[indices,-1])\n",
    "        tst_x = as.matrix(input_data[indices,-1])\n",
    "        tr_x = as.matrix(input_data[-indices,-1])\n",
    "        tr_y = as.matrix(input_data[-indices,1])\n",
    "        \n",
    "        tr_data=xgb.DMatrix(tr_x,label=tr_y)\n",
    "        \n",
    "        g = xgb.train(data=tr_data,params=xparams,nround=n_round,\n",
    "            objective = \"binary:logistic\")\n",
    "        \n",
    "        predicted_y = predict(g, tst_x)\n",
    "        names(predicted_y) = names_tst_x\n",
    "        #dla 5000 chunków biorę 1000 najlepszych score, itd.\n",
    "        top2000indices = head(sort(predicted_y,decreasing=TRUE),nchunk/5)\n",
    "        results[i] = mean(input_data[names(top2000indices),1])\n",
    "    }\n",
    "    \n",
    "    return (results)\n",
    "}"
   ]
  },
  {
   "cell_type": "code",
   "execution_count": 65,
   "metadata": {
    "collapsed": true
   },
   "outputs": [],
   "source": [
    "xgx = train_x[,xcoefs]\n",
    "xgy = train_y\n",
    "n_round=200\n",
    "#optymalne parametry\n",
    "xparams = list(max_depth=1,eta=0.3,gamma=0.1,colsample_bytree=0.8,min_child_weight=0,subsample=0.7)\n",
    "\n",
    "xgresults = nfold_xg(data.frame(y=xgy,xgx),n=10,xparams=xparams,n_round=n_round)"
   ]
  },
  {
   "cell_type": "code",
   "execution_count": 66,
   "metadata": {},
   "outputs": [
    {
     "data": {
      "text/html": [
       "<ol class=list-inline>\n",
       "\t<li>0.851</li>\n",
       "\t<li>0.843</li>\n",
       "\t<li>0.841</li>\n",
       "\t<li>0.844</li>\n",
       "\t<li>0.849</li>\n",
       "\t<li>0.849</li>\n",
       "\t<li>0.839</li>\n",
       "\t<li>0.855</li>\n",
       "\t<li>0.838</li>\n",
       "\t<li>0.87</li>\n",
       "</ol>\n"
      ],
      "text/latex": [
       "\\begin{enumerate*}\n",
       "\\item 0.851\n",
       "\\item 0.843\n",
       "\\item 0.841\n",
       "\\item 0.844\n",
       "\\item 0.849\n",
       "\\item 0.849\n",
       "\\item 0.839\n",
       "\\item 0.855\n",
       "\\item 0.838\n",
       "\\item 0.87\n",
       "\\end{enumerate*}\n"
      ],
      "text/markdown": [
       "1. 0.851\n",
       "2. 0.843\n",
       "3. 0.841\n",
       "4. 0.844\n",
       "5. 0.849\n",
       "6. 0.849\n",
       "7. 0.839\n",
       "8. 0.855\n",
       "9. 0.838\n",
       "10. 0.87\n",
       "\n",
       "\n"
      ],
      "text/plain": [
       " [1] 0.851 0.843 0.841 0.844 0.849 0.849 0.839 0.855 0.838 0.870"
      ]
     },
     "metadata": {},
     "output_type": "display_data"
    },
    {
     "data": {
      "text/html": [
       "0.8479"
      ],
      "text/latex": [
       "0.8479"
      ],
      "text/markdown": [
       "0.8479"
      ],
      "text/plain": [
       "[1] 0.8479"
      ]
     },
     "metadata": {},
     "output_type": "display_data"
    }
   ],
   "source": [
    "xgresults\n",
    "mean(xgresults)"
   ]
  },
  {
   "cell_type": "markdown",
   "metadata": {},
   "source": [
    "Wyniki dla 2fold:"
   ]
  },
  {
   "cell_type": "code",
   "execution_count": 67,
   "metadata": {
    "collapsed": true
   },
   "outputs": [],
   "source": [
    "xgresults2 = nfold_xg(data.frame(y=xgy,xgx),n=2,xparams=xparams,n_round=n_round)"
   ]
  },
  {
   "cell_type": "code",
   "execution_count": 68,
   "metadata": {
    "scrolled": true
   },
   "outputs": [
    {
     "data": {
      "text/html": [
       "<ol class=list-inline>\n",
       "\t<li>0.8446</li>\n",
       "\t<li>0.8486</li>\n",
       "</ol>\n"
      ],
      "text/latex": [
       "\\begin{enumerate*}\n",
       "\\item 0.8446\n",
       "\\item 0.8486\n",
       "\\end{enumerate*}\n"
      ],
      "text/markdown": [
       "1. 0.8446\n",
       "2. 0.8486\n",
       "\n",
       "\n"
      ],
      "text/plain": [
       "[1] 0.8446 0.8486"
      ]
     },
     "metadata": {},
     "output_type": "display_data"
    }
   ],
   "source": [
    "xgresults2"
   ]
  },
  {
   "cell_type": "markdown",
   "metadata": {},
   "source": [
    "Wyniki są lepsze niż dla lasu losowego i osiągają 85% przy kroswalidacji.\n",
    "Postaram się jeszcze, już bardziej z ciekawości, budować znacznie większe drzewa poprzez przestawienie parametru *max_depth*."
   ]
  },
  {
   "cell_type": "code",
   "execution_count": 343,
   "metadata": {
    "collapsed": true
   },
   "outputs": [],
   "source": [
    "xgx = train_x[,xcoefs]\n",
    "xgy = train_y\n",
    "n_round=200\n",
    "#max_width jest teraz równe 10\n",
    "xparams_m = list(max_depth=10,eta=0.3,gamma=0.1,colsample_bytree=0.8,min_child_weight=0,subsample=0.7)\n",
    "\n",
    "xgresults_m = nfold_xg(data.frame(y=xgy,xgx),n=10,xparams=xparams_m,n_round=n_round)"
   ]
  },
  {
   "cell_type": "code",
   "execution_count": 344,
   "metadata": {},
   "outputs": [
    {
     "data": {
      "text/html": [
       "<ol class=list-inline>\n",
       "\t<li>0.781</li>\n",
       "\t<li>0.788</li>\n",
       "\t<li>0.784</li>\n",
       "\t<li>0.769</li>\n",
       "\t<li>0.801</li>\n",
       "\t<li>0.778</li>\n",
       "\t<li>0.788</li>\n",
       "\t<li>0.794</li>\n",
       "\t<li>0.78</li>\n",
       "\t<li>0.796</li>\n",
       "</ol>\n"
      ],
      "text/latex": [
       "\\begin{enumerate*}\n",
       "\\item 0.781\n",
       "\\item 0.788\n",
       "\\item 0.784\n",
       "\\item 0.769\n",
       "\\item 0.801\n",
       "\\item 0.778\n",
       "\\item 0.788\n",
       "\\item 0.794\n",
       "\\item 0.78\n",
       "\\item 0.796\n",
       "\\end{enumerate*}\n"
      ],
      "text/markdown": [
       "1. 0.781\n",
       "2. 0.788\n",
       "3. 0.784\n",
       "4. 0.769\n",
       "5. 0.801\n",
       "6. 0.778\n",
       "7. 0.788\n",
       "8. 0.794\n",
       "9. 0.78\n",
       "10. 0.796\n",
       "\n",
       "\n"
      ],
      "text/plain": [
       " [1] 0.781 0.788 0.784 0.769 0.801 0.778 0.788 0.794 0.780 0.796"
      ]
     },
     "metadata": {},
     "output_type": "display_data"
    }
   ],
   "source": [
    "xgresults_m"
   ]
  },
  {
   "cell_type": "markdown",
   "metadata": {},
   "source": [
    "Jak widać, zwiększanie limitu na rozmiar drzew powoduje znaczny spadek jakościowy."
   ]
  },
  {
   "cell_type": "markdown",
   "metadata": {},
   "source": [
    "W tym miejscu wytrenuję jeszcze model na wszystkich predyktorach, żeby sprawdzić, czy nie podniesie to jakimś cudem skuteczności."
   ]
  },
  {
   "cell_type": "code",
   "execution_count": 345,
   "metadata": {
    "collapsed": true
   },
   "outputs": [],
   "source": [
    "xgx = train_x\n",
    "xgy = train_y\n",
    "n_round=200\n",
    "#optymalne parametry\n",
    "xparams_all = list(max_depth=1,eta=0.3,gamma=0.1,colsample_bytree=0.8,min_child_weight=0,subsample=0.7)\n",
    "\n",
    "xgresults_all = nfold_xg(data.frame(y=xgy,xgx),n=10,xparams=xparams_all,n_round=n_round)"
   ]
  },
  {
   "cell_type": "code",
   "execution_count": 347,
   "metadata": {
    "scrolled": true
   },
   "outputs": [
    {
     "data": {
      "text/html": [
       "<ol class=list-inline>\n",
       "\t<li>0.85</li>\n",
       "\t<li>0.84</li>\n",
       "\t<li>0.841</li>\n",
       "\t<li>0.851</li>\n",
       "\t<li>0.854</li>\n",
       "\t<li>0.847</li>\n",
       "\t<li>0.83</li>\n",
       "\t<li>0.856</li>\n",
       "\t<li>0.835</li>\n",
       "\t<li>0.865</li>\n",
       "</ol>\n"
      ],
      "text/latex": [
       "\\begin{enumerate*}\n",
       "\\item 0.85\n",
       "\\item 0.84\n",
       "\\item 0.841\n",
       "\\item 0.851\n",
       "\\item 0.854\n",
       "\\item 0.847\n",
       "\\item 0.83\n",
       "\\item 0.856\n",
       "\\item 0.835\n",
       "\\item 0.865\n",
       "\\end{enumerate*}\n"
      ],
      "text/markdown": [
       "1. 0.85\n",
       "2. 0.84\n",
       "3. 0.841\n",
       "4. 0.851\n",
       "5. 0.854\n",
       "6. 0.847\n",
       "7. 0.83\n",
       "8. 0.856\n",
       "9. 0.835\n",
       "10. 0.865\n",
       "\n",
       "\n"
      ],
      "text/plain": [
       " [1] 0.850 0.840 0.841 0.851 0.854 0.847 0.830 0.856 0.835 0.865"
      ]
     },
     "metadata": {},
     "output_type": "display_data"
    },
    {
     "data": {
      "text/html": [
       "0.8469"
      ],
      "text/latex": [
       "0.8469"
      ],
      "text/markdown": [
       "0.8469"
      ],
      "text/plain": [
       "[1] 0.8469"
      ]
     },
     "metadata": {},
     "output_type": "display_data"
    }
   ],
   "source": [
    "xgresults_all\n",
    "mean(xgresults_all)"
   ]
  },
  {
   "cell_type": "markdown",
   "metadata": {},
   "source": [
    "Patrząc na wyniki modelu na wszystkich zmiennych, można zauważyć jedną z właściwości boostingu - takie modele bardzo trudno przeuczyć. Chociaż powyższy model używa wielu bezsensownych predyktorów, jego skuteczność predykcji w kroswalidacji nie odstaje od modelu z wyselekcjowanymi predyktorami. Nie oznacza to oczywiście, że należy go używać. Ryzyko przeuczenia na zbiorze testowym tego projektu jest zdecydowanie większe od modelu z wybranymi predyktorami. Znacznie większa jest też jego złożoność obliczeniowa (71, a nie 9 predyktorów!)"
   ]
  },
  {
   "cell_type": "markdown",
   "metadata": {},
   "source": [
    "Wszystko to oznacza, że w chwili obecnej najlepszym kandydatem jest model xgBoost z optymalnymi hiperparametrami."
   ]
  },
  {
   "cell_type": "markdown",
   "metadata": {},
   "source": [
    "# Inne klasyfikatory"
   ]
  },
  {
   "cell_type": "markdown",
   "metadata": {},
   "source": [
    "W poniższych częściach przedstawię działanie innych metod klasyfikacji dla zadanego problemu."
   ]
  },
  {
   "cell_type": "markdown",
   "metadata": {},
   "source": [
    "## Drzewo decyzyjne C5.0"
   ]
  },
  {
   "cell_type": "markdown",
   "metadata": {},
   "source": [
    "Tego typu drzewo jest wynikiem działania algorytmu C5.0 generującego drzewa decyzyjne. \n",
    "Algorytm C5.0 jest zmodyfikowaną wersją algorytmu Quinlana C4.5 - jego głównymi ulepszeniami jest to, że jest szybszy i bardziej wydajny pamięciowo.\n",
    "Algorytm zapewnia dodatkowo wsparcie dla boostingu, wobec czego jest interesującą alternatywą dla xgBoost."
   ]
  },
  {
   "cell_type": "markdown",
   "metadata": {},
   "source": [
    "### Selekcja predyktorów i wyznaczanie parametrów"
   ]
  },
  {
   "cell_type": "markdown",
   "metadata": {},
   "source": [
    "Postępuję tutaj podobnie jak we wcześniejszych klasyfikatorach."
   ]
  },
  {
   "cell_type": "code",
   "execution_count": 18,
   "metadata": {
    "collapsed": true
   },
   "outputs": [],
   "source": [
    "rpx = train_x\n",
    "rpy = train_y2"
   ]
  },
  {
   "cell_type": "code",
   "execution_count": 23,
   "metadata": {
    "collapsed": true
   },
   "outputs": [],
   "source": [
    "rpFitControl = trainControl (method=\"cv\",number = 2) #2fold\n",
    "\n",
    "rpModel = train(rpx,rpy,\n",
    "    method = \"C5.0\",\n",
    "    trControl = rpFitControl)"
   ]
  },
  {
   "cell_type": "markdown",
   "metadata": {},
   "source": [
    "W poniższym opisie znajdują się propozycje ustawienia parametrów algorytmu."
   ]
  },
  {
   "cell_type": "code",
   "execution_count": 25,
   "metadata": {
    "scrolled": false
   },
   "outputs": [
    {
     "data": {
      "text/plain": [
       "C5.0 \n",
       "\n",
       "50000 samples\n",
       "   71 predictors\n",
       "    2 classes: 'klasa -', 'klasa +' \n",
       "\n",
       "No pre-processing\n",
       "Resampling: Cross-Validated (2 fold) \n",
       "Summary of sample sizes: 25000, 25000 \n",
       "Resampling results across tuning parameters:\n",
       "\n",
       "  model  winnow  trials  Accuracy  Kappa    \n",
       "  rules  FALSE    1      0.68204   0.3640840\n",
       "  rules  FALSE   10      0.70478   0.4095505\n",
       "  rules  FALSE   20      0.70862   0.4172328\n",
       "  rules   TRUE    1      0.67738   0.3547622\n",
       "  rules   TRUE   10      0.69368   0.3873568\n",
       "  rules   TRUE   20      0.69272   0.3854343\n",
       "  tree   FALSE    1      0.67738   0.3547640\n",
       "  tree   FALSE   10      0.70598   0.4119618\n",
       "  tree   FALSE   20      0.70712   0.4142404\n",
       "  tree    TRUE    1      0.67616   0.3523212\n",
       "  tree    TRUE   10      0.69542   0.3908404\n",
       "  tree    TRUE   20      0.69428   0.3885600\n",
       "\n",
       "Accuracy was used to select the optimal model using  the largest value.\n",
       "The final values used for the model were trials = 20, model = rules and\n",
       " winnow = FALSE."
      ]
     },
     "metadata": {},
     "output_type": "display_data"
    }
   ],
   "source": [
    "rpModel"
   ]
  },
  {
   "cell_type": "code",
   "execution_count": 28,
   "metadata": {
    "scrolled": true
   },
   "outputs": [
    {
     "name": "stderr",
     "output_type": "stream",
     "text": [
      "Warning message in xy.coords(x, y, xlabel, ylabel, log):\n",
      "“NAs introduced by coercion”"
     ]
    },
    {
     "data": {
      "image/png": "[encoded data removed]",
      "text/plain": [
       "plot without title"
      ]
     },
     "metadata": {},
     "output_type": "display_data"
    }
   ],
   "source": [
    "v = varImp(rpModel)\n",
    "plot(unlist(v))\n",
    "abline(42,0,col=\"red\")"
   ]
  },
  {
   "cell_type": "markdown",
   "metadata": {},
   "source": [
    "Obcinam zmienne poniżej czerwonej linii"
   ]
  },
  {
   "cell_type": "code",
   "execution_count": 35,
   "metadata": {
    "scrolled": false
   },
   "outputs": [
    {
     "data": {
      "text/html": [
       "<ol class=list-inline>\n",
       "\t<li>'E1.A'</li>\n",
       "\t<li>'M1'</li>\n",
       "\t<li>'W1'</li>\n",
       "\t<li>'P2.A'</li>\n",
       "\t<li>'T2'</li>\n",
       "\t<li>'U2'</li>\n",
       "\t<li>'Q1'</li>\n",
       "\t<li>'F2'</li>\n",
       "\t<li>'J1'</li>\n",
       "\t<li>'B1.B'</li>\n",
       "\t<li>'T1.A'</li>\n",
       "\t<li>'I2.B'</li>\n",
       "\t<li>'O2.B'</li>\n",
       "\t<li>'T1.C'</li>\n",
       "\t<li>'L1.C'</li>\n",
       "\t<li>'P1.A'</li>\n",
       "</ol>\n"
      ],
      "text/latex": [
       "\\begin{enumerate*}\n",
       "\\item 'E1.A'\n",
       "\\item 'M1'\n",
       "\\item 'W1'\n",
       "\\item 'P2.A'\n",
       "\\item 'T2'\n",
       "\\item 'U2'\n",
       "\\item 'Q1'\n",
       "\\item 'F2'\n",
       "\\item 'J1'\n",
       "\\item 'B1.B'\n",
       "\\item 'T1.A'\n",
       "\\item 'I2.B'\n",
       "\\item 'O2.B'\n",
       "\\item 'T1.C'\n",
       "\\item 'L1.C'\n",
       "\\item 'P1.A'\n",
       "\\end{enumerate*}\n"
      ],
      "text/markdown": [
       "1. 'E1.A'\n",
       "2. 'M1'\n",
       "3. 'W1'\n",
       "4. 'P2.A'\n",
       "5. 'T2'\n",
       "6. 'U2'\n",
       "7. 'Q1'\n",
       "8. 'F2'\n",
       "9. 'J1'\n",
       "10. 'B1.B'\n",
       "11. 'T1.A'\n",
       "12. 'I2.B'\n",
       "13. 'O2.B'\n",
       "14. 'T1.C'\n",
       "15. 'L1.C'\n",
       "16. 'P1.A'\n",
       "\n",
       "\n"
      ],
      "text/plain": [
       " [1] \"E1.A\" \"M1\"   \"W1\"   \"P2.A\" \"T2\"   \"U2\"   \"Q1\"   \"F2\"   \"J1\"   \"B1.B\"\n",
       "[11] \"T1.A\" \"I2.B\" \"O2.B\" \"T1.C\" \"L1.C\" \"P1.A\""
      ]
     },
     "metadata": {},
     "output_type": "display_data"
    }
   ],
   "source": [
    "(rp_coefs = rownames(v$importance)[v$importance>41])"
   ]
  },
  {
   "cell_type": "markdown",
   "metadata": {},
   "source": [
    "### Klasyfikacja"
   ]
  },
  {
   "cell_type": "code",
   "execution_count": 40,
   "metadata": {
    "collapsed": true
   },
   "outputs": [],
   "source": [
    "nfold_rp = function (input_data,n){\n",
    "    \n",
    "    nchunk = nrow(input_data)/n\n",
    "    results = numeric(n)\n",
    "\n",
    "    for (i in 1:n){\n",
    "        lower = (i-1)*nchunk+1\n",
    "        upper = i*nchunk\n",
    "        indices = lower:upper\n",
    "        #kolumna 1 - etykieta\n",
    "        tst_y = input_data[indices,1]\n",
    "        names_tst_x = rownames(input_data[indices,-1])\n",
    "        #trzeba zapamietac numery wierszy, bo ponizej są tracone:\n",
    "        tst_x = as.matrix(input_data[indices,-1])\n",
    "        tr_y =  input_data[-indices,1]\n",
    "        tr_x =  as.matrix(input_data[-indices,-1])\n",
    "        g = C5.0(tr_x,tr_y,trials=20,rules=TRUE,control = C5.0Control(winnow = FALSE))#optymalne parametry\n",
    "        predicted_y = predict(g, tst_x, type=\"prob\")[,2]\n",
    "        names(predicted_y) = names_tst_x\n",
    "        #dla 5000 predykcji (10fold), sprawdzam top 1000 (20%) scores\n",
    "        topindices = head(sort(predicted_y,decreasing=TRUE),nchunk/5)\n",
    "        results[i] = mean(input_data[names(topindices),1] == 'klasa +')\n",
    "    }\n",
    "    \n",
    "    return (results)\n",
    "}"
   ]
  },
  {
   "cell_type": "code",
   "execution_count": 42,
   "metadata": {
    "collapsed": true
   },
   "outputs": [],
   "source": [
    "rp_x = train_x[,rp_coefs]\n",
    "rp_y = train_y2\n",
    "rp_results = nfold_rp(data.frame(y=rp_y,rp_x),n=10)"
   ]
  },
  {
   "cell_type": "code",
   "execution_count": 43,
   "metadata": {},
   "outputs": [
    {
     "data": {
      "text/html": [
       "<ol class=list-inline>\n",
       "\t<li>0.845</li>\n",
       "\t<li>0.846</li>\n",
       "\t<li>0.847</li>\n",
       "\t<li>0.837</li>\n",
       "\t<li>0.846</li>\n",
       "\t<li>0.837</li>\n",
       "\t<li>0.827</li>\n",
       "\t<li>0.835</li>\n",
       "\t<li>0.838</li>\n",
       "\t<li>0.85</li>\n",
       "</ol>\n"
      ],
      "text/latex": [
       "\\begin{enumerate*}\n",
       "\\item 0.845\n",
       "\\item 0.846\n",
       "\\item 0.847\n",
       "\\item 0.837\n",
       "\\item 0.846\n",
       "\\item 0.837\n",
       "\\item 0.827\n",
       "\\item 0.835\n",
       "\\item 0.838\n",
       "\\item 0.85\n",
       "\\end{enumerate*}\n"
      ],
      "text/markdown": [
       "1. 0.845\n",
       "2. 0.846\n",
       "3. 0.847\n",
       "4. 0.837\n",
       "5. 0.846\n",
       "6. 0.837\n",
       "7. 0.827\n",
       "8. 0.835\n",
       "9. 0.838\n",
       "10. 0.85\n",
       "\n",
       "\n"
      ],
      "text/plain": [
       " [1] 0.845 0.846 0.847 0.837 0.846 0.837 0.827 0.835 0.838 0.850"
      ]
     },
     "metadata": {},
     "output_type": "display_data"
    },
    {
     "data": {
      "text/html": [
       "0.8408"
      ],
      "text/latex": [
       "0.8408"
      ],
      "text/markdown": [
       "0.8408"
      ],
      "text/plain": [
       "[1] 0.8408"
      ]
     },
     "metadata": {},
     "output_type": "display_data"
    }
   ],
   "source": [
    "rp_results\n",
    "mean(rp_results)"
   ]
  },
  {
   "cell_type": "markdown",
   "metadata": {},
   "source": [
    "Drzewo decyzyjne C5.0 daje wyniki lepsze niż las losowy i nieznacznie gorsze od xgBoost."
   ]
  },
  {
   "cell_type": "markdown",
   "metadata": {},
   "source": [
    "## Naiwny klasyfikator Bayesa"
   ]
  },
  {
   "cell_type": "markdown",
   "metadata": {},
   "source": [
    "Naiwny klasyfikator Bayesa to klasyfikator, który zawsze warto przetestować, dlatego też poniżej wyznaczę jego efektywność dla naszego problemu."
   ]
  },
  {
   "cell_type": "markdown",
   "metadata": {},
   "source": [
    "### Selekcja zmiennych i wyznaczanie parametrów"
   ]
  },
  {
   "cell_type": "code",
   "execution_count": 63,
   "metadata": {
    "collapsed": true
   },
   "outputs": [],
   "source": [
    "nbx = train_x\n",
    "nby = train_y2"
   ]
  },
  {
   "cell_type": "code",
   "execution_count": 64,
   "metadata": {
    "collapsed": true
   },
   "outputs": [],
   "source": [
    "nbFitControl = trainControl (method=\"cv\",number = 2) #2fold\n",
    "\n",
    "nbModel = train(nbx,nby,\n",
    "    method = \"naive_bayes\",\n",
    "    trControl = nbFitControl)"
   ]
  },
  {
   "cell_type": "markdown",
   "metadata": {},
   "source": [
    "Poniżej znajdują się propozycje ustawienia parametrów dla tego modelu."
   ]
  },
  {
   "cell_type": "code",
   "execution_count": 65,
   "metadata": {},
   "outputs": [
    {
     "data": {
      "text/plain": [
       "Naive Bayes \n",
       "\n",
       "50000 samples\n",
       "   71 predictors\n",
       "    2 classes: 'klasa -', 'klasa +' \n",
       "\n",
       "No pre-processing\n",
       "Resampling: Cross-Validated (2 fold) \n",
       "Summary of sample sizes: 25000, 25000 \n",
       "Resampling results across tuning parameters:\n",
       "\n",
       "  usekernel  Accuracy  Kappa    \n",
       "  FALSE      0.64750   0.2950112\n",
       "   TRUE      0.71098   0.4219751\n",
       "\n",
       "Tuning parameter 'fL' was held constant at a value of 0\n",
       "Tuning\n",
       " parameter 'adjust' was held constant at a value of 1\n",
       "Accuracy was used to select the optimal model using  the largest value.\n",
       "The final values used for the model were fL = 0, usekernel = TRUE and adjust\n",
       " = 1."
      ]
     },
     "metadata": {},
     "output_type": "display_data"
    }
   ],
   "source": [
    "nbModel"
   ]
  },
  {
   "cell_type": "code",
   "execution_count": 74,
   "metadata": {},
   "outputs": [
    {
     "data": {
      "image/png": "[encoded data removed]",
      "text/plain": [
       "plot without title"
      ]
     },
     "metadata": {},
     "output_type": "display_data"
    }
   ],
   "source": [
    "v = varImp(nbModel)\n",
    "plot(v$importance[,1])\n",
    "abline(15,0,col=\"red\")"
   ]
  },
  {
   "cell_type": "markdown",
   "metadata": {},
   "source": [
    "Wybieram predyktory o ważności większej niż 40."
   ]
  },
  {
   "cell_type": "code",
   "execution_count": 75,
   "metadata": {},
   "outputs": [
    {
     "data": {
      "text/html": [
       "<ol class=list-inline>\n",
       "\t<li>'E1.A'</li>\n",
       "\t<li>'E1.B'</li>\n",
       "\t<li>'E1.C'</li>\n",
       "\t<li>'E1.D'</li>\n",
       "\t<li>'M1'</li>\n",
       "\t<li>'Q1'</li>\n",
       "\t<li>'W1'</li>\n",
       "\t<li>'P2.A'</li>\n",
       "\t<li>'P2.B'</li>\n",
       "\t<li>'P2.C'</li>\n",
       "\t<li>'T2'</li>\n",
       "\t<li>'U2'</li>\n",
       "</ol>\n"
      ],
      "text/latex": [
       "\\begin{enumerate*}\n",
       "\\item 'E1.A'\n",
       "\\item 'E1.B'\n",
       "\\item 'E1.C'\n",
       "\\item 'E1.D'\n",
       "\\item 'M1'\n",
       "\\item 'Q1'\n",
       "\\item 'W1'\n",
       "\\item 'P2.A'\n",
       "\\item 'P2.B'\n",
       "\\item 'P2.C'\n",
       "\\item 'T2'\n",
       "\\item 'U2'\n",
       "\\end{enumerate*}\n"
      ],
      "text/markdown": [
       "1. 'E1.A'\n",
       "2. 'E1.B'\n",
       "3. 'E1.C'\n",
       "4. 'E1.D'\n",
       "5. 'M1'\n",
       "6. 'Q1'\n",
       "7. 'W1'\n",
       "8. 'P2.A'\n",
       "9. 'P2.B'\n",
       "10. 'P2.C'\n",
       "11. 'T2'\n",
       "12. 'U2'\n",
       "\n",
       "\n"
      ],
      "text/plain": [
       " [1] \"E1.A\" \"E1.B\" \"E1.C\" \"E1.D\" \"M1\"   \"Q1\"   \"W1\"   \"P2.A\" \"P2.B\" \"P2.C\"\n",
       "[11] \"T2\"   \"U2\"  "
      ]
     },
     "metadata": {},
     "output_type": "display_data"
    }
   ],
   "source": [
    "(nb_coefs = rownames(v$importance)[v$importance[,1]>18])"
   ]
  },
  {
   "cell_type": "markdown",
   "metadata": {},
   "source": [
    "### Klasyfikacja"
   ]
  },
  {
   "cell_type": "code",
   "execution_count": 78,
   "metadata": {
    "collapsed": true
   },
   "outputs": [],
   "source": [
    "nfold_nb = function (input_data,n){\n",
    "    \n",
    "    nchunk = nrow(input_data)/n\n",
    "    results = numeric(n)\n",
    "\n",
    "    for (i in 1:n){\n",
    "        lower = (i-1)*nchunk+1\n",
    "        upper = i*nchunk\n",
    "        indices = lower:upper\n",
    "        #kolumna 1 - etykieta\n",
    "        tst_y = input_data[indices,1]\n",
    "        names_tst_x = rownames(input_data[indices,-1])\n",
    "        #trzeba zapamietac numery wierszy, bo ponizej są tracone:\n",
    "        tst_x = as.matrix(input_data[indices,-1])\n",
    "        tr_y =  input_data[-indices,1]\n",
    "        tr_x =  as.matrix(input_data[-indices,-1])\n",
    "        g = naive_bayes(tr_x,tr_y,useKernel=TRUE)#optymalne parametry\n",
    "        predicted_y = predict(g, tst_x, type=\"prob\")[,2]\n",
    "        names(predicted_y) = names_tst_x\n",
    "        #dla 5000 predykcji (10fold), sprawdzam top 1000 (20%) scores\n",
    "        topindices = head(sort(predicted_y,decreasing=TRUE),nchunk/5)\n",
    "        results[i] = mean(input_data[names(topindices),1] == 'klasa +')\n",
    "    }\n",
    "    \n",
    "    return (results)\n",
    "}"
   ]
  },
  {
   "cell_type": "code",
   "execution_count": 79,
   "metadata": {
    "collapsed": true
   },
   "outputs": [],
   "source": [
    "nbx = train_x[,nb_coefs]\n",
    "nby = train_y2\n",
    "\n",
    "nb_results = nfold_nb(data.frame(y=nby,nbx),n=10)"
   ]
  },
  {
   "cell_type": "code",
   "execution_count": 80,
   "metadata": {},
   "outputs": [
    {
     "data": {
      "text/html": [
       "<ol class=list-inline>\n",
       "\t<li>0.774</li>\n",
       "\t<li>0.763</li>\n",
       "\t<li>0.77</li>\n",
       "\t<li>0.756</li>\n",
       "\t<li>0.781</li>\n",
       "\t<li>0.759</li>\n",
       "\t<li>0.767</li>\n",
       "\t<li>0.781</li>\n",
       "\t<li>0.759</li>\n",
       "\t<li>0.782</li>\n",
       "</ol>\n"
      ],
      "text/latex": [
       "\\begin{enumerate*}\n",
       "\\item 0.774\n",
       "\\item 0.763\n",
       "\\item 0.77\n",
       "\\item 0.756\n",
       "\\item 0.781\n",
       "\\item 0.759\n",
       "\\item 0.767\n",
       "\\item 0.781\n",
       "\\item 0.759\n",
       "\\item 0.782\n",
       "\\end{enumerate*}\n"
      ],
      "text/markdown": [
       "1. 0.774\n",
       "2. 0.763\n",
       "3. 0.77\n",
       "4. 0.756\n",
       "5. 0.781\n",
       "6. 0.759\n",
       "7. 0.767\n",
       "8. 0.781\n",
       "9. 0.759\n",
       "10. 0.782\n",
       "\n",
       "\n"
      ],
      "text/plain": [
       " [1] 0.774 0.763 0.770 0.756 0.781 0.759 0.767 0.781 0.759 0.782"
      ]
     },
     "metadata": {},
     "output_type": "display_data"
    },
    {
     "data": {
      "text/html": [
       "0.7692"
      ],
      "text/latex": [
       "0.7692"
      ],
      "text/markdown": [
       "0.7692"
      ],
      "text/plain": [
       "[1] 0.7692"
      ]
     },
     "metadata": {},
     "output_type": "display_data"
    }
   ],
   "source": [
    "nb_results\n",
    "mean(nb_results)"
   ]
  },
  {
   "cell_type": "markdown",
   "metadata": {},
   "source": [
    "Naiwny klasyfikator Bayesa okazuje się gorszy niż jakiekolwiek drzewa decyzyjne poruszone w tym raporcie, jednakże jest, co ciekawe, lepszy niż regresja logistyczna."
   ]
  }
 ],
 "metadata": {
  "kernelspec": {
   "display_name": "R",
   "language": "R",
   "name": "ir"
  },
  "language_info": {
   "codemirror_mode": "r",
   "file_extension": ".r",
   "mimetype": "text/x-r-source",
   "name": "R",
   "pygments_lexer": "r",
   "version": "3.4.1"
  }
 },
 "nbformat": 4,
 "nbformat_minor": 2
}
