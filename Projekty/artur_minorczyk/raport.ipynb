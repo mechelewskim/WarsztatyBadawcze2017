{
 "cells": [
  {
   "cell_type": "markdown",
   "metadata": {},
   "source": [
    "# Analiza danych"
   ]
  },
  {
   "cell_type": "code",
   "execution_count": 1,
   "metadata": {
    "collapsed": true
   },
   "outputs": [],
   "source": [
    "import numpy as np\n",
    "import pandas as pd\n",
    "import matplotlib.pyplot as plt"
   ]
  },
  {
   "cell_type": "code",
   "execution_count": 2,
   "metadata": {
    "collapsed": false
   },
   "outputs": [
    {
     "data": {
      "text/plain": [
       "0"
      ]
     },
     "execution_count": 2,
     "metadata": {},
     "output_type": "execute_result"
    }
   ],
   "source": [
    "df_train = pd.read_csv('zbior_uczacy.txt', sep=';')\n",
    "df_train.isnull().sum().sum()"
   ]
  },
  {
   "cell_type": "code",
   "execution_count": 3,
   "metadata": {
    "collapsed": true
   },
   "outputs": [],
   "source": [
    "df = pd.get_dummies(df_train.drop('y', axis=1), drop_first=True)\n",
    "df['y'] = pd.Categorical(df_train['y'])"
   ]
  },
  {
   "cell_type": "markdown",
   "metadata": {},
   "source": [
    "Dane składają się ze zmiennych przyjmujących zarówno wartości ciągłe, jak i nominalne, a oprócz tego nie występują żadne brakujące wartości. Zmienne ciągłe mają rozkład jednorodny i przyjmują wartości z przedziału [1, 100]. Zmienne nominalne natomiast rozbite zostały na szereg zmiennych binarnych. Dodatkowo w danych występują dwie klasy \"klasa -\" oraz \"klasa +\" o zbliżonej liczności."
   ]
  },
  {
   "cell_type": "markdown",
   "metadata": {},
   "source": [
    "# Selekcja zmiennych"
   ]
  },
  {
   "cell_type": "code",
   "execution_count": 4,
   "metadata": {
    "collapsed": true
   },
   "outputs": [],
   "source": [
    "from sklearn.ensemble import RandomForestClassifier\n",
    "from sklearn.feature_selection import SelectFromModel\n",
    "from sklearn.model_selection import train_test_split"
   ]
  },
  {
   "cell_type": "code",
   "execution_count": 5,
   "metadata": {
    "collapsed": false
   },
   "outputs": [],
   "source": [
    "y = 1 - df['y'].cat.codes.as_matrix()\n",
    "X = df.drop('y', axis=1).as_matrix()\n",
    "\n",
    "clf = RandomForestClassifier(random_state=123)\n",
    "clf = clf.fit(X, y)"
   ]
  },
  {
   "cell_type": "code",
   "execution_count": 6,
   "metadata": {
    "collapsed": false
   },
   "outputs": [
    {
     "data": {
      "image/png": "[encoded data removed]",
      "text/plain": [
       "<matplotlib.figure.Figure at 0x7f581efd9a58>"
      ]
     },
     "metadata": {},
     "output_type": "display_data"
    }
   ],
   "source": [
    "indices = np.argsort(clf.feature_importances_)[::-1]\n",
    "plt.bar(range(X.shape[1]), clf.feature_importances_[indices], color=\"r\", align=\"center\")\n",
    "plt.show()"
   ]
  },
  {
   "cell_type": "code",
   "execution_count": 7,
   "metadata": {
    "collapsed": false
   },
   "outputs": [
    {
     "data": {
      "text/plain": [
       "(50000, 7)"
      ]
     },
     "execution_count": 7,
     "metadata": {},
     "output_type": "execute_result"
    }
   ],
   "source": [
    "model = SelectFromModel(clf, prefit=True, threshold=0.03)\n",
    "X_new = model.transform(X)\n",
    "X_new.shape"
   ]
  },
  {
   "cell_type": "code",
   "execution_count": 8,
   "metadata": {
    "collapsed": false
   },
   "outputs": [
    {
     "data": {
      "text/plain": [
       "Index(['M1', 'W1', 'U2', 'Q1', 'J1', 'T2', 'F2'], dtype='object')"
      ]
     },
     "execution_count": 8,
     "metadata": {},
     "output_type": "execute_result"
    }
   ],
   "source": [
    "df.columns[indices][0:7]"
   ]
  },
  {
   "cell_type": "code",
   "execution_count": 9,
   "metadata": {
    "collapsed": true
   },
   "outputs": [],
   "source": [
    "X_train, X_test, y_train, y_test = train_test_split(X_new, y, test_size=0.2, random_state=123)"
   ]
  },
  {
   "cell_type": "markdown",
   "metadata": {},
   "source": [
    "Selekcja zmiennych dokonana została przy pomocy lasów losowych. Spośród wszystkich zmiennych wybranych zostało 7 najbardziej znaczących. Są to: 'M1', 'W1', 'U2', 'Q1', 'J1', 'T2', 'F2'. Oprócz tego dane podzielone zostały na zbiór treningowy i testowy w proporcji 4:1."
   ]
  },
  {
   "cell_type": "markdown",
   "metadata": {},
   "source": [
    "# Funkcja oceny"
   ]
  },
  {
   "cell_type": "code",
   "execution_count": 10,
   "metadata": {
    "collapsed": false
   },
   "outputs": [],
   "source": [
    "def compute_score(val, pred, p=0.2):\n",
    "    n = int(len(pred) * p)\n",
    "    ind = np.argsort(-pred)\n",
    "    return np.mean(val[ind][0:n])"
   ]
  },
  {
   "cell_type": "markdown",
   "metadata": {},
   "source": [
    "Do oceny jakości modelu wykorzystywana jest funkcja określająca dokładność predykcji spośród 20% najwyżej sklasyfikowanych przez model rekordów."
   ]
  },
  {
   "cell_type": "markdown",
   "metadata": {},
   "source": [
    "# Regresja logistyczna"
   ]
  },
  {
   "cell_type": "code",
   "execution_count": 11,
   "metadata": {
    "collapsed": false,
    "scrolled": false
   },
   "outputs": [
    {
     "name": "stdout",
     "output_type": "stream",
     "text": [
      "0.668\n"
     ]
    }
   ],
   "source": [
    "from sklearn.linear_model import LogisticRegression\n",
    "\n",
    "clf = LogisticRegression(C=0.1, penalty='l1', tol=0.01)\n",
    "clf.fit(X_train, y_train)\n",
    "\n",
    "y_pred = clf.predict_proba(X_test)[:,1]\n",
    "score = compute_score(y_test, y_pred)\n",
    "print(score)"
   ]
  },
  {
   "cell_type": "markdown",
   "metadata": {},
   "source": [
    "Dokładność uzyskiwana przez regresję logistyczną wynosi 66,8%."
   ]
  },
  {
   "cell_type": "markdown",
   "metadata": {},
   "source": [
    "# Random forest"
   ]
  },
  {
   "cell_type": "code",
   "execution_count": 12,
   "metadata": {
    "collapsed": false
   },
   "outputs": [
    {
     "name": "stdout",
     "output_type": "stream",
     "text": [
      "0.764\n"
     ]
    }
   ],
   "source": [
    "rf = RandomForestClassifier(random_state=123)\n",
    "rf.fit(X_train, y_train)\n",
    "\n",
    "y_pred = rf.predict_proba(X_test)[:,1]\n",
    "score = compute_score(y_test, y_pred)\n",
    "print(score)"
   ]
  },
  {
   "cell_type": "markdown",
   "metadata": {},
   "source": [
    "Dokładność uzyskiwana przez lasy losowe wynosi 76,4%. Jest to wynik zdecydowanie lepszy niż ten uzyskiwany przez regresję liniową. Możemy więc spodziewać się, że mamy do czynienia z zależnośćią nieliniową."
   ]
  },
  {
   "cell_type": "markdown",
   "metadata": {},
   "source": [
    "# XGBoost"
   ]
  },
  {
   "cell_type": "code",
   "execution_count": 16,
   "metadata": {
    "collapsed": false
   },
   "outputs": [],
   "source": [
    "import xgboost as xgb\n",
    "\n",
    "def eval_xgboost(preds, dtrain):\n",
    "    labels = dtrain.get_label()\n",
    "    score = compute_score(labels, preds)\n",
    "    return [('score', score)]"
   ]
  },
  {
   "cell_type": "code",
   "execution_count": 14,
   "metadata": {
    "collapsed": false
   },
   "outputs": [
    {
     "name": "stdout",
     "output_type": "stream",
     "text": [
      "[0]\ttrain-score:0.646325\ttest-score:0.6512\n",
      "[20]\ttrain-score:0.7982\ttest-score:0.7923\n",
      "[40]\ttrain-score:0.8347\ttest-score:0.8266\n",
      "[60]\ttrain-score:0.846975\ttest-score:0.8363\n",
      "[80]\ttrain-score:0.850825\ttest-score:0.8414\n",
      "[100]\ttrain-score:0.854025\ttest-score:0.8421\n"
     ]
    }
   ],
   "source": [
    "feature_names = df.drop('y', axis=1).columns\n",
    "dall = xgb.DMatrix(X, label=y, feature_names=feature_names)\n",
    "\n",
    "param = {'max_depth': 2, 'eta': 0.2, 'objective': 'binary:logistic', 'nthread': 4, 'eval_metric': 'auc'}\n",
    "\n",
    "res = xgb.cv(param, dall, 101, nfold=5, metrics={'auc'}, seed=123, feval=eval_xgboost,\n",
    "             callbacks=[xgb.callback.print_evaluation(period=20, show_stdv=False)])"
   ]
  },
  {
   "cell_type": "code",
   "execution_count": 15,
   "metadata": {
    "collapsed": false,
    "scrolled": true
   },
   "outputs": [
    {
     "data": {
      "image/png": "[encoded data removed]",
      "text/plain": [
       "<matplotlib.figure.Figure at 0x7f581837dd68>"
      ]
     },
     "metadata": {},
     "output_type": "display_data"
    }
   ],
   "source": [
    "bst = xgb.train(param, dall, 101, verbose_eval=False, feval=eval_xgboost)\n",
    "fig, ax = plt.subplots(figsize=(10, 8))\n",
    "xgb.plot_importance(bst, ax=ax)\n",
    "plt.show()"
   ]
  },
  {
   "cell_type": "markdown",
   "metadata": {
    "collapsed": true
   },
   "source": [
    "Jak widać dokładność uzyskana przez XGBoost wynosi 84,21%, co daje najlepszy wynik spośród wszystkich modeli. Warto zauważyć, że pierwsze siedem zmiennych wysoko cenionych przez model pokrywa się z tymi wyselekcjonowanymi przy pomocy lasów losowych. Jednak W następnej kolejności XGBoost wysoko ceni zmienne nominalne E1 oraz P2."
   ]
  }
 ],
 "metadata": {
  "kernelspec": {
   "display_name": "Python 3",
   "language": "python",
   "name": "python3"
  },
  "language_info": {
   "codemirror_mode": {
    "name": "ipython",
    "version": 3
   },
   "file_extension": ".py",
   "mimetype": "text/x-python",
   "name": "python",
   "nbconvert_exporter": "python",
   "pygments_lexer": "ipython3",
   "version": "3.6.0"
  }
 },
 "nbformat": 4,
 "nbformat_minor": 2
}
